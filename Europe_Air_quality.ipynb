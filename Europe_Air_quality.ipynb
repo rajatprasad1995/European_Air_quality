{
 "cells": [
  {
   "cell_type": "code",
   "execution_count": 1,
   "metadata": {},
   "outputs": [
    {
     "data": {
      "text/html": [
       "<style>.container { width:100% !important; }</style>"
      ],
      "text/plain": [
       "<IPython.core.display.HTML object>"
      ]
     },
     "metadata": {},
     "output_type": "display_data"
    }
   ],
   "source": [
    "from IPython.core.display import display, HTML\n",
    "display(HTML(\"<style>.container { width:100% !important; }</style>\"))"
   ]
  },
  {
   "cell_type": "markdown",
   "metadata": {},
   "source": [
    "# Using Plotly and Geopandas to make intresting plots "
   ]
  },
  {
   "cell_type": "markdown",
   "metadata": {},
   "source": [
    "## Introduction\n",
    "**In this jupyter notebook I will plot a Geo scatter map, Histogram, Box plot and Bar plot depicting Air Quality level all over Europe**\n",
    "\n",
    "I have used the in-built functions of geopandas and plotly to do so. \n",
    "\n",
    "I used European air quality level data that was available in geojson format and I also used a geojson file containing map of all countries of Europe\n",
    "\n",
    "The Description can be found [here](http://opendata.esri.es/datasets/datos-de-calidad-del-aire?geometry=146.718%2C88.176%2C11.718%2C90.000)"
   ]
  },
  {
   "cell_type": "markdown",
   "metadata": {},
   "source": [
    "## Index\n",
    "* Getting data \n",
    "* Importing the necessary libraries to undertake this project\n",
    "* Calculating Basic statistics by using built in methods GeoPandas Dataframe\n",
    "* Generating Histogram and understanding distribution of PM 2,5\n",
    "* Creating a box plot to detect outliers\n",
    "* Examining relationship between quality of air and altitude by means of correlation and scatter plot\n",
    "* Further examination of the data\n",
    "* Plotting a Geo-Scatter map\n",
    "* Merging Countries dataframe with airquality dataframe\n",
    "* Again Plotting a Geo-Scatter map, but this time focusing on countries\n",
    "* Plotting countries with high level of pollution\n",
    "* Bar plot of all countries with aggregated average of PM 2,5 levels\n",
    "* Bar plot of all countries with max value registered of PM 2,5 levels"
   ]
  },
  {
   "cell_type": "markdown",
   "metadata": {},
   "source": [
    "## Getting data"
   ]
  },
  {
   "cell_type": "markdown",
   "metadata": {},
   "source": [
    "First I am going to get data using Curl command and save it in a file called data.geojson\n",
    "\n",
    "The link to download the data is [here](https://opendata.arcgis.com/datasets/784fc60a00fa41cb9babb52023cb2db3_0.geojson)"
   ]
  },
  {
   "cell_type": "code",
   "execution_count": 2,
   "metadata": {},
   "outputs": [
    {
     "name": "stdout",
     "output_type": "stream",
     "text": [
      "  % Total    % Received % Xferd  Average Speed   Time    Time     Time  Current\n",
      "                                 Dload  Upload   Total   Spent    Left  Speed\n",
      "100  236k    0  236k    0     0      0      0 --:--:--  0:00:01 --:--:--     0  0   147k      0 --:--:--  0:00:01 --:--:--  147k\n"
     ]
    }
   ],
   "source": [
    "!curl -o data.geojson https://opendata.arcgis.com/datasets/784fc60a00fa41cb9babb52023cb2db3_0.geojson"
   ]
  },
  {
   "cell_type": "markdown",
   "metadata": {},
   "source": [
    "Also I used the geojson map data of all european countries found [here](https://geojson-maps.ash.ms/) "
   ]
  },
  {
   "cell_type": "markdown",
   "metadata": {},
   "source": [
    "## Importing the necessary libraries to undertake this project\n",
    "\n",
    "We will use the new Plotly API called Plotly express"
   ]
  },
  {
   "cell_type": "code",
   "execution_count": 3,
   "metadata": {},
   "outputs": [],
   "source": [
    "import geopandas as gpd"
   ]
  },
  {
   "cell_type": "code",
   "execution_count": 4,
   "metadata": {},
   "outputs": [],
   "source": [
    "import plotly.express as px"
   ]
  },
  {
   "cell_type": "code",
   "execution_count": 5,
   "metadata": {},
   "outputs": [],
   "source": [
    "import pandas as pd"
   ]
  },
  {
   "cell_type": "markdown",
   "metadata": {},
   "source": [
    "## Calculating Basic statistics by using built in methods GeoPandas Dataframe"
   ]
  },
  {
   "cell_type": "markdown",
   "metadata": {},
   "source": [
    "**Let us the explore the air quality data set**\n",
    "\n",
    "Geopandas enables us to read any geojson file with its **read_file** command"
   ]
  },
  {
   "cell_type": "code",
   "execution_count": 6,
   "metadata": {},
   "outputs": [],
   "source": [
    "df_air_quality = gpd.read_file(\"data.geojson\")"
   ]
  },
  {
   "cell_type": "markdown",
   "metadata": {},
   "source": [
    "The good thing about GeoPandas Dataframe is that it enables us to use various Pandas functions"
   ]
  },
  {
   "cell_type": "code",
   "execution_count": 7,
   "metadata": {},
   "outputs": [
    {
     "data": {
      "text/html": [
       "<div>\n",
       "<style scoped>\n",
       "    .dataframe tbody tr th:only-of-type {\n",
       "        vertical-align: middle;\n",
       "    }\n",
       "\n",
       "    .dataframe tbody tr th {\n",
       "        vertical-align: top;\n",
       "    }\n",
       "\n",
       "    .dataframe thead th {\n",
       "        text-align: right;\n",
       "    }\n",
       "</style>\n",
       "<table border=\"1\" class=\"dataframe\">\n",
       "  <thead>\n",
       "    <tr style=\"text-align: right;\">\n",
       "      <th></th>\n",
       "      <th>OBJECTID</th>\n",
       "      <th>EoICode</th>\n",
       "      <th>StationNam</th>\n",
       "      <th>Longitude</th>\n",
       "      <th>Latitude</th>\n",
       "      <th>Altitude</th>\n",
       "      <th>StationTyp</th>\n",
       "      <th>StationAre</th>\n",
       "      <th>avg15</th>\n",
       "      <th>geometry</th>\n",
       "    </tr>\n",
       "  </thead>\n",
       "  <tbody>\n",
       "    <tr>\n",
       "      <th>0</th>\n",
       "      <td>1</td>\n",
       "      <td>AT0ENK1</td>\n",
       "      <td>Enzenkirchen im Sauwald</td>\n",
       "      <td>13.671140</td>\n",
       "      <td>48.391720</td>\n",
       "      <td>525.0</td>\n",
       "      <td>background</td>\n",
       "      <td>rural-regional</td>\n",
       "      <td>13.353289</td>\n",
       "      <td>POINT (13.67114 48.39172)</td>\n",
       "    </tr>\n",
       "    <tr>\n",
       "      <th>1</th>\n",
       "      <td>2</td>\n",
       "      <td>AT0ZOE2</td>\n",
       "      <td>Zöbelboden im Reichraminger Hintergebirge - Wi...</td>\n",
       "      <td>14.441389</td>\n",
       "      <td>47.838611</td>\n",
       "      <td>899.0</td>\n",
       "      <td>background</td>\n",
       "      <td>rural-remote</td>\n",
       "      <td>7.257276</td>\n",
       "      <td>POINT (14.44139 47.83861)</td>\n",
       "    </tr>\n",
       "    <tr>\n",
       "      <th>2</th>\n",
       "      <td>3</td>\n",
       "      <td>AT30407</td>\n",
       "      <td>Glinzendorf im Marchfeld</td>\n",
       "      <td>16.636944</td>\n",
       "      <td>48.236667</td>\n",
       "      <td>150.0</td>\n",
       "      <td>background</td>\n",
       "      <td>rural-near_city</td>\n",
       "      <td>14.789538</td>\n",
       "      <td>POINT (16.63694 48.23667)</td>\n",
       "    </tr>\n",
       "    <tr>\n",
       "      <th>3</th>\n",
       "      <td>4</td>\n",
       "      <td>AT31902</td>\n",
       "      <td>Zwentendorf im Tullnerfeld</td>\n",
       "      <td>15.903611</td>\n",
       "      <td>48.331111</td>\n",
       "      <td>200.0</td>\n",
       "      <td>background</td>\n",
       "      <td>rural</td>\n",
       "      <td>14.524676</td>\n",
       "      <td>POINT (15.90361 48.33111)</td>\n",
       "    </tr>\n",
       "    <tr>\n",
       "      <th>4</th>\n",
       "      <td>5</td>\n",
       "      <td>AT4S108</td>\n",
       "      <td>Grünbach bei Freistadt</td>\n",
       "      <td>14.574722</td>\n",
       "      <td>48.531111</td>\n",
       "      <td>918.0</td>\n",
       "      <td>background</td>\n",
       "      <td>rural-regional</td>\n",
       "      <td>9.099422</td>\n",
       "      <td>POINT (14.57472 48.53111)</td>\n",
       "    </tr>\n",
       "  </tbody>\n",
       "</table>\n",
       "</div>"
      ],
      "text/plain": [
       "   OBJECTID  EoICode                                         StationNam  \\\n",
       "0         1  AT0ENK1                            Enzenkirchen im Sauwald   \n",
       "1         2  AT0ZOE2  Zöbelboden im Reichraminger Hintergebirge - Wi...   \n",
       "2         3  AT30407                           Glinzendorf im Marchfeld   \n",
       "3         4  AT31902                         Zwentendorf im Tullnerfeld   \n",
       "4         5  AT4S108                             Grünbach bei Freistadt   \n",
       "\n",
       "   Longitude   Latitude  Altitude  StationTyp       StationAre      avg15  \\\n",
       "0  13.671140  48.391720     525.0  background   rural-regional  13.353289   \n",
       "1  14.441389  47.838611     899.0  background     rural-remote   7.257276   \n",
       "2  16.636944  48.236667     150.0  background  rural-near_city  14.789538   \n",
       "3  15.903611  48.331111     200.0  background            rural  14.524676   \n",
       "4  14.574722  48.531111     918.0  background   rural-regional   9.099422   \n",
       "\n",
       "                    geometry  \n",
       "0  POINT (13.67114 48.39172)  \n",
       "1  POINT (14.44139 47.83861)  \n",
       "2  POINT (16.63694 48.23667)  \n",
       "3  POINT (15.90361 48.33111)  \n",
       "4  POINT (14.57472 48.53111)  "
      ]
     },
     "execution_count": 7,
     "metadata": {},
     "output_type": "execute_result"
    }
   ],
   "source": [
    "df_air_quality.head()"
   ]
  },
  {
   "cell_type": "markdown",
   "metadata": {},
   "source": [
    "Number of Unique value in each column"
   ]
  },
  {
   "cell_type": "code",
   "execution_count": 8,
   "metadata": {},
   "outputs": [
    {
     "data": {
      "text/plain": [
       "OBJECTID      710\n",
       "EoICode       710\n",
       "StationNam    710\n",
       "Longitude     707\n",
       "Latitude      707\n",
       "Altitude      343\n",
       "StationTyp      1\n",
       "StationAre      7\n",
       "avg15         710\n",
       "geometry      707\n",
       "dtype: int64"
      ]
     },
     "execution_count": 8,
     "metadata": {},
     "output_type": "execute_result"
    }
   ],
   "source": [
    "df_air_quality.nunique()"
   ]
  },
  {
   "cell_type": "markdown",
   "metadata": {},
   "source": [
    "Checking the CRS of the dataframe"
   ]
  },
  {
   "cell_type": "code",
   "execution_count": 9,
   "metadata": {},
   "outputs": [
    {
     "data": {
      "text/plain": [
       "<Geographic 2D CRS: EPSG:4326>\n",
       "Name: WGS 84\n",
       "Axis Info [ellipsoidal]:\n",
       "- Lat[north]: Geodetic latitude (degree)\n",
       "- Lon[east]: Geodetic longitude (degree)\n",
       "Area of Use:\n",
       "- name: World\n",
       "- bounds: (-180.0, -90.0, 180.0, 90.0)\n",
       "Datum: World Geodetic System 1984\n",
       "- Ellipsoid: WGS 84\n",
       "- Prime Meridian: Greenwich"
      ]
     },
     "execution_count": 9,
     "metadata": {},
     "output_type": "execute_result"
    }
   ],
   "source": [
    "df_air_quality.crs"
   ]
  },
  {
   "cell_type": "markdown",
   "metadata": {},
   "source": [
    "**Before we make the geoscatter plot, let us explore the other plotly's features to understand the distribution of PM 2,5**"
   ]
  },
  {
   "cell_type": "markdown",
   "metadata": {},
   "source": [
    "setting pandas backend to plotly from matplotlib"
   ]
  },
  {
   "cell_type": "code",
   "execution_count": 10,
   "metadata": {},
   "outputs": [],
   "source": [
    "pd.options.plotting.backend = \"plotly\""
   ]
  },
  {
   "cell_type": "markdown",
   "metadata": {},
   "source": [
    "## Generating Histogram and understanding distribution of PM 2,5"
   ]
  },
  {
   "cell_type": "markdown",
   "metadata": {},
   "source": [
    "Here I used the **histogram** function of Plotly express"
   ]
  },
  {
   "cell_type": "code",
   "execution_count": 12,
   "metadata": {},
   "outputs": [
    {
     "data": {
      "application/vnd.plotly.v1+json": {
       "config": {
        "plotlyServerURL": "https://plot.ly"
       },
       "data": [
        {
         "alignmentgroup": "True",
         "bingroup": "x",
         "hovertemplate": "avg15=%{x}<br>count=%{y}<extra></extra>",
         "legendgroup": "",
         "marker": {
          "color": "#636efa"
         },
         "name": "",
         "offsetgroup": "",
         "orientation": "v",
         "showlegend": false,
         "type": "histogram",
         "x": [
          13.353289,
          7.257276,
          14.789538,
          14.524676,
          9.099422,
          12.058089,
          12.033426,
          11.621019,
          13.721193,
          10.76674,
          13.100392,
          11.006506,
          11.354895,
          9.426099,
          9.973228,
          6.826367,
          8.910852,
          8.098825,
          7.560071,
          7.819823,
          8.689426,
          9.879714,
          16.080899,
          11.625252,
          23.892614,
          33.040112,
          11.945001,
          6.111503,
          7.883377,
          12.735729,
          8.871439,
          8.743363,
          11.139296,
          11.416152,
          12.241828,
          9.372394,
          10.485007,
          12.44337,
          7.542832,
          8.508962,
          9.868317,
          10.191917,
          8.684215,
          13.072419,
          6.690393,
          10.463367,
          7.286816,
          9.969703,
          9.520642,
          5.188643,
          3.966952,
          5.433148,
          6.61236,
          7.035144,
          10.344214,
          7.051429,
          4.81686,
          8.486239,
          8.456647,
          5.960674,
          5.795732,
          8.335227,
          8.379538,
          6.162902,
          7.114348,
          11.081898,
          10.759357,
          5.867473,
          11.740706,
          6.991095,
          9.177124,
          5.008677,
          4.971934,
          5.294007,
          12.660772,
          9.648008,
          9.169847,
          8.447957,
          10.634634,
          11.019525,
          8.913834,
          8.07166,
          10.524742,
          10.292241,
          7.504084,
          9.567993,
          12.595133,
          8.89671,
          11.602657,
          6.146076,
          7.685495,
          7.725895,
          3.176025,
          8.73313,
          14.282799,
          9.171703,
          5.735632,
          14.676796,
          9.897507,
          14.543353,
          20.559557,
          18.643258,
          26.64348,
          23.441667,
          25.488571,
          17.683505,
          11.594837,
          12.557535,
          12.047041,
          26.951496,
          13.312321,
          11.011142,
          14.707042,
          23.017192,
          15.268362,
          19.083333,
          20.044818,
          26.727528,
          18.326284,
          20.749296,
          7.149379,
          10.436975,
          6.641834,
          8.455446,
          25.84375,
          13.391694,
          13.131818,
          7.775623,
          11.022904,
          9.19006,
          12.270036,
          9.512012,
          8.977558,
          12.989084,
          12.013362,
          2.707727,
          1.512005,
          2.752935,
          12.482206,
          18.470833,
          14.53796,
          7.347346,
          5.618682,
          10.51776,
          11.822876,
          12.341719,
          6.654075,
          18.895706,
          13.13879,
          10.032877,
          10.67064,
          14.702786,
          14.731795,
          3.427191,
          14.76596,
          6.179576,
          17.358067,
          9.748889,
          5.774699,
          10.848464,
          12.486371,
          7.103898,
          11.822,
          15.089,
          22.236,
          17.006,
          17.747,
          30.33897,
          13.236321,
          14.568675,
          16.919576,
          14.608504,
          19.190335,
          13.965723,
          13.97845,
          16.251845,
          9.26586,
          12.523505,
          15.235787,
          12.29686,
          11.781854,
          14.787564,
          19.929107,
          14.100782,
          14.567044,
          12.944598,
          14.640805,
          14.81268,
          13.718232,
          13.09626,
          13.189466,
          14.934121,
          13.435091,
          13.367502,
          13.040427,
          12.665909,
          10.52111,
          10.300577,
          15.115963,
          13.434084,
          13.466545,
          14.683366,
          12.551983,
          14.705634,
          14.419126,
          14.460037,
          11.341185,
          10.924992,
          12.842754,
          12.737044,
          12.025819,
          11.799868,
          14.327172,
          14.449595,
          14.569196,
          14.176761,
          13.806131,
          17.802967,
          16.875843,
          20.32358,
          15.403012,
          15.720217,
          15.57881,
          15.313738,
          17.68138,
          16.817191,
          14.266245,
          18.682784,
          16.489249,
          13.479739,
          23.921083,
          18.435565,
          16.653832,
          12.296574,
          17.270451,
          25.380925,
          24.696366,
          18.666911,
          19.436881,
          15.357874,
          15.830083,
          13.736274,
          13.695237,
          13.316793,
          10.390088,
          13.485642,
          12.886066,
          13.224965,
          14.294797,
          15.250826,
          17.119724,
          16.061823,
          12.379726,
          13.91155,
          13.192736,
          12.319939,
          11.823123,
          12.423116,
          11.994496,
          10.578466,
          12.087066,
          13.370539,
          12.226837,
          13.376674,
          13.076938,
          13.667626,
          10.870899,
          12.392775,
          13.687462,
          13.515509,
          13.536733,
          13.427596,
          11.990753,
          12.232226,
          11.973409,
          12.609537,
          15.24653,
          12.751086,
          11.951139,
          10.282646,
          13.002718,
          11.948696,
          12.040123,
          12.951982,
          13.776988,
          11.565453,
          10.882653,
          11.325708,
          10.626572,
          8.884077,
          12.163193,
          11.397428,
          14.545125,
          14.033249,
          13.009496,
          14.49445,
          15.073384,
          13.879151,
          12.705393,
          12.574983,
          12.789846,
          13.120164,
          13.271031,
          12.890498,
          12.711364,
          14.384997,
          12.364177,
          11.214417,
          12.244933,
          12.017583,
          13.010192,
          12.134096,
          12.893257,
          12.934388,
          11.104895,
          11.983944,
          10.383987,
          11.635107,
          9.856579,
          6.27563,
          8.941618,
          5.943251,
          15.060833,
          17.963018,
          9.970065,
          14.872995,
          10.019336,
          11.227654,
          6.720053,
          19.688172,
          12.155689,
          8.071548,
          9.272346,
          12.140876,
          11.965899,
          6.545989,
          15.321534,
          7.301614,
          12.099082,
          8.019741,
          9.289138,
          12.634615,
          11.917005,
          16.062731,
          10.773827,
          7.034714,
          7.017104,
          4.539228,
          5.415536,
          4.354429,
          4.460459,
          6.839457,
          5.945455,
          15.01001,
          14.09636,
          12.691131,
          13.264381,
          13.844158,
          13.648356,
          14.266079,
          13.432214,
          11.77751,
          10.268031,
          14.247516,
          12.300589,
          11.424204,
          14.051007,
          11.80413,
          14.732841,
          10.047503,
          10.455317,
          11.060378,
          11.263739,
          10.200199,
          11.856743,
          10.783774,
          13.016788,
          15.476296,
          11.859996,
          13.463603,
          11.944279,
          15.824027,
          17.091193,
          14.391216,
          13.069344,
          11.84155,
          12.436338,
          9.130502,
          8.986247,
          6.97379,
          14.267857,
          15.162516,
          17.283563,
          13.107667,
          9.532049,
          12.315558,
          13.002057,
          13.647651,
          12.479338,
          14.689587,
          14.284461,
          13.04293,
          13.484743,
          11.705437,
          14.057797,
          8.417138,
          13.46916,
          13.95688,
          10.606602,
          11.514683,
          13.87172,
          11.153179,
          15.848167,
          17.685987,
          15.527387,
          13.195039,
          13.412708,
          12.230161,
          10.002186,
          10.402739,
          16.58613,
          9.187283,
          15.034951,
          13.62339,
          12.420192,
          10.928548,
          9.030004,
          9.5591,
          11.433325,
          10.512368,
          9.960425,
          10.491823,
          10.47755,
          9.7907,
          12.262142,
          11.497954,
          11.691325,
          10.586222,
          11.752537,
          10.624283,
          8.038827,
          7.203831,
          9.953742,
          10.395696,
          7.486961,
          9.590462,
          10.877774,
          6.386624,
          7.420871,
          9.545399,
          9.318762,
          7.103531,
          10.764287,
          8.477523,
          10.24675,
          10.189576,
          10.11053,
          10.828675,
          9.568158,
          11.945411,
          8.996075,
          6.794377,
          9.67155,
          12.019491,
          6.546663,
          10.939653,
          16.446809,
          20.816775,
          10.839764,
          10.918156,
          11.771429,
          13.176438,
          8.137651,
          7.801538,
          6.829863,
          6.562644,
          9.942876,
          4.757997,
          15.260284,
          16.021639,
          15.861111,
          19.961988,
          25.672981,
          21.470914,
          12.044985,
          15.642424,
          18.206687,
          19.587896,
          23.245029,
          20.714681,
          16.205797,
          16.130435,
          21.762712,
          18.155556,
          28.423729,
          18.531698,
          11.853933,
          14.008746,
          16.063361,
          22.791429,
          17.093294,
          20.442857,
          16.962536,
          26.382789,
          29.216138,
          20.089783,
          15.528736,
          17.667606,
          25.087571,
          19.40634,
          23.456044,
          15.779944,
          23.345506,
          26.40407,
          23.597765,
          26.752312,
          27.587592,
          31.25,
          12.836676,
          16.387283,
          16.571031,
          14.185908,
          10.670423,
          17.74,
          26.501424,
          10.985755,
          14.539945,
          21.339031,
          24.721369,
          20.270423,
          18.237104,
          31.901896,
          15.372806,
          29.066077,
          30.006571,
          27.024926,
          22.160221,
          23.772861,
          15.812325,
          24.369863,
          17.470423,
          12.446512,
          13.835196,
          27.225808,
          24.301943,
          26.541899,
          12.594153,
          16.910448,
          16.896359,
          19.534286,
          19.387187,
          13.485074,
          13.020991,
          12.468866,
          26.504819,
          21.683129,
          24.078313,
          11.979769,
          15.486065,
          6.486389,
          9.336517,
          17.070988,
          25.58651,
          11.089119,
          18.071562,
          13.27762,
          18.09621,
          12.697797,
          9.096707,
          15.741667,
          24.154519,
          13.470255,
          20.144928,
          13.823529,
          15.727735,
          16.221457,
          12.063218,
          30.376471,
          19.925714,
          16.465388,
          27.160256,
          13.823171,
          10.65067,
          7.830097,
          9.907301,
          11.669167,
          12.02807,
          12.312014,
          15.917079,
          12.476221,
          12.448128,
          11.538978,
          12.352135,
          10.673576,
          12.640694,
          13.344757,
          14.21835,
          12.803076,
          12.125276,
          11.518471,
          6.762815,
          7.309426,
          8.825313,
          6.644817,
          7.134425,
          4.731638,
          27.273273,
          12.897218,
          18.868486,
          18.383501,
          26.346154,
          27.2,
          21.293151,
          23.956164,
          22.134072,
          29.728571,
          20.457289,
          32.175951,
          30.466363,
          21.465559,
          28.090908,
          21.181222,
          23.627787,
          30.140162,
          19.287655,
          26.642072,
          13.33061,
          14.065972,
          16.745363,
          17.259802,
          22.905817,
          18.906728,
          23.967134,
          18.416522,
          20.787204,
          27.025765,
          30.896265,
          24.35196,
          15.355014,
          22.990962,
          25.604647,
          14.942473,
          21.413407,
          24.474444,
          27.773988,
          22.862136,
          15.837606,
          16.646648,
          24.972535,
          21.215068,
          22.787147,
          21.247697,
          14.212885,
          26.001714,
          25.894944,
          13.471781,
          33.717808,
          25.156742,
          27.188195,
          28.158287,
          31.571388,
          20.310056,
          24.067817,
          21.007445,
          34.88745,
          29.098494,
          20.107374,
          14.334493,
          24.910774,
          26.828296,
          29.210169,
          36.010959,
          25.841226,
          22.855385,
          22.348468,
          18.372678,
          19.588286,
          25.920167,
          21.023672,
          27.10193,
          33.561364,
          11.345238,
          13.551207,
          12.228133,
          11.912215,
          17.301691,
          23.156837,
          16.893697,
          11.119221,
          8.266937,
          7.792754,
          4.80579,
          4.209584,
          4.136593,
          8.251126,
          3.677026,
          22.565476,
          19.259669,
          22.749334,
          17.574611,
          22.278441,
          20.164213,
          19.419321,
          17.417422,
          18.989409,
          28.486592,
          18.477178,
          20.18,
          18.397,
          22.678
         ],
         "xaxis": "x",
         "yaxis": "y"
        }
       ],
       "layout": {
        "barmode": "relative",
        "legend": {
         "tracegroupgap": 0
        },
        "margin": {
         "t": 60
        },
        "template": {
         "data": {
          "bar": [
           {
            "error_x": {
             "color": "#2a3f5f"
            },
            "error_y": {
             "color": "#2a3f5f"
            },
            "marker": {
             "line": {
              "color": "#E5ECF6",
              "width": 0.5
             }
            },
            "type": "bar"
           }
          ],
          "barpolar": [
           {
            "marker": {
             "line": {
              "color": "#E5ECF6",
              "width": 0.5
             }
            },
            "type": "barpolar"
           }
          ],
          "carpet": [
           {
            "aaxis": {
             "endlinecolor": "#2a3f5f",
             "gridcolor": "white",
             "linecolor": "white",
             "minorgridcolor": "white",
             "startlinecolor": "#2a3f5f"
            },
            "baxis": {
             "endlinecolor": "#2a3f5f",
             "gridcolor": "white",
             "linecolor": "white",
             "minorgridcolor": "white",
             "startlinecolor": "#2a3f5f"
            },
            "type": "carpet"
           }
          ],
          "choropleth": [
           {
            "colorbar": {
             "outlinewidth": 0,
             "ticks": ""
            },
            "type": "choropleth"
           }
          ],
          "contour": [
           {
            "colorbar": {
             "outlinewidth": 0,
             "ticks": ""
            },
            "colorscale": [
             [
              0,
              "#0d0887"
             ],
             [
              0.1111111111111111,
              "#46039f"
             ],
             [
              0.2222222222222222,
              "#7201a8"
             ],
             [
              0.3333333333333333,
              "#9c179e"
             ],
             [
              0.4444444444444444,
              "#bd3786"
             ],
             [
              0.5555555555555556,
              "#d8576b"
             ],
             [
              0.6666666666666666,
              "#ed7953"
             ],
             [
              0.7777777777777778,
              "#fb9f3a"
             ],
             [
              0.8888888888888888,
              "#fdca26"
             ],
             [
              1,
              "#f0f921"
             ]
            ],
            "type": "contour"
           }
          ],
          "contourcarpet": [
           {
            "colorbar": {
             "outlinewidth": 0,
             "ticks": ""
            },
            "type": "contourcarpet"
           }
          ],
          "heatmap": [
           {
            "colorbar": {
             "outlinewidth": 0,
             "ticks": ""
            },
            "colorscale": [
             [
              0,
              "#0d0887"
             ],
             [
              0.1111111111111111,
              "#46039f"
             ],
             [
              0.2222222222222222,
              "#7201a8"
             ],
             [
              0.3333333333333333,
              "#9c179e"
             ],
             [
              0.4444444444444444,
              "#bd3786"
             ],
             [
              0.5555555555555556,
              "#d8576b"
             ],
             [
              0.6666666666666666,
              "#ed7953"
             ],
             [
              0.7777777777777778,
              "#fb9f3a"
             ],
             [
              0.8888888888888888,
              "#fdca26"
             ],
             [
              1,
              "#f0f921"
             ]
            ],
            "type": "heatmap"
           }
          ],
          "heatmapgl": [
           {
            "colorbar": {
             "outlinewidth": 0,
             "ticks": ""
            },
            "colorscale": [
             [
              0,
              "#0d0887"
             ],
             [
              0.1111111111111111,
              "#46039f"
             ],
             [
              0.2222222222222222,
              "#7201a8"
             ],
             [
              0.3333333333333333,
              "#9c179e"
             ],
             [
              0.4444444444444444,
              "#bd3786"
             ],
             [
              0.5555555555555556,
              "#d8576b"
             ],
             [
              0.6666666666666666,
              "#ed7953"
             ],
             [
              0.7777777777777778,
              "#fb9f3a"
             ],
             [
              0.8888888888888888,
              "#fdca26"
             ],
             [
              1,
              "#f0f921"
             ]
            ],
            "type": "heatmapgl"
           }
          ],
          "histogram": [
           {
            "marker": {
             "colorbar": {
              "outlinewidth": 0,
              "ticks": ""
             }
            },
            "type": "histogram"
           }
          ],
          "histogram2d": [
           {
            "colorbar": {
             "outlinewidth": 0,
             "ticks": ""
            },
            "colorscale": [
             [
              0,
              "#0d0887"
             ],
             [
              0.1111111111111111,
              "#46039f"
             ],
             [
              0.2222222222222222,
              "#7201a8"
             ],
             [
              0.3333333333333333,
              "#9c179e"
             ],
             [
              0.4444444444444444,
              "#bd3786"
             ],
             [
              0.5555555555555556,
              "#d8576b"
             ],
             [
              0.6666666666666666,
              "#ed7953"
             ],
             [
              0.7777777777777778,
              "#fb9f3a"
             ],
             [
              0.8888888888888888,
              "#fdca26"
             ],
             [
              1,
              "#f0f921"
             ]
            ],
            "type": "histogram2d"
           }
          ],
          "histogram2dcontour": [
           {
            "colorbar": {
             "outlinewidth": 0,
             "ticks": ""
            },
            "colorscale": [
             [
              0,
              "#0d0887"
             ],
             [
              0.1111111111111111,
              "#46039f"
             ],
             [
              0.2222222222222222,
              "#7201a8"
             ],
             [
              0.3333333333333333,
              "#9c179e"
             ],
             [
              0.4444444444444444,
              "#bd3786"
             ],
             [
              0.5555555555555556,
              "#d8576b"
             ],
             [
              0.6666666666666666,
              "#ed7953"
             ],
             [
              0.7777777777777778,
              "#fb9f3a"
             ],
             [
              0.8888888888888888,
              "#fdca26"
             ],
             [
              1,
              "#f0f921"
             ]
            ],
            "type": "histogram2dcontour"
           }
          ],
          "mesh3d": [
           {
            "colorbar": {
             "outlinewidth": 0,
             "ticks": ""
            },
            "type": "mesh3d"
           }
          ],
          "parcoords": [
           {
            "line": {
             "colorbar": {
              "outlinewidth": 0,
              "ticks": ""
             }
            },
            "type": "parcoords"
           }
          ],
          "pie": [
           {
            "automargin": true,
            "type": "pie"
           }
          ],
          "scatter": [
           {
            "marker": {
             "colorbar": {
              "outlinewidth": 0,
              "ticks": ""
             }
            },
            "type": "scatter"
           }
          ],
          "scatter3d": [
           {
            "line": {
             "colorbar": {
              "outlinewidth": 0,
              "ticks": ""
             }
            },
            "marker": {
             "colorbar": {
              "outlinewidth": 0,
              "ticks": ""
             }
            },
            "type": "scatter3d"
           }
          ],
          "scattercarpet": [
           {
            "marker": {
             "colorbar": {
              "outlinewidth": 0,
              "ticks": ""
             }
            },
            "type": "scattercarpet"
           }
          ],
          "scattergeo": [
           {
            "marker": {
             "colorbar": {
              "outlinewidth": 0,
              "ticks": ""
             }
            },
            "type": "scattergeo"
           }
          ],
          "scattergl": [
           {
            "marker": {
             "colorbar": {
              "outlinewidth": 0,
              "ticks": ""
             }
            },
            "type": "scattergl"
           }
          ],
          "scattermapbox": [
           {
            "marker": {
             "colorbar": {
              "outlinewidth": 0,
              "ticks": ""
             }
            },
            "type": "scattermapbox"
           }
          ],
          "scatterpolar": [
           {
            "marker": {
             "colorbar": {
              "outlinewidth": 0,
              "ticks": ""
             }
            },
            "type": "scatterpolar"
           }
          ],
          "scatterpolargl": [
           {
            "marker": {
             "colorbar": {
              "outlinewidth": 0,
              "ticks": ""
             }
            },
            "type": "scatterpolargl"
           }
          ],
          "scatterternary": [
           {
            "marker": {
             "colorbar": {
              "outlinewidth": 0,
              "ticks": ""
             }
            },
            "type": "scatterternary"
           }
          ],
          "surface": [
           {
            "colorbar": {
             "outlinewidth": 0,
             "ticks": ""
            },
            "colorscale": [
             [
              0,
              "#0d0887"
             ],
             [
              0.1111111111111111,
              "#46039f"
             ],
             [
              0.2222222222222222,
              "#7201a8"
             ],
             [
              0.3333333333333333,
              "#9c179e"
             ],
             [
              0.4444444444444444,
              "#bd3786"
             ],
             [
              0.5555555555555556,
              "#d8576b"
             ],
             [
              0.6666666666666666,
              "#ed7953"
             ],
             [
              0.7777777777777778,
              "#fb9f3a"
             ],
             [
              0.8888888888888888,
              "#fdca26"
             ],
             [
              1,
              "#f0f921"
             ]
            ],
            "type": "surface"
           }
          ],
          "table": [
           {
            "cells": {
             "fill": {
              "color": "#EBF0F8"
             },
             "line": {
              "color": "white"
             }
            },
            "header": {
             "fill": {
              "color": "#C8D4E3"
             },
             "line": {
              "color": "white"
             }
            },
            "type": "table"
           }
          ]
         },
         "layout": {
          "annotationdefaults": {
           "arrowcolor": "#2a3f5f",
           "arrowhead": 0,
           "arrowwidth": 1
          },
          "coloraxis": {
           "colorbar": {
            "outlinewidth": 0,
            "ticks": ""
           }
          },
          "colorscale": {
           "diverging": [
            [
             0,
             "#8e0152"
            ],
            [
             0.1,
             "#c51b7d"
            ],
            [
             0.2,
             "#de77ae"
            ],
            [
             0.3,
             "#f1b6da"
            ],
            [
             0.4,
             "#fde0ef"
            ],
            [
             0.5,
             "#f7f7f7"
            ],
            [
             0.6,
             "#e6f5d0"
            ],
            [
             0.7,
             "#b8e186"
            ],
            [
             0.8,
             "#7fbc41"
            ],
            [
             0.9,
             "#4d9221"
            ],
            [
             1,
             "#276419"
            ]
           ],
           "sequential": [
            [
             0,
             "#0d0887"
            ],
            [
             0.1111111111111111,
             "#46039f"
            ],
            [
             0.2222222222222222,
             "#7201a8"
            ],
            [
             0.3333333333333333,
             "#9c179e"
            ],
            [
             0.4444444444444444,
             "#bd3786"
            ],
            [
             0.5555555555555556,
             "#d8576b"
            ],
            [
             0.6666666666666666,
             "#ed7953"
            ],
            [
             0.7777777777777778,
             "#fb9f3a"
            ],
            [
             0.8888888888888888,
             "#fdca26"
            ],
            [
             1,
             "#f0f921"
            ]
           ],
           "sequentialminus": [
            [
             0,
             "#0d0887"
            ],
            [
             0.1111111111111111,
             "#46039f"
            ],
            [
             0.2222222222222222,
             "#7201a8"
            ],
            [
             0.3333333333333333,
             "#9c179e"
            ],
            [
             0.4444444444444444,
             "#bd3786"
            ],
            [
             0.5555555555555556,
             "#d8576b"
            ],
            [
             0.6666666666666666,
             "#ed7953"
            ],
            [
             0.7777777777777778,
             "#fb9f3a"
            ],
            [
             0.8888888888888888,
             "#fdca26"
            ],
            [
             1,
             "#f0f921"
            ]
           ]
          },
          "colorway": [
           "#636efa",
           "#EF553B",
           "#00cc96",
           "#ab63fa",
           "#FFA15A",
           "#19d3f3",
           "#FF6692",
           "#B6E880",
           "#FF97FF",
           "#FECB52"
          ],
          "font": {
           "color": "#2a3f5f"
          },
          "geo": {
           "bgcolor": "white",
           "lakecolor": "white",
           "landcolor": "#E5ECF6",
           "showlakes": true,
           "showland": true,
           "subunitcolor": "white"
          },
          "hoverlabel": {
           "align": "left"
          },
          "hovermode": "closest",
          "mapbox": {
           "style": "light"
          },
          "paper_bgcolor": "white",
          "plot_bgcolor": "#E5ECF6",
          "polar": {
           "angularaxis": {
            "gridcolor": "white",
            "linecolor": "white",
            "ticks": ""
           },
           "bgcolor": "#E5ECF6",
           "radialaxis": {
            "gridcolor": "white",
            "linecolor": "white",
            "ticks": ""
           }
          },
          "scene": {
           "xaxis": {
            "backgroundcolor": "#E5ECF6",
            "gridcolor": "white",
            "gridwidth": 2,
            "linecolor": "white",
            "showbackground": true,
            "ticks": "",
            "zerolinecolor": "white"
           },
           "yaxis": {
            "backgroundcolor": "#E5ECF6",
            "gridcolor": "white",
            "gridwidth": 2,
            "linecolor": "white",
            "showbackground": true,
            "ticks": "",
            "zerolinecolor": "white"
           },
           "zaxis": {
            "backgroundcolor": "#E5ECF6",
            "gridcolor": "white",
            "gridwidth": 2,
            "linecolor": "white",
            "showbackground": true,
            "ticks": "",
            "zerolinecolor": "white"
           }
          },
          "shapedefaults": {
           "line": {
            "color": "#2a3f5f"
           }
          },
          "ternary": {
           "aaxis": {
            "gridcolor": "white",
            "linecolor": "white",
            "ticks": ""
           },
           "baxis": {
            "gridcolor": "white",
            "linecolor": "white",
            "ticks": ""
           },
           "bgcolor": "#E5ECF6",
           "caxis": {
            "gridcolor": "white",
            "linecolor": "white",
            "ticks": ""
           }
          },
          "title": {
           "x": 0.05
          },
          "xaxis": {
           "automargin": true,
           "gridcolor": "white",
           "linecolor": "white",
           "ticks": "",
           "title": {
            "standoff": 15
           },
           "zerolinecolor": "white",
           "zerolinewidth": 2
          },
          "yaxis": {
           "automargin": true,
           "gridcolor": "white",
           "linecolor": "white",
           "ticks": "",
           "title": {
            "standoff": 15
           },
           "zerolinecolor": "white",
           "zerolinewidth": 2
          }
         }
        },
        "title": {
         "text": "Distribution of PM 2,5 registered over various European stations",
         "x": 0.5,
         "xanchor": "center",
         "y": 0.95,
         "yanchor": "top"
        },
        "xaxis": {
         "anchor": "y",
         "domain": [
          0,
          1
         ],
         "title": {
          "text": "avg15"
         }
        },
        "yaxis": {
         "anchor": "x",
         "domain": [
          0,
          1
         ],
         "showgrid": false,
         "title": {
          "text": "count"
         }
        }
       }
      },
      "text/html": [
       "<div>\n",
       "        \n",
       "        \n",
       "            <div id=\"31b80fec-5370-4014-ba9f-aba4f1e62497\" class=\"plotly-graph-div\" style=\"height:525px; width:100%;\"></div>\n",
       "            <script type=\"text/javascript\">\n",
       "                require([\"plotly\"], function(Plotly) {\n",
       "                    window.PLOTLYENV=window.PLOTLYENV || {};\n",
       "                    \n",
       "                if (document.getElementById(\"31b80fec-5370-4014-ba9f-aba4f1e62497\")) {\n",
       "                    Plotly.newPlot(\n",
       "                        '31b80fec-5370-4014-ba9f-aba4f1e62497',\n",
       "                        [{\"alignmentgroup\": \"True\", \"bingroup\": \"x\", \"hovertemplate\": \"avg15=%{x}<br>count=%{y}<extra></extra>\", \"legendgroup\": \"\", \"marker\": {\"color\": \"#636efa\"}, \"name\": \"\", \"offsetgroup\": \"\", \"orientation\": \"v\", \"showlegend\": false, \"type\": \"histogram\", \"x\": [13.353289, 7.257276, 14.789538, 14.524676, 9.099422, 12.058089, 12.033426, 11.621019, 13.721193, 10.76674, 13.100392, 11.006506, 11.354895, 9.426099, 9.973228, 6.826367, 8.910852, 8.098825, 7.560071, 7.819823, 8.689426, 9.879714, 16.080899, 11.625252, 23.892614, 33.040112, 11.945001, 6.111503, 7.883377, 12.735729, 8.871439, 8.743363, 11.139296, 11.416152, 12.241828, 9.372394, 10.485007, 12.44337, 7.542832, 8.508962, 9.868317, 10.191917, 8.684215, 13.072419, 6.690393, 10.463367, 7.286816, 9.969703, 9.520642, 5.188643, 3.966952, 5.433148, 6.61236, 7.035144, 10.344214, 7.051429, 4.81686, 8.486239, 8.456647, 5.960674, 5.795732, 8.335227, 8.379538, 6.162902, 7.114348, 11.081898, 10.759357, 5.867473, 11.740706, 6.991095, 9.177124, 5.008677, 4.971934, 5.294007, 12.660772, 9.648008, 9.169847, 8.447957, 10.634634, 11.019525, 8.913834, 8.07166, 10.524742, 10.292241, 7.504084, 9.567993, 12.595133, 8.89671, 11.602657, 6.146076, 7.685495, 7.725895, 3.176025, 8.73313, 14.282799, 9.171703, 5.735632, 14.676796, 9.897507, 14.543353, 20.559557, 18.643258, 26.64348, 23.441667, 25.488571, 17.683505, 11.594837, 12.557535, 12.047041, 26.951496, 13.312321, 11.011142, 14.707042, 23.017192, 15.268362, 19.083333, 20.044818, 26.727528, 18.326284, 20.749296, 7.149379, 10.436975, 6.641834, 8.455446, 25.84375, 13.391694, 13.131818, 7.775623, 11.022904, 9.19006, 12.270036, 9.512012, 8.977558, 12.989084, 12.013362, 2.707727, 1.512005, 2.752935, 12.482206, 18.470833, 14.53796, 7.347346, 5.618682, 10.51776, 11.822876, 12.341719, 6.654075, 18.895706, 13.13879, 10.032877, 10.67064, 14.702786, 14.731795, 3.427191, 14.76596, 6.179576, 17.358067, 9.748889, 5.774699, 10.848464, 12.486371, 7.103898, 11.822, 15.089, 22.236, 17.006, 17.747, 30.33897, 13.236321, 14.568675, 16.919576, 14.608504, 19.190335, 13.965723, 13.97845, 16.251845, 9.26586, 12.523505, 15.235787, 12.29686, 11.781854, 14.787564, 19.929107, 14.100782, 14.567044, 12.944598, 14.640805, 14.81268, 13.718232, 13.09626, 13.189466, 14.934121, 13.435091, 13.367502, 13.040427, 12.665909, 10.52111, 10.300577, 15.115963, 13.434084, 13.466545, 14.683366, 12.551983, 14.705634, 14.419126, 14.460037, 11.341185, 10.924992, 12.842754, 12.737044, 12.025819, 11.799868, 14.327172, 14.449595, 14.569196, 14.176761, 13.806131, 17.802967, 16.875843, 20.32358, 15.403012, 15.720217, 15.57881, 15.313738, 17.68138, 16.817191, 14.266245, 18.682784, 16.489249, 13.479739, 23.921083, 18.435565, 16.653832, 12.296574, 17.270451, 25.380925, 24.696366, 18.666911, 19.436881, 15.357874, 15.830083, 13.736274, 13.695237, 13.316793, 10.390088, 13.485642, 12.886066, 13.224965, 14.294797, 15.250826, 17.119724, 16.061823, 12.379726, 13.91155, 13.192736, 12.319939, 11.823123, 12.423116, 11.994496, 10.578466, 12.087066, 13.370539, 12.226837, 13.376674, 13.076938, 13.667626, 10.870899, 12.392775, 13.687462, 13.515509, 13.536733, 13.427596, 11.990753, 12.232226, 11.973409, 12.609537, 15.24653, 12.751086, 11.951139, 10.282646, 13.002718, 11.948696, 12.040123, 12.951982, 13.776988, 11.565453, 10.882653, 11.325708, 10.626572, 8.884077, 12.163193, 11.397428, 14.545125, 14.033249, 13.009496, 14.49445, 15.073384, 13.879151, 12.705393, 12.574983, 12.789846, 13.120164, 13.271031, 12.890498, 12.711364, 14.384997, 12.364177, 11.214417, 12.244933, 12.017583, 13.010192, 12.134096, 12.893257, 12.934388, 11.104895, 11.983944, 10.383987, 11.635107, 9.856579, 6.27563, 8.941618, 5.943251, 15.060833, 17.963018, 9.970065, 14.872995, 10.019336, 11.227654, 6.720053, 19.688172, 12.155689, 8.071548, 9.272346, 12.140876, 11.965899, 6.545989, 15.321534, 7.301614, 12.099082, 8.019741, 9.289138, 12.634615, 11.917005, 16.062731, 10.773827, 7.034714, 7.017104, 4.539228, 5.415536, 4.354429, 4.460459, 6.839457, 5.945455, 15.01001, 14.09636, 12.691131, 13.264381, 13.844158, 13.648356, 14.266079, 13.432214, 11.77751, 10.268031, 14.247516, 12.300589, 11.424204, 14.051007, 11.80413, 14.732841, 10.047503, 10.455317, 11.060378, 11.263739, 10.200199, 11.856743, 10.783774, 13.016788, 15.476296, 11.859996, 13.463603, 11.944279, 15.824027, 17.091193, 14.391216, 13.069344, 11.84155, 12.436338, 9.130502, 8.986247, 6.97379, 14.267857, 15.162516, 17.283563, 13.107667, 9.532049, 12.315558, 13.002057, 13.647651, 12.479338, 14.689587, 14.284461, 13.04293, 13.484743, 11.705437, 14.057797, 8.417138, 13.46916, 13.95688, 10.606602, 11.514683, 13.87172, 11.153179, 15.848167, 17.685987, 15.527387, 13.195039, 13.412708, 12.230161, 10.002186, 10.402739, 16.58613, 9.187283, 15.034951, 13.62339, 12.420192, 10.928548, 9.030004, 9.5591, 11.433325, 10.512368, 9.960425, 10.491823, 10.47755, 9.7907, 12.262142, 11.497954, 11.691325, 10.586222, 11.752537, 10.624283, 8.038827, 7.203831, 9.953742, 10.395696, 7.486961, 9.590462, 10.877774, 6.386624, 7.420871, 9.545399, 9.318762, 7.103531, 10.764287, 8.477523, 10.24675, 10.189576, 10.11053, 10.828675, 9.568158, 11.945411, 8.996075, 6.794377, 9.67155, 12.019491, 6.546663, 10.939653, 16.446809, 20.816775, 10.839764, 10.918156, 11.771429, 13.176438, 8.137651, 7.801538, 6.829863, 6.562644, 9.942876, 4.757997, 15.260284, 16.021639, 15.861111, 19.961988, 25.672981, 21.470914, 12.044985, 15.642424, 18.206687, 19.587896, 23.245029, 20.714681, 16.205797, 16.130435, 21.762712, 18.155556, 28.423729, 18.531698, 11.853933, 14.008746, 16.063361, 22.791429, 17.093294, 20.442857, 16.962536, 26.382789, 29.216138, 20.089783, 15.528736, 17.667606, 25.087571, 19.40634, 23.456044, 15.779944, 23.345506, 26.40407, 23.597765, 26.752312, 27.587592, 31.25, 12.836676, 16.387283, 16.571031, 14.185908, 10.670423, 17.74, 26.501424, 10.985755, 14.539945, 21.339031, 24.721369, 20.270423, 18.237104, 31.901896, 15.372806, 29.066077, 30.006571, 27.024926, 22.160221, 23.772861, 15.812325, 24.369863, 17.470423, 12.446512, 13.835196, 27.225808, 24.301943, 26.541899, 12.594153, 16.910448, 16.896359, 19.534286, 19.387187, 13.485074, 13.020991, 12.468866, 26.504819, 21.683129, 24.078313, 11.979769, 15.486065, 6.486389, 9.336517, 17.070988, 25.58651, 11.089119, 18.071562, 13.27762, 18.09621, 12.697797, 9.096707, 15.741667, 24.154519, 13.470255, 20.144928, 13.823529, 15.727735, 16.221457, 12.063218, 30.376471, 19.925714, 16.465388, 27.160256, 13.823171, 10.65067, 7.830097, 9.907301, 11.669167, 12.02807, 12.312014, 15.917079, 12.476221, 12.448128, 11.538978, 12.352135, 10.673576, 12.640694, 13.344757, 14.21835, 12.803076, 12.125276, 11.518471, 6.762815, 7.309426, 8.825313, 6.644817, 7.134425, 4.731638, 27.273273, 12.897218, 18.868486, 18.383501, 26.346154, 27.2, 21.293151, 23.956164, 22.134072, 29.728571, 20.457289, 32.175951, 30.466363, 21.465559, 28.090908, 21.181222, 23.627787, 30.140162, 19.287655, 26.642072, 13.33061, 14.065972, 16.745363, 17.259802, 22.905817, 18.906728, 23.967134, 18.416522, 20.787204, 27.025765, 30.896265, 24.35196, 15.355014, 22.990962, 25.604647, 14.942473, 21.413407, 24.474444, 27.773988, 22.862136, 15.837606, 16.646648, 24.972535, 21.215068, 22.787147, 21.247697, 14.212885, 26.001714, 25.894944, 13.471781, 33.717808, 25.156742, 27.188195, 28.158287, 31.571388, 20.310056, 24.067817, 21.007445, 34.88745, 29.098494, 20.107374, 14.334493, 24.910774, 26.828296, 29.210169, 36.010959, 25.841226, 22.855385, 22.348468, 18.372678, 19.588286, 25.920167, 21.023672, 27.10193, 33.561364, 11.345238, 13.551207, 12.228133, 11.912215, 17.301691, 23.156837, 16.893697, 11.119221, 8.266937, 7.792754, 4.80579, 4.209584, 4.136593, 8.251126, 3.677026, 22.565476, 19.259669, 22.749334, 17.574611, 22.278441, 20.164213, 19.419321, 17.417422, 18.989409, 28.486592, 18.477178, 20.18, 18.397, 22.678], \"xaxis\": \"x\", \"yaxis\": \"y\"}],\n",
       "                        {\"barmode\": \"relative\", \"legend\": {\"tracegroupgap\": 0}, \"margin\": {\"t\": 60}, \"template\": {\"data\": {\"bar\": [{\"error_x\": {\"color\": \"#2a3f5f\"}, \"error_y\": {\"color\": \"#2a3f5f\"}, \"marker\": {\"line\": {\"color\": \"#E5ECF6\", \"width\": 0.5}}, \"type\": \"bar\"}], \"barpolar\": [{\"marker\": {\"line\": {\"color\": \"#E5ECF6\", \"width\": 0.5}}, \"type\": \"barpolar\"}], \"carpet\": [{\"aaxis\": {\"endlinecolor\": \"#2a3f5f\", \"gridcolor\": \"white\", \"linecolor\": \"white\", \"minorgridcolor\": \"white\", \"startlinecolor\": \"#2a3f5f\"}, \"baxis\": {\"endlinecolor\": \"#2a3f5f\", \"gridcolor\": \"white\", \"linecolor\": \"white\", \"minorgridcolor\": \"white\", \"startlinecolor\": \"#2a3f5f\"}, \"type\": \"carpet\"}], \"choropleth\": [{\"colorbar\": {\"outlinewidth\": 0, \"ticks\": \"\"}, \"type\": \"choropleth\"}], \"contour\": [{\"colorbar\": {\"outlinewidth\": 0, \"ticks\": \"\"}, \"colorscale\": [[0.0, \"#0d0887\"], [0.1111111111111111, \"#46039f\"], [0.2222222222222222, \"#7201a8\"], [0.3333333333333333, \"#9c179e\"], [0.4444444444444444, \"#bd3786\"], [0.5555555555555556, \"#d8576b\"], [0.6666666666666666, \"#ed7953\"], [0.7777777777777778, \"#fb9f3a\"], [0.8888888888888888, \"#fdca26\"], [1.0, \"#f0f921\"]], \"type\": \"contour\"}], \"contourcarpet\": [{\"colorbar\": {\"outlinewidth\": 0, \"ticks\": \"\"}, \"type\": \"contourcarpet\"}], \"heatmap\": [{\"colorbar\": {\"outlinewidth\": 0, \"ticks\": \"\"}, \"colorscale\": [[0.0, \"#0d0887\"], [0.1111111111111111, \"#46039f\"], [0.2222222222222222, \"#7201a8\"], [0.3333333333333333, \"#9c179e\"], [0.4444444444444444, \"#bd3786\"], [0.5555555555555556, \"#d8576b\"], [0.6666666666666666, \"#ed7953\"], [0.7777777777777778, \"#fb9f3a\"], [0.8888888888888888, \"#fdca26\"], [1.0, \"#f0f921\"]], \"type\": \"heatmap\"}], \"heatmapgl\": [{\"colorbar\": {\"outlinewidth\": 0, \"ticks\": \"\"}, \"colorscale\": [[0.0, \"#0d0887\"], [0.1111111111111111, \"#46039f\"], [0.2222222222222222, \"#7201a8\"], [0.3333333333333333, \"#9c179e\"], [0.4444444444444444, \"#bd3786\"], [0.5555555555555556, \"#d8576b\"], [0.6666666666666666, \"#ed7953\"], [0.7777777777777778, \"#fb9f3a\"], [0.8888888888888888, \"#fdca26\"], [1.0, \"#f0f921\"]], \"type\": \"heatmapgl\"}], \"histogram\": [{\"marker\": {\"colorbar\": {\"outlinewidth\": 0, \"ticks\": \"\"}}, \"type\": \"histogram\"}], \"histogram2d\": [{\"colorbar\": {\"outlinewidth\": 0, \"ticks\": \"\"}, \"colorscale\": [[0.0, \"#0d0887\"], [0.1111111111111111, \"#46039f\"], [0.2222222222222222, \"#7201a8\"], [0.3333333333333333, \"#9c179e\"], [0.4444444444444444, \"#bd3786\"], [0.5555555555555556, \"#d8576b\"], [0.6666666666666666, \"#ed7953\"], [0.7777777777777778, \"#fb9f3a\"], [0.8888888888888888, \"#fdca26\"], [1.0, \"#f0f921\"]], \"type\": \"histogram2d\"}], \"histogram2dcontour\": [{\"colorbar\": {\"outlinewidth\": 0, \"ticks\": \"\"}, \"colorscale\": [[0.0, \"#0d0887\"], [0.1111111111111111, \"#46039f\"], [0.2222222222222222, \"#7201a8\"], [0.3333333333333333, \"#9c179e\"], [0.4444444444444444, \"#bd3786\"], [0.5555555555555556, \"#d8576b\"], [0.6666666666666666, \"#ed7953\"], [0.7777777777777778, \"#fb9f3a\"], [0.8888888888888888, \"#fdca26\"], [1.0, \"#f0f921\"]], \"type\": \"histogram2dcontour\"}], \"mesh3d\": [{\"colorbar\": {\"outlinewidth\": 0, \"ticks\": \"\"}, \"type\": \"mesh3d\"}], \"parcoords\": [{\"line\": {\"colorbar\": {\"outlinewidth\": 0, \"ticks\": \"\"}}, \"type\": \"parcoords\"}], \"pie\": [{\"automargin\": true, \"type\": \"pie\"}], \"scatter\": [{\"marker\": {\"colorbar\": {\"outlinewidth\": 0, \"ticks\": \"\"}}, \"type\": \"scatter\"}], \"scatter3d\": [{\"line\": {\"colorbar\": {\"outlinewidth\": 0, \"ticks\": \"\"}}, \"marker\": {\"colorbar\": {\"outlinewidth\": 0, \"ticks\": \"\"}}, \"type\": \"scatter3d\"}], \"scattercarpet\": [{\"marker\": {\"colorbar\": {\"outlinewidth\": 0, \"ticks\": \"\"}}, \"type\": \"scattercarpet\"}], \"scattergeo\": [{\"marker\": {\"colorbar\": {\"outlinewidth\": 0, \"ticks\": \"\"}}, \"type\": \"scattergeo\"}], \"scattergl\": [{\"marker\": {\"colorbar\": {\"outlinewidth\": 0, \"ticks\": \"\"}}, \"type\": \"scattergl\"}], \"scattermapbox\": [{\"marker\": {\"colorbar\": {\"outlinewidth\": 0, \"ticks\": \"\"}}, \"type\": \"scattermapbox\"}], \"scatterpolar\": [{\"marker\": {\"colorbar\": {\"outlinewidth\": 0, \"ticks\": \"\"}}, \"type\": \"scatterpolar\"}], \"scatterpolargl\": [{\"marker\": {\"colorbar\": {\"outlinewidth\": 0, \"ticks\": \"\"}}, \"type\": \"scatterpolargl\"}], \"scatterternary\": [{\"marker\": {\"colorbar\": {\"outlinewidth\": 0, \"ticks\": \"\"}}, \"type\": \"scatterternary\"}], \"surface\": [{\"colorbar\": {\"outlinewidth\": 0, \"ticks\": \"\"}, \"colorscale\": [[0.0, \"#0d0887\"], [0.1111111111111111, \"#46039f\"], [0.2222222222222222, \"#7201a8\"], [0.3333333333333333, \"#9c179e\"], [0.4444444444444444, \"#bd3786\"], [0.5555555555555556, \"#d8576b\"], [0.6666666666666666, \"#ed7953\"], [0.7777777777777778, \"#fb9f3a\"], [0.8888888888888888, \"#fdca26\"], [1.0, \"#f0f921\"]], \"type\": \"surface\"}], \"table\": [{\"cells\": {\"fill\": {\"color\": \"#EBF0F8\"}, \"line\": {\"color\": \"white\"}}, \"header\": {\"fill\": {\"color\": \"#C8D4E3\"}, \"line\": {\"color\": \"white\"}}, \"type\": \"table\"}]}, \"layout\": {\"annotationdefaults\": {\"arrowcolor\": \"#2a3f5f\", \"arrowhead\": 0, \"arrowwidth\": 1}, \"coloraxis\": {\"colorbar\": {\"outlinewidth\": 0, \"ticks\": \"\"}}, \"colorscale\": {\"diverging\": [[0, \"#8e0152\"], [0.1, \"#c51b7d\"], [0.2, \"#de77ae\"], [0.3, \"#f1b6da\"], [0.4, \"#fde0ef\"], [0.5, \"#f7f7f7\"], [0.6, \"#e6f5d0\"], [0.7, \"#b8e186\"], [0.8, \"#7fbc41\"], [0.9, \"#4d9221\"], [1, \"#276419\"]], \"sequential\": [[0.0, \"#0d0887\"], [0.1111111111111111, \"#46039f\"], [0.2222222222222222, \"#7201a8\"], [0.3333333333333333, \"#9c179e\"], [0.4444444444444444, \"#bd3786\"], [0.5555555555555556, \"#d8576b\"], [0.6666666666666666, \"#ed7953\"], [0.7777777777777778, \"#fb9f3a\"], [0.8888888888888888, \"#fdca26\"], [1.0, \"#f0f921\"]], \"sequentialminus\": [[0.0, \"#0d0887\"], [0.1111111111111111, \"#46039f\"], [0.2222222222222222, \"#7201a8\"], [0.3333333333333333, \"#9c179e\"], [0.4444444444444444, \"#bd3786\"], [0.5555555555555556, \"#d8576b\"], [0.6666666666666666, \"#ed7953\"], [0.7777777777777778, \"#fb9f3a\"], [0.8888888888888888, \"#fdca26\"], [1.0, \"#f0f921\"]]}, \"colorway\": [\"#636efa\", \"#EF553B\", \"#00cc96\", \"#ab63fa\", \"#FFA15A\", \"#19d3f3\", \"#FF6692\", \"#B6E880\", \"#FF97FF\", \"#FECB52\"], \"font\": {\"color\": \"#2a3f5f\"}, \"geo\": {\"bgcolor\": \"white\", \"lakecolor\": \"white\", \"landcolor\": \"#E5ECF6\", \"showlakes\": true, \"showland\": true, \"subunitcolor\": \"white\"}, \"hoverlabel\": {\"align\": \"left\"}, \"hovermode\": \"closest\", \"mapbox\": {\"style\": \"light\"}, \"paper_bgcolor\": \"white\", \"plot_bgcolor\": \"#E5ECF6\", \"polar\": {\"angularaxis\": {\"gridcolor\": \"white\", \"linecolor\": \"white\", \"ticks\": \"\"}, \"bgcolor\": \"#E5ECF6\", \"radialaxis\": {\"gridcolor\": \"white\", \"linecolor\": \"white\", \"ticks\": \"\"}}, \"scene\": {\"xaxis\": {\"backgroundcolor\": \"#E5ECF6\", \"gridcolor\": \"white\", \"gridwidth\": 2, \"linecolor\": \"white\", \"showbackground\": true, \"ticks\": \"\", \"zerolinecolor\": \"white\"}, \"yaxis\": {\"backgroundcolor\": \"#E5ECF6\", \"gridcolor\": \"white\", \"gridwidth\": 2, \"linecolor\": \"white\", \"showbackground\": true, \"ticks\": \"\", \"zerolinecolor\": \"white\"}, \"zaxis\": {\"backgroundcolor\": \"#E5ECF6\", \"gridcolor\": \"white\", \"gridwidth\": 2, \"linecolor\": \"white\", \"showbackground\": true, \"ticks\": \"\", \"zerolinecolor\": \"white\"}}, \"shapedefaults\": {\"line\": {\"color\": \"#2a3f5f\"}}, \"ternary\": {\"aaxis\": {\"gridcolor\": \"white\", \"linecolor\": \"white\", \"ticks\": \"\"}, \"baxis\": {\"gridcolor\": \"white\", \"linecolor\": \"white\", \"ticks\": \"\"}, \"bgcolor\": \"#E5ECF6\", \"caxis\": {\"gridcolor\": \"white\", \"linecolor\": \"white\", \"ticks\": \"\"}}, \"title\": {\"x\": 0.05}, \"xaxis\": {\"automargin\": true, \"gridcolor\": \"white\", \"linecolor\": \"white\", \"ticks\": \"\", \"title\": {\"standoff\": 15}, \"zerolinecolor\": \"white\", \"zerolinewidth\": 2}, \"yaxis\": {\"automargin\": true, \"gridcolor\": \"white\", \"linecolor\": \"white\", \"ticks\": \"\", \"title\": {\"standoff\": 15}, \"zerolinecolor\": \"white\", \"zerolinewidth\": 2}}}, \"title\": {\"text\": \"Distribution of PM 2,5 registered over various European stations\", \"x\": 0.5, \"xanchor\": \"center\", \"y\": 0.95, \"yanchor\": \"top\"}, \"xaxis\": {\"anchor\": \"y\", \"domain\": [0.0, 1.0], \"title\": {\"text\": \"avg15\"}}, \"yaxis\": {\"anchor\": \"x\", \"domain\": [0.0, 1.0], \"showgrid\": false, \"title\": {\"text\": \"count\"}}},\n",
       "                        {\"responsive\": true}\n",
       "                    ).then(function(){\n",
       "                            \n",
       "var gd = document.getElementById('31b80fec-5370-4014-ba9f-aba4f1e62497');\n",
       "var x = new MutationObserver(function (mutations, observer) {{\n",
       "        var display = window.getComputedStyle(gd).display;\n",
       "        if (!display || display === 'none') {{\n",
       "            console.log([gd, 'removed!']);\n",
       "            Plotly.purge(gd);\n",
       "            observer.disconnect();\n",
       "        }}\n",
       "}});\n",
       "\n",
       "// Listen for the removal of the full notebook cells\n",
       "var notebookContainer = gd.closest('#notebook-container');\n",
       "if (notebookContainer) {{\n",
       "    x.observe(notebookContainer, {childList: true});\n",
       "}}\n",
       "\n",
       "// Listen for the clearing of the current output cell\n",
       "var outputEl = gd.closest('.output');\n",
       "if (outputEl) {{\n",
       "    x.observe(outputEl, {childList: true});\n",
       "}}\n",
       "\n",
       "                        })\n",
       "                };\n",
       "                });\n",
       "            </script>\n",
       "        </div>"
      ]
     },
     "metadata": {},
     "output_type": "display_data"
    }
   ],
   "source": [
    "fig = px.histogram(df_air_quality, x=\"avg15\")\n",
    "\n",
    "fig.update_layout(\n",
    "    title={\n",
    "        'text': \"Distribution of PM 2,5 registered over various European stations\",\n",
    "        'y':0.95,\n",
    "        'x':0.5,\n",
    "        'xanchor': 'center',\n",
    "        'yanchor': 'top'})\n",
    "fig.update_yaxes(showgrid=False)  # turning off the grid\n",
    "fig.show()"
   ]
  },
  {
   "cell_type": "markdown",
   "metadata": {},
   "source": [
    "![title](histogram.png)"
   ]
  },
  {
   "cell_type": "markdown",
   "metadata": {},
   "source": [
    "**It is a bit skewed to the right**"
   ]
  },
  {
   "cell_type": "markdown",
   "metadata": {},
   "source": [
    "## Creating a box plot to detect outliers"
   ]
  },
  {
   "cell_type": "markdown",
   "metadata": {},
   "source": [
    "Here I used the **box** function of Plotly express"
   ]
  },
  {
   "cell_type": "code",
   "execution_count": 13,
   "metadata": {
    "scrolled": false
   },
   "outputs": [
    {
     "data": {
      "application/vnd.plotly.v1+json": {
       "config": {
        "plotlyServerURL": "https://plot.ly"
       },
       "data": [
        {
         "alignmentgroup": "True",
         "hovertemplate": "avg15=%{y}<extra></extra>",
         "legendgroup": "",
         "marker": {
          "color": "#636efa"
         },
         "name": "",
         "notched": false,
         "offsetgroup": "",
         "orientation": "v",
         "showlegend": false,
         "type": "box",
         "x0": " ",
         "xaxis": "x",
         "y": [
          13.353289,
          7.257276,
          14.789538,
          14.524676,
          9.099422,
          12.058089,
          12.033426,
          11.621019,
          13.721193,
          10.76674,
          13.100392,
          11.006506,
          11.354895,
          9.426099,
          9.973228,
          6.826367,
          8.910852,
          8.098825,
          7.560071,
          7.819823,
          8.689426,
          9.879714,
          16.080899,
          11.625252,
          23.892614,
          33.040112,
          11.945001,
          6.111503,
          7.883377,
          12.735729,
          8.871439,
          8.743363,
          11.139296,
          11.416152,
          12.241828,
          9.372394,
          10.485007,
          12.44337,
          7.542832,
          8.508962,
          9.868317,
          10.191917,
          8.684215,
          13.072419,
          6.690393,
          10.463367,
          7.286816,
          9.969703,
          9.520642,
          5.188643,
          3.966952,
          5.433148,
          6.61236,
          7.035144,
          10.344214,
          7.051429,
          4.81686,
          8.486239,
          8.456647,
          5.960674,
          5.795732,
          8.335227,
          8.379538,
          6.162902,
          7.114348,
          11.081898,
          10.759357,
          5.867473,
          11.740706,
          6.991095,
          9.177124,
          5.008677,
          4.971934,
          5.294007,
          12.660772,
          9.648008,
          9.169847,
          8.447957,
          10.634634,
          11.019525,
          8.913834,
          8.07166,
          10.524742,
          10.292241,
          7.504084,
          9.567993,
          12.595133,
          8.89671,
          11.602657,
          6.146076,
          7.685495,
          7.725895,
          3.176025,
          8.73313,
          14.282799,
          9.171703,
          5.735632,
          14.676796,
          9.897507,
          14.543353,
          20.559557,
          18.643258,
          26.64348,
          23.441667,
          25.488571,
          17.683505,
          11.594837,
          12.557535,
          12.047041,
          26.951496,
          13.312321,
          11.011142,
          14.707042,
          23.017192,
          15.268362,
          19.083333,
          20.044818,
          26.727528,
          18.326284,
          20.749296,
          7.149379,
          10.436975,
          6.641834,
          8.455446,
          25.84375,
          13.391694,
          13.131818,
          7.775623,
          11.022904,
          9.19006,
          12.270036,
          9.512012,
          8.977558,
          12.989084,
          12.013362,
          2.707727,
          1.512005,
          2.752935,
          12.482206,
          18.470833,
          14.53796,
          7.347346,
          5.618682,
          10.51776,
          11.822876,
          12.341719,
          6.654075,
          18.895706,
          13.13879,
          10.032877,
          10.67064,
          14.702786,
          14.731795,
          3.427191,
          14.76596,
          6.179576,
          17.358067,
          9.748889,
          5.774699,
          10.848464,
          12.486371,
          7.103898,
          11.822,
          15.089,
          22.236,
          17.006,
          17.747,
          30.33897,
          13.236321,
          14.568675,
          16.919576,
          14.608504,
          19.190335,
          13.965723,
          13.97845,
          16.251845,
          9.26586,
          12.523505,
          15.235787,
          12.29686,
          11.781854,
          14.787564,
          19.929107,
          14.100782,
          14.567044,
          12.944598,
          14.640805,
          14.81268,
          13.718232,
          13.09626,
          13.189466,
          14.934121,
          13.435091,
          13.367502,
          13.040427,
          12.665909,
          10.52111,
          10.300577,
          15.115963,
          13.434084,
          13.466545,
          14.683366,
          12.551983,
          14.705634,
          14.419126,
          14.460037,
          11.341185,
          10.924992,
          12.842754,
          12.737044,
          12.025819,
          11.799868,
          14.327172,
          14.449595,
          14.569196,
          14.176761,
          13.806131,
          17.802967,
          16.875843,
          20.32358,
          15.403012,
          15.720217,
          15.57881,
          15.313738,
          17.68138,
          16.817191,
          14.266245,
          18.682784,
          16.489249,
          13.479739,
          23.921083,
          18.435565,
          16.653832,
          12.296574,
          17.270451,
          25.380925,
          24.696366,
          18.666911,
          19.436881,
          15.357874,
          15.830083,
          13.736274,
          13.695237,
          13.316793,
          10.390088,
          13.485642,
          12.886066,
          13.224965,
          14.294797,
          15.250826,
          17.119724,
          16.061823,
          12.379726,
          13.91155,
          13.192736,
          12.319939,
          11.823123,
          12.423116,
          11.994496,
          10.578466,
          12.087066,
          13.370539,
          12.226837,
          13.376674,
          13.076938,
          13.667626,
          10.870899,
          12.392775,
          13.687462,
          13.515509,
          13.536733,
          13.427596,
          11.990753,
          12.232226,
          11.973409,
          12.609537,
          15.24653,
          12.751086,
          11.951139,
          10.282646,
          13.002718,
          11.948696,
          12.040123,
          12.951982,
          13.776988,
          11.565453,
          10.882653,
          11.325708,
          10.626572,
          8.884077,
          12.163193,
          11.397428,
          14.545125,
          14.033249,
          13.009496,
          14.49445,
          15.073384,
          13.879151,
          12.705393,
          12.574983,
          12.789846,
          13.120164,
          13.271031,
          12.890498,
          12.711364,
          14.384997,
          12.364177,
          11.214417,
          12.244933,
          12.017583,
          13.010192,
          12.134096,
          12.893257,
          12.934388,
          11.104895,
          11.983944,
          10.383987,
          11.635107,
          9.856579,
          6.27563,
          8.941618,
          5.943251,
          15.060833,
          17.963018,
          9.970065,
          14.872995,
          10.019336,
          11.227654,
          6.720053,
          19.688172,
          12.155689,
          8.071548,
          9.272346,
          12.140876,
          11.965899,
          6.545989,
          15.321534,
          7.301614,
          12.099082,
          8.019741,
          9.289138,
          12.634615,
          11.917005,
          16.062731,
          10.773827,
          7.034714,
          7.017104,
          4.539228,
          5.415536,
          4.354429,
          4.460459,
          6.839457,
          5.945455,
          15.01001,
          14.09636,
          12.691131,
          13.264381,
          13.844158,
          13.648356,
          14.266079,
          13.432214,
          11.77751,
          10.268031,
          14.247516,
          12.300589,
          11.424204,
          14.051007,
          11.80413,
          14.732841,
          10.047503,
          10.455317,
          11.060378,
          11.263739,
          10.200199,
          11.856743,
          10.783774,
          13.016788,
          15.476296,
          11.859996,
          13.463603,
          11.944279,
          15.824027,
          17.091193,
          14.391216,
          13.069344,
          11.84155,
          12.436338,
          9.130502,
          8.986247,
          6.97379,
          14.267857,
          15.162516,
          17.283563,
          13.107667,
          9.532049,
          12.315558,
          13.002057,
          13.647651,
          12.479338,
          14.689587,
          14.284461,
          13.04293,
          13.484743,
          11.705437,
          14.057797,
          8.417138,
          13.46916,
          13.95688,
          10.606602,
          11.514683,
          13.87172,
          11.153179,
          15.848167,
          17.685987,
          15.527387,
          13.195039,
          13.412708,
          12.230161,
          10.002186,
          10.402739,
          16.58613,
          9.187283,
          15.034951,
          13.62339,
          12.420192,
          10.928548,
          9.030004,
          9.5591,
          11.433325,
          10.512368,
          9.960425,
          10.491823,
          10.47755,
          9.7907,
          12.262142,
          11.497954,
          11.691325,
          10.586222,
          11.752537,
          10.624283,
          8.038827,
          7.203831,
          9.953742,
          10.395696,
          7.486961,
          9.590462,
          10.877774,
          6.386624,
          7.420871,
          9.545399,
          9.318762,
          7.103531,
          10.764287,
          8.477523,
          10.24675,
          10.189576,
          10.11053,
          10.828675,
          9.568158,
          11.945411,
          8.996075,
          6.794377,
          9.67155,
          12.019491,
          6.546663,
          10.939653,
          16.446809,
          20.816775,
          10.839764,
          10.918156,
          11.771429,
          13.176438,
          8.137651,
          7.801538,
          6.829863,
          6.562644,
          9.942876,
          4.757997,
          15.260284,
          16.021639,
          15.861111,
          19.961988,
          25.672981,
          21.470914,
          12.044985,
          15.642424,
          18.206687,
          19.587896,
          23.245029,
          20.714681,
          16.205797,
          16.130435,
          21.762712,
          18.155556,
          28.423729,
          18.531698,
          11.853933,
          14.008746,
          16.063361,
          22.791429,
          17.093294,
          20.442857,
          16.962536,
          26.382789,
          29.216138,
          20.089783,
          15.528736,
          17.667606,
          25.087571,
          19.40634,
          23.456044,
          15.779944,
          23.345506,
          26.40407,
          23.597765,
          26.752312,
          27.587592,
          31.25,
          12.836676,
          16.387283,
          16.571031,
          14.185908,
          10.670423,
          17.74,
          26.501424,
          10.985755,
          14.539945,
          21.339031,
          24.721369,
          20.270423,
          18.237104,
          31.901896,
          15.372806,
          29.066077,
          30.006571,
          27.024926,
          22.160221,
          23.772861,
          15.812325,
          24.369863,
          17.470423,
          12.446512,
          13.835196,
          27.225808,
          24.301943,
          26.541899,
          12.594153,
          16.910448,
          16.896359,
          19.534286,
          19.387187,
          13.485074,
          13.020991,
          12.468866,
          26.504819,
          21.683129,
          24.078313,
          11.979769,
          15.486065,
          6.486389,
          9.336517,
          17.070988,
          25.58651,
          11.089119,
          18.071562,
          13.27762,
          18.09621,
          12.697797,
          9.096707,
          15.741667,
          24.154519,
          13.470255,
          20.144928,
          13.823529,
          15.727735,
          16.221457,
          12.063218,
          30.376471,
          19.925714,
          16.465388,
          27.160256,
          13.823171,
          10.65067,
          7.830097,
          9.907301,
          11.669167,
          12.02807,
          12.312014,
          15.917079,
          12.476221,
          12.448128,
          11.538978,
          12.352135,
          10.673576,
          12.640694,
          13.344757,
          14.21835,
          12.803076,
          12.125276,
          11.518471,
          6.762815,
          7.309426,
          8.825313,
          6.644817,
          7.134425,
          4.731638,
          27.273273,
          12.897218,
          18.868486,
          18.383501,
          26.346154,
          27.2,
          21.293151,
          23.956164,
          22.134072,
          29.728571,
          20.457289,
          32.175951,
          30.466363,
          21.465559,
          28.090908,
          21.181222,
          23.627787,
          30.140162,
          19.287655,
          26.642072,
          13.33061,
          14.065972,
          16.745363,
          17.259802,
          22.905817,
          18.906728,
          23.967134,
          18.416522,
          20.787204,
          27.025765,
          30.896265,
          24.35196,
          15.355014,
          22.990962,
          25.604647,
          14.942473,
          21.413407,
          24.474444,
          27.773988,
          22.862136,
          15.837606,
          16.646648,
          24.972535,
          21.215068,
          22.787147,
          21.247697,
          14.212885,
          26.001714,
          25.894944,
          13.471781,
          33.717808,
          25.156742,
          27.188195,
          28.158287,
          31.571388,
          20.310056,
          24.067817,
          21.007445,
          34.88745,
          29.098494,
          20.107374,
          14.334493,
          24.910774,
          26.828296,
          29.210169,
          36.010959,
          25.841226,
          22.855385,
          22.348468,
          18.372678,
          19.588286,
          25.920167,
          21.023672,
          27.10193,
          33.561364,
          11.345238,
          13.551207,
          12.228133,
          11.912215,
          17.301691,
          23.156837,
          16.893697,
          11.119221,
          8.266937,
          7.792754,
          4.80579,
          4.209584,
          4.136593,
          8.251126,
          3.677026,
          22.565476,
          19.259669,
          22.749334,
          17.574611,
          22.278441,
          20.164213,
          19.419321,
          17.417422,
          18.989409,
          28.486592,
          18.477178,
          20.18,
          18.397,
          22.678
         ],
         "y0": " ",
         "yaxis": "y"
        }
       ],
       "layout": {
        "boxmode": "group",
        "legend": {
         "tracegroupgap": 0
        },
        "margin": {
         "t": 60
        },
        "template": {
         "data": {
          "bar": [
           {
            "error_x": {
             "color": "#2a3f5f"
            },
            "error_y": {
             "color": "#2a3f5f"
            },
            "marker": {
             "line": {
              "color": "#E5ECF6",
              "width": 0.5
             }
            },
            "type": "bar"
           }
          ],
          "barpolar": [
           {
            "marker": {
             "line": {
              "color": "#E5ECF6",
              "width": 0.5
             }
            },
            "type": "barpolar"
           }
          ],
          "carpet": [
           {
            "aaxis": {
             "endlinecolor": "#2a3f5f",
             "gridcolor": "white",
             "linecolor": "white",
             "minorgridcolor": "white",
             "startlinecolor": "#2a3f5f"
            },
            "baxis": {
             "endlinecolor": "#2a3f5f",
             "gridcolor": "white",
             "linecolor": "white",
             "minorgridcolor": "white",
             "startlinecolor": "#2a3f5f"
            },
            "type": "carpet"
           }
          ],
          "choropleth": [
           {
            "colorbar": {
             "outlinewidth": 0,
             "ticks": ""
            },
            "type": "choropleth"
           }
          ],
          "contour": [
           {
            "colorbar": {
             "outlinewidth": 0,
             "ticks": ""
            },
            "colorscale": [
             [
              0,
              "#0d0887"
             ],
             [
              0.1111111111111111,
              "#46039f"
             ],
             [
              0.2222222222222222,
              "#7201a8"
             ],
             [
              0.3333333333333333,
              "#9c179e"
             ],
             [
              0.4444444444444444,
              "#bd3786"
             ],
             [
              0.5555555555555556,
              "#d8576b"
             ],
             [
              0.6666666666666666,
              "#ed7953"
             ],
             [
              0.7777777777777778,
              "#fb9f3a"
             ],
             [
              0.8888888888888888,
              "#fdca26"
             ],
             [
              1,
              "#f0f921"
             ]
            ],
            "type": "contour"
           }
          ],
          "contourcarpet": [
           {
            "colorbar": {
             "outlinewidth": 0,
             "ticks": ""
            },
            "type": "contourcarpet"
           }
          ],
          "heatmap": [
           {
            "colorbar": {
             "outlinewidth": 0,
             "ticks": ""
            },
            "colorscale": [
             [
              0,
              "#0d0887"
             ],
             [
              0.1111111111111111,
              "#46039f"
             ],
             [
              0.2222222222222222,
              "#7201a8"
             ],
             [
              0.3333333333333333,
              "#9c179e"
             ],
             [
              0.4444444444444444,
              "#bd3786"
             ],
             [
              0.5555555555555556,
              "#d8576b"
             ],
             [
              0.6666666666666666,
              "#ed7953"
             ],
             [
              0.7777777777777778,
              "#fb9f3a"
             ],
             [
              0.8888888888888888,
              "#fdca26"
             ],
             [
              1,
              "#f0f921"
             ]
            ],
            "type": "heatmap"
           }
          ],
          "heatmapgl": [
           {
            "colorbar": {
             "outlinewidth": 0,
             "ticks": ""
            },
            "colorscale": [
             [
              0,
              "#0d0887"
             ],
             [
              0.1111111111111111,
              "#46039f"
             ],
             [
              0.2222222222222222,
              "#7201a8"
             ],
             [
              0.3333333333333333,
              "#9c179e"
             ],
             [
              0.4444444444444444,
              "#bd3786"
             ],
             [
              0.5555555555555556,
              "#d8576b"
             ],
             [
              0.6666666666666666,
              "#ed7953"
             ],
             [
              0.7777777777777778,
              "#fb9f3a"
             ],
             [
              0.8888888888888888,
              "#fdca26"
             ],
             [
              1,
              "#f0f921"
             ]
            ],
            "type": "heatmapgl"
           }
          ],
          "histogram": [
           {
            "marker": {
             "colorbar": {
              "outlinewidth": 0,
              "ticks": ""
             }
            },
            "type": "histogram"
           }
          ],
          "histogram2d": [
           {
            "colorbar": {
             "outlinewidth": 0,
             "ticks": ""
            },
            "colorscale": [
             [
              0,
              "#0d0887"
             ],
             [
              0.1111111111111111,
              "#46039f"
             ],
             [
              0.2222222222222222,
              "#7201a8"
             ],
             [
              0.3333333333333333,
              "#9c179e"
             ],
             [
              0.4444444444444444,
              "#bd3786"
             ],
             [
              0.5555555555555556,
              "#d8576b"
             ],
             [
              0.6666666666666666,
              "#ed7953"
             ],
             [
              0.7777777777777778,
              "#fb9f3a"
             ],
             [
              0.8888888888888888,
              "#fdca26"
             ],
             [
              1,
              "#f0f921"
             ]
            ],
            "type": "histogram2d"
           }
          ],
          "histogram2dcontour": [
           {
            "colorbar": {
             "outlinewidth": 0,
             "ticks": ""
            },
            "colorscale": [
             [
              0,
              "#0d0887"
             ],
             [
              0.1111111111111111,
              "#46039f"
             ],
             [
              0.2222222222222222,
              "#7201a8"
             ],
             [
              0.3333333333333333,
              "#9c179e"
             ],
             [
              0.4444444444444444,
              "#bd3786"
             ],
             [
              0.5555555555555556,
              "#d8576b"
             ],
             [
              0.6666666666666666,
              "#ed7953"
             ],
             [
              0.7777777777777778,
              "#fb9f3a"
             ],
             [
              0.8888888888888888,
              "#fdca26"
             ],
             [
              1,
              "#f0f921"
             ]
            ],
            "type": "histogram2dcontour"
           }
          ],
          "mesh3d": [
           {
            "colorbar": {
             "outlinewidth": 0,
             "ticks": ""
            },
            "type": "mesh3d"
           }
          ],
          "parcoords": [
           {
            "line": {
             "colorbar": {
              "outlinewidth": 0,
              "ticks": ""
             }
            },
            "type": "parcoords"
           }
          ],
          "pie": [
           {
            "automargin": true,
            "type": "pie"
           }
          ],
          "scatter": [
           {
            "marker": {
             "colorbar": {
              "outlinewidth": 0,
              "ticks": ""
             }
            },
            "type": "scatter"
           }
          ],
          "scatter3d": [
           {
            "line": {
             "colorbar": {
              "outlinewidth": 0,
              "ticks": ""
             }
            },
            "marker": {
             "colorbar": {
              "outlinewidth": 0,
              "ticks": ""
             }
            },
            "type": "scatter3d"
           }
          ],
          "scattercarpet": [
           {
            "marker": {
             "colorbar": {
              "outlinewidth": 0,
              "ticks": ""
             }
            },
            "type": "scattercarpet"
           }
          ],
          "scattergeo": [
           {
            "marker": {
             "colorbar": {
              "outlinewidth": 0,
              "ticks": ""
             }
            },
            "type": "scattergeo"
           }
          ],
          "scattergl": [
           {
            "marker": {
             "colorbar": {
              "outlinewidth": 0,
              "ticks": ""
             }
            },
            "type": "scattergl"
           }
          ],
          "scattermapbox": [
           {
            "marker": {
             "colorbar": {
              "outlinewidth": 0,
              "ticks": ""
             }
            },
            "type": "scattermapbox"
           }
          ],
          "scatterpolar": [
           {
            "marker": {
             "colorbar": {
              "outlinewidth": 0,
              "ticks": ""
             }
            },
            "type": "scatterpolar"
           }
          ],
          "scatterpolargl": [
           {
            "marker": {
             "colorbar": {
              "outlinewidth": 0,
              "ticks": ""
             }
            },
            "type": "scatterpolargl"
           }
          ],
          "scatterternary": [
           {
            "marker": {
             "colorbar": {
              "outlinewidth": 0,
              "ticks": ""
             }
            },
            "type": "scatterternary"
           }
          ],
          "surface": [
           {
            "colorbar": {
             "outlinewidth": 0,
             "ticks": ""
            },
            "colorscale": [
             [
              0,
              "#0d0887"
             ],
             [
              0.1111111111111111,
              "#46039f"
             ],
             [
              0.2222222222222222,
              "#7201a8"
             ],
             [
              0.3333333333333333,
              "#9c179e"
             ],
             [
              0.4444444444444444,
              "#bd3786"
             ],
             [
              0.5555555555555556,
              "#d8576b"
             ],
             [
              0.6666666666666666,
              "#ed7953"
             ],
             [
              0.7777777777777778,
              "#fb9f3a"
             ],
             [
              0.8888888888888888,
              "#fdca26"
             ],
             [
              1,
              "#f0f921"
             ]
            ],
            "type": "surface"
           }
          ],
          "table": [
           {
            "cells": {
             "fill": {
              "color": "#EBF0F8"
             },
             "line": {
              "color": "white"
             }
            },
            "header": {
             "fill": {
              "color": "#C8D4E3"
             },
             "line": {
              "color": "white"
             }
            },
            "type": "table"
           }
          ]
         },
         "layout": {
          "annotationdefaults": {
           "arrowcolor": "#2a3f5f",
           "arrowhead": 0,
           "arrowwidth": 1
          },
          "coloraxis": {
           "colorbar": {
            "outlinewidth": 0,
            "ticks": ""
           }
          },
          "colorscale": {
           "diverging": [
            [
             0,
             "#8e0152"
            ],
            [
             0.1,
             "#c51b7d"
            ],
            [
             0.2,
             "#de77ae"
            ],
            [
             0.3,
             "#f1b6da"
            ],
            [
             0.4,
             "#fde0ef"
            ],
            [
             0.5,
             "#f7f7f7"
            ],
            [
             0.6,
             "#e6f5d0"
            ],
            [
             0.7,
             "#b8e186"
            ],
            [
             0.8,
             "#7fbc41"
            ],
            [
             0.9,
             "#4d9221"
            ],
            [
             1,
             "#276419"
            ]
           ],
           "sequential": [
            [
             0,
             "#0d0887"
            ],
            [
             0.1111111111111111,
             "#46039f"
            ],
            [
             0.2222222222222222,
             "#7201a8"
            ],
            [
             0.3333333333333333,
             "#9c179e"
            ],
            [
             0.4444444444444444,
             "#bd3786"
            ],
            [
             0.5555555555555556,
             "#d8576b"
            ],
            [
             0.6666666666666666,
             "#ed7953"
            ],
            [
             0.7777777777777778,
             "#fb9f3a"
            ],
            [
             0.8888888888888888,
             "#fdca26"
            ],
            [
             1,
             "#f0f921"
            ]
           ],
           "sequentialminus": [
            [
             0,
             "#0d0887"
            ],
            [
             0.1111111111111111,
             "#46039f"
            ],
            [
             0.2222222222222222,
             "#7201a8"
            ],
            [
             0.3333333333333333,
             "#9c179e"
            ],
            [
             0.4444444444444444,
             "#bd3786"
            ],
            [
             0.5555555555555556,
             "#d8576b"
            ],
            [
             0.6666666666666666,
             "#ed7953"
            ],
            [
             0.7777777777777778,
             "#fb9f3a"
            ],
            [
             0.8888888888888888,
             "#fdca26"
            ],
            [
             1,
             "#f0f921"
            ]
           ]
          },
          "colorway": [
           "#636efa",
           "#EF553B",
           "#00cc96",
           "#ab63fa",
           "#FFA15A",
           "#19d3f3",
           "#FF6692",
           "#B6E880",
           "#FF97FF",
           "#FECB52"
          ],
          "font": {
           "color": "#2a3f5f"
          },
          "geo": {
           "bgcolor": "white",
           "lakecolor": "white",
           "landcolor": "#E5ECF6",
           "showlakes": true,
           "showland": true,
           "subunitcolor": "white"
          },
          "hoverlabel": {
           "align": "left"
          },
          "hovermode": "closest",
          "mapbox": {
           "style": "light"
          },
          "paper_bgcolor": "white",
          "plot_bgcolor": "#E5ECF6",
          "polar": {
           "angularaxis": {
            "gridcolor": "white",
            "linecolor": "white",
            "ticks": ""
           },
           "bgcolor": "#E5ECF6",
           "radialaxis": {
            "gridcolor": "white",
            "linecolor": "white",
            "ticks": ""
           }
          },
          "scene": {
           "xaxis": {
            "backgroundcolor": "#E5ECF6",
            "gridcolor": "white",
            "gridwidth": 2,
            "linecolor": "white",
            "showbackground": true,
            "ticks": "",
            "zerolinecolor": "white"
           },
           "yaxis": {
            "backgroundcolor": "#E5ECF6",
            "gridcolor": "white",
            "gridwidth": 2,
            "linecolor": "white",
            "showbackground": true,
            "ticks": "",
            "zerolinecolor": "white"
           },
           "zaxis": {
            "backgroundcolor": "#E5ECF6",
            "gridcolor": "white",
            "gridwidth": 2,
            "linecolor": "white",
            "showbackground": true,
            "ticks": "",
            "zerolinecolor": "white"
           }
          },
          "shapedefaults": {
           "line": {
            "color": "#2a3f5f"
           }
          },
          "ternary": {
           "aaxis": {
            "gridcolor": "white",
            "linecolor": "white",
            "ticks": ""
           },
           "baxis": {
            "gridcolor": "white",
            "linecolor": "white",
            "ticks": ""
           },
           "bgcolor": "#E5ECF6",
           "caxis": {
            "gridcolor": "white",
            "linecolor": "white",
            "ticks": ""
           }
          },
          "title": {
           "x": 0.05
          },
          "xaxis": {
           "automargin": true,
           "gridcolor": "white",
           "linecolor": "white",
           "ticks": "",
           "title": {
            "standoff": 15
           },
           "zerolinecolor": "white",
           "zerolinewidth": 2
          },
          "yaxis": {
           "automargin": true,
           "gridcolor": "white",
           "linecolor": "white",
           "ticks": "",
           "title": {
            "standoff": 15
           },
           "zerolinecolor": "white",
           "zerolinewidth": 2
          }
         }
        },
        "title": {
         "text": "Detecting Outliers of PM 2,5 registered over various European stations",
         "x": 0.5,
         "xanchor": "center",
         "y": 0.95,
         "yanchor": "top"
        },
        "xaxis": {
         "anchor": "y",
         "domain": [
          0,
          1
         ]
        },
        "yaxis": {
         "anchor": "x",
         "domain": [
          0,
          1
         ],
         "showgrid": false,
         "title": {
          "text": "avg15"
         }
        }
       }
      },
      "text/html": [
       "<div>\n",
       "        \n",
       "        \n",
       "            <div id=\"01fac9f7-ee77-4d39-af8b-d68eac3a9e01\" class=\"plotly-graph-div\" style=\"height:525px; width:100%;\"></div>\n",
       "            <script type=\"text/javascript\">\n",
       "                require([\"plotly\"], function(Plotly) {\n",
       "                    window.PLOTLYENV=window.PLOTLYENV || {};\n",
       "                    \n",
       "                if (document.getElementById(\"01fac9f7-ee77-4d39-af8b-d68eac3a9e01\")) {\n",
       "                    Plotly.newPlot(\n",
       "                        '01fac9f7-ee77-4d39-af8b-d68eac3a9e01',\n",
       "                        [{\"alignmentgroup\": \"True\", \"hovertemplate\": \"avg15=%{y}<extra></extra>\", \"legendgroup\": \"\", \"marker\": {\"color\": \"#636efa\"}, \"name\": \"\", \"notched\": false, \"offsetgroup\": \"\", \"orientation\": \"v\", \"showlegend\": false, \"type\": \"box\", \"x0\": \" \", \"xaxis\": \"x\", \"y\": [13.353289, 7.257276, 14.789538, 14.524676, 9.099422, 12.058089, 12.033426, 11.621019, 13.721193, 10.76674, 13.100392, 11.006506, 11.354895, 9.426099, 9.973228, 6.826367, 8.910852, 8.098825, 7.560071, 7.819823, 8.689426, 9.879714, 16.080899, 11.625252, 23.892614, 33.040112, 11.945001, 6.111503, 7.883377, 12.735729, 8.871439, 8.743363, 11.139296, 11.416152, 12.241828, 9.372394, 10.485007, 12.44337, 7.542832, 8.508962, 9.868317, 10.191917, 8.684215, 13.072419, 6.690393, 10.463367, 7.286816, 9.969703, 9.520642, 5.188643, 3.966952, 5.433148, 6.61236, 7.035144, 10.344214, 7.051429, 4.81686, 8.486239, 8.456647, 5.960674, 5.795732, 8.335227, 8.379538, 6.162902, 7.114348, 11.081898, 10.759357, 5.867473, 11.740706, 6.991095, 9.177124, 5.008677, 4.971934, 5.294007, 12.660772, 9.648008, 9.169847, 8.447957, 10.634634, 11.019525, 8.913834, 8.07166, 10.524742, 10.292241, 7.504084, 9.567993, 12.595133, 8.89671, 11.602657, 6.146076, 7.685495, 7.725895, 3.176025, 8.73313, 14.282799, 9.171703, 5.735632, 14.676796, 9.897507, 14.543353, 20.559557, 18.643258, 26.64348, 23.441667, 25.488571, 17.683505, 11.594837, 12.557535, 12.047041, 26.951496, 13.312321, 11.011142, 14.707042, 23.017192, 15.268362, 19.083333, 20.044818, 26.727528, 18.326284, 20.749296, 7.149379, 10.436975, 6.641834, 8.455446, 25.84375, 13.391694, 13.131818, 7.775623, 11.022904, 9.19006, 12.270036, 9.512012, 8.977558, 12.989084, 12.013362, 2.707727, 1.512005, 2.752935, 12.482206, 18.470833, 14.53796, 7.347346, 5.618682, 10.51776, 11.822876, 12.341719, 6.654075, 18.895706, 13.13879, 10.032877, 10.67064, 14.702786, 14.731795, 3.427191, 14.76596, 6.179576, 17.358067, 9.748889, 5.774699, 10.848464, 12.486371, 7.103898, 11.822, 15.089, 22.236, 17.006, 17.747, 30.33897, 13.236321, 14.568675, 16.919576, 14.608504, 19.190335, 13.965723, 13.97845, 16.251845, 9.26586, 12.523505, 15.235787, 12.29686, 11.781854, 14.787564, 19.929107, 14.100782, 14.567044, 12.944598, 14.640805, 14.81268, 13.718232, 13.09626, 13.189466, 14.934121, 13.435091, 13.367502, 13.040427, 12.665909, 10.52111, 10.300577, 15.115963, 13.434084, 13.466545, 14.683366, 12.551983, 14.705634, 14.419126, 14.460037, 11.341185, 10.924992, 12.842754, 12.737044, 12.025819, 11.799868, 14.327172, 14.449595, 14.569196, 14.176761, 13.806131, 17.802967, 16.875843, 20.32358, 15.403012, 15.720217, 15.57881, 15.313738, 17.68138, 16.817191, 14.266245, 18.682784, 16.489249, 13.479739, 23.921083, 18.435565, 16.653832, 12.296574, 17.270451, 25.380925, 24.696366, 18.666911, 19.436881, 15.357874, 15.830083, 13.736274, 13.695237, 13.316793, 10.390088, 13.485642, 12.886066, 13.224965, 14.294797, 15.250826, 17.119724, 16.061823, 12.379726, 13.91155, 13.192736, 12.319939, 11.823123, 12.423116, 11.994496, 10.578466, 12.087066, 13.370539, 12.226837, 13.376674, 13.076938, 13.667626, 10.870899, 12.392775, 13.687462, 13.515509, 13.536733, 13.427596, 11.990753, 12.232226, 11.973409, 12.609537, 15.24653, 12.751086, 11.951139, 10.282646, 13.002718, 11.948696, 12.040123, 12.951982, 13.776988, 11.565453, 10.882653, 11.325708, 10.626572, 8.884077, 12.163193, 11.397428, 14.545125, 14.033249, 13.009496, 14.49445, 15.073384, 13.879151, 12.705393, 12.574983, 12.789846, 13.120164, 13.271031, 12.890498, 12.711364, 14.384997, 12.364177, 11.214417, 12.244933, 12.017583, 13.010192, 12.134096, 12.893257, 12.934388, 11.104895, 11.983944, 10.383987, 11.635107, 9.856579, 6.27563, 8.941618, 5.943251, 15.060833, 17.963018, 9.970065, 14.872995, 10.019336, 11.227654, 6.720053, 19.688172, 12.155689, 8.071548, 9.272346, 12.140876, 11.965899, 6.545989, 15.321534, 7.301614, 12.099082, 8.019741, 9.289138, 12.634615, 11.917005, 16.062731, 10.773827, 7.034714, 7.017104, 4.539228, 5.415536, 4.354429, 4.460459, 6.839457, 5.945455, 15.01001, 14.09636, 12.691131, 13.264381, 13.844158, 13.648356, 14.266079, 13.432214, 11.77751, 10.268031, 14.247516, 12.300589, 11.424204, 14.051007, 11.80413, 14.732841, 10.047503, 10.455317, 11.060378, 11.263739, 10.200199, 11.856743, 10.783774, 13.016788, 15.476296, 11.859996, 13.463603, 11.944279, 15.824027, 17.091193, 14.391216, 13.069344, 11.84155, 12.436338, 9.130502, 8.986247, 6.97379, 14.267857, 15.162516, 17.283563, 13.107667, 9.532049, 12.315558, 13.002057, 13.647651, 12.479338, 14.689587, 14.284461, 13.04293, 13.484743, 11.705437, 14.057797, 8.417138, 13.46916, 13.95688, 10.606602, 11.514683, 13.87172, 11.153179, 15.848167, 17.685987, 15.527387, 13.195039, 13.412708, 12.230161, 10.002186, 10.402739, 16.58613, 9.187283, 15.034951, 13.62339, 12.420192, 10.928548, 9.030004, 9.5591, 11.433325, 10.512368, 9.960425, 10.491823, 10.47755, 9.7907, 12.262142, 11.497954, 11.691325, 10.586222, 11.752537, 10.624283, 8.038827, 7.203831, 9.953742, 10.395696, 7.486961, 9.590462, 10.877774, 6.386624, 7.420871, 9.545399, 9.318762, 7.103531, 10.764287, 8.477523, 10.24675, 10.189576, 10.11053, 10.828675, 9.568158, 11.945411, 8.996075, 6.794377, 9.67155, 12.019491, 6.546663, 10.939653, 16.446809, 20.816775, 10.839764, 10.918156, 11.771429, 13.176438, 8.137651, 7.801538, 6.829863, 6.562644, 9.942876, 4.757997, 15.260284, 16.021639, 15.861111, 19.961988, 25.672981, 21.470914, 12.044985, 15.642424, 18.206687, 19.587896, 23.245029, 20.714681, 16.205797, 16.130435, 21.762712, 18.155556, 28.423729, 18.531698, 11.853933, 14.008746, 16.063361, 22.791429, 17.093294, 20.442857, 16.962536, 26.382789, 29.216138, 20.089783, 15.528736, 17.667606, 25.087571, 19.40634, 23.456044, 15.779944, 23.345506, 26.40407, 23.597765, 26.752312, 27.587592, 31.25, 12.836676, 16.387283, 16.571031, 14.185908, 10.670423, 17.74, 26.501424, 10.985755, 14.539945, 21.339031, 24.721369, 20.270423, 18.237104, 31.901896, 15.372806, 29.066077, 30.006571, 27.024926, 22.160221, 23.772861, 15.812325, 24.369863, 17.470423, 12.446512, 13.835196, 27.225808, 24.301943, 26.541899, 12.594153, 16.910448, 16.896359, 19.534286, 19.387187, 13.485074, 13.020991, 12.468866, 26.504819, 21.683129, 24.078313, 11.979769, 15.486065, 6.486389, 9.336517, 17.070988, 25.58651, 11.089119, 18.071562, 13.27762, 18.09621, 12.697797, 9.096707, 15.741667, 24.154519, 13.470255, 20.144928, 13.823529, 15.727735, 16.221457, 12.063218, 30.376471, 19.925714, 16.465388, 27.160256, 13.823171, 10.65067, 7.830097, 9.907301, 11.669167, 12.02807, 12.312014, 15.917079, 12.476221, 12.448128, 11.538978, 12.352135, 10.673576, 12.640694, 13.344757, 14.21835, 12.803076, 12.125276, 11.518471, 6.762815, 7.309426, 8.825313, 6.644817, 7.134425, 4.731638, 27.273273, 12.897218, 18.868486, 18.383501, 26.346154, 27.2, 21.293151, 23.956164, 22.134072, 29.728571, 20.457289, 32.175951, 30.466363, 21.465559, 28.090908, 21.181222, 23.627787, 30.140162, 19.287655, 26.642072, 13.33061, 14.065972, 16.745363, 17.259802, 22.905817, 18.906728, 23.967134, 18.416522, 20.787204, 27.025765, 30.896265, 24.35196, 15.355014, 22.990962, 25.604647, 14.942473, 21.413407, 24.474444, 27.773988, 22.862136, 15.837606, 16.646648, 24.972535, 21.215068, 22.787147, 21.247697, 14.212885, 26.001714, 25.894944, 13.471781, 33.717808, 25.156742, 27.188195, 28.158287, 31.571388, 20.310056, 24.067817, 21.007445, 34.88745, 29.098494, 20.107374, 14.334493, 24.910774, 26.828296, 29.210169, 36.010959, 25.841226, 22.855385, 22.348468, 18.372678, 19.588286, 25.920167, 21.023672, 27.10193, 33.561364, 11.345238, 13.551207, 12.228133, 11.912215, 17.301691, 23.156837, 16.893697, 11.119221, 8.266937, 7.792754, 4.80579, 4.209584, 4.136593, 8.251126, 3.677026, 22.565476, 19.259669, 22.749334, 17.574611, 22.278441, 20.164213, 19.419321, 17.417422, 18.989409, 28.486592, 18.477178, 20.18, 18.397, 22.678], \"y0\": \" \", \"yaxis\": \"y\"}],\n",
       "                        {\"boxmode\": \"group\", \"legend\": {\"tracegroupgap\": 0}, \"margin\": {\"t\": 60}, \"template\": {\"data\": {\"bar\": [{\"error_x\": {\"color\": \"#2a3f5f\"}, \"error_y\": {\"color\": \"#2a3f5f\"}, \"marker\": {\"line\": {\"color\": \"#E5ECF6\", \"width\": 0.5}}, \"type\": \"bar\"}], \"barpolar\": [{\"marker\": {\"line\": {\"color\": \"#E5ECF6\", \"width\": 0.5}}, \"type\": \"barpolar\"}], \"carpet\": [{\"aaxis\": {\"endlinecolor\": \"#2a3f5f\", \"gridcolor\": \"white\", \"linecolor\": \"white\", \"minorgridcolor\": \"white\", \"startlinecolor\": \"#2a3f5f\"}, \"baxis\": {\"endlinecolor\": \"#2a3f5f\", \"gridcolor\": \"white\", \"linecolor\": \"white\", \"minorgridcolor\": \"white\", \"startlinecolor\": \"#2a3f5f\"}, \"type\": \"carpet\"}], \"choropleth\": [{\"colorbar\": {\"outlinewidth\": 0, \"ticks\": \"\"}, \"type\": \"choropleth\"}], \"contour\": [{\"colorbar\": {\"outlinewidth\": 0, \"ticks\": \"\"}, \"colorscale\": [[0.0, \"#0d0887\"], [0.1111111111111111, \"#46039f\"], [0.2222222222222222, \"#7201a8\"], [0.3333333333333333, \"#9c179e\"], [0.4444444444444444, \"#bd3786\"], [0.5555555555555556, \"#d8576b\"], [0.6666666666666666, \"#ed7953\"], [0.7777777777777778, \"#fb9f3a\"], [0.8888888888888888, \"#fdca26\"], [1.0, \"#f0f921\"]], \"type\": \"contour\"}], \"contourcarpet\": [{\"colorbar\": {\"outlinewidth\": 0, \"ticks\": \"\"}, \"type\": \"contourcarpet\"}], \"heatmap\": [{\"colorbar\": {\"outlinewidth\": 0, \"ticks\": \"\"}, \"colorscale\": [[0.0, \"#0d0887\"], [0.1111111111111111, \"#46039f\"], [0.2222222222222222, \"#7201a8\"], [0.3333333333333333, \"#9c179e\"], [0.4444444444444444, \"#bd3786\"], [0.5555555555555556, \"#d8576b\"], [0.6666666666666666, \"#ed7953\"], [0.7777777777777778, \"#fb9f3a\"], [0.8888888888888888, \"#fdca26\"], [1.0, \"#f0f921\"]], \"type\": \"heatmap\"}], \"heatmapgl\": [{\"colorbar\": {\"outlinewidth\": 0, \"ticks\": \"\"}, \"colorscale\": [[0.0, \"#0d0887\"], [0.1111111111111111, \"#46039f\"], [0.2222222222222222, \"#7201a8\"], [0.3333333333333333, \"#9c179e\"], [0.4444444444444444, \"#bd3786\"], [0.5555555555555556, \"#d8576b\"], [0.6666666666666666, \"#ed7953\"], [0.7777777777777778, \"#fb9f3a\"], [0.8888888888888888, \"#fdca26\"], [1.0, \"#f0f921\"]], \"type\": \"heatmapgl\"}], \"histogram\": [{\"marker\": {\"colorbar\": {\"outlinewidth\": 0, \"ticks\": \"\"}}, \"type\": \"histogram\"}], \"histogram2d\": [{\"colorbar\": {\"outlinewidth\": 0, \"ticks\": \"\"}, \"colorscale\": [[0.0, \"#0d0887\"], [0.1111111111111111, \"#46039f\"], [0.2222222222222222, \"#7201a8\"], [0.3333333333333333, \"#9c179e\"], [0.4444444444444444, \"#bd3786\"], [0.5555555555555556, \"#d8576b\"], [0.6666666666666666, \"#ed7953\"], [0.7777777777777778, \"#fb9f3a\"], [0.8888888888888888, \"#fdca26\"], [1.0, \"#f0f921\"]], \"type\": \"histogram2d\"}], \"histogram2dcontour\": [{\"colorbar\": {\"outlinewidth\": 0, \"ticks\": \"\"}, \"colorscale\": [[0.0, \"#0d0887\"], [0.1111111111111111, \"#46039f\"], [0.2222222222222222, \"#7201a8\"], [0.3333333333333333, \"#9c179e\"], [0.4444444444444444, \"#bd3786\"], [0.5555555555555556, \"#d8576b\"], [0.6666666666666666, \"#ed7953\"], [0.7777777777777778, \"#fb9f3a\"], [0.8888888888888888, \"#fdca26\"], [1.0, \"#f0f921\"]], \"type\": \"histogram2dcontour\"}], \"mesh3d\": [{\"colorbar\": {\"outlinewidth\": 0, \"ticks\": \"\"}, \"type\": \"mesh3d\"}], \"parcoords\": [{\"line\": {\"colorbar\": {\"outlinewidth\": 0, \"ticks\": \"\"}}, \"type\": \"parcoords\"}], \"pie\": [{\"automargin\": true, \"type\": \"pie\"}], \"scatter\": [{\"marker\": {\"colorbar\": {\"outlinewidth\": 0, \"ticks\": \"\"}}, \"type\": \"scatter\"}], \"scatter3d\": [{\"line\": {\"colorbar\": {\"outlinewidth\": 0, \"ticks\": \"\"}}, \"marker\": {\"colorbar\": {\"outlinewidth\": 0, \"ticks\": \"\"}}, \"type\": \"scatter3d\"}], \"scattercarpet\": [{\"marker\": {\"colorbar\": {\"outlinewidth\": 0, \"ticks\": \"\"}}, \"type\": \"scattercarpet\"}], \"scattergeo\": [{\"marker\": {\"colorbar\": {\"outlinewidth\": 0, \"ticks\": \"\"}}, \"type\": \"scattergeo\"}], \"scattergl\": [{\"marker\": {\"colorbar\": {\"outlinewidth\": 0, \"ticks\": \"\"}}, \"type\": \"scattergl\"}], \"scattermapbox\": [{\"marker\": {\"colorbar\": {\"outlinewidth\": 0, \"ticks\": \"\"}}, \"type\": \"scattermapbox\"}], \"scatterpolar\": [{\"marker\": {\"colorbar\": {\"outlinewidth\": 0, \"ticks\": \"\"}}, \"type\": \"scatterpolar\"}], \"scatterpolargl\": [{\"marker\": {\"colorbar\": {\"outlinewidth\": 0, \"ticks\": \"\"}}, \"type\": \"scatterpolargl\"}], \"scatterternary\": [{\"marker\": {\"colorbar\": {\"outlinewidth\": 0, \"ticks\": \"\"}}, \"type\": \"scatterternary\"}], \"surface\": [{\"colorbar\": {\"outlinewidth\": 0, \"ticks\": \"\"}, \"colorscale\": [[0.0, \"#0d0887\"], [0.1111111111111111, \"#46039f\"], [0.2222222222222222, \"#7201a8\"], [0.3333333333333333, \"#9c179e\"], [0.4444444444444444, \"#bd3786\"], [0.5555555555555556, \"#d8576b\"], [0.6666666666666666, \"#ed7953\"], [0.7777777777777778, \"#fb9f3a\"], [0.8888888888888888, \"#fdca26\"], [1.0, \"#f0f921\"]], \"type\": \"surface\"}], \"table\": [{\"cells\": {\"fill\": {\"color\": \"#EBF0F8\"}, \"line\": {\"color\": \"white\"}}, \"header\": {\"fill\": {\"color\": \"#C8D4E3\"}, \"line\": {\"color\": \"white\"}}, \"type\": \"table\"}]}, \"layout\": {\"annotationdefaults\": {\"arrowcolor\": \"#2a3f5f\", \"arrowhead\": 0, \"arrowwidth\": 1}, \"coloraxis\": {\"colorbar\": {\"outlinewidth\": 0, \"ticks\": \"\"}}, \"colorscale\": {\"diverging\": [[0, \"#8e0152\"], [0.1, \"#c51b7d\"], [0.2, \"#de77ae\"], [0.3, \"#f1b6da\"], [0.4, \"#fde0ef\"], [0.5, \"#f7f7f7\"], [0.6, \"#e6f5d0\"], [0.7, \"#b8e186\"], [0.8, \"#7fbc41\"], [0.9, \"#4d9221\"], [1, \"#276419\"]], \"sequential\": [[0.0, \"#0d0887\"], [0.1111111111111111, \"#46039f\"], [0.2222222222222222, \"#7201a8\"], [0.3333333333333333, \"#9c179e\"], [0.4444444444444444, \"#bd3786\"], [0.5555555555555556, \"#d8576b\"], [0.6666666666666666, \"#ed7953\"], [0.7777777777777778, \"#fb9f3a\"], [0.8888888888888888, \"#fdca26\"], [1.0, \"#f0f921\"]], \"sequentialminus\": [[0.0, \"#0d0887\"], [0.1111111111111111, \"#46039f\"], [0.2222222222222222, \"#7201a8\"], [0.3333333333333333, \"#9c179e\"], [0.4444444444444444, \"#bd3786\"], [0.5555555555555556, \"#d8576b\"], [0.6666666666666666, \"#ed7953\"], [0.7777777777777778, \"#fb9f3a\"], [0.8888888888888888, \"#fdca26\"], [1.0, \"#f0f921\"]]}, \"colorway\": [\"#636efa\", \"#EF553B\", \"#00cc96\", \"#ab63fa\", \"#FFA15A\", \"#19d3f3\", \"#FF6692\", \"#B6E880\", \"#FF97FF\", \"#FECB52\"], \"font\": {\"color\": \"#2a3f5f\"}, \"geo\": {\"bgcolor\": \"white\", \"lakecolor\": \"white\", \"landcolor\": \"#E5ECF6\", \"showlakes\": true, \"showland\": true, \"subunitcolor\": \"white\"}, \"hoverlabel\": {\"align\": \"left\"}, \"hovermode\": \"closest\", \"mapbox\": {\"style\": \"light\"}, \"paper_bgcolor\": \"white\", \"plot_bgcolor\": \"#E5ECF6\", \"polar\": {\"angularaxis\": {\"gridcolor\": \"white\", \"linecolor\": \"white\", \"ticks\": \"\"}, \"bgcolor\": \"#E5ECF6\", \"radialaxis\": {\"gridcolor\": \"white\", \"linecolor\": \"white\", \"ticks\": \"\"}}, \"scene\": {\"xaxis\": {\"backgroundcolor\": \"#E5ECF6\", \"gridcolor\": \"white\", \"gridwidth\": 2, \"linecolor\": \"white\", \"showbackground\": true, \"ticks\": \"\", \"zerolinecolor\": \"white\"}, \"yaxis\": {\"backgroundcolor\": \"#E5ECF6\", \"gridcolor\": \"white\", \"gridwidth\": 2, \"linecolor\": \"white\", \"showbackground\": true, \"ticks\": \"\", \"zerolinecolor\": \"white\"}, \"zaxis\": {\"backgroundcolor\": \"#E5ECF6\", \"gridcolor\": \"white\", \"gridwidth\": 2, \"linecolor\": \"white\", \"showbackground\": true, \"ticks\": \"\", \"zerolinecolor\": \"white\"}}, \"shapedefaults\": {\"line\": {\"color\": \"#2a3f5f\"}}, \"ternary\": {\"aaxis\": {\"gridcolor\": \"white\", \"linecolor\": \"white\", \"ticks\": \"\"}, \"baxis\": {\"gridcolor\": \"white\", \"linecolor\": \"white\", \"ticks\": \"\"}, \"bgcolor\": \"#E5ECF6\", \"caxis\": {\"gridcolor\": \"white\", \"linecolor\": \"white\", \"ticks\": \"\"}}, \"title\": {\"x\": 0.05}, \"xaxis\": {\"automargin\": true, \"gridcolor\": \"white\", \"linecolor\": \"white\", \"ticks\": \"\", \"title\": {\"standoff\": 15}, \"zerolinecolor\": \"white\", \"zerolinewidth\": 2}, \"yaxis\": {\"automargin\": true, \"gridcolor\": \"white\", \"linecolor\": \"white\", \"ticks\": \"\", \"title\": {\"standoff\": 15}, \"zerolinecolor\": \"white\", \"zerolinewidth\": 2}}}, \"title\": {\"text\": \"Detecting Outliers of PM 2,5 registered over various European stations\", \"x\": 0.5, \"xanchor\": \"center\", \"y\": 0.95, \"yanchor\": \"top\"}, \"xaxis\": {\"anchor\": \"y\", \"domain\": [0.0, 1.0]}, \"yaxis\": {\"anchor\": \"x\", \"domain\": [0.0, 1.0], \"showgrid\": false, \"title\": {\"text\": \"avg15\"}}},\n",
       "                        {\"responsive\": true}\n",
       "                    ).then(function(){\n",
       "                            \n",
       "var gd = document.getElementById('01fac9f7-ee77-4d39-af8b-d68eac3a9e01');\n",
       "var x = new MutationObserver(function (mutations, observer) {{\n",
       "        var display = window.getComputedStyle(gd).display;\n",
       "        if (!display || display === 'none') {{\n",
       "            console.log([gd, 'removed!']);\n",
       "            Plotly.purge(gd);\n",
       "            observer.disconnect();\n",
       "        }}\n",
       "}});\n",
       "\n",
       "// Listen for the removal of the full notebook cells\n",
       "var notebookContainer = gd.closest('#notebook-container');\n",
       "if (notebookContainer) {{\n",
       "    x.observe(notebookContainer, {childList: true});\n",
       "}}\n",
       "\n",
       "// Listen for the clearing of the current output cell\n",
       "var outputEl = gd.closest('.output');\n",
       "if (outputEl) {{\n",
       "    x.observe(outputEl, {childList: true});\n",
       "}}\n",
       "\n",
       "                        })\n",
       "                };\n",
       "                });\n",
       "            </script>\n",
       "        </div>"
      ]
     },
     "metadata": {},
     "output_type": "display_data"
    }
   ],
   "source": [
    "fig = px.box(data_frame = df_air_quality, y = \"avg15\")\n",
    "fig.update_layout(\n",
    "    title={\n",
    "        'text': \"Detecting Outliers of PM 2,5 registered over various European stations\",\n",
    "        'y':0.95,\n",
    "        'x':0.5,\n",
    "        'xanchor': 'center',\n",
    "        'yanchor': 'top'})\n",
    "fig.update_yaxes(showgrid=False)\n",
    "fig.show()"
   ]
  },
  {
   "cell_type": "markdown",
   "metadata": {},
   "source": [
    "![title](boxplot.png)"
   ]
  },
  {
   "cell_type": "markdown",
   "metadata": {},
   "source": [
    "**Values above 27 is considered an outlier**"
   ]
  },
  {
   "cell_type": "markdown",
   "metadata": {},
   "source": [
    "## Examining relationship between quality of air and altitude by means of correlation and scatter plot"
   ]
  },
  {
   "cell_type": "markdown",
   "metadata": {},
   "source": [
    "\n",
    "**Let's see if there is a strong correlation between altitude and PM 2,5 levels**"
   ]
  },
  {
   "cell_type": "code",
   "execution_count": 15,
   "metadata": {},
   "outputs": [
    {
     "data": {
      "text/html": [
       "<div>\n",
       "<style scoped>\n",
       "    .dataframe tbody tr th:only-of-type {\n",
       "        vertical-align: middle;\n",
       "    }\n",
       "\n",
       "    .dataframe tbody tr th {\n",
       "        vertical-align: top;\n",
       "    }\n",
       "\n",
       "    .dataframe thead th {\n",
       "        text-align: right;\n",
       "    }\n",
       "</style>\n",
       "<table border=\"1\" class=\"dataframe\">\n",
       "  <thead>\n",
       "    <tr style=\"text-align: right;\">\n",
       "      <th></th>\n",
       "      <th>avg15</th>\n",
       "      <th>Altitude</th>\n",
       "    </tr>\n",
       "  </thead>\n",
       "  <tbody>\n",
       "    <tr>\n",
       "      <th>avg15</th>\n",
       "      <td>1.000000</td>\n",
       "      <td>-0.132069</td>\n",
       "    </tr>\n",
       "    <tr>\n",
       "      <th>Altitude</th>\n",
       "      <td>-0.132069</td>\n",
       "      <td>1.000000</td>\n",
       "    </tr>\n",
       "  </tbody>\n",
       "</table>\n",
       "</div>"
      ],
      "text/plain": [
       "             avg15  Altitude\n",
       "avg15     1.000000 -0.132069\n",
       "Altitude -0.132069  1.000000"
      ]
     },
     "execution_count": 15,
     "metadata": {},
     "output_type": "execute_result"
    }
   ],
   "source": [
    "df_air_quality[[\"avg15\",\"Altitude\"]].corr()"
   ]
  },
  {
   "cell_type": "markdown",
   "metadata": {},
   "source": [
    "**There is a week negative correlation**\n",
    "\n",
    "**The scatter plot is going to confirm the same**\n",
    "\n",
    "Here is I used the **scatter** function of Plotly express"
   ]
  },
  {
   "cell_type": "code",
   "execution_count": 16,
   "metadata": {},
   "outputs": [
    {
     "data": {
      "application/vnd.plotly.v1+json": {
       "config": {
        "plotlyServerURL": "https://plot.ly"
       },
       "data": [
        {
         "hovertemplate": "Altitude=%{x}<br>avg15=%{y}<extra></extra>",
         "legendgroup": "",
         "marker": {
          "color": "crimson",
          "opacity": 0.5,
          "symbol": "circle"
         },
         "mode": "markers",
         "name": "",
         "orientation": "v",
         "showlegend": false,
         "type": "scatter",
         "x": [
          525,
          899,
          150,
          200,
          918,
          510,
          23,
          3,
          30,
          2,
          135,
          0,
          145,
          233,
          160,
          490,
          265,
          225,
          510,
          430,
          375,
          532,
          245,
          535,
          231,
          203,
          88,
          904,
          798,
          124,
          755,
          700,
          362,
          343,
          17,
          2,
          16,
          110,
          606,
          546,
          45,
          313,
          419,
          72,
          1205,
          74,
          937,
          65,
          3,
          32,
          6,
          50,
          917,
          78,
          1230,
          134,
          1360,
          23,
          393,
          885,
          985,
          470,
          506,
          911,
          619,
          804,
          430,
          995,
          469,
          172,
          200,
          64,
          7,
          4,
          140,
          134,
          127,
          235,
          170,
          153,
          29,
          309,
          143,
          50,
          670,
          620,
          225,
          477,
          180,
          617,
          655,
          126,
          260,
          14,
          0,
          0,
          45,
          61,
          948,
          388,
          -2,
          11,
          115,
          48,
          14,
          10,
          550,
          110,
          1192,
          16,
          209,
          620,
          202,
          22,
          165,
          0,
          4,
          48,
          1,
          258,
          532,
          420,
          811,
          1038,
          268,
          150,
          150,
          180,
          319,
          114,
          15,
          4,
          -4,
          1,
          1,
          200,
          210,
          280,
          157,
          291,
          179,
          60,
          473,
          143,
          57,
          187,
          300,
          30,
          20,
          540,
          808,
          117,
          86,
          340,
          390,
          605,
          125,
          489,
          1031,
          18,
          157,
          1118,
          735,
          525,
          306,
          400,
          158,
          848,
          13,
          160,
          445,
          445,
          460,
          210,
          270,
          155,
          460,
          350,
          274,
          420,
          305,
          390,
          272,
          236,
          159,
          5,
          5,
          6,
          8,
          10,
          10,
          13,
          10,
          20,
          15,
          30,
          160,
          70,
          50,
          55,
          41,
          27,
          30,
          15,
          100,
          12,
          65,
          65,
          115,
          135,
          118,
          157,
          5,
          6,
          6,
          8,
          0,
          22,
          208,
          17,
          103,
          301,
          256,
          309,
          241,
          225,
          383,
          239,
          502,
          476,
          224,
          346,
          360,
          303,
          224,
          235,
          320,
          221,
          257,
          367,
          258,
          89,
          31,
          33,
          22,
          75,
          31,
          99,
          43,
          35,
          35,
          35,
          235,
          157,
          481,
          275,
          278,
          403,
          114,
          262,
          325,
          480,
          134,
          477,
          231,
          420,
          678,
          521,
          470,
          300,
          380,
          400,
          226,
          488,
          513,
          495,
          300,
          417,
          7,
          3,
          100,
          181,
          121,
          15,
          3,
          17,
          2,
          95,
          54,
          170,
          30,
          85,
          80,
          75,
          72,
          40,
          47,
          25,
          32,
          186,
          157,
          153,
          110,
          232,
          108,
          103,
          40,
          12,
          192,
          115,
          112,
          47,
          116,
          58,
          195,
          265,
          490,
          25,
          21,
          6,
          41,
          25,
          24,
          3,
          645,
          12,
          929,
          449,
          389,
          11,
          220,
          616,
          581,
          610,
          500,
          721,
          136,
          220,
          7,
          693,
          355,
          55,
          609,
          25,
          51,
          181,
          91,
          112,
          21,
          16,
          56,
          25,
          109,
          192,
          154,
          45,
          28,
          65,
          95,
          37,
          51,
          164,
          92,
          43,
          59,
          340,
          8,
          10,
          83,
          25,
          10,
          48,
          83,
          10,
          8,
          4,
          2,
          25,
          150,
          93,
          147,
          214,
          139,
          250,
          95,
          34,
          28,
          48,
          29,
          17,
          173,
          204,
          160,
          233,
          25,
          47,
          85,
          18,
          371,
          741,
          9,
          17,
          255,
          96,
          26,
          552,
          366,
          200,
          195,
          35,
          14,
          350,
          280,
          453,
          441,
          111,
          85,
          115,
          158,
          301,
          125,
          47,
          321,
          331,
          261,
          20,
          10,
          12,
          78,
          60,
          7,
          13,
          45,
          5,
          175,
          41,
          172,
          30,
          32,
          37,
          20,
          38,
          40,
          5,
          30,
          5,
          4,
          81,
          58,
          93,
          10,
          110,
          45,
          16,
          15,
          15,
          58,
          79,
          24,
          36,
          134,
          128,
          11,
          83,
          40,
          98,
          210,
          0,
          0,
          432,
          409,
          280,
          10,
          20,
          12,
          47.32,
          19,
          0,
          15,
          640,
          200,
          380,
          249,
          60,
          85,
          61,
          43,
          150,
          77,
          50,
          260,
          50,
          53,
          48,
          1,
          100,
          581,
          35,
          203,
          6,
          29,
          114,
          5,
          257,
          36,
          290,
          18,
          3,
          10,
          4,
          3,
          405,
          72,
          91,
          156,
          226,
          113,
          13,
          203,
          550,
          344,
          6,
          13,
          25,
          15,
          10,
          401,
          263,
          212,
          54,
          10,
          122,
          230,
          70,
          45,
          162,
          34,
          240,
          267,
          91,
          31,
          150,
          319,
          22,
          273,
          131,
          55,
          498,
          31,
          32,
          9,
          230,
          11,
          56,
          76,
          290,
          61,
          15,
          15,
          275,
          16,
          55,
          255,
          20,
          37,
          105,
          118,
          140,
          370,
          242,
          271,
          666,
          284,
          329,
          758,
          71,
          143,
          246,
          95,
          100,
          243,
          583,
          170,
          75,
          73,
          275,
          287,
          1,
          3,
          56,
          2,
          3,
          1,
          22,
          0,
          3,
          2,
          1,
          30,
          -1,
          5,
          34,
          24,
          212,
          31,
          30,
          273,
          40,
          64,
          57,
          144,
          190,
          207,
          226,
          235,
          206,
          189,
          91,
          99,
          101,
          159,
          102,
          85,
          119,
          145,
          128,
          179,
          25,
          120,
          120,
          122,
          424,
          114,
          215,
          150,
          181,
          236,
          67,
          10,
          156,
          275,
          15,
          97,
          277,
          260,
          119,
          100,
          22,
          156,
          173,
          203,
          145,
          6,
          262,
          372,
          45,
          223,
          228,
          132,
          191,
          180,
          177,
          223,
          212,
          204,
          319,
          62,
          134,
          155,
          29,
          202,
          305,
          340,
          163,
          264,
          345,
          160,
          201,
          96,
          167,
          120,
          32,
          63,
          173,
          4,
          333,
          44,
          160,
          89,
          30,
          20,
          58,
          30,
          22,
          10,
          0,
          297,
          280,
          475,
          320,
          289,
          133,
          160,
          383,
          201,
          0,
          340,
          232,
          283,
          242
         ],
         "xaxis": "x",
         "y": [
          13.353289,
          7.257276,
          14.789538,
          14.524676,
          9.099422,
          12.058089,
          12.033426,
          11.621019,
          13.721193,
          10.76674,
          13.100392,
          11.006506,
          11.354895,
          9.426099,
          9.973228,
          6.826367,
          8.910852,
          8.098825,
          7.560071,
          7.819823,
          8.689426,
          9.879714,
          16.080899,
          11.625252,
          23.892614,
          33.040112,
          11.945001,
          6.111503,
          7.883377,
          12.735729,
          8.871439,
          8.743363,
          11.139296,
          11.416152,
          12.241828,
          9.372394,
          10.485007,
          12.44337,
          7.542832,
          8.508962,
          9.868317,
          10.191917,
          8.684215,
          13.072419,
          6.690393,
          10.463367,
          7.286816,
          9.969703,
          9.520642,
          5.188643,
          3.966952,
          5.433148,
          6.61236,
          7.035144,
          10.344214,
          7.051429,
          4.81686,
          8.486239,
          8.456647,
          5.960674,
          5.795732,
          8.335227,
          8.379538,
          6.162902,
          7.114348,
          11.081898,
          10.759357,
          5.867473,
          11.740706,
          6.991095,
          9.177124,
          5.008677,
          4.971934,
          5.294007,
          12.660772,
          9.648008,
          9.169847,
          8.447957,
          10.634634,
          11.019525,
          8.913834,
          8.07166,
          10.524742,
          10.292241,
          7.504084,
          9.567993,
          12.595133,
          8.89671,
          11.602657,
          6.146076,
          7.685495,
          7.725895,
          3.176025,
          8.73313,
          14.282799,
          9.171703,
          5.735632,
          14.676796,
          9.897507,
          14.543353,
          20.559557,
          18.643258,
          26.64348,
          23.441667,
          25.488571,
          17.683505,
          11.594837,
          12.557535,
          12.047041,
          26.951496,
          13.312321,
          11.011142,
          14.707042,
          23.017192,
          15.268362,
          19.083333,
          20.044818,
          26.727528,
          18.326284,
          20.749296,
          7.149379,
          10.436975,
          6.641834,
          8.455446,
          25.84375,
          13.391694,
          13.131818,
          7.775623,
          11.022904,
          9.19006,
          12.270036,
          9.512012,
          8.977558,
          12.989084,
          12.013362,
          2.707727,
          1.512005,
          2.752935,
          12.482206,
          18.470833,
          14.53796,
          7.347346,
          5.618682,
          10.51776,
          11.822876,
          12.341719,
          6.654075,
          18.895706,
          13.13879,
          10.032877,
          10.67064,
          14.702786,
          14.731795,
          3.427191,
          14.76596,
          6.179576,
          17.358067,
          9.748889,
          5.774699,
          10.848464,
          12.486371,
          7.103898,
          11.822,
          15.089,
          22.236,
          17.006,
          17.747,
          30.33897,
          13.236321,
          14.568675,
          16.919576,
          14.608504,
          19.190335,
          13.965723,
          13.97845,
          16.251845,
          9.26586,
          12.523505,
          15.235787,
          12.29686,
          11.781854,
          14.787564,
          19.929107,
          14.100782,
          14.567044,
          12.944598,
          14.640805,
          14.81268,
          13.718232,
          13.09626,
          13.189466,
          14.934121,
          13.435091,
          13.367502,
          13.040427,
          12.665909,
          10.52111,
          10.300577,
          15.115963,
          13.434084,
          13.466545,
          14.683366,
          12.551983,
          14.705634,
          14.419126,
          14.460037,
          11.341185,
          10.924992,
          12.842754,
          12.737044,
          12.025819,
          11.799868,
          14.327172,
          14.449595,
          14.569196,
          14.176761,
          13.806131,
          17.802967,
          16.875843,
          20.32358,
          15.403012,
          15.720217,
          15.57881,
          15.313738,
          17.68138,
          16.817191,
          14.266245,
          18.682784,
          16.489249,
          13.479739,
          23.921083,
          18.435565,
          16.653832,
          12.296574,
          17.270451,
          25.380925,
          24.696366,
          18.666911,
          19.436881,
          15.357874,
          15.830083,
          13.736274,
          13.695237,
          13.316793,
          10.390088,
          13.485642,
          12.886066,
          13.224965,
          14.294797,
          15.250826,
          17.119724,
          16.061823,
          12.379726,
          13.91155,
          13.192736,
          12.319939,
          11.823123,
          12.423116,
          11.994496,
          10.578466,
          12.087066,
          13.370539,
          12.226837,
          13.376674,
          13.076938,
          13.667626,
          10.870899,
          12.392775,
          13.687462,
          13.515509,
          13.536733,
          13.427596,
          11.990753,
          12.232226,
          11.973409,
          12.609537,
          15.24653,
          12.751086,
          11.951139,
          10.282646,
          13.002718,
          11.948696,
          12.040123,
          12.951982,
          13.776988,
          11.565453,
          10.882653,
          11.325708,
          10.626572,
          8.884077,
          12.163193,
          11.397428,
          14.545125,
          14.033249,
          13.009496,
          14.49445,
          15.073384,
          13.879151,
          12.705393,
          12.574983,
          12.789846,
          13.120164,
          13.271031,
          12.890498,
          12.711364,
          14.384997,
          12.364177,
          11.214417,
          12.244933,
          12.017583,
          13.010192,
          12.134096,
          12.893257,
          12.934388,
          11.104895,
          11.983944,
          10.383987,
          11.635107,
          9.856579,
          6.27563,
          8.941618,
          5.943251,
          15.060833,
          17.963018,
          9.970065,
          14.872995,
          10.019336,
          11.227654,
          6.720053,
          19.688172,
          12.155689,
          8.071548,
          9.272346,
          12.140876,
          11.965899,
          6.545989,
          15.321534,
          7.301614,
          12.099082,
          8.019741,
          9.289138,
          12.634615,
          11.917005,
          16.062731,
          10.773827,
          7.034714,
          7.017104,
          4.539228,
          5.415536,
          4.354429,
          4.460459,
          6.839457,
          5.945455,
          15.01001,
          14.09636,
          12.691131,
          13.264381,
          13.844158,
          13.648356,
          14.266079,
          13.432214,
          11.77751,
          10.268031,
          14.247516,
          12.300589,
          11.424204,
          14.051007,
          11.80413,
          14.732841,
          10.047503,
          10.455317,
          11.060378,
          11.263739,
          10.200199,
          11.856743,
          10.783774,
          13.016788,
          15.476296,
          11.859996,
          13.463603,
          11.944279,
          15.824027,
          17.091193,
          14.391216,
          13.069344,
          11.84155,
          12.436338,
          9.130502,
          8.986247,
          6.97379,
          14.267857,
          15.162516,
          17.283563,
          13.107667,
          9.532049,
          12.315558,
          13.002057,
          13.647651,
          12.479338,
          14.689587,
          14.284461,
          13.04293,
          13.484743,
          11.705437,
          14.057797,
          8.417138,
          13.46916,
          13.95688,
          10.606602,
          11.514683,
          13.87172,
          11.153179,
          15.848167,
          17.685987,
          15.527387,
          13.195039,
          13.412708,
          12.230161,
          10.002186,
          10.402739,
          16.58613,
          9.187283,
          15.034951,
          13.62339,
          12.420192,
          10.928548,
          9.030004,
          9.5591,
          11.433325,
          10.512368,
          9.960425,
          10.491823,
          10.47755,
          9.7907,
          12.262142,
          11.497954,
          11.691325,
          10.586222,
          11.752537,
          10.624283,
          8.038827,
          7.203831,
          9.953742,
          10.395696,
          7.486961,
          9.590462,
          10.877774,
          6.386624,
          7.420871,
          9.545399,
          9.318762,
          7.103531,
          10.764287,
          8.477523,
          10.24675,
          10.189576,
          10.11053,
          10.828675,
          9.568158,
          11.945411,
          8.996075,
          6.794377,
          9.67155,
          12.019491,
          6.546663,
          10.939653,
          16.446809,
          20.816775,
          10.839764,
          10.918156,
          11.771429,
          13.176438,
          8.137651,
          7.801538,
          6.829863,
          6.562644,
          9.942876,
          4.757997,
          15.260284,
          16.021639,
          15.861111,
          19.961988,
          25.672981,
          21.470914,
          12.044985,
          15.642424,
          18.206687,
          19.587896,
          23.245029,
          20.714681,
          16.205797,
          16.130435,
          21.762712,
          18.155556,
          28.423729,
          18.531698,
          11.853933,
          14.008746,
          16.063361,
          22.791429,
          17.093294,
          20.442857,
          16.962536,
          26.382789,
          29.216138,
          20.089783,
          15.528736,
          17.667606,
          25.087571,
          19.40634,
          23.456044,
          15.779944,
          23.345506,
          26.40407,
          23.597765,
          26.752312,
          27.587592,
          31.25,
          12.836676,
          16.387283,
          16.571031,
          14.185908,
          10.670423,
          17.74,
          26.501424,
          10.985755,
          14.539945,
          21.339031,
          24.721369,
          20.270423,
          18.237104,
          31.901896,
          15.372806,
          29.066077,
          30.006571,
          27.024926,
          22.160221,
          23.772861,
          15.812325,
          24.369863,
          17.470423,
          12.446512,
          13.835196,
          27.225808,
          24.301943,
          26.541899,
          12.594153,
          16.910448,
          16.896359,
          19.534286,
          19.387187,
          13.485074,
          13.020991,
          12.468866,
          26.504819,
          21.683129,
          24.078313,
          11.979769,
          15.486065,
          6.486389,
          9.336517,
          17.070988,
          25.58651,
          11.089119,
          18.071562,
          13.27762,
          18.09621,
          12.697797,
          9.096707,
          15.741667,
          24.154519,
          13.470255,
          20.144928,
          13.823529,
          15.727735,
          16.221457,
          12.063218,
          30.376471,
          19.925714,
          16.465388,
          27.160256,
          13.823171,
          10.65067,
          7.830097,
          9.907301,
          11.669167,
          12.02807,
          12.312014,
          15.917079,
          12.476221,
          12.448128,
          11.538978,
          12.352135,
          10.673576,
          12.640694,
          13.344757,
          14.21835,
          12.803076,
          12.125276,
          11.518471,
          6.762815,
          7.309426,
          8.825313,
          6.644817,
          7.134425,
          4.731638,
          27.273273,
          12.897218,
          18.868486,
          18.383501,
          26.346154,
          27.2,
          21.293151,
          23.956164,
          22.134072,
          29.728571,
          20.457289,
          32.175951,
          30.466363,
          21.465559,
          28.090908,
          21.181222,
          23.627787,
          30.140162,
          19.287655,
          26.642072,
          13.33061,
          14.065972,
          16.745363,
          17.259802,
          22.905817,
          18.906728,
          23.967134,
          18.416522,
          20.787204,
          27.025765,
          30.896265,
          24.35196,
          15.355014,
          22.990962,
          25.604647,
          14.942473,
          21.413407,
          24.474444,
          27.773988,
          22.862136,
          15.837606,
          16.646648,
          24.972535,
          21.215068,
          22.787147,
          21.247697,
          14.212885,
          26.001714,
          25.894944,
          13.471781,
          33.717808,
          25.156742,
          27.188195,
          28.158287,
          31.571388,
          20.310056,
          24.067817,
          21.007445,
          34.88745,
          29.098494,
          20.107374,
          14.334493,
          24.910774,
          26.828296,
          29.210169,
          36.010959,
          25.841226,
          22.855385,
          22.348468,
          18.372678,
          19.588286,
          25.920167,
          21.023672,
          27.10193,
          33.561364,
          11.345238,
          13.551207,
          12.228133,
          11.912215,
          17.301691,
          23.156837,
          16.893697,
          11.119221,
          8.266937,
          7.792754,
          4.80579,
          4.209584,
          4.136593,
          8.251126,
          3.677026,
          22.565476,
          19.259669,
          22.749334,
          17.574611,
          22.278441,
          20.164213,
          19.419321,
          17.417422,
          18.989409,
          28.486592,
          18.477178,
          20.18,
          18.397,
          22.678
         ],
         "yaxis": "y"
        }
       ],
       "layout": {
        "legend": {
         "tracegroupgap": 0
        },
        "margin": {
         "t": 60
        },
        "template": {
         "data": {
          "bar": [
           {
            "error_x": {
             "color": "#2a3f5f"
            },
            "error_y": {
             "color": "#2a3f5f"
            },
            "marker": {
             "line": {
              "color": "#E5ECF6",
              "width": 0.5
             }
            },
            "type": "bar"
           }
          ],
          "barpolar": [
           {
            "marker": {
             "line": {
              "color": "#E5ECF6",
              "width": 0.5
             }
            },
            "type": "barpolar"
           }
          ],
          "carpet": [
           {
            "aaxis": {
             "endlinecolor": "#2a3f5f",
             "gridcolor": "white",
             "linecolor": "white",
             "minorgridcolor": "white",
             "startlinecolor": "#2a3f5f"
            },
            "baxis": {
             "endlinecolor": "#2a3f5f",
             "gridcolor": "white",
             "linecolor": "white",
             "minorgridcolor": "white",
             "startlinecolor": "#2a3f5f"
            },
            "type": "carpet"
           }
          ],
          "choropleth": [
           {
            "colorbar": {
             "outlinewidth": 0,
             "ticks": ""
            },
            "type": "choropleth"
           }
          ],
          "contour": [
           {
            "colorbar": {
             "outlinewidth": 0,
             "ticks": ""
            },
            "colorscale": [
             [
              0,
              "#0d0887"
             ],
             [
              0.1111111111111111,
              "#46039f"
             ],
             [
              0.2222222222222222,
              "#7201a8"
             ],
             [
              0.3333333333333333,
              "#9c179e"
             ],
             [
              0.4444444444444444,
              "#bd3786"
             ],
             [
              0.5555555555555556,
              "#d8576b"
             ],
             [
              0.6666666666666666,
              "#ed7953"
             ],
             [
              0.7777777777777778,
              "#fb9f3a"
             ],
             [
              0.8888888888888888,
              "#fdca26"
             ],
             [
              1,
              "#f0f921"
             ]
            ],
            "type": "contour"
           }
          ],
          "contourcarpet": [
           {
            "colorbar": {
             "outlinewidth": 0,
             "ticks": ""
            },
            "type": "contourcarpet"
           }
          ],
          "heatmap": [
           {
            "colorbar": {
             "outlinewidth": 0,
             "ticks": ""
            },
            "colorscale": [
             [
              0,
              "#0d0887"
             ],
             [
              0.1111111111111111,
              "#46039f"
             ],
             [
              0.2222222222222222,
              "#7201a8"
             ],
             [
              0.3333333333333333,
              "#9c179e"
             ],
             [
              0.4444444444444444,
              "#bd3786"
             ],
             [
              0.5555555555555556,
              "#d8576b"
             ],
             [
              0.6666666666666666,
              "#ed7953"
             ],
             [
              0.7777777777777778,
              "#fb9f3a"
             ],
             [
              0.8888888888888888,
              "#fdca26"
             ],
             [
              1,
              "#f0f921"
             ]
            ],
            "type": "heatmap"
           }
          ],
          "heatmapgl": [
           {
            "colorbar": {
             "outlinewidth": 0,
             "ticks": ""
            },
            "colorscale": [
             [
              0,
              "#0d0887"
             ],
             [
              0.1111111111111111,
              "#46039f"
             ],
             [
              0.2222222222222222,
              "#7201a8"
             ],
             [
              0.3333333333333333,
              "#9c179e"
             ],
             [
              0.4444444444444444,
              "#bd3786"
             ],
             [
              0.5555555555555556,
              "#d8576b"
             ],
             [
              0.6666666666666666,
              "#ed7953"
             ],
             [
              0.7777777777777778,
              "#fb9f3a"
             ],
             [
              0.8888888888888888,
              "#fdca26"
             ],
             [
              1,
              "#f0f921"
             ]
            ],
            "type": "heatmapgl"
           }
          ],
          "histogram": [
           {
            "marker": {
             "colorbar": {
              "outlinewidth": 0,
              "ticks": ""
             }
            },
            "type": "histogram"
           }
          ],
          "histogram2d": [
           {
            "colorbar": {
             "outlinewidth": 0,
             "ticks": ""
            },
            "colorscale": [
             [
              0,
              "#0d0887"
             ],
             [
              0.1111111111111111,
              "#46039f"
             ],
             [
              0.2222222222222222,
              "#7201a8"
             ],
             [
              0.3333333333333333,
              "#9c179e"
             ],
             [
              0.4444444444444444,
              "#bd3786"
             ],
             [
              0.5555555555555556,
              "#d8576b"
             ],
             [
              0.6666666666666666,
              "#ed7953"
             ],
             [
              0.7777777777777778,
              "#fb9f3a"
             ],
             [
              0.8888888888888888,
              "#fdca26"
             ],
             [
              1,
              "#f0f921"
             ]
            ],
            "type": "histogram2d"
           }
          ],
          "histogram2dcontour": [
           {
            "colorbar": {
             "outlinewidth": 0,
             "ticks": ""
            },
            "colorscale": [
             [
              0,
              "#0d0887"
             ],
             [
              0.1111111111111111,
              "#46039f"
             ],
             [
              0.2222222222222222,
              "#7201a8"
             ],
             [
              0.3333333333333333,
              "#9c179e"
             ],
             [
              0.4444444444444444,
              "#bd3786"
             ],
             [
              0.5555555555555556,
              "#d8576b"
             ],
             [
              0.6666666666666666,
              "#ed7953"
             ],
             [
              0.7777777777777778,
              "#fb9f3a"
             ],
             [
              0.8888888888888888,
              "#fdca26"
             ],
             [
              1,
              "#f0f921"
             ]
            ],
            "type": "histogram2dcontour"
           }
          ],
          "mesh3d": [
           {
            "colorbar": {
             "outlinewidth": 0,
             "ticks": ""
            },
            "type": "mesh3d"
           }
          ],
          "parcoords": [
           {
            "line": {
             "colorbar": {
              "outlinewidth": 0,
              "ticks": ""
             }
            },
            "type": "parcoords"
           }
          ],
          "pie": [
           {
            "automargin": true,
            "type": "pie"
           }
          ],
          "scatter": [
           {
            "marker": {
             "colorbar": {
              "outlinewidth": 0,
              "ticks": ""
             }
            },
            "type": "scatter"
           }
          ],
          "scatter3d": [
           {
            "line": {
             "colorbar": {
              "outlinewidth": 0,
              "ticks": ""
             }
            },
            "marker": {
             "colorbar": {
              "outlinewidth": 0,
              "ticks": ""
             }
            },
            "type": "scatter3d"
           }
          ],
          "scattercarpet": [
           {
            "marker": {
             "colorbar": {
              "outlinewidth": 0,
              "ticks": ""
             }
            },
            "type": "scattercarpet"
           }
          ],
          "scattergeo": [
           {
            "marker": {
             "colorbar": {
              "outlinewidth": 0,
              "ticks": ""
             }
            },
            "type": "scattergeo"
           }
          ],
          "scattergl": [
           {
            "marker": {
             "colorbar": {
              "outlinewidth": 0,
              "ticks": ""
             }
            },
            "type": "scattergl"
           }
          ],
          "scattermapbox": [
           {
            "marker": {
             "colorbar": {
              "outlinewidth": 0,
              "ticks": ""
             }
            },
            "type": "scattermapbox"
           }
          ],
          "scatterpolar": [
           {
            "marker": {
             "colorbar": {
              "outlinewidth": 0,
              "ticks": ""
             }
            },
            "type": "scatterpolar"
           }
          ],
          "scatterpolargl": [
           {
            "marker": {
             "colorbar": {
              "outlinewidth": 0,
              "ticks": ""
             }
            },
            "type": "scatterpolargl"
           }
          ],
          "scatterternary": [
           {
            "marker": {
             "colorbar": {
              "outlinewidth": 0,
              "ticks": ""
             }
            },
            "type": "scatterternary"
           }
          ],
          "surface": [
           {
            "colorbar": {
             "outlinewidth": 0,
             "ticks": ""
            },
            "colorscale": [
             [
              0,
              "#0d0887"
             ],
             [
              0.1111111111111111,
              "#46039f"
             ],
             [
              0.2222222222222222,
              "#7201a8"
             ],
             [
              0.3333333333333333,
              "#9c179e"
             ],
             [
              0.4444444444444444,
              "#bd3786"
             ],
             [
              0.5555555555555556,
              "#d8576b"
             ],
             [
              0.6666666666666666,
              "#ed7953"
             ],
             [
              0.7777777777777778,
              "#fb9f3a"
             ],
             [
              0.8888888888888888,
              "#fdca26"
             ],
             [
              1,
              "#f0f921"
             ]
            ],
            "type": "surface"
           }
          ],
          "table": [
           {
            "cells": {
             "fill": {
              "color": "#EBF0F8"
             },
             "line": {
              "color": "white"
             }
            },
            "header": {
             "fill": {
              "color": "#C8D4E3"
             },
             "line": {
              "color": "white"
             }
            },
            "type": "table"
           }
          ]
         },
         "layout": {
          "annotationdefaults": {
           "arrowcolor": "#2a3f5f",
           "arrowhead": 0,
           "arrowwidth": 1
          },
          "coloraxis": {
           "colorbar": {
            "outlinewidth": 0,
            "ticks": ""
           }
          },
          "colorscale": {
           "diverging": [
            [
             0,
             "#8e0152"
            ],
            [
             0.1,
             "#c51b7d"
            ],
            [
             0.2,
             "#de77ae"
            ],
            [
             0.3,
             "#f1b6da"
            ],
            [
             0.4,
             "#fde0ef"
            ],
            [
             0.5,
             "#f7f7f7"
            ],
            [
             0.6,
             "#e6f5d0"
            ],
            [
             0.7,
             "#b8e186"
            ],
            [
             0.8,
             "#7fbc41"
            ],
            [
             0.9,
             "#4d9221"
            ],
            [
             1,
             "#276419"
            ]
           ],
           "sequential": [
            [
             0,
             "#0d0887"
            ],
            [
             0.1111111111111111,
             "#46039f"
            ],
            [
             0.2222222222222222,
             "#7201a8"
            ],
            [
             0.3333333333333333,
             "#9c179e"
            ],
            [
             0.4444444444444444,
             "#bd3786"
            ],
            [
             0.5555555555555556,
             "#d8576b"
            ],
            [
             0.6666666666666666,
             "#ed7953"
            ],
            [
             0.7777777777777778,
             "#fb9f3a"
            ],
            [
             0.8888888888888888,
             "#fdca26"
            ],
            [
             1,
             "#f0f921"
            ]
           ],
           "sequentialminus": [
            [
             0,
             "#0d0887"
            ],
            [
             0.1111111111111111,
             "#46039f"
            ],
            [
             0.2222222222222222,
             "#7201a8"
            ],
            [
             0.3333333333333333,
             "#9c179e"
            ],
            [
             0.4444444444444444,
             "#bd3786"
            ],
            [
             0.5555555555555556,
             "#d8576b"
            ],
            [
             0.6666666666666666,
             "#ed7953"
            ],
            [
             0.7777777777777778,
             "#fb9f3a"
            ],
            [
             0.8888888888888888,
             "#fdca26"
            ],
            [
             1,
             "#f0f921"
            ]
           ]
          },
          "colorway": [
           "#636efa",
           "#EF553B",
           "#00cc96",
           "#ab63fa",
           "#FFA15A",
           "#19d3f3",
           "#FF6692",
           "#B6E880",
           "#FF97FF",
           "#FECB52"
          ],
          "font": {
           "color": "#2a3f5f"
          },
          "geo": {
           "bgcolor": "white",
           "lakecolor": "white",
           "landcolor": "#E5ECF6",
           "showlakes": true,
           "showland": true,
           "subunitcolor": "white"
          },
          "hoverlabel": {
           "align": "left"
          },
          "hovermode": "closest",
          "mapbox": {
           "style": "light"
          },
          "paper_bgcolor": "white",
          "plot_bgcolor": "#E5ECF6",
          "polar": {
           "angularaxis": {
            "gridcolor": "white",
            "linecolor": "white",
            "ticks": ""
           },
           "bgcolor": "#E5ECF6",
           "radialaxis": {
            "gridcolor": "white",
            "linecolor": "white",
            "ticks": ""
           }
          },
          "scene": {
           "xaxis": {
            "backgroundcolor": "#E5ECF6",
            "gridcolor": "white",
            "gridwidth": 2,
            "linecolor": "white",
            "showbackground": true,
            "ticks": "",
            "zerolinecolor": "white"
           },
           "yaxis": {
            "backgroundcolor": "#E5ECF6",
            "gridcolor": "white",
            "gridwidth": 2,
            "linecolor": "white",
            "showbackground": true,
            "ticks": "",
            "zerolinecolor": "white"
           },
           "zaxis": {
            "backgroundcolor": "#E5ECF6",
            "gridcolor": "white",
            "gridwidth": 2,
            "linecolor": "white",
            "showbackground": true,
            "ticks": "",
            "zerolinecolor": "white"
           }
          },
          "shapedefaults": {
           "line": {
            "color": "#2a3f5f"
           }
          },
          "ternary": {
           "aaxis": {
            "gridcolor": "white",
            "linecolor": "white",
            "ticks": ""
           },
           "baxis": {
            "gridcolor": "white",
            "linecolor": "white",
            "ticks": ""
           },
           "bgcolor": "#E5ECF6",
           "caxis": {
            "gridcolor": "white",
            "linecolor": "white",
            "ticks": ""
           }
          },
          "title": {
           "x": 0.05
          },
          "xaxis": {
           "automargin": true,
           "gridcolor": "white",
           "linecolor": "white",
           "ticks": "",
           "title": {
            "standoff": 15
           },
           "zerolinecolor": "white",
           "zerolinewidth": 2
          },
          "yaxis": {
           "automargin": true,
           "gridcolor": "white",
           "linecolor": "white",
           "ticks": "",
           "title": {
            "standoff": 15
           },
           "zerolinecolor": "white",
           "zerolinewidth": 2
          }
         }
        },
        "title": {
         "text": "Distribution of PM 2,5 registered over various Altitudes",
         "x": 0.5,
         "xanchor": "center",
         "y": 0.95,
         "yanchor": "top"
        },
        "xaxis": {
         "anchor": "y",
         "domain": [
          0,
          1
         ],
         "showgrid": false,
         "title": {
          "text": "Altitude"
         }
        },
        "yaxis": {
         "anchor": "x",
         "domain": [
          0,
          1
         ],
         "showgrid": false,
         "title": {
          "text": "avg15"
         }
        }
       }
      },
      "text/html": [
       "<div>\n",
       "        \n",
       "        \n",
       "            <div id=\"0ece058a-8efd-46ea-a261-3ffdbd874ad7\" class=\"plotly-graph-div\" style=\"height:525px; width:100%;\"></div>\n",
       "            <script type=\"text/javascript\">\n",
       "                require([\"plotly\"], function(Plotly) {\n",
       "                    window.PLOTLYENV=window.PLOTLYENV || {};\n",
       "                    \n",
       "                if (document.getElementById(\"0ece058a-8efd-46ea-a261-3ffdbd874ad7\")) {\n",
       "                    Plotly.newPlot(\n",
       "                        '0ece058a-8efd-46ea-a261-3ffdbd874ad7',\n",
       "                        [{\"hovertemplate\": \"Altitude=%{x}<br>avg15=%{y}<extra></extra>\", \"legendgroup\": \"\", \"marker\": {\"color\": \"crimson\", \"opacity\": 0.5, \"symbol\": \"circle\"}, \"mode\": \"markers\", \"name\": \"\", \"orientation\": \"v\", \"showlegend\": false, \"type\": \"scatter\", \"x\": [525.0, 899.0, 150.0, 200.0, 918.0, 510.0, 23.0, 3.0, 30.0, 2.0, 135.0, 0.0, 145.0, 233.0, 160.0, 490.0, 265.0, 225.0, 510.0, 430.0, 375.0, 532.0, 245.0, 535.0, 231.0, 203.0, 88.0, 904.0, 798.0, 124.0, 755.0, 700.0, 362.0, 343.0, 17.0, 2.0, 16.0, 110.0, 606.0, 546.0, 45.0, 313.0, 419.0, 72.0, 1205.0, 74.0, 937.0, 65.0, 3.0, 32.0, 6.0, 50.0, 917.0, 78.0, 1230.0, 134.0, 1360.0, 23.0, 393.0, 885.0, 985.0, 470.0, 506.0, 911.0, 619.0, 804.0, 430.0, 995.0, 469.0, 172.0, 200.0, 64.0, 7.0, 4.0, 140.0, 134.0, 127.0, 235.0, 170.0, 153.0, 29.0, 309.0, 143.0, 50.0, 670.0, 620.0, 225.0, 477.0, 180.0, 617.0, 655.0, 126.0, 260.0, 14.0, 0.0, 0.0, 45.0, 61.0, 948.0, 388.0, -2.0, 11.0, 115.0, 48.0, 14.0, 10.0, 550.0, 110.0, 1192.0, 16.0, 209.0, 620.0, 202.0, 22.0, 165.0, 0.0, 4.0, 48.0, 1.0, 258.0, 532.0, 420.0, 811.0, 1038.0, 268.0, 150.0, 150.0, 180.0, 319.0, 114.0, 15.0, 4.0, -4.0, 1.0, 1.0, 200.0, 210.0, 280.0, 157.0, 291.0, 179.0, 60.0, 473.0, 143.0, 57.0, 187.0, 300.0, 30.0, 20.0, 540.0, 808.0, 117.0, 86.0, 340.0, 390.0, 605.0, 125.0, 489.0, 1031.0, 18.0, 157.0, 1118.0, 735.0, 525.0, 306.0, 400.0, 158.0, 848.0, 13.0, 160.0, 445.0, 445.0, 460.0, 210.0, 270.0, 155.0, 460.0, 350.0, 274.0, 420.0, 305.0, 390.0, 272.0, 236.0, 159.0, 5.0, 5.0, 6.0, 8.0, 10.0, 10.0, 13.0, 10.0, 20.0, 15.0, 30.0, 160.0, 70.0, 50.0, 55.0, 41.0, 27.0, 30.0, 15.0, 100.0, 12.0, 65.0, 65.0, 115.0, 135.0, 118.0, 157.0, 5.0, 6.0, 6.0, 8.0, 0.0, 22.0, 208.0, 17.0, 103.0, 301.0, 256.0, 309.0, 241.0, 225.0, 383.0, 239.0, 502.0, 476.0, 224.0, 346.0, 360.0, 303.0, 224.0, 235.0, 320.0, 221.0, 257.0, 367.0, 258.0, 89.0, 31.0, 33.0, 22.0, 75.0, 31.0, 99.0, 43.0, 35.0, 35.0, 35.0, 235.0, 157.0, 481.0, 275.0, 278.0, 403.0, 114.0, 262.0, 325.0, 480.0, 134.0, 477.0, 231.0, 420.0, 678.0, 521.0, 470.0, 300.0, 380.0, 400.0, 226.0, 488.0, 513.0, 495.0, 300.0, 417.0, 7.0, 3.0, 100.0, 181.0, 121.0, 15.0, 3.0, 17.0, 2.0, 95.0, 54.0, 170.0, 30.0, 85.0, 80.0, 75.0, 72.0, 40.0, 47.0, 25.0, 32.0, 186.0, 157.0, 153.0, 110.0, 232.0, 108.0, 103.0, 40.0, 12.0, 192.0, 115.0, 112.0, 47.0, 116.0, 58.0, 195.0, 265.0, 490.0, 25.0, 21.0, 6.0, 41.0, 25.0, 24.0, 3.0, 645.0, 12.0, 929.0, 449.0, 389.0, 11.0, 220.0, 616.0, 581.0, 610.0, 500.0, 721.0, 136.0, 220.0, 7.0, 693.0, 355.0, 55.0, 609.0, 25.0, 51.0, 181.0, 91.0, 112.0, 21.0, 16.0, 56.0, 25.0, 109.0, 192.0, 154.0, 45.0, 28.0, 65.0, 95.0, 37.0, 51.0, 164.0, 92.0, 43.0, 59.0, 340.0, 8.0, 10.0, 83.0, 25.0, 10.0, 48.0, 83.0, 10.0, 8.0, 4.0, 2.0, 25.0, 150.0, 93.0, 147.0, 214.0, 139.0, 250.0, 95.0, 34.0, 28.0, 48.0, 29.0, 17.0, 173.0, 204.0, 160.0, 233.0, 25.0, 47.0, 85.0, 18.0, 371.0, 741.0, 9.0, 17.0, 255.0, 96.0, 26.0, 552.0, 366.0, 200.0, 195.0, 35.0, 14.0, 350.0, 280.0, 453.0, 441.0, 111.0, 85.0, 115.0, 158.0, 301.0, 125.0, 47.0, 321.0, 331.0, 261.0, 20.0, 10.0, 12.0, 78.0, 60.0, 7.0, 13.0, 45.0, 5.0, 175.0, 41.0, 172.0, 30.0, 32.0, 37.0, 20.0, 38.0, 40.0, 5.0, 30.0, 5.0, 4.0, 81.0, 58.0, 93.0, 10.0, 110.0, 45.0, 16.0, 15.0, 15.0, 58.0, 79.0, 24.0, 36.0, 134.0, 128.0, 11.0, 83.0, 40.0, 98.0, 210.0, 0.0, 0.0, 432.0, 409.0, 280.0, 10.0, 20.0, 12.0, 47.32, 19.0, 0.0, 15.0, 640.0, 200.0, 380.0, 249.0, 60.0, 85.0, 61.0, 43.0, 150.0, 77.0, 50.0, 260.0, 50.0, 53.0, 48.0, 1.0, 100.0, 581.0, 35.0, 203.0, 6.0, 29.0, 114.0, 5.0, 257.0, 36.0, 290.0, 18.0, 3.0, 10.0, 4.0, 3.0, 405.0, 72.0, 91.0, 156.0, 226.0, 113.0, 13.0, 203.0, 550.0, 344.0, 6.0, 13.0, 25.0, 15.0, 10.0, 401.0, 263.0, 212.0, 54.0, 10.0, 122.0, 230.0, 70.0, 45.0, 162.0, 34.0, 240.0, 267.0, 91.0, 31.0, 150.0, 319.0, 22.0, 273.0, 131.0, 55.0, 498.0, 31.0, 32.0, 9.0, 230.0, 11.0, 56.0, 76.0, 290.0, 61.0, 15.0, 15.0, 275.0, 16.0, 55.0, 255.0, 20.0, 37.0, 105.0, 118.0, 140.0, 370.0, 242.0, 271.0, 666.0, 284.0, 329.0, 758.0, 71.0, 143.0, 246.0, 95.0, 100.0, 243.0, 583.0, 170.0, 75.0, 73.0, 275.0, 287.0, 1.0, 3.0, 56.0, 2.0, 3.0, 1.0, 22.0, 0.0, 3.0, 2.0, 1.0, 30.0, -1.0, 5.0, 34.0, 24.0, 212.0, 31.0, 30.0, 273.0, 40.0, 64.0, 57.0, 144.0, 190.0, 207.0, 226.0, 235.0, 206.0, 189.0, 91.0, 99.0, 101.0, 159.0, 102.0, 85.0, 119.0, 145.0, 128.0, 179.0, 25.0, 120.0, 120.0, 122.0, 424.0, 114.0, 215.0, 150.0, 181.0, 236.0, 67.0, 10.0, 156.0, 275.0, 15.0, 97.0, 277.0, 260.0, 119.0, 100.0, 22.0, 156.0, 173.0, 203.0, 145.0, 6.0, 262.0, 372.0, 45.0, 223.0, 228.0, 132.0, 191.0, 180.0, 177.0, 223.0, 212.0, 204.0, 319.0, 62.0, 134.0, 155.0, 29.0, 202.0, 305.0, 340.0, 163.0, 264.0, 345.0, 160.0, 201.0, 96.0, 167.0, 120.0, 32.0, 63.0, 173.0, 4.0, 333.0, 44.0, 160.0, 89.0, 30.0, 20.0, 58.0, 30.0, 22.0, 10.0, 0.0, 297.0, 280.0, 475.0, 320.0, 289.0, 133.0, 160.0, 383.0, 201.0, 0.0, 340.0, 232.0, 283.0, 242.0], \"xaxis\": \"x\", \"y\": [13.353289, 7.257276, 14.789538, 14.524676, 9.099422, 12.058089, 12.033426, 11.621019, 13.721193, 10.76674, 13.100392, 11.006506, 11.354895, 9.426099, 9.973228, 6.826367, 8.910852, 8.098825, 7.560071, 7.819823, 8.689426, 9.879714, 16.080899, 11.625252, 23.892614, 33.040112, 11.945001, 6.111503, 7.883377, 12.735729, 8.871439, 8.743363, 11.139296, 11.416152, 12.241828, 9.372394, 10.485007, 12.44337, 7.542832, 8.508962, 9.868317, 10.191917, 8.684215, 13.072419, 6.690393, 10.463367, 7.286816, 9.969703, 9.520642, 5.188643, 3.966952, 5.433148, 6.61236, 7.035144, 10.344214, 7.051429, 4.81686, 8.486239, 8.456647, 5.960674, 5.795732, 8.335227, 8.379538, 6.162902, 7.114348, 11.081898, 10.759357, 5.867473, 11.740706, 6.991095, 9.177124, 5.008677, 4.971934, 5.294007, 12.660772, 9.648008, 9.169847, 8.447957, 10.634634, 11.019525, 8.913834, 8.07166, 10.524742, 10.292241, 7.504084, 9.567993, 12.595133, 8.89671, 11.602657, 6.146076, 7.685495, 7.725895, 3.176025, 8.73313, 14.282799, 9.171703, 5.735632, 14.676796, 9.897507, 14.543353, 20.559557, 18.643258, 26.64348, 23.441667, 25.488571, 17.683505, 11.594837, 12.557535, 12.047041, 26.951496, 13.312321, 11.011142, 14.707042, 23.017192, 15.268362, 19.083333, 20.044818, 26.727528, 18.326284, 20.749296, 7.149379, 10.436975, 6.641834, 8.455446, 25.84375, 13.391694, 13.131818, 7.775623, 11.022904, 9.19006, 12.270036, 9.512012, 8.977558, 12.989084, 12.013362, 2.707727, 1.512005, 2.752935, 12.482206, 18.470833, 14.53796, 7.347346, 5.618682, 10.51776, 11.822876, 12.341719, 6.654075, 18.895706, 13.13879, 10.032877, 10.67064, 14.702786, 14.731795, 3.427191, 14.76596, 6.179576, 17.358067, 9.748889, 5.774699, 10.848464, 12.486371, 7.103898, 11.822, 15.089, 22.236, 17.006, 17.747, 30.33897, 13.236321, 14.568675, 16.919576, 14.608504, 19.190335, 13.965723, 13.97845, 16.251845, 9.26586, 12.523505, 15.235787, 12.29686, 11.781854, 14.787564, 19.929107, 14.100782, 14.567044, 12.944598, 14.640805, 14.81268, 13.718232, 13.09626, 13.189466, 14.934121, 13.435091, 13.367502, 13.040427, 12.665909, 10.52111, 10.300577, 15.115963, 13.434084, 13.466545, 14.683366, 12.551983, 14.705634, 14.419126, 14.460037, 11.341185, 10.924992, 12.842754, 12.737044, 12.025819, 11.799868, 14.327172, 14.449595, 14.569196, 14.176761, 13.806131, 17.802967, 16.875843, 20.32358, 15.403012, 15.720217, 15.57881, 15.313738, 17.68138, 16.817191, 14.266245, 18.682784, 16.489249, 13.479739, 23.921083, 18.435565, 16.653832, 12.296574, 17.270451, 25.380925, 24.696366, 18.666911, 19.436881, 15.357874, 15.830083, 13.736274, 13.695237, 13.316793, 10.390088, 13.485642, 12.886066, 13.224965, 14.294797, 15.250826, 17.119724, 16.061823, 12.379726, 13.91155, 13.192736, 12.319939, 11.823123, 12.423116, 11.994496, 10.578466, 12.087066, 13.370539, 12.226837, 13.376674, 13.076938, 13.667626, 10.870899, 12.392775, 13.687462, 13.515509, 13.536733, 13.427596, 11.990753, 12.232226, 11.973409, 12.609537, 15.24653, 12.751086, 11.951139, 10.282646, 13.002718, 11.948696, 12.040123, 12.951982, 13.776988, 11.565453, 10.882653, 11.325708, 10.626572, 8.884077, 12.163193, 11.397428, 14.545125, 14.033249, 13.009496, 14.49445, 15.073384, 13.879151, 12.705393, 12.574983, 12.789846, 13.120164, 13.271031, 12.890498, 12.711364, 14.384997, 12.364177, 11.214417, 12.244933, 12.017583, 13.010192, 12.134096, 12.893257, 12.934388, 11.104895, 11.983944, 10.383987, 11.635107, 9.856579, 6.27563, 8.941618, 5.943251, 15.060833, 17.963018, 9.970065, 14.872995, 10.019336, 11.227654, 6.720053, 19.688172, 12.155689, 8.071548, 9.272346, 12.140876, 11.965899, 6.545989, 15.321534, 7.301614, 12.099082, 8.019741, 9.289138, 12.634615, 11.917005, 16.062731, 10.773827, 7.034714, 7.017104, 4.539228, 5.415536, 4.354429, 4.460459, 6.839457, 5.945455, 15.01001, 14.09636, 12.691131, 13.264381, 13.844158, 13.648356, 14.266079, 13.432214, 11.77751, 10.268031, 14.247516, 12.300589, 11.424204, 14.051007, 11.80413, 14.732841, 10.047503, 10.455317, 11.060378, 11.263739, 10.200199, 11.856743, 10.783774, 13.016788, 15.476296, 11.859996, 13.463603, 11.944279, 15.824027, 17.091193, 14.391216, 13.069344, 11.84155, 12.436338, 9.130502, 8.986247, 6.97379, 14.267857, 15.162516, 17.283563, 13.107667, 9.532049, 12.315558, 13.002057, 13.647651, 12.479338, 14.689587, 14.284461, 13.04293, 13.484743, 11.705437, 14.057797, 8.417138, 13.46916, 13.95688, 10.606602, 11.514683, 13.87172, 11.153179, 15.848167, 17.685987, 15.527387, 13.195039, 13.412708, 12.230161, 10.002186, 10.402739, 16.58613, 9.187283, 15.034951, 13.62339, 12.420192, 10.928548, 9.030004, 9.5591, 11.433325, 10.512368, 9.960425, 10.491823, 10.47755, 9.7907, 12.262142, 11.497954, 11.691325, 10.586222, 11.752537, 10.624283, 8.038827, 7.203831, 9.953742, 10.395696, 7.486961, 9.590462, 10.877774, 6.386624, 7.420871, 9.545399, 9.318762, 7.103531, 10.764287, 8.477523, 10.24675, 10.189576, 10.11053, 10.828675, 9.568158, 11.945411, 8.996075, 6.794377, 9.67155, 12.019491, 6.546663, 10.939653, 16.446809, 20.816775, 10.839764, 10.918156, 11.771429, 13.176438, 8.137651, 7.801538, 6.829863, 6.562644, 9.942876, 4.757997, 15.260284, 16.021639, 15.861111, 19.961988, 25.672981, 21.470914, 12.044985, 15.642424, 18.206687, 19.587896, 23.245029, 20.714681, 16.205797, 16.130435, 21.762712, 18.155556, 28.423729, 18.531698, 11.853933, 14.008746, 16.063361, 22.791429, 17.093294, 20.442857, 16.962536, 26.382789, 29.216138, 20.089783, 15.528736, 17.667606, 25.087571, 19.40634, 23.456044, 15.779944, 23.345506, 26.40407, 23.597765, 26.752312, 27.587592, 31.25, 12.836676, 16.387283, 16.571031, 14.185908, 10.670423, 17.74, 26.501424, 10.985755, 14.539945, 21.339031, 24.721369, 20.270423, 18.237104, 31.901896, 15.372806, 29.066077, 30.006571, 27.024926, 22.160221, 23.772861, 15.812325, 24.369863, 17.470423, 12.446512, 13.835196, 27.225808, 24.301943, 26.541899, 12.594153, 16.910448, 16.896359, 19.534286, 19.387187, 13.485074, 13.020991, 12.468866, 26.504819, 21.683129, 24.078313, 11.979769, 15.486065, 6.486389, 9.336517, 17.070988, 25.58651, 11.089119, 18.071562, 13.27762, 18.09621, 12.697797, 9.096707, 15.741667, 24.154519, 13.470255, 20.144928, 13.823529, 15.727735, 16.221457, 12.063218, 30.376471, 19.925714, 16.465388, 27.160256, 13.823171, 10.65067, 7.830097, 9.907301, 11.669167, 12.02807, 12.312014, 15.917079, 12.476221, 12.448128, 11.538978, 12.352135, 10.673576, 12.640694, 13.344757, 14.21835, 12.803076, 12.125276, 11.518471, 6.762815, 7.309426, 8.825313, 6.644817, 7.134425, 4.731638, 27.273273, 12.897218, 18.868486, 18.383501, 26.346154, 27.2, 21.293151, 23.956164, 22.134072, 29.728571, 20.457289, 32.175951, 30.466363, 21.465559, 28.090908, 21.181222, 23.627787, 30.140162, 19.287655, 26.642072, 13.33061, 14.065972, 16.745363, 17.259802, 22.905817, 18.906728, 23.967134, 18.416522, 20.787204, 27.025765, 30.896265, 24.35196, 15.355014, 22.990962, 25.604647, 14.942473, 21.413407, 24.474444, 27.773988, 22.862136, 15.837606, 16.646648, 24.972535, 21.215068, 22.787147, 21.247697, 14.212885, 26.001714, 25.894944, 13.471781, 33.717808, 25.156742, 27.188195, 28.158287, 31.571388, 20.310056, 24.067817, 21.007445, 34.88745, 29.098494, 20.107374, 14.334493, 24.910774, 26.828296, 29.210169, 36.010959, 25.841226, 22.855385, 22.348468, 18.372678, 19.588286, 25.920167, 21.023672, 27.10193, 33.561364, 11.345238, 13.551207, 12.228133, 11.912215, 17.301691, 23.156837, 16.893697, 11.119221, 8.266937, 7.792754, 4.80579, 4.209584, 4.136593, 8.251126, 3.677026, 22.565476, 19.259669, 22.749334, 17.574611, 22.278441, 20.164213, 19.419321, 17.417422, 18.989409, 28.486592, 18.477178, 20.18, 18.397, 22.678], \"yaxis\": \"y\"}],\n",
       "                        {\"legend\": {\"tracegroupgap\": 0}, \"margin\": {\"t\": 60}, \"template\": {\"data\": {\"bar\": [{\"error_x\": {\"color\": \"#2a3f5f\"}, \"error_y\": {\"color\": \"#2a3f5f\"}, \"marker\": {\"line\": {\"color\": \"#E5ECF6\", \"width\": 0.5}}, \"type\": \"bar\"}], \"barpolar\": [{\"marker\": {\"line\": {\"color\": \"#E5ECF6\", \"width\": 0.5}}, \"type\": \"barpolar\"}], \"carpet\": [{\"aaxis\": {\"endlinecolor\": \"#2a3f5f\", \"gridcolor\": \"white\", \"linecolor\": \"white\", \"minorgridcolor\": \"white\", \"startlinecolor\": \"#2a3f5f\"}, \"baxis\": {\"endlinecolor\": \"#2a3f5f\", \"gridcolor\": \"white\", \"linecolor\": \"white\", \"minorgridcolor\": \"white\", \"startlinecolor\": \"#2a3f5f\"}, \"type\": \"carpet\"}], \"choropleth\": [{\"colorbar\": {\"outlinewidth\": 0, \"ticks\": \"\"}, \"type\": \"choropleth\"}], \"contour\": [{\"colorbar\": {\"outlinewidth\": 0, \"ticks\": \"\"}, \"colorscale\": [[0.0, \"#0d0887\"], [0.1111111111111111, \"#46039f\"], [0.2222222222222222, \"#7201a8\"], [0.3333333333333333, \"#9c179e\"], [0.4444444444444444, \"#bd3786\"], [0.5555555555555556, \"#d8576b\"], [0.6666666666666666, \"#ed7953\"], [0.7777777777777778, \"#fb9f3a\"], [0.8888888888888888, \"#fdca26\"], [1.0, \"#f0f921\"]], \"type\": \"contour\"}], \"contourcarpet\": [{\"colorbar\": {\"outlinewidth\": 0, \"ticks\": \"\"}, \"type\": \"contourcarpet\"}], \"heatmap\": [{\"colorbar\": {\"outlinewidth\": 0, \"ticks\": \"\"}, \"colorscale\": [[0.0, \"#0d0887\"], [0.1111111111111111, \"#46039f\"], [0.2222222222222222, \"#7201a8\"], [0.3333333333333333, \"#9c179e\"], [0.4444444444444444, \"#bd3786\"], [0.5555555555555556, \"#d8576b\"], [0.6666666666666666, \"#ed7953\"], [0.7777777777777778, \"#fb9f3a\"], [0.8888888888888888, \"#fdca26\"], [1.0, \"#f0f921\"]], \"type\": \"heatmap\"}], \"heatmapgl\": [{\"colorbar\": {\"outlinewidth\": 0, \"ticks\": \"\"}, \"colorscale\": [[0.0, \"#0d0887\"], [0.1111111111111111, \"#46039f\"], [0.2222222222222222, \"#7201a8\"], [0.3333333333333333, \"#9c179e\"], [0.4444444444444444, \"#bd3786\"], [0.5555555555555556, \"#d8576b\"], [0.6666666666666666, \"#ed7953\"], [0.7777777777777778, \"#fb9f3a\"], [0.8888888888888888, \"#fdca26\"], [1.0, \"#f0f921\"]], \"type\": \"heatmapgl\"}], \"histogram\": [{\"marker\": {\"colorbar\": {\"outlinewidth\": 0, \"ticks\": \"\"}}, \"type\": \"histogram\"}], \"histogram2d\": [{\"colorbar\": {\"outlinewidth\": 0, \"ticks\": \"\"}, \"colorscale\": [[0.0, \"#0d0887\"], [0.1111111111111111, \"#46039f\"], [0.2222222222222222, \"#7201a8\"], [0.3333333333333333, \"#9c179e\"], [0.4444444444444444, \"#bd3786\"], [0.5555555555555556, \"#d8576b\"], [0.6666666666666666, \"#ed7953\"], [0.7777777777777778, \"#fb9f3a\"], [0.8888888888888888, \"#fdca26\"], [1.0, \"#f0f921\"]], \"type\": \"histogram2d\"}], \"histogram2dcontour\": [{\"colorbar\": {\"outlinewidth\": 0, \"ticks\": \"\"}, \"colorscale\": [[0.0, \"#0d0887\"], [0.1111111111111111, \"#46039f\"], [0.2222222222222222, \"#7201a8\"], [0.3333333333333333, \"#9c179e\"], [0.4444444444444444, \"#bd3786\"], [0.5555555555555556, \"#d8576b\"], [0.6666666666666666, \"#ed7953\"], [0.7777777777777778, \"#fb9f3a\"], [0.8888888888888888, \"#fdca26\"], [1.0, \"#f0f921\"]], \"type\": \"histogram2dcontour\"}], \"mesh3d\": [{\"colorbar\": {\"outlinewidth\": 0, \"ticks\": \"\"}, \"type\": \"mesh3d\"}], \"parcoords\": [{\"line\": {\"colorbar\": {\"outlinewidth\": 0, \"ticks\": \"\"}}, \"type\": \"parcoords\"}], \"pie\": [{\"automargin\": true, \"type\": \"pie\"}], \"scatter\": [{\"marker\": {\"colorbar\": {\"outlinewidth\": 0, \"ticks\": \"\"}}, \"type\": \"scatter\"}], \"scatter3d\": [{\"line\": {\"colorbar\": {\"outlinewidth\": 0, \"ticks\": \"\"}}, \"marker\": {\"colorbar\": {\"outlinewidth\": 0, \"ticks\": \"\"}}, \"type\": \"scatter3d\"}], \"scattercarpet\": [{\"marker\": {\"colorbar\": {\"outlinewidth\": 0, \"ticks\": \"\"}}, \"type\": \"scattercarpet\"}], \"scattergeo\": [{\"marker\": {\"colorbar\": {\"outlinewidth\": 0, \"ticks\": \"\"}}, \"type\": \"scattergeo\"}], \"scattergl\": [{\"marker\": {\"colorbar\": {\"outlinewidth\": 0, \"ticks\": \"\"}}, \"type\": \"scattergl\"}], \"scattermapbox\": [{\"marker\": {\"colorbar\": {\"outlinewidth\": 0, \"ticks\": \"\"}}, \"type\": \"scattermapbox\"}], \"scatterpolar\": [{\"marker\": {\"colorbar\": {\"outlinewidth\": 0, \"ticks\": \"\"}}, \"type\": \"scatterpolar\"}], \"scatterpolargl\": [{\"marker\": {\"colorbar\": {\"outlinewidth\": 0, \"ticks\": \"\"}}, \"type\": \"scatterpolargl\"}], \"scatterternary\": [{\"marker\": {\"colorbar\": {\"outlinewidth\": 0, \"ticks\": \"\"}}, \"type\": \"scatterternary\"}], \"surface\": [{\"colorbar\": {\"outlinewidth\": 0, \"ticks\": \"\"}, \"colorscale\": [[0.0, \"#0d0887\"], [0.1111111111111111, \"#46039f\"], [0.2222222222222222, \"#7201a8\"], [0.3333333333333333, \"#9c179e\"], [0.4444444444444444, \"#bd3786\"], [0.5555555555555556, \"#d8576b\"], [0.6666666666666666, \"#ed7953\"], [0.7777777777777778, \"#fb9f3a\"], [0.8888888888888888, \"#fdca26\"], [1.0, \"#f0f921\"]], \"type\": \"surface\"}], \"table\": [{\"cells\": {\"fill\": {\"color\": \"#EBF0F8\"}, \"line\": {\"color\": \"white\"}}, \"header\": {\"fill\": {\"color\": \"#C8D4E3\"}, \"line\": {\"color\": \"white\"}}, \"type\": \"table\"}]}, \"layout\": {\"annotationdefaults\": {\"arrowcolor\": \"#2a3f5f\", \"arrowhead\": 0, \"arrowwidth\": 1}, \"coloraxis\": {\"colorbar\": {\"outlinewidth\": 0, \"ticks\": \"\"}}, \"colorscale\": {\"diverging\": [[0, \"#8e0152\"], [0.1, \"#c51b7d\"], [0.2, \"#de77ae\"], [0.3, \"#f1b6da\"], [0.4, \"#fde0ef\"], [0.5, \"#f7f7f7\"], [0.6, \"#e6f5d0\"], [0.7, \"#b8e186\"], [0.8, \"#7fbc41\"], [0.9, \"#4d9221\"], [1, \"#276419\"]], \"sequential\": [[0.0, \"#0d0887\"], [0.1111111111111111, \"#46039f\"], [0.2222222222222222, \"#7201a8\"], [0.3333333333333333, \"#9c179e\"], [0.4444444444444444, \"#bd3786\"], [0.5555555555555556, \"#d8576b\"], [0.6666666666666666, \"#ed7953\"], [0.7777777777777778, \"#fb9f3a\"], [0.8888888888888888, \"#fdca26\"], [1.0, \"#f0f921\"]], \"sequentialminus\": [[0.0, \"#0d0887\"], [0.1111111111111111, \"#46039f\"], [0.2222222222222222, \"#7201a8\"], [0.3333333333333333, \"#9c179e\"], [0.4444444444444444, \"#bd3786\"], [0.5555555555555556, \"#d8576b\"], [0.6666666666666666, \"#ed7953\"], [0.7777777777777778, \"#fb9f3a\"], [0.8888888888888888, \"#fdca26\"], [1.0, \"#f0f921\"]]}, \"colorway\": [\"#636efa\", \"#EF553B\", \"#00cc96\", \"#ab63fa\", \"#FFA15A\", \"#19d3f3\", \"#FF6692\", \"#B6E880\", \"#FF97FF\", \"#FECB52\"], \"font\": {\"color\": \"#2a3f5f\"}, \"geo\": {\"bgcolor\": \"white\", \"lakecolor\": \"white\", \"landcolor\": \"#E5ECF6\", \"showlakes\": true, \"showland\": true, \"subunitcolor\": \"white\"}, \"hoverlabel\": {\"align\": \"left\"}, \"hovermode\": \"closest\", \"mapbox\": {\"style\": \"light\"}, \"paper_bgcolor\": \"white\", \"plot_bgcolor\": \"#E5ECF6\", \"polar\": {\"angularaxis\": {\"gridcolor\": \"white\", \"linecolor\": \"white\", \"ticks\": \"\"}, \"bgcolor\": \"#E5ECF6\", \"radialaxis\": {\"gridcolor\": \"white\", \"linecolor\": \"white\", \"ticks\": \"\"}}, \"scene\": {\"xaxis\": {\"backgroundcolor\": \"#E5ECF6\", \"gridcolor\": \"white\", \"gridwidth\": 2, \"linecolor\": \"white\", \"showbackground\": true, \"ticks\": \"\", \"zerolinecolor\": \"white\"}, \"yaxis\": {\"backgroundcolor\": \"#E5ECF6\", \"gridcolor\": \"white\", \"gridwidth\": 2, \"linecolor\": \"white\", \"showbackground\": true, \"ticks\": \"\", \"zerolinecolor\": \"white\"}, \"zaxis\": {\"backgroundcolor\": \"#E5ECF6\", \"gridcolor\": \"white\", \"gridwidth\": 2, \"linecolor\": \"white\", \"showbackground\": true, \"ticks\": \"\", \"zerolinecolor\": \"white\"}}, \"shapedefaults\": {\"line\": {\"color\": \"#2a3f5f\"}}, \"ternary\": {\"aaxis\": {\"gridcolor\": \"white\", \"linecolor\": \"white\", \"ticks\": \"\"}, \"baxis\": {\"gridcolor\": \"white\", \"linecolor\": \"white\", \"ticks\": \"\"}, \"bgcolor\": \"#E5ECF6\", \"caxis\": {\"gridcolor\": \"white\", \"linecolor\": \"white\", \"ticks\": \"\"}}, \"title\": {\"x\": 0.05}, \"xaxis\": {\"automargin\": true, \"gridcolor\": \"white\", \"linecolor\": \"white\", \"ticks\": \"\", \"title\": {\"standoff\": 15}, \"zerolinecolor\": \"white\", \"zerolinewidth\": 2}, \"yaxis\": {\"automargin\": true, \"gridcolor\": \"white\", \"linecolor\": \"white\", \"ticks\": \"\", \"title\": {\"standoff\": 15}, \"zerolinecolor\": \"white\", \"zerolinewidth\": 2}}}, \"title\": {\"text\": \"Distribution of PM 2,5 registered over various Altitudes\", \"x\": 0.5, \"xanchor\": \"center\", \"y\": 0.95, \"yanchor\": \"top\"}, \"xaxis\": {\"anchor\": \"y\", \"domain\": [0.0, 1.0], \"showgrid\": false, \"title\": {\"text\": \"Altitude\"}}, \"yaxis\": {\"anchor\": \"x\", \"domain\": [0.0, 1.0], \"showgrid\": false, \"title\": {\"text\": \"avg15\"}}},\n",
       "                        {\"responsive\": true}\n",
       "                    ).then(function(){\n",
       "                            \n",
       "var gd = document.getElementById('0ece058a-8efd-46ea-a261-3ffdbd874ad7');\n",
       "var x = new MutationObserver(function (mutations, observer) {{\n",
       "        var display = window.getComputedStyle(gd).display;\n",
       "        if (!display || display === 'none') {{\n",
       "            console.log([gd, 'removed!']);\n",
       "            Plotly.purge(gd);\n",
       "            observer.disconnect();\n",
       "        }}\n",
       "}});\n",
       "\n",
       "// Listen for the removal of the full notebook cells\n",
       "var notebookContainer = gd.closest('#notebook-container');\n",
       "if (notebookContainer) {{\n",
       "    x.observe(notebookContainer, {childList: true});\n",
       "}}\n",
       "\n",
       "// Listen for the clearing of the current output cell\n",
       "var outputEl = gd.closest('.output');\n",
       "if (outputEl) {{\n",
       "    x.observe(outputEl, {childList: true});\n",
       "}}\n",
       "\n",
       "                        })\n",
       "                };\n",
       "                });\n",
       "            </script>\n",
       "        </div>"
      ]
     },
     "metadata": {},
     "output_type": "display_data"
    }
   ],
   "source": [
    "fig = px.scatter(data_frame = df_air_quality, y=\"avg15\", x=\"Altitude\")\n",
    "fig.update_layout(\n",
    "    title={\n",
    "        'text': \"Distribution of PM 2,5 registered over various Altitudes\",\n",
    "        'y':0.95,\n",
    "        'x':0.5,\n",
    "        'xanchor': 'center',\n",
    "        'yanchor': 'top'})\n",
    "fig.update_traces(marker=dict(color=\"crimson\"))\n",
    "fig.update_traces(marker={\"opacity\": 0.5})  # Thus we see which combination of PM 2,5 and Altitude values exists the most\n",
    "fig.update_xaxes(showgrid=False)\n",
    "fig.update_yaxes(showgrid=False)\n",
    "fig.show()"
   ]
  },
  {
   "cell_type": "markdown",
   "metadata": {},
   "source": [
    "![title](scatterplot.png)"
   ]
  },
  {
   "cell_type": "markdown",
   "metadata": {},
   "source": [
    "#### For higher altitude, air quality is a lot better than that found for lower altitude regions and it is due to the fact that normally lower altitude regions have higher population"
   ]
  },
  {
   "cell_type": "markdown",
   "metadata": {},
   "source": [
    "## Further examination of the data\n",
    "\n",
    "**Where are most of the stations?**"
   ]
  },
  {
   "cell_type": "code",
   "execution_count": 18,
   "metadata": {},
   "outputs": [
    {
     "data": {
      "text/plain": [
       "urban              406\n",
       "suburban           137\n",
       "rural              112\n",
       "rural-regional      36\n",
       "rural-near_city      8\n",
       "rural-remote         7\n",
       "rural-nearcity       4\n",
       "Name: StationAre, dtype: int64"
      ]
     },
     "execution_count": 18,
     "metadata": {},
     "output_type": "execute_result"
    }
   ],
   "source": [
    "df_air_quality[\"StationAre\"].value_counts()"
   ]
  },
  {
   "cell_type": "markdown",
   "metadata": {},
   "source": [
    "#### Most of the Stations are located in urban regions but do they have poor air quality?"
   ]
  },
  {
   "cell_type": "code",
   "execution_count": 19,
   "metadata": {},
   "outputs": [
    {
     "data": {
      "text/plain": [
       "StationAre\n",
       "rural              11.455986\n",
       "rural-near_city    16.169133\n",
       "rural-nearcity     18.019500\n",
       "rural-regional      9.318929\n",
       "rural-remote        8.609008\n",
       "suburban           14.612287\n",
       "urban              15.620849\n",
       "Name: avg15, dtype: float64"
      ]
     },
     "execution_count": 19,
     "metadata": {},
     "output_type": "execute_result"
    }
   ],
   "source": [
    "df_air_quality.groupby(\"StationAre\")[\"avg15\"].mean()"
   ]
  },
  {
   "cell_type": "markdown",
   "metadata": {},
   "source": [
    "#### On an average urban areas have a better air quality than rural areas that near the city"
   ]
  },
  {
   "cell_type": "code",
   "execution_count": 20,
   "metadata": {},
   "outputs": [
    {
     "data": {
      "text/html": [
       "<div>\n",
       "<style scoped>\n",
       "    .dataframe tbody tr th:only-of-type {\n",
       "        vertical-align: middle;\n",
       "    }\n",
       "\n",
       "    .dataframe tbody tr th {\n",
       "        vertical-align: top;\n",
       "    }\n",
       "\n",
       "    .dataframe thead th {\n",
       "        text-align: right;\n",
       "    }\n",
       "</style>\n",
       "<table border=\"1\" class=\"dataframe\">\n",
       "  <thead>\n",
       "    <tr style=\"text-align: right;\">\n",
       "      <th></th>\n",
       "      <th>avg15</th>\n",
       "    </tr>\n",
       "  </thead>\n",
       "  <tbody>\n",
       "    <tr>\n",
       "      <th>count</th>\n",
       "      <td>406.000000</td>\n",
       "    </tr>\n",
       "    <tr>\n",
       "      <th>mean</th>\n",
       "      <td>15.620848</td>\n",
       "    </tr>\n",
       "    <tr>\n",
       "      <th>std</th>\n",
       "      <td>6.146706</td>\n",
       "    </tr>\n",
       "    <tr>\n",
       "      <th>min</th>\n",
       "      <td>3.677026</td>\n",
       "    </tr>\n",
       "    <tr>\n",
       "      <th>25%</th>\n",
       "      <td>11.674706</td>\n",
       "    </tr>\n",
       "    <tr>\n",
       "      <th>50%</th>\n",
       "      <td>13.853458</td>\n",
       "    </tr>\n",
       "    <tr>\n",
       "      <th>75%</th>\n",
       "      <td>19.242335</td>\n",
       "    </tr>\n",
       "    <tr>\n",
       "      <th>max</th>\n",
       "      <td>36.010959</td>\n",
       "    </tr>\n",
       "  </tbody>\n",
       "</table>\n",
       "</div>"
      ],
      "text/plain": [
       "            avg15\n",
       "count  406.000000\n",
       "mean    15.620848\n",
       "std      6.146706\n",
       "min      3.677026\n",
       "25%     11.674706\n",
       "50%     13.853458\n",
       "75%     19.242335\n",
       "max     36.010959"
      ]
     },
     "execution_count": 20,
     "metadata": {},
     "output_type": "execute_result"
    }
   ],
   "source": [
    "df_air_quality[df_air_quality[\"StationAre\"] == \"urban\"][[\"avg15\"]].describe()"
   ]
  },
  {
   "cell_type": "markdown",
   "metadata": {},
   "source": [
    "**But in Urban areas the PM 2,5 level can go as high as 36!**"
   ]
  },
  {
   "cell_type": "markdown",
   "metadata": {},
   "source": [
    "## Plotting a Geo-Scatter map\n",
    "\n",
    "**Let's plot the geoscatter map**\n",
    "\n",
    "I used **scatter_mapbox** function of plotly express to plot the location of all stations present all over Europe, size of bubble indicates the level of PM 2,5. I set the opacity to 0.4."
   ]
  },
  {
   "cell_type": "code",
   "execution_count": 25,
   "metadata": {
    "scrolled": false
   },
   "outputs": [
    {
     "data": {
      "application/vnd.plotly.v1+json": {
       "config": {
        "plotlyServerURL": "https://plot.ly"
       },
       "data": [
        {
         "customdata": [
          [
           525
          ],
          [
           918
          ],
          [
           532
          ],
          [
           245
          ],
          [
           535
          ],
          [
           88
          ],
          [
           904
          ],
          [
           798
          ],
          [
           755
          ],
          [
           700
          ],
          [
           362
          ],
          [
           45
          ],
          [
           419
          ],
          [
           1205
          ],
          [
           65
          ],
          [
           3
          ],
          [
           140
          ],
          [
           134
          ],
          [
           127
          ],
          [
           235
          ],
          [
           170
          ],
          [
           50
          ],
          [
           670
          ],
          [
           225
          ],
          [
           477
          ],
          [
           180
          ],
          [
           655
          ],
          [
           0
          ],
          [
           550
          ],
          [
           319
          ],
          [
           114
          ],
          [
           200
          ],
          [
           210
          ],
          [
           280
          ],
          [
           1118
          ],
          [
           735
          ]
         ],
         "hovertemplate": "<b>%{hovertext}</b><br><br>StationAre=rural-regional<br>avg15=%{marker.size}<br>Latitude=%{lat}<br>Longitude=%{lon}<br>Altitude=%{customdata[0]}<extra></extra>",
         "hovertext": [
          "Enzenkirchen im Sauwald",
          "Grünbach bei Freistadt",
          "Emep - Ayia Marina",
          "Mikulov-Sedlec",
          "Kosetice",
          "Hasenholz",
          "Schwarzwald-Süd",
          "Schwäbische_Alb",
          "Tiefenbach/Altenschneeberg",
          "Andechs/Rothenfeld",
          "Burgbernheim/Grüne Au",
          "Bornhöved",
          "Unterharz / Friedrichsbrunn",
          "Schauinsland",
          "Neuglobsow",
          "Risoe",
          "Zone Rurale Nord",
          "Zone rurale Sud",
          "Zone Rurale SE",
          "Paray le Fresil",
          "Campagne les B.",
          "SAINT-DENIS D'ANJOU",
          "Obs Haute-Provence",
          "Jonville en Woevre",
          "St Germain/Rhône",
          "Verneuil",
          "Venaco",
          "PLITVICKA JEZERA - RH0113 - HR0013A; Državna mreža za trajno pracenje kvalitete zraka",
          "Genga -Parco Gola della Rossa",
          "Beidweiler",
          "Gharb Station",
          "Nye Birkenes",
          "Kĺrvatn",
          "Hurdal25",
          "Churanov",
          "Svratouch"
         ],
         "lat": [
          48.39172,
          48.531111,
          35.038027,
          48.791767,
          49.573395,
          52.563835,
          47.809892,
          48.345778,
          49.438464,
          47.968753,
          49.44406,
          54.09323,
          51.662435,
          47.913256,
          53.141303,
          55.694206,
          49.100257,
          48.36414,
          48.354709,
          46.652645,
          50.610484,
          47.787712,
          43.93352,
          49.065837,
          46.072219,
          46.814819,
          42.236087,
          44.899333,
          43.46806,
          49.72226,
          36.067041,
          58.38846,
          62.78246,
          60.37288,
          49.068427,
          49.735068
         ],
         "legendgroup": "rural-regional",
         "lon": [
          13.67114,
          14.574722,
          33.057823,
          16.724497,
          15.080278,
          14.015252,
          7.764528,
          9.207639,
          12.548869,
          11.220172,
          10.325,
          10.240596,
          11.043386,
          7.908035,
          13.031662,
          12.088898,
          2.343893,
          2.23694,
          2.645296,
          3.600663,
          1.991448,
          -0.444044,
          5.711704,
          5.785555,
          5.820832,
          2.610082,
          9.190035,
          15.609778,
          12.95222,
          6.30533,
          14.197154,
          8.2519,
          8.87658,
          11.07407,
          13.614777,
          16.034209
         ],
         "marker": {
          "color": "#636efa",
          "opacity": 0.4,
          "size": [
           13.353289,
           9.099422,
           9.879714,
           16.080899,
           11.625252,
           11.945001,
           6.111503,
           7.883377,
           8.871439,
           8.743363,
           11.139296,
           9.868317,
           8.684215,
           6.690393,
           9.969703,
           9.520642,
           12.660772,
           9.648008,
           9.169847,
           8.447957,
           10.634634,
           10.292241,
           7.504084,
           12.595133,
           8.89671,
           11.602657,
           7.685495,
           9.171703,
           11.594837,
           11.022904,
           9.19006,
           2.707727,
           1.512005,
           2.752935,
           7.103898,
           11.822
          ],
          "sizemode": "area",
          "sizeref": 0.25007610416666665
         },
         "mode": "markers",
         "name": "rural-regional",
         "showlegend": true,
         "subplot": "mapbox",
         "type": "scattermapbox"
        },
        {
         "customdata": [
          [
           899
          ],
          [
           313
          ],
          [
           29
          ],
          [
           309
          ],
          [
           143
          ],
          [
           620
          ],
          [
           45
          ]
         ],
         "hovertemplate": "<b>%{hovertext}</b><br><br>StationAre=rural-remote<br>avg15=%{marker.size}<br>Latitude=%{lat}<br>Longitude=%{lon}<br>Altitude=%{customdata[0]}<extra></extra>",
         "hovertext": [
          "Zöbelboden im Reichraminger Hintergebirge - Wildwiese",
          "Collmberg",
          "Serv Tech Guipry",
          "La Coulonche MERA",
          "LA TARDIERE",
          "Station MORVAN",
          "Mayo Claremorris"
         ],
         "lat": [
          47.838611,
          51.303772,
          47.831934,
          48.645008,
          46.656714,
          47.275017,
          53.703889
         ],
         "legendgroup": "rural-remote",
         "lon": [
          14.441389,
          13.009406,
          -1.836327,
          -0.458333,
          -0.743681,
          4.09833,
          -9.012672
         ],
         "marker": {
          "color": "#EF553B",
          "opacity": 0.4,
          "size": [
           7.257276,
           10.191917,
           8.913834,
           8.07166,
           10.524742,
           9.567993,
           5.735632
          ],
          "sizemode": "area",
          "sizeref": 0.25007610416666665
         },
         "mode": "markers",
         "name": "rural-remote",
         "showlegend": true,
         "subplot": "mapbox",
         "type": "scattermapbox"
        },
        {
         "customdata": [
          [
           150
          ],
          [
           231
          ],
          [
           203
          ],
          [
           124
          ],
          [
           110
          ],
          [
           153
          ],
          [
           0
          ],
          [
           532
          ]
         ],
         "hovertemplate": "<b>%{hovertext}</b><br><br>StationAre=rural-near_city<br>avg15=%{marker.size}<br>Latitude=%{lat}<br>Longitude=%{lon}<br>Altitude=%{customdata[0]}<extra></extra>",
         "hovertext": [
          "Glinzendorf im Marchfeld",
          "Studenka",
          "Vernovice",
          "Kleinwallstadt/Hofstetter Straße",
          "Soest-Ost",
          "Pourcy",
          "DESINIC - RH0112 - HR0012A; Državna mreža za trajno pracenje kvalitete zraka",
          "CENMA1"
         ],
         "lat": [
          48.236667,
          49.720936,
          49.924679,
          49.869422,
          51.570662,
          49.158627,
          46.169056,
          40.256389
         ],
         "legendgroup": "rural-near_city",
         "lon": [
          16.636944,
          18.089306,
          18.422873,
          9.171544,
          8.148061,
          3.912612,
          15.660639,
          8.773056
         ],
         "marker": {
          "color": "#00cc96",
          "opacity": 0.4,
          "size": [
           14.789538,
           23.892614,
           33.040112,
           12.735729,
           12.44337,
           11.019525,
           14.282799,
           7.149379
          ],
          "sizemode": "area",
          "sizeref": 0.25007610416666665
         },
         "mode": "markers",
         "name": "rural-near_city",
         "showlegend": true,
         "subplot": "mapbox",
         "type": "scattermapbox"
        },
        {
         "customdata": [
          [
           200
          ],
          [
           510
          ],
          [
           23
          ],
          [
           3
          ],
          [
           30
          ],
          [
           2
          ],
          [
           135
          ],
          [
           0
          ],
          [
           145
          ],
          [
           233
          ],
          [
           160
          ],
          [
           490
          ],
          [
           265
          ],
          [
           225
          ],
          [
           510
          ],
          [
           430
          ],
          [
           375
          ],
          [
           343
          ],
          [
           17
          ],
          [
           2
          ],
          [
           16
          ],
          [
           606
          ],
          [
           546
          ],
          [
           72
          ],
          [
           74
          ],
          [
           937
          ],
          [
           32
          ],
          [
           6
          ],
          [
           50
          ],
          [
           917
          ],
          [
           78
          ],
          [
           1230
          ],
          [
           134
          ],
          [
           1360
          ],
          [
           23
          ],
          [
           393
          ],
          [
           885
          ],
          [
           985
          ],
          [
           470
          ],
          [
           506
          ],
          [
           911
          ],
          [
           619
          ],
          [
           804
          ],
          [
           430
          ],
          [
           995
          ],
          [
           469
          ],
          [
           172
          ],
          [
           200
          ],
          [
           64
          ],
          [
           7
          ],
          [
           4
          ],
          [
           617
          ],
          [
           126
          ],
          [
           260
          ],
          [
           14
          ],
          [
           61
          ],
          [
           948
          ],
          [
           388
          ],
          [
           -2
          ],
          [
           11
          ],
          [
           115
          ],
          [
           48
          ],
          [
           14
          ],
          [
           10
          ],
          [
           110
          ],
          [
           1192
          ],
          [
           16
          ],
          [
           209
          ],
          [
           620
          ],
          [
           202
          ],
          [
           22
          ],
          [
           165
          ],
          [
           0
          ],
          [
           4
          ],
          [
           48
          ],
          [
           1
          ],
          [
           258
          ],
          [
           420
          ],
          [
           811
          ],
          [
           1038
          ],
          [
           268
          ],
          [
           150
          ],
          [
           150
          ],
          [
           180
          ],
          [
           15
          ],
          [
           4
          ],
          [
           -4
          ],
          [
           1
          ],
          [
           1
          ],
          [
           157
          ],
          [
           291
          ],
          [
           179
          ],
          [
           60
          ],
          [
           473
          ],
          [
           143
          ],
          [
           57
          ],
          [
           187
          ],
          [
           300
          ],
          [
           30
          ],
          [
           20
          ],
          [
           540
          ],
          [
           808
          ],
          [
           117
          ],
          [
           86
          ],
          [
           340
          ],
          [
           390
          ],
          [
           605
          ],
          [
           125
          ],
          [
           489
          ],
          [
           1031
          ],
          [
           18
          ],
          [
           157
          ]
         ],
         "hovertemplate": "<b>%{hovertext}</b><br><br>StationAre=rural<br>avg15=%{marker.size}<br>Latitude=%{lat}<br>Longitude=%{lon}<br>Altitude=%{customdata[0]}<extra></extra>",
         "hovertext": [
          "Zwentendorf im Tullnerfeld",
          "Lenzing",
          "26RT01 - RETIE",
          "44N012 - MOERKERKE",
          "42N016 - DESSEL",
          "44N029 - HOUTEM",
          "42N054 - WALSHOUTEM",
          "43N060 - HAVINNES",
          "43N063 - CORROY L.G.",
          "43N067 - MEMBACH",
          "43N073 - VEZIN",
          "43N085 - VIELSALM",
          "43N093 - SINSIN",
          "43N100 - DOURBES",
          "43N113 - SAINT-ODE",
          "43N121 - OFFAGNE",
          "43N132 - HABAY-LA-N.",
          "Bad Arolsen",
          "Gülzow",
          "Jadebusen",
          "Wendland",
          "Pfälzerwald-Hortenkopf",
          "Westerwald-Neuhäusel",
          "Domäne Bobbe",
          "Waldhof",
          "Schmücke",
          "Lahemaa",
          "Vilsandi",
          "Saarejärve",
          "SAN PABLO DE LOS MONTES",
          "MAHÓN",
          "VÍZNAR",
          "NIEMBRO",
          "CAMPISÁBALOS",
          "CABO DE CREUS",
          "BARCARROTA",
          "ZARRA",
          "PEŃAUSENDE",
          "ELS TORMS",
          "O SAVIŃAO",
          "VALDEREJO",
          "ZORITA",
          "CAUDETE DE LAS FUENTES",
          "VILLAR DEL ARZOBISPO",
          "EL ATAZAR",
          "VILLA DEL PRADO",
          "HOSPITAL JOAN MARCH",
          "ALGAR DE PALŔNCIA",
          "Luukki",
          "Utö",
          "Virolahti 2",
          "Drôme Rurale Sud-SND",
          "Harwell",
          "Auchencorth Moss",
          "Rochester Stoke",
          "CASTEL DI GUIDO",
          "LEONESSA",
          "FONTECHIARI",
          "GHERARDI",
          "SAN PIETRO CAPOFIUME",
          "CASIRATE D'ADDA",
          "PT-MONTALE",
          "MANSUE'",
          "LECCE - S. M. Cerrate",
          "Civitanova IPPODROMO S. MARONE",
          "MOGGIO",
          "SCHIVENOGLIA",
          "BRUFA",
          "Dernice - Costa",
          "BADIA",
          "SAN ROCCO",
          "SAN CLEMENTE",
          "OSTELLATO",
          "GAVELLO",
          "BESENZONE",
          "BALLIRANA",
          "Vinchio - San Michele",
          "ACQUAPENDENTE",
          "CASTELLUCCIO",
          "M Martani",
          "Revello - Staffarda",
          "Posta del Principe",
          "Azienda Russo",
          "Aukstaitija",
          "Biest Houtakker-Biestsestraat",
          "De Zilk-Vogelaarsdreef",
          "Wieringerwerf-Medemblikkerweg",
          "Badhoevedorp-Sloterweg",
          "Amsterdam-Spaarnwoude",
          "KMS Puszcza Borecka",
          "Zloty Potok, Lesniczówka",
          "Osieczów",
          "Ervedeira",
          "Fundăo",
          "Chamusca",
          "Fernando Pó",
          "Terena",
          "Cerro",
          "B8 Balotesti",
          "GR-4",
          "Iskrba",
          "Stara Lesna - AU SAV EMEP/O3",
          "Illmitz",
          "Melpitz",
          "Pallas (Matorova)",
          "Revin",
          "Saint-Nazaire-le-Désert",
          "K-puszta",
          "Payerne",
          "Rigi",
          "Rucava",
          "Diabla Gora"
         ],
         "lat": [
          48.331111,
          47.971944,
          51.230858,
          51.254574,
          51.233652,
          51.01628,
          50.711706,
          50.616718,
          50.655439,
          50.612278,
          50.502716,
          50.303208,
          50.274478,
          50.095683,
          50.027029,
          49.877128,
          49.719281,
          51.430897,
          53.817775,
          53.59617,
          52.95702,
          49.270263,
          50.4243,
          51.837306,
          52.800773,
          50.654066,
          59.494446,
          58.37611,
          58.702778,
          39.54694,
          39.87528,
          37.23722,
          43.43917,
          41.27417,
          42.31917,
          38.47278,
          39.08278,
          41.23889,
          41.39389,
          42.63472,
          42.875278,
          40.735,
          39.558611,
          39.708056,
          40.91028,
          40.25194,
          39.67766,
          39.782222,
          60.31439,
          59.77923,
          60.53002,
          44.569431,
          51.571078,
          55.79216,
          51.45617,
          41.889444,
          42.5725,
          41.67,
          44.839722,
          44.662222,
          45.4975,
          43.91611,
          45.836944,
          40.45889,
          43.33556,
          45.913056,
          44.99694,
          43.06694,
          44.76335,
          44.6575,
          44.873056,
          43.932778,
          44.741667,
          44.92784,
          44.989444,
          44.526485,
          44.80801,
          42.74472,
          44.15,
          42.80472,
          44.71976,
          41.63083,
          41.54666,
          55.463333,
          51.519444,
          52.298054,
          52.804722,
          52.333561,
          52.400002,
          54.124819,
          50.710889,
          51.31763,
          39.923889,
          40.233056,
          39.3525,
          38.635556,
          38.615,
          37.3125,
          44.616665,
          43.963814,
          45.56107,
          49.152779,
          47.766667,
          51.53014,
          68,
          49.9,
          44.569444,
          46.966667,
          46.813056,
          47.0675,
          56.161944,
          54.15
         ],
         "legendgroup": "rural",
         "lon": [
          15.903611,
          13.600833,
          5.053303,
          3.362536,
          5.163979,
          2.582323,
          5.103159,
          3.457624,
          4.668288,
          5.992753,
          4.988423,
          6.001736,
          5.235169,
          4.594763,
          5.593017,
          5.202387,
          5.630398,
          8.928171,
          12.064708,
          8.09059,
          11.16705,
          7.826521,
          7.7299,
          11.891412,
          10.756733,
          10.769534,
          25.930569,
          21.845013,
          26.758898,
          -4.35056,
          4.31639,
          -3.53417,
          -4.85,
          -3.1425,
          3.31583,
          -6.92361,
          -1.10111,
          -5.8975,
          0.73472,
          -7.70472,
          -3.231389,
          -0.169444,
          -1.281389,
          -0.831944,
          -3.46667,
          -4.27472,
          2.68665,
          -0.359167,
          24.68486,
          21.37395,
          27.6754,
          5.278968,
          -1.325283,
          -3.2429,
          0.634889,
          12.266389,
          12.961944,
          13.674444,
          11.961111,
          11.639444,
          9.556389,
          11.00694,
          12.510278,
          18.11611,
          13.67472,
          9.496944,
          11.07083,
          12.46806,
          9.05243,
          10.288889,
          10.663889,
          12.6275,
          11.942222,
          11.17795,
          10.019167,
          11.981381,
          8.31031,
          11.865,
          10.926111,
          12.56611,
          7.42622,
          15.38667,
          15.44083,
          26.004169,
          5.148902,
          4.510286,
          5.050842,
          4.773589,
          4.73,
          22.038056,
          19.458797,
          15.431719,
          -8.891667,
          -7.301944,
          -8.466111,
          -8.690556,
          -7.3975,
          -7.678611,
          26.116667,
          26.038739,
          14.85806,
          20.291117,
          16.766667,
          12.93386,
          24.237222,
          4.633333,
          5.278972,
          19.583333,
          6.944722,
          8.463889,
          21.173056,
          22.066667
         ],
         "marker": {
          "color": "#ab63fa",
          "opacity": 0.4,
          "size": [
           14.524676,
           12.058089,
           12.033426,
           11.621019,
           13.721193,
           10.76674,
           13.100392,
           11.006506,
           11.354895,
           9.426099,
           9.973228,
           6.826367,
           8.910852,
           8.098825,
           7.560071,
           7.819823,
           8.689426,
           11.416152,
           12.241828,
           9.372394,
           10.485007,
           7.542832,
           8.508962,
           13.072419,
           10.463367,
           7.286816,
           5.188643,
           3.966952,
           5.433148,
           6.61236,
           7.035144,
           10.344214,
           7.051429,
           4.81686,
           8.486239,
           8.456647,
           5.960674,
           5.795732,
           8.335227,
           8.379538,
           6.162902,
           7.114348,
           11.081898,
           10.759357,
           5.867473,
           11.740706,
           6.991095,
           9.177124,
           5.008677,
           4.971934,
           5.294007,
           6.146076,
           7.725895,
           3.176025,
           8.73313,
           14.676796,
           9.897507,
           14.543353,
           20.559557,
           18.643258,
           26.64348,
           23.441667,
           25.488571,
           17.683505,
           12.557535,
           12.047041,
           26.951496,
           13.312321,
           11.011142,
           14.707042,
           23.017192,
           15.268362,
           19.083333,
           20.044818,
           26.727528,
           18.326284,
           20.749296,
           10.436975,
           6.641834,
           8.455446,
           25.84375,
           13.391694,
           13.131818,
           7.775623,
           12.270036,
           9.512012,
           8.977558,
           12.989084,
           12.013362,
           12.482206,
           18.470833,
           14.53796,
           7.347346,
           5.618682,
           10.51776,
           11.822876,
           12.341719,
           6.654075,
           18.895706,
           13.13879,
           10.032877,
           10.67064,
           14.702786,
           14.731795,
           3.427191,
           14.76596,
           6.179576,
           17.358067,
           9.748889,
           5.774699,
           10.848464,
           12.486371
          ],
          "sizemode": "area",
          "sizeref": 0.25007610416666665
         },
         "mode": "markers",
         "name": "rural",
         "showlegend": true,
         "subplot": "mapbox",
         "type": "scattermapbox"
        },
        {
         "customdata": [
          [
           525
          ],
          [
           306
          ],
          [
           400
          ],
          [
           158
          ]
         ],
         "hovertemplate": "<b>%{hovertext}</b><br><br>StationAre=rural-nearcity<br>avg15=%{marker.size}<br>Latitude=%{lat}<br>Longitude=%{lon}<br>Altitude=%{customdata[0]}<extra></extra>",
         "hovertext": [
          "Krizanov",
          "Belotin",
          "Celadna",
          "Doksany"
         ],
         "lat": [
          49.383584,
          49.587079,
          49.559234,
          50.458832
         ],
         "legendgroup": "rural-nearcity",
         "lon": [
          16.098618,
          17.80425,
          18.348359,
          14.170205
         ],
         "marker": {
          "color": "#FFA15A",
          "opacity": 0.4,
          "size": [
           15.089,
           22.236,
           17.006,
           17.747
          ],
          "sizemode": "area",
          "sizeref": 0.25007610416666665
         },
         "mode": "markers",
         "name": "rural-nearcity",
         "showlegend": true,
         "subplot": "mapbox",
         "type": "scattermapbox"
        },
        {
         "customdata": [
          [
           848
          ],
          [
           160
          ],
          [
           210
          ],
          [
           155
          ],
          [
           460
          ],
          [
           274
          ],
          [
           420
          ],
          [
           272
          ],
          [
           8
          ],
          [
           10
          ],
          [
           10
          ],
          [
           13
          ],
          [
           10
          ],
          [
           20
          ],
          [
           15
          ],
          [
           30
          ],
          [
           160
          ],
          [
           70
          ],
          [
           50
          ],
          [
           55
          ],
          [
           41
          ],
          [
           27
          ],
          [
           30
          ],
          [
           100
          ],
          [
           12
          ],
          [
           65
          ],
          [
           135
          ],
          [
           118
          ],
          [
           157
          ],
          [
           6
          ],
          [
           8
          ],
          [
           0
          ],
          [
           103
          ],
          [
           301
          ],
          [
           241
          ],
          [
           225
          ],
          [
           476
          ],
          [
           367
          ],
          [
           258
          ],
          [
           89
          ],
          [
           33
          ],
          [
           22
          ],
          [
           31
          ],
          [
           99
          ],
          [
           43
          ],
          [
           157
          ],
          [
           275
          ],
          [
           325
          ],
          [
           480
          ],
          [
           134
          ],
          [
           420
          ],
          [
           678
          ],
          [
           380
          ],
          [
           226
          ],
          [
           488
          ],
          [
           513
          ],
          [
           495
          ],
          [
           417
          ],
          [
           54
          ],
          [
           170
          ],
          [
           30
          ],
          [
           80
          ],
          [
           72
          ],
          [
           40
          ],
          [
           25
          ],
          [
           153
          ],
          [
           103
          ],
          [
           40
          ],
          [
           47
          ],
          [
           645
          ],
          [
           616
          ],
          [
           581
          ],
          [
           610
          ],
          [
           721
          ],
          [
           355
          ],
          [
           25
          ],
          [
           51
          ],
          [
           181
          ],
          [
           91
          ],
          [
           25
          ],
          [
           45
          ],
          [
           65
          ],
          [
           164
          ],
          [
           10
          ],
          [
           83
          ],
          [
           2
          ],
          [
           47
          ],
          [
           60
          ],
          [
           13
          ],
          [
           210
          ],
          [
           432
          ],
          [
           10
          ],
          [
           20
          ],
          [
           12
          ],
          [
           47.32
          ],
          [
           0
          ],
          [
           15
          ],
          [
           380
          ],
          [
           150
          ],
          [
           48
          ],
          [
           257
          ],
          [
           18
          ],
          [
           91
          ],
          [
           226
          ],
          [
           113
          ],
          [
           25
          ],
          [
           263
          ],
          [
           10
          ],
          [
           230
          ],
          [
           240
          ],
          [
           273
          ],
          [
           131
          ],
          [
           32
          ],
          [
           275
          ],
          [
           55
          ],
          [
           140
          ],
          [
           242
          ],
          [
           271
          ],
          [
           666
          ],
          [
           71
          ],
          [
           143
          ],
          [
           246
          ],
          [
           95
          ],
          [
           100
          ],
          [
           1
          ],
          [
           -1
          ],
          [
           34
          ],
          [
           212
          ],
          [
           31
          ],
          [
           57
          ],
          [
           190
          ],
          [
           91
          ],
          [
           99
          ],
          [
           100
          ],
          [
           297
          ],
          [
           0
          ],
          [
           242
          ]
         ],
         "hovertemplate": "<b>%{hovertext}</b><br><br>StationAre=suburban<br>avg15=%{marker.size}<br>Latitude=%{lat}<br>Longitude=%{lon}<br>Altitude=%{customdata[0]}<extra></extra>",
         "hovertext": [
          "Korca",
          "Eisenstadt Laschoberstraße",
          "Wiener Neudorf Hauptstraße",
          "Schwechat Sportplatz, Mühlgasse",
          "Bad Ischl, Rettenbachstraße",
          "Traun Tischlerstraße",
          "Vöcklabruck, Untere Agergasse",
          "Leibnitz Lastenstraße",
          "26R811 - SCHOTEN",
          "40AB02 - BERENDRECHT",
          "40AL01 - LINKEROEVER",
          "40HB23 - HOBOKEN",
          "40MN01 - MENEN",
          "40RL01 - ROESELARE",
          "40SZ02 - STEENOKKERZ",
          "41B011 - BERCHEM S.A",
          "43H201 - LIEGE",
          "43M204 - ANGLEUR",
          "41MEU1 - MEUDON",
          "42N035 - AARSCHOT",
          "42N045 - HASSELT",
          "44N052 - ZWEVEGEM",
          "43N070 - MONS",
          "41R012 - UCCLE",
          "42R020 - VILVOORDE",
          "43R222 - SERAING",
          "45R502 - LODELINSART",
          "45R510 - CHATELINEAU",
          "45R511 - MARCINELLE",
          "44R710 - DESTELBERGE",
          "42R811 - SCHOTEN",
          "42R834 - Boom",
          "PAFOS RESIDENTIAL",
          "Praha 4-Libus",
          "Brno-Turany",
          "Znojmo",
          "Sokolov",
          "Usti n.L.-Kockov",
          "Zlin",
          "Elsterwerda",
          "Brandenburg a.d. Havel",
          "Wittenberge",
          "Nauen",
          "Spremberg",
          "Blankenfelde-Mahlow",
          "Heilbronn",
          "Weil am Rhein",
          "Tübingen",
          "Arzberg/Egerstraße",
          "Aschaffenburg/Bussardweg",
          "Burghausen/Marktler Straße",
          "Kempten (Allgäu)/Westendstraße",
          "Schwandorf/Wackersdorfer Straße",
          "Würzburg/Kopfklinik",
          "Trostberg/Schwimmbadstraße",
          "München/Johanneskirchen",
          "Augsburg/LfU",
          "Oettingen/Goethestraße",
          "Weserbergland",
          "Göttingen",
          "Emsland",
          "Datteln-Hagem",
          "Unna-Königsborn",
          "Gelsenkirchen-Bismarck",
          "Wesel-Feldmark",
          "Essen-Schuir (LANUV)",
          "Speyer-Nord",
          "Itzehoe",
          "Burg",
          "CASA DE CAMPO",
          "VIVER",
          "TORREJON DE ARDOZ",
          "VALDEMORO",
          "ALGETE",
          "ELDA-LACY",
          "TORRE DE HÉRCULES",
          "MONTEVIL",
          "PLASENCIA",
          "Tirilä Pekkasenkatu",
          "Vartiokylä Huivipolku",
          "Rognac les Brets",
          "GONESSE",
          "RAMBOUILLET",
          "Lunel",
          "GARNOR03",
          "Cappelle",
          "BASTIA MONTESORO",
          "London Eltham",
          "London Bexley",
          "LYKOVRISI",
          "Dübendorf-EMPA",
          "Dublin Finglas Mellowes Road",
          "Dublin Marino Brian Road",
          "Cork Ballinlough Heatherton Park",
          "Wicklow Bray Wurzburg Road",
          "Kópavogur Dalsmári",
          "CHIARAVALLE2",
          "BORGO VAL",
          "CASTELLARANO",
          "TENUTA DEL CAVALIERE",
          "Borgaro T. - Caduti",
          "LATINA SCALO",
          "VR - Cason",
          "DARFO_2",
          "PONTI SUL MINCIO",
          "CENPS7",
          "AREA FELTRINA",
          "Campi Salentina",
          "LS1 Laives",
          "Ivrea - Liberazione",
          "CALUSCO",
          "Vercelli - CONI",
          "SAVIGNANO",
          "CENS16",
          "MALAGROTTA",
          "Municipio",
          "Magione",
          "Chieri - Bersezio",
          "Trivero - Ronco",
          "Rocca di Neto",
          "Ciconia2",
          "Leině (ACEA) - Grande Torino",
          "Narni Scalo",
          "Ceglie Messapica",
          "Breda-Bastenakenstraat",
          "Groningen-Nijensteinheerd",
          "Vĺland",
          "Lillehammer barnehage",
          "Řyekast",
          "Wloclawek Sielska DMD",
          "Chelm ul. Jagiellonska",
          "Legionowo-Zegrzynska",
          "Piastów-Pulaskiego",
          "Bydgoszcz, ul. Berlinga",
          "Ljubljana Biotehnicna fakulteta",
          "Prishtine1",
          "Ostrava-Poruba/CHMU"
         ],
         "lat": [
          40.62593,
          47.84,
          48.083889,
          48.145,
          47.716111,
          48.225278,
          48.000833,
          46.778333,
          51.252103,
          51.340727,
          51.236194,
          51.170298,
          50.793469,
          50.953177,
          50.91302,
          50.858031,
          50.624992,
          50.611923,
          50.895101,
          50.977541,
          50.939712,
          50.814874,
          50.465192,
          50.796632,
          50.941387,
          50.613413,
          50.428995,
          50.416433,
          50.377592,
          51.061278,
          51.252103,
          51.092,
          34.779453,
          50.007305,
          49.148972,
          48.842957,
          50.172825,
          50.683525,
          49.232906,
          51.462734,
          52.420442,
          52.99875,
          52.608609,
          51.5645,
          52.349703,
          49.165508,
          47.588152,
          48.507703,
          50.058195,
          49.991518,
          48.177175,
          47.72514,
          49.321955,
          49.804695,
          48.021657,
          48.173194,
          48.326013,
          48.95218,
          52.17017,
          51.55107,
          52.49855,
          51.641383,
          51.547495,
          51.533646,
          51.672809,
          51.406968,
          49.351143,
          53.924712,
          52.268354,
          40.42,
          39.930556,
          40.455,
          40.18528,
          40.59333,
          38.454722,
          43.3825,
          43.516588,
          40.07778,
          61.05748,
          60.22393,
          43.51056,
          48.990856,
          48.63373,
          43.675749,
          44.053531,
          50.995965,
          42.671343,
          51.45258,
          51.46603,
          38.069633,
          47.402916,
          53.39025,
          54.361111,
          51.881944,
          53.187222,
          64.104969,
          43.59889,
          46.05184,
          44.516111,
          41.931389,
          45.15464,
          41.531389,
          45.4625,
          45.873889,
          45.41083,
          39.203333,
          46.030833,
          40.40444,
          46.43444,
          45.4512,
          45.683333,
          45.31891,
          44.095833,
          40.724444,
          41.875556,
          38.95955,
          43.133056,
          45.00276,
          45.66423,
          39.18752,
          42.737222,
          45.17635,
          42.53417,
          40.64917,
          51.603333,
          53.246944,
          58.96173,
          61.12087,
          59.1292,
          52.664721,
          51.13095,
          52.407578,
          52.191728,
          53.151467,
          46.0483,
          42.385586,
          49.825267
         ],
         "legendgroup": "suburban",
         "lon": [
          20.78018,
          16.52806,
          16.330278,
          16.474444,
          13.632222,
          14.238889,
          13.6675,
          15.540556,
          4.491362,
          4.32182,
          4.385224,
          4.341005,
          3.109642,
          3.121156,
          4.512184,
          4.288336,
          5.547464,
          5.61115,
          4.392718,
          4.837618,
          5.368379,
          3.322494,
          3.939714,
          4.358539,
          4.436721,
          5.570223,
          4.458681,
          4.52113,
          4.4247,
          3.775262,
          4.491362,
          4.380104,
          32.438614,
          14.445933,
          16.696217,
          16.060127,
          12.672818,
          14.041195,
          17.667175,
          13.526796,
          12.552303,
          11.73846,
          12.885194,
          14.3764,
          13.424304,
          9.224786,
          7.633271,
          9.051178,
          12.18865,
          9.117973,
          12.829314,
          10.306561,
          12.128139,
          9.95642,
          12.538174,
          11.648036,
          10.903051,
          10.59772,
          9.06255,
          9.94976,
          7.31747,
          7.331405,
          7.693835,
          7.101786,
          6.629576,
          6.965643,
          8.423005,
          9.532635,
          11.864763,
          -3.749167,
          -0.603333,
          -3.48417,
          -3.67972,
          -3.50306,
          -0.803333,
          -8.408889,
          -5.67065,
          -6.14722,
          28.24585,
          25.10244,
          5.219724,
          2.44472,
          1.830533,
          4.088422,
          4.697362,
          2.36627,
          9.434646,
          0.070766,
          0.184806,
          23.776886,
          8.613397,
          -6.305266,
          -6.225,
          -8.456667,
          -6.121667,
          -21.888979,
          13.34194,
          11.45389,
          10.733889,
          12.659167,
          7.65804,
          12.946111,
          10.912222,
          10.1775,
          10.69194,
          8.386111,
          11.905833,
          18.02972,
          11.33944,
          7.87804,
          9.466667,
          8.40236,
          12.4025,
          8.576111,
          12.345,
          16.29517,
          12.205833,
          7.83748,
          8.15981,
          17.01034,
          12.136667,
          7.71158,
          12.52194,
          17.5125,
          4.780847,
          6.608897,
          5.73147,
          10.46563,
          9.64217,
          19.036386,
          23.514603,
          20.955928,
          20.837489,
          18.132111,
          14.4713,
          21.08135,
          18.159264
         ],
         "marker": {
          "color": "#19d3f3",
          "opacity": 0.4,
          "size": [
           30.33897,
           14.568675,
           13.965723,
           16.251845,
           9.26586,
           15.235787,
           12.29686,
           19.929107,
           13.718232,
           13.09626,
           13.189466,
           14.934121,
           13.435091,
           13.367502,
           13.040427,
           12.665909,
           10.52111,
           10.300577,
           15.115963,
           13.434084,
           13.466545,
           14.683366,
           12.551983,
           14.419126,
           14.460037,
           10.924992,
           12.737044,
           12.025819,
           11.799868,
           14.449595,
           14.176761,
           13.806131,
           15.403012,
           15.720217,
           17.68138,
           16.817191,
           13.479739,
           15.357874,
           15.830083,
           13.736274,
           13.316793,
           10.390088,
           12.886066,
           13.224965,
           14.294797,
           13.91155,
           12.319939,
           12.087066,
           13.370539,
           12.226837,
           13.667626,
           10.870899,
           13.536733,
           11.990753,
           12.232226,
           11.973409,
           12.609537,
           12.751086,
           10.626572,
           8.884077,
           12.163193,
           14.545125,
           13.009496,
           14.49445,
           13.879151,
           13.120164,
           14.384997,
           12.364177,
           12.134096,
           9.970065,
           8.071548,
           9.272346,
           12.140876,
           6.545989,
           9.289138,
           16.062731,
           10.773827,
           7.034714,
           7.017104,
           6.839457,
           12.691131,
           13.844158,
           11.77751,
           11.80413,
           14.732841,
           13.016788,
           9.187283,
           10.512368,
           10.491823,
           16.446809,
           10.918156,
           8.137651,
           7.801538,
           6.829863,
           6.562644,
           4.757997,
           15.260284,
           19.961988,
           19.587896,
           18.155556,
           26.382789,
           15.528736,
           26.40407,
           26.752312,
           27.587592,
           17.74,
           21.339031,
           18.237104,
           15.372806,
           23.772861,
           24.301943,
           26.541899,
           19.534286,
           6.486389,
           17.070988,
           12.697797,
           15.741667,
           24.154519,
           13.470255,
           16.221457,
           12.063218,
           30.376471,
           19.925714,
           16.465388,
           12.352135,
           11.518471,
           7.309426,
           6.644817,
           7.134425,
           18.383501,
           27.2,
           32.175951,
           30.466363,
           15.837606,
           22.565476,
           28.486592,
           22.678
          ],
          "sizemode": "area",
          "sizeref": 0.25007610416666665
         },
         "mode": "markers",
         "name": "suburban",
         "showlegend": true,
         "subplot": "mapbox",
         "type": "scattermapbox"
        },
        {
         "customdata": [
          [
           13
          ],
          [
           445
          ],
          [
           445
          ],
          [
           460
          ],
          [
           270
          ],
          [
           350
          ],
          [
           305
          ],
          [
           390
          ],
          [
           236
          ],
          [
           159
          ],
          [
           5
          ],
          [
           5
          ],
          [
           6
          ],
          [
           15
          ],
          [
           65
          ],
          [
           115
          ],
          [
           5
          ],
          [
           6
          ],
          [
           22
          ],
          [
           208
          ],
          [
           17
          ],
          [
           256
          ],
          [
           309
          ],
          [
           383
          ],
          [
           239
          ],
          [
           502
          ],
          [
           224
          ],
          [
           346
          ],
          [
           360
          ],
          [
           303
          ],
          [
           224
          ],
          [
           235
          ],
          [
           320
          ],
          [
           221
          ],
          [
           257
          ],
          [
           31
          ],
          [
           75
          ],
          [
           35
          ],
          [
           35
          ],
          [
           35
          ],
          [
           235
          ],
          [
           481
          ],
          [
           278
          ],
          [
           403
          ],
          [
           114
          ],
          [
           262
          ],
          [
           477
          ],
          [
           231
          ],
          [
           521
          ],
          [
           470
          ],
          [
           300
          ],
          [
           400
          ],
          [
           300
          ],
          [
           7
          ],
          [
           3
          ],
          [
           100
          ],
          [
           181
          ],
          [
           121
          ],
          [
           15
          ],
          [
           3
          ],
          [
           17
          ],
          [
           2
          ],
          [
           95
          ],
          [
           85
          ],
          [
           75
          ],
          [
           47
          ],
          [
           32
          ],
          [
           186
          ],
          [
           157
          ],
          [
           110
          ],
          [
           232
          ],
          [
           108
          ],
          [
           12
          ],
          [
           192
          ],
          [
           115
          ],
          [
           112
          ],
          [
           116
          ],
          [
           58
          ],
          [
           195
          ],
          [
           265
          ],
          [
           490
          ],
          [
           25
          ],
          [
           21
          ],
          [
           6
          ],
          [
           41
          ],
          [
           25
          ],
          [
           24
          ],
          [
           3
          ],
          [
           12
          ],
          [
           929
          ],
          [
           449
          ],
          [
           389
          ],
          [
           11
          ],
          [
           220
          ],
          [
           500
          ],
          [
           136
          ],
          [
           220
          ],
          [
           7
          ],
          [
           693
          ],
          [
           55
          ],
          [
           609
          ],
          [
           112
          ],
          [
           21
          ],
          [
           16
          ],
          [
           56
          ],
          [
           109
          ],
          [
           192
          ],
          [
           154
          ],
          [
           28
          ],
          [
           95
          ],
          [
           37
          ],
          [
           51
          ],
          [
           92
          ],
          [
           43
          ],
          [
           59
          ],
          [
           340
          ],
          [
           8
          ],
          [
           25
          ],
          [
           10
          ],
          [
           48
          ],
          [
           83
          ],
          [
           10
          ],
          [
           8
          ],
          [
           4
          ],
          [
           25
          ],
          [
           150
          ],
          [
           93
          ],
          [
           147
          ],
          [
           214
          ],
          [
           139
          ],
          [
           250
          ],
          [
           95
          ],
          [
           34
          ],
          [
           28
          ],
          [
           48
          ],
          [
           29
          ],
          [
           17
          ],
          [
           173
          ],
          [
           204
          ],
          [
           160
          ],
          [
           233
          ],
          [
           25
          ],
          [
           47
          ],
          [
           85
          ],
          [
           18
          ],
          [
           371
          ],
          [
           741
          ],
          [
           9
          ],
          [
           17
          ],
          [
           255
          ],
          [
           96
          ],
          [
           26
          ],
          [
           552
          ],
          [
           366
          ],
          [
           200
          ],
          [
           195
          ],
          [
           35
          ],
          [
           14
          ],
          [
           350
          ],
          [
           280
          ],
          [
           453
          ],
          [
           441
          ],
          [
           111
          ],
          [
           85
          ],
          [
           115
          ],
          [
           158
          ],
          [
           301
          ],
          [
           125
          ],
          [
           321
          ],
          [
           331
          ],
          [
           261
          ],
          [
           20
          ],
          [
           10
          ],
          [
           12
          ],
          [
           78
          ],
          [
           7
          ],
          [
           45
          ],
          [
           5
          ],
          [
           175
          ],
          [
           41
          ],
          [
           172
          ],
          [
           30
          ],
          [
           32
          ],
          [
           37
          ],
          [
           20
          ],
          [
           38
          ],
          [
           40
          ],
          [
           5
          ],
          [
           30
          ],
          [
           5
          ],
          [
           4
          ],
          [
           81
          ],
          [
           58
          ],
          [
           93
          ],
          [
           10
          ],
          [
           110
          ],
          [
           45
          ],
          [
           16
          ],
          [
           15
          ],
          [
           15
          ],
          [
           58
          ],
          [
           79
          ],
          [
           24
          ],
          [
           36
          ],
          [
           134
          ],
          [
           128
          ],
          [
           11
          ],
          [
           83
          ],
          [
           40
          ],
          [
           98
          ],
          [
           0
          ],
          [
           0
          ],
          [
           409
          ],
          [
           280
          ],
          [
           19
          ],
          [
           640
          ],
          [
           200
          ],
          [
           249
          ],
          [
           60
          ],
          [
           85
          ],
          [
           61
          ],
          [
           43
          ],
          [
           77
          ],
          [
           50
          ],
          [
           260
          ],
          [
           50
          ],
          [
           53
          ],
          [
           1
          ],
          [
           100
          ],
          [
           581
          ],
          [
           35
          ],
          [
           203
          ],
          [
           6
          ],
          [
           29
          ],
          [
           114
          ],
          [
           5
          ],
          [
           36
          ],
          [
           290
          ],
          [
           3
          ],
          [
           10
          ],
          [
           4
          ],
          [
           3
          ],
          [
           405
          ],
          [
           72
          ],
          [
           156
          ],
          [
           13
          ],
          [
           203
          ],
          [
           550
          ],
          [
           344
          ],
          [
           6
          ],
          [
           13
          ],
          [
           15
          ],
          [
           10
          ],
          [
           401
          ],
          [
           212
          ],
          [
           54
          ],
          [
           122
          ],
          [
           70
          ],
          [
           45
          ],
          [
           162
          ],
          [
           34
          ],
          [
           267
          ],
          [
           91
          ],
          [
           31
          ],
          [
           150
          ],
          [
           319
          ],
          [
           22
          ],
          [
           55
          ],
          [
           498
          ],
          [
           31
          ],
          [
           9
          ],
          [
           230
          ],
          [
           11
          ],
          [
           56
          ],
          [
           76
          ],
          [
           290
          ],
          [
           61
          ],
          [
           15
          ],
          [
           15
          ],
          [
           16
          ],
          [
           255
          ],
          [
           20
          ],
          [
           37
          ],
          [
           105
          ],
          [
           118
          ],
          [
           370
          ],
          [
           284
          ],
          [
           329
          ],
          [
           758
          ],
          [
           243
          ],
          [
           583
          ],
          [
           170
          ],
          [
           75
          ],
          [
           73
          ],
          [
           275
          ],
          [
           287
          ],
          [
           1
          ],
          [
           3
          ],
          [
           56
          ],
          [
           2
          ],
          [
           3
          ],
          [
           22
          ],
          [
           0
          ],
          [
           3
          ],
          [
           2
          ],
          [
           1
          ],
          [
           30
          ],
          [
           5
          ],
          [
           24
          ],
          [
           30
          ],
          [
           273
          ],
          [
           40
          ],
          [
           64
          ],
          [
           144
          ],
          [
           207
          ],
          [
           226
          ],
          [
           235
          ],
          [
           206
          ],
          [
           189
          ],
          [
           101
          ],
          [
           159
          ],
          [
           102
          ],
          [
           85
          ],
          [
           119
          ],
          [
           145
          ],
          [
           128
          ],
          [
           179
          ],
          [
           25
          ],
          [
           120
          ],
          [
           120
          ],
          [
           122
          ],
          [
           424
          ],
          [
           114
          ],
          [
           215
          ],
          [
           150
          ],
          [
           181
          ],
          [
           236
          ],
          [
           67
          ],
          [
           10
          ],
          [
           156
          ],
          [
           275
          ],
          [
           15
          ],
          [
           97
          ],
          [
           277
          ],
          [
           260
          ],
          [
           119
          ],
          [
           22
          ],
          [
           156
          ],
          [
           173
          ],
          [
           203
          ],
          [
           145
          ],
          [
           6
          ],
          [
           262
          ],
          [
           372
          ],
          [
           45
          ],
          [
           223
          ],
          [
           228
          ],
          [
           132
          ],
          [
           191
          ],
          [
           180
          ],
          [
           177
          ],
          [
           223
          ],
          [
           212
          ],
          [
           204
          ],
          [
           319
          ],
          [
           62
          ],
          [
           134
          ],
          [
           155
          ],
          [
           29
          ],
          [
           202
          ],
          [
           305
          ],
          [
           340
          ],
          [
           163
          ],
          [
           264
          ],
          [
           345
          ],
          [
           160
          ],
          [
           201
          ],
          [
           96
          ],
          [
           167
          ],
          [
           120
          ],
          [
           32
          ],
          [
           63
          ],
          [
           173
          ],
          [
           4
          ],
          [
           333
          ],
          [
           44
          ],
          [
           160
          ],
          [
           89
          ],
          [
           30
          ],
          [
           20
          ],
          [
           58
          ],
          [
           30
          ],
          [
           22
          ],
          [
           10
          ],
          [
           0
          ],
          [
           280
          ],
          [
           475
          ],
          [
           320
          ],
          [
           289
          ],
          [
           133
          ],
          [
           160
          ],
          [
           383
          ],
          [
           201
          ],
          [
           340
          ],
          [
           232
          ],
          [
           283
          ]
         ],
         "hovertemplate": "<b>%{hovertext}</b><br><br>StationAre=urban<br>avg15=%{marker.size}<br>Latitude=%{lat}<br>Longitude=%{lon}<br>Altitude=%{customdata[0]}<extra></extra>",
         "hovertext": [
          "Shkoder",
          "Klagenfurt Völkermarkter Straße",
          "Klagenfurt Sterneckstraße",
          "Wolfsberg Hauptschule",
          "St. Pölten Eybnerstraße",
          "Braunau Zentrum, Kolpingplatz",
          "Steyr Münichholz",
          "Voitsberg Mühlgasse",
          "Kendlerstraße",
          "Stadlau",
          "26BB15 - BRUGGE",
          "26R701 - GENT",
          "26R801 - BORGERHOUT",
          "41R001 - MOLENBEEK",
          "43R221 - LIEGE",
          "45R501 - CHARLEROI",
          "44R701 - GENT",
          "42R801 - BORGERHOUT",
          "LIMASSOL RESIDENTIAL",
          "NICOSIA RESIDENTIAL",
          "LARNAKA RESIDENTIAL",
          "Praha 2-Riegrovy sady",
          "Praha 5-Stodulky",
          "Ceske Budejovice",
          "Pardubice Dukla",
          "Jihlava",
          "Olomouc-Hejcin",
          "Plzen-Bory",
          "Plzen-Lochotin",
          "Kladno-stred mesta",
          "Mlada Boleslav",
          "Ostrava-Zabreh",
          "Trinec-Kosmos",
          "Most",
          "Teplice",
          "Potsdam-Zentrum",
          "Cottbus",
          "B Wedding-Amrumer Str.",
          "B Neukölln-Nansenstraße",
          "B Mitte, Brückenstraße",
          "Stuttgart Bad Cannstatt",
          "Ulm",
          "Pforzheim",
          "Konstanz",
          "Karlsruhe-Nordwest",
          "Freiburg",
          "Augsburg/Bourges-Platz",
          "Bamberg/Löwenbrücke",
          "München/Lothstraße",
          "Neu-Ulm/Gabelsbergerstraße",
          "Nürnberg/Muggenhof",
          "Weiden i.d.OPf./Nikolaistraße",
          "Passau/Stelzhamerstraße",
          "Bremen-Ost",
          "Bremerhaven",
          "Frankfurt-Ost",
          "Kassel-Mitte",
          "Wiesbaden-Süd",
          "Hamburg Sternschanze",
          "Hamburg Wilhelmsburg",
          "Güstrow",
          "Rostock-Warnemünde",
          "Osnabrück",
          "Hannover",
          "Dortmund-Eving",
          "Essen-Vogelheim",
          "Düsseldorf-Lörick",
          "Wuppertal-Langerfeld",
          "Schwerte",
          "Mainz-Zitadelle",
          "Kaiserslautern-Rathausplatz",
          "Bad Kreuznach-Bosenheimer Straße",
          "Lübeck-St. Jürgen",
          "Saarbrücken-City",
          "Leipzig-West",
          "Dresden-Winckelmannstr.",
          "Halle/Nord",
          "Magdeburg/West",
          "Erfurt Krämpferstr.",
          "Greiz Mollbergstr.",
          "Zella-Mehlis",
          "Copenhagen/1259",
          "Ĺrhus/6160",
          "Őismäe",
          "Tartu",
          "Narva",
          "Barcelona (Zona Universitŕria)",
          "Barcelona (el Poblenou)",
          "ESTACION 1 (ESTE)",
          "BURGOS 4",
          "ITURRAMA",
          "CÁCERES",
          "VALČNCIA-VIVERS",
          "RENOVALES",
          "TOLEDO2",
          "Barcelona (parc de la Vall d'Hebron)",
          "COMPOSTELA",
          "VALČNCIA-POLITČCNIC",
          "ALCORCÓN",
          "ALACANT-FLORIDA-BABEL",
          "MENDEZ ALVARO",
          "Kasarmipuisto",
          "Kallio 2",
          "Vaasa vesitorni",
          "Nahkurintori 2",
          "Kaleva",
          "Metz-Centre",
          "Thionville-Centre",
          "GENNEVILLIERS",
          "VITRY-SUR-SEINE",
          "PARIS Centre",
          "BOBIGNY",
          "Le Havre ville-haute",
          "Valenciennes Acacias",
          "Cambrai Gambetta",
          "Montferrand",
          "Prés Arčnes",
          "Les Carmes",
          "place de VERDUN",
          "Ecole Jules Ferry",
          "Square Pablo Casals",
          "Place Orbigny LR",
          "Malo-les-Bains",
          "Calais Berthelot",
          "Lille Fives",
          "BERTHELOT",
          "Jean d Aulan",
          "St DIZIER L. Michel",
          "Grenoble Les Frenes",
          "STG Est",
          "Mulhouse Sud 2",
          "P. Roth St Quentin",
          "Faiencerie Creil",
          "St Pierre Amiens",
          "Brest Mace",
          "Lorient B. Bissonnet",
          "Vannes UTA",
          "VAULX EN VELIN",
          "VILLEFRANCHE Village",
          "LYON Centre",
          "Station de FORBACH",
          "LEON BLUM",
          "BEAUX ARTS",
          "SOURCES",
          "CIM BOUTEILLERIE",
          "MANOSQUE",
          "GAP COMMANDERIE",
          "NICE ARSON",
          "Espace du Palais",
          "Station PEJOCES",
          "Station AUXERRE",
          "Bethune Stade",
          "SAINT ETIENNE SUD",
          "SAINT-CHAMOND",
          "Nancy-Charles III",
          "BILLERE",
          "SAINT-CROUTS",
          "DAX",
          "Le Creusot Molette",
          "PASTEUR",
          "LOVERCHY",
          "ANNEMASSE",
          "St Jean",
          "Joué lčs Tours",
          "Vierzon",
          "Lucé",
          "LIMOGES - Présidial",
          "Valence Urb. Centre",
          "Besancon Prevoyance",
          "Montbéliard centre",
          "Lons-le-Saunier CV",
          "London Bloomsbury",
          "Belfast Centre",
          "Cardiff Centre",
          "Leeds Centre",
          "Southampton Centre",
          "Manchester Piccadilly",
          "London N. Kensington",
          "Leamington Spa",
          "Nottingham Centre",
          "Stoke-on-Trent Centre",
          "Salford Eccles",
          "Derry",
          "Southend-on-Sea",
          "Aberdeen",
          "Wirral Tranmere",
          "Preston",
          "Portsmouth",
          "Bournemouth",
          "London Westminster",
          "Hull Freetown",
          "Edinburgh St Leonards",
          "Reading New Town",
          "Birmingham Tyburn",
          "Brighton Preston Park",
          "Sunderland Silksworth",
          "Wigan Centre",
          "Blackpool Marton",
          "Bristol St Pauls",
          "York Bootham",
          "Oxford St Ebbes",
          "London Harrow Stanmore",
          "Newport",
          "Norwich Lakenfields",
          "Birmingham Acocks Green",
          "Northampton Kingsthorpe",
          "London Teddington Bushy Park",
          "Leicester University",
          "Glasgow Townhead",
          "Coventry Allesley",
          "ZAGREB PPI PM2,5 - Ksaverska cesta - RH0121 - HR0021A; Državna mreža za trajno pracenje kvalitete zr",
          "Split-1 - SD0203 - HR0022A; Mjerna mreža Cemex Hrvatska d.o.o.",
          "Zürich-Kaserne",
          "Lugano-Universitŕ",
          "Reykjavik Husdyragardurinn",
          "LA1 Laces",
          "ROVERETO LGP",
          "BERGAMO - VIA MEUCCI",
          "CITTADELLA",
          "QUARTO - GENOVA",
          "FI-BASSI",
          "GIARDINI MARGHERITA",
          "PAVIA - VIA FOLPERTI",
          "S. LAZZARO",
          "AR-ACROPOLI",
          "VILLA ADA",
          "CINECITTA",
          "VE - Parco Bissuola",
          "CAIROLI",
          "AOSTA (PIAZZA PLOUVES)",
          "PARCO BUCCI",
          "TRENTO PSC",
          "MARECCHIA",
          "PARCO RESISTENZA",
          "BASSANO DEL GRAPPA",
          "PI-PASSI",
          "VI - Quartiere Italia",
          "CORTONESE",
          "LU-VIAREGGIO",
          "LU-CAPANNORI",
          "CAORLE",
          "SAN DONA' DI PIAVE",
          "Biella - Sturzo",
          "CONEGLIANO",
          "BORGO RIVO",
          "PD - Mandria",
          "Verbania - Gabardi",
          "Cuneo - Alpini",
          "Borgosesia - Tonella",
          "MAGGIOLINA - LA SPEZIA",
          "LI-CAPPIELLO",
          "TV - Via Lancieri di Novara",
          "GR-URSS",
          "BL - Cittŕ",
          "SARONNO - SANTUARIO",
          "PO-ROMA",
          "MILANO PASCAL CITTŕ STUDI",
          "BRESCIA VILLAGGIO SERENO",
          "CREMONA VIA FATEBENEFRATELLI",
          "MONZA - VIA  MACHIAVELLI",
          "PARCO FERRARI",
          "LECCO VIA SORA",
          "Alessandria - Volta",
          "CIPRO",
          "MONTICELLI",
          "Piazza Vittoria",
          "MANTOVA SANT'AGNESE",
          "VARALDO - SAVONA",
          "PIAZZA 40 MARTIRI",
          "ARENULA",
          "VILLA FULVIA",
          "Cittŕ dei ragazzi",
          "Locri",
          "CENSA3",
          "LODI S.ALBERTO",
          "SONDRIO - VIA PARIBELLI",
          "PARCO MONTECUCCO",
          "CENMO1",
          "stadio casardi",
          "CENPT1",
          "FROSINONE MAZZINI",
          "Villa Comunale",
          "Gioacchino da Fiore (via)",
          "SI-POGGIBONSI",
          "PARCO EDILCARANI",
          "Parco della biodiversitŕ mediterranea",
          "C Castello",
          "Amelia",
          "Acri",
          "Torino Lingotto",
          "Aosta Liconi",
          "Vilnius - Lazdynai",
          "N.Akmene",
          "Kaunas - Noreikiskes",
          "Luxembourg Bonnevoie",
          "Esch/Alzette",
          "Ventspils parventa",
          "Riga Kronvalda boulevard",
          "Zejtun Station",
          "Amsterdam-Vondelpark",
          "Amsterdam-Westerpark",
          "Veldhoven-Europalaan",
          "Rotterdam Zuid-Zwartewaalstraat",
          "Schiedam-Alphons Arienstraat",
          "Utrecht-Griftpark",
          "Zaandam-Wagenschotpad",
          "Nijmegen-Ruyterstraat",
          "Rĺdhuset",
          "Sofienbergparken",
          "Torvet",
          "Katowice, ul. Kossutha 6",
          "AM8 Gdansk Wrzeszcz",
          "Torun POLICJA",
          "BialaP-Orzechowa",
          "Lublin Ul. Sliwinskiego",
          "Zamosc ul. Hrubieszowska 69A",
          "Lódz-Widzew",
          "Lódz-Legionów 1",
          "Zgierz-Sródmiescie",
          "Plock-Reja",
          "Radom-Tochtermana",
          "Warszawa-Ursynów",
          "Warszawa-Targówek",
          "Zyrardów-Roosevelta",
          "Bialystok-Miejska",
          "Lomza Sikorskiego 48/94",
          "Suwalki, ul. Pulaskiego 73",
          "AM11 Slupsk Kniaziewicza",
          "WIOS Olsztyn ul. Puszkina",
          "WIOS Ostróda ul. Chrobrego",
          "Legnica - Rzeczypospolitej",
          "Walbrzych - Wysockiego",
          "Wroclaw - Korzeniowskiego",
          "Zgorzelec - Bohaterów Getta",
          "Zielona Góra ul. Krótka",
          "K-Kozle automat 1",
          "Gliwice, ul. Mewy 34",
          "WKPPoznan1",
          "Szczecin_Andrzejewskiego",
          "Nisko-Szklarniowa-WIOS",
          "Kielce, ul. Jagiellonska",
          "WIOS Elblag ul. Bazynskiego",
          "Plock-Gimnazjum",
          "Krosno-Kletówki",
          "Zory, Os. Gen. Wladyslawa Sikorskiego 52",
          "Wroclaw - Na Grobli",
          "Gorzów Wlkp. ul. Pilsudskiego",
          "Radom-Hallera",
          "Opole manualna 4",
          "Rzeszów-Nowe Miasto",
          "Bialystok-Warszawska",
          "Zaspa",
          "Czestochowa, ul. Zana 6",
          "Bielsko-Biala, ul. Sternicza",
          "Koszalin_Spasowskiego",
          "Kraków, ul. Bujaka",
          "Tarnów, ul. Bitwy pod Studziankami",
          "WKPKalisz",
          "Lublin ul. Obywatelska",
          "Piotrków Tryb.-Krakowskie Przedmiescie",
          "Kluczbork manualna 2",
          "Jaslo-Sikorskiego-WIOS",
          "Busko-Zdrój, ul. Rokosza",
          "Godów, ul. Gliniki",
          "Tarnowskie Góry, ul. Litewska",
          "Myslibórz_ZaBramka",
          "Szczecinek_1Maja",
          "Siedlce-Konarskiego",
          "Grudziadz Starówka",
          "Bochnia, ul. Konfederatów Barskich",
          "Nowy Sacz, ul. Nadbrzezna",
          "Trzebinia, os. Zwiazku Walki Mlodych",
          "AM12 Koscierzyna Targowa",
          "Starachowice, ul. Zlota",
          "Jelenia Góra - Oginskiego",
          "Zary, ul. Szymanowskiego 8",
          "Przemysl-Grunwaldzka-WIOS",
          "Ostroleka-Hallera",
          "Mielec-MOSIR-WIOS",
          "WpPleszew",
          "Olivais",
          "Laranjeiro",
          "Mem Martins",
          "Joaquim Magalhăes",
          "CJ-2",
          "IS-2",
          "PH-2",
          "TM-2",
          "Göteborg Femman",
          "Landskrona Polishuset",
          "Stockholm Torkel Knutssongatan",
          "Stockholm Olaus Petri",
          "Uppsala Klostergatan",
          "Burlöv Församlingshemmet",
          "Umeĺ Förskolan Uven",
          "Maribor Vrbanski plato",
          "Ruzomberok - Riadok",
          "Hnusta - Hlavna",
          "Jelsava - Jesenskeho",
          "Strazske - Mierova",
          "Humenne - Nam. slobody",
          "Martin - Jesenskeho",
          "Kosice - Amurska",
          "Brno-Lisen",
          "Hr.Kral.-tr.SNP",
          "Jicin"
         ],
         "lat": [
          42.3139,
          46.62556,
          46.626617,
          46.835,
          48.2125,
          48.257778,
          48.049444,
          47.044722,
          48.205,
          48.226361,
          51.213463,
          51.058332,
          51.209663,
          50.849665,
          50.658444,
          50.409311,
          51.058332,
          51.209663,
          34.681633,
          35.126975,
          34.91363,
          50.081482,
          50.046131,
          48.984386,
          50.024036,
          49.401596,
          49.601463,
          49.728394,
          49.770126,
          50.14386,
          50.428646,
          49.79604,
          49.668114,
          50.510365,
          50.645279,
          52.401352,
          51.746344,
          52.543041,
          52.489451,
          52.513606,
          48.8088,
          48.396836,
          48.889039,
          47.664361,
          49.028594,
          48.001511,
          48.376576,
          49.89833,
          48.154534,
          48.397079,
          49.462229,
          49.67895,
          48.573629,
          53.060045,
          53.562455,
          50.125332,
          51.314248,
          50.050343,
          53.56414,
          53.50793,
          53.78175,
          54.17133,
          52.25534,
          52.36292,
          51.536911,
          51.496527,
          51.249211,
          51.277647,
          51.448762,
          49.994975,
          49.446,
          49.842136,
          53.835492,
          49.233464,
          51.317905,
          51.036105,
          51.496185,
          52.127899,
          50.979455,
          50.655861,
          50.653245,
          55.700281,
          56.159783,
          59.414169,
          58.370556,
          59.376161,
          41.384906,
          41.403882,
          42.210278,
          42.33611,
          42.80722,
          39.47278,
          39.478056,
          41.63528,
          39.86806,
          41.426077,
          42.875833,
          39.480278,
          40.34194,
          38.340278,
          40.398056,
          62.8936,
          60.18739,
          63.10121,
          60.25145,
          61.4991,
          49.119427,
          49.358314,
          48.929692,
          48.775773,
          48.858998,
          48.902477,
          49.514695,
          50.35853,
          50.172479,
          45.797264,
          43.591552,
          42.695777,
          46.162573,
          46.329562,
          45.647439,
          46.161639,
          51.048572,
          50.947317,
          50.628039,
          43.587193,
          49.224145,
          48.645839,
          45.161929,
          48.570346,
          47.737411,
          49.851339,
          49.259568,
          49.902514,
          48.386397,
          47.742485,
          47.648889,
          45.778911,
          45.9864,
          45.757731,
          49.187404,
          47.264106,
          47.468541,
          47.97105,
          47.222514,
          43.835302,
          44.555222,
          43.702057,
          49.442438,
          47.308041,
          47.800566,
          50.535404,
          45.420088,
          45.475296,
          48.688199,
          43.310806,
          43.479736,
          43.70472,
          46.802215,
          45.564735,
          45.895257,
          46.19585,
          47.917375,
          47.344149,
          47.222026,
          48.439286,
          45.831075,
          44.93351,
          47.2474,
          47.510303,
          46.671325,
          51.52229,
          54.59965,
          51.48178,
          53.80378,
          50.90814,
          53.48152,
          51.52105,
          52.28881,
          52.95473,
          53.02821,
          53.48481,
          55.001225,
          51.544206,
          57.15736,
          53.37287,
          53.76559,
          50.82881,
          50.73957,
          51.49467,
          53.74878,
          55.945589,
          51.45309,
          52.511722,
          50.840836,
          54.88361,
          53.54914,
          53.80489,
          51.462839,
          53.967513,
          51.744806,
          51.617333,
          51.601203,
          52.614193,
          52.437165,
          52.271886,
          51.425286,
          52.619823,
          55.865782,
          52.411563,
          45.834372,
          43.510653,
          47.377617,
          46.011111,
          64.138883,
          46.61949,
          45.89244,
          45.690278,
          44.79361,
          44.396389,
          43.78667,
          44.48333,
          45.193889,
          44.690833,
          43.46111,
          41.932778,
          41.857778,
          45.499167,
          46.066111,
          45.73583,
          44.28333,
          46.06293,
          44.0625,
          44.219167,
          45.760833,
          43.738889,
          45.560556,
          43.10306,
          43.883889,
          43.840833,
          44.42,
          45.630278,
          45.55882,
          45.890556,
          42.58194,
          45.371944,
          45.93034,
          44.38175,
          45.71317,
          44.117778,
          43.52,
          45.6725,
          42.77861,
          46.141389,
          45.626944,
          43.87278,
          45.47833,
          45.515278,
          45.142222,
          45.58111,
          44.65061,
          45.849444,
          44.9203,
          41.906389,
          42.84861,
          42.73972,
          45.160556,
          44.315278,
          43.35278,
          41.893889,
          44.825,
          39.3134,
          38.22976,
          39.066667,
          45.302787,
          46.16861,
          45.038333,
          39.260556,
          41.31667,
          40.831389,
          41.638889,
          38.10495,
          39.06808,
          43.47278,
          44.53944,
          38.918288,
          43.456944,
          42.551944,
          39.48963,
          45.02494,
          45.734306,
          54.686111,
          56.31944,
          54.883614,
          49.59769,
          49.50504,
          57.403997,
          56.954847,
          35.852321,
          52.359997,
          52.393059,
          51.407501,
          51.89389,
          51.921111,
          52.102222,
          52.450001,
          51.838889,
          60.39213,
          59.92295,
          63.43038,
          50.264611,
          54.380279,
          53.028647,
          52.029194,
          51.273078,
          50.716628,
          51.75805,
          51.776417,
          51.856692,
          52.550938,
          51.399084,
          52.160772,
          52.290864,
          52.053811,
          53.126689,
          53.181394,
          54.117878,
          54.463611,
          53.789233,
          53.692469,
          51.204503,
          50.768729,
          51.129378,
          51.150391,
          51.939783,
          50.349608,
          50.279333,
          52.398175,
          53.380975,
          50.529892,
          50.872549,
          54.167847,
          52.556279,
          49.690169,
          50.028681,
          51.103456,
          52.747044,
          51.415324,
          50.676856,
          50.024242,
          53.129306,
          54.398639,
          50.801918,
          49.806389,
          54.20705,
          50.010575,
          50.020169,
          51.749053,
          51.259431,
          51.404406,
          50.972181,
          49.744886,
          50.453653,
          49.921875,
          50.444736,
          52.926189,
          53.712097,
          52.172145,
          53.491831,
          49.969017,
          49.619281,
          50.159406,
          54.120694,
          51.050611,
          50.913433,
          51.642656,
          49.784339,
          53.083736,
          50.300761,
          51.885218,
          38.768889,
          38.663611,
          38.785,
          37.015,
          46.775002,
          47.151112,
          44.939201,
          45.755493,
          57.708611,
          55.869659,
          59.31694,
          59.346111,
          59.860111,
          55.633598,
          63.820801,
          46.568722,
          49.079166,
          48.583611,
          48.631111,
          48.874165,
          48.930836,
          49.066944,
          48.691113,
          49.213231,
          50.218543,
          50.439498
         ],
         "legendgroup": "urban",
         "lon": [
          19.52342,
          14.31806,
          14.299144,
          14.843611,
          15.634167,
          13.039722,
          14.442778,
          15.152778,
          16.30975,
          16.458345,
          3.234066,
          3.729298,
          4.431821,
          4.33382,
          5.627835,
          4.452172,
          3.729298,
          4.431821,
          33.017758,
          33.331629,
          33.615856,
          14.442692,
          14.331413,
          14.465684,
          15.763549,
          15.610246,
          17.238073,
          13.37554,
          13.368221,
          14.101784,
          14.913859,
          18.247181,
          18.677799,
          13.645272,
          13.85125,
          13.059945,
          14.33455,
          13.349326,
          13.430844,
          13.418833,
          9.229745,
          9.979031,
          8.665536,
          9.169289,
          8.355628,
          7.832122,
          10.88837,
          10.887686,
          11.554669,
          10.008293,
          11.0248,
          12.159361,
          13.422039,
          8.916966,
          8.569405,
          8.746343,
          9.483397,
          8.244949,
          9.967882,
          9.990569,
          12.175512,
          12.080003,
          8.05286,
          9.70612,
          7.457463,
          6.981045,
          6.732383,
          7.231895,
          7.582295,
          8.273965,
          7.7673,
          7.866208,
          10.695936,
          6.987601,
          12.297411,
          13.730205,
          11.979056,
          11.611464,
          11.037924,
          12.205199,
          10.668641,
          12.561412,
          10.193633,
          24.649458,
          26.734722,
          28.179167,
          2.119574,
          2.204523,
          -8.736944,
          -3.63611,
          -1.65139,
          -6.36028,
          -0.368333,
          -0.89361,
          -4.02083,
          2.147992,
          -8.559167,
          -0.336389,
          -3.83389,
          -0.506667,
          -3.686667,
          27.66952,
          24.9506,
          21.60407,
          24.06287,
          23.80221,
          6.180831,
          6.156945,
          2.294719,
          2.375801,
          2.350999,
          2.4525,
          0.100645,
          3.508038,
          3.236064,
          3.11383,
          3.886893,
          2.899699,
          -1.153599,
          -0.458889,
          0.167167,
          -1.211207,
          2.420043,
          1.843082,
          3.090312,
          1.443889,
          4.020554,
          4.966111,
          5.735599,
          7.766331,
          7.309079,
          3.283998,
          2.4744,
          2.304601,
          -4.486815,
          -3.394805,
          -2.763892,
          4.924699,
          4.719281,
          4.854217,
          6.910865,
          -2.249858,
          -0.556053,
          0.221422,
          -1.537503,
          5.785833,
          6.07306,
          7.286262,
          1.09369,
          5.066112,
          3.576391,
          2.635693,
          4.395421,
          4.515004,
          6.190434,
          -0.391111,
          -1.488059,
          -1.038614,
          4.417501,
          5.928333,
          6.118336,
          6.24056,
          1.966259,
          0.653776,
          2.072997,
          1.468772,
          1.256878,
          4.893483,
          6.015416,
          6.794003,
          5.556808,
          -0.125889,
          -5.928833,
          -3.17625,
          -1.546472,
          -1.395778,
          -2.237881,
          -0.213492,
          -1.533119,
          -1.146447,
          -2.175133,
          -2.334139,
          -7.329115,
          0.678408,
          -2.094278,
          -3.022722,
          -2.680353,
          -1.068583,
          -1.826744,
          -0.131931,
          -0.341222,
          -3.182186,
          -0.944067,
          -1.830583,
          -0.147572,
          -1.406878,
          -2.638139,
          -3.007175,
          -2.584482,
          -1.086514,
          -1.260278,
          -0.298777,
          -2.977281,
          1.301976,
          -1.829999,
          -0.879898,
          -0.345606,
          -1.127311,
          -4.243631,
          -1.560228,
          15.978394,
          16.449342,
          8.530411,
          8.957174,
          -21.873348,
          10.85907,
          11.03941,
          9.643889,
          10.33167,
          8.992222,
          11.2875,
          11.355,
          9.164722,
          10.664722,
          11.88889,
          12.506944,
          12.568611,
          12.262222,
          13.240556,
          7.32417,
          11.87056,
          11.1262,
          12.553333,
          12.048889,
          11.736667,
          10.401667,
          11.539722,
          12.36611,
          10.245,
          10.573889,
          12.225556,
          12.591667,
          8.05639,
          12.308056,
          12.62361,
          11.841944,
          8.56548,
          7.5382,
          8.28353,
          9.842778,
          10.321667,
          12.238611,
          11.11917,
          12.216944,
          9.024167,
          11.09194,
          9.23583,
          10.219444,
          10.045833,
          9.27444,
          10.90633,
          9.395833,
          8.6232,
          12.4475,
          13.61944,
          12.73722,
          10.795556,
          8.485556,
          12.57639,
          12.475278,
          11.649722,
          16.24517,
          16.25518,
          9.008889,
          9.495286,
          9.88028,
          9.669167,
          9.136389,
          16.28611,
          8.405278,
          13.323333,
          15.63879,
          17.11417,
          11.14194,
          10.79139,
          16.57925,
          12.245833,
          12.419722,
          16.3868,
          7.64905,
          7.329645,
          25.210835,
          22.87084,
          23.835835,
          6.13759,
          5.97694,
          21.590317,
          24.104756,
          14.538963,
          4.808897,
          4.870003,
          5.393333,
          4.4875,
          4.401389,
          5.128334,
          4.816667,
          5.858061,
          5.32805,
          10.76573,
          10.39355,
          18.975028,
          18.620274,
          18.666103,
          23.149389,
          22.551675,
          23.290247,
          19.529786,
          19.452936,
          19.421231,
          19.709791,
          21.147474,
          21.033819,
          21.042458,
          20.429892,
          23.155869,
          22.054381,
          22.934608,
          17.046722,
          20.486075,
          19.969778,
          16.180513,
          16.269677,
          17.02925,
          15.008175,
          15.518861,
          18.236575,
          18.655764,
          16.959519,
          14.663347,
          22.112467,
          20.604998,
          19.410942,
          19.687672,
          21.7497,
          18.691222,
          17.059225,
          15.246294,
          21.171285,
          17.950278,
          22.010575,
          23.181744,
          18.614333,
          19.106961,
          19.023194,
          16.193103,
          19.949189,
          21.004167,
          18.048389,
          22.569133,
          19.696956,
          18.207575,
          21.454617,
          20.715442,
          18.471278,
          18.829639,
          14.862558,
          16.692264,
          22.282001,
          18.752503,
          20.439511,
          20.714403,
          19.477464,
          17.975861,
          21.084175,
          15.765608,
          15.127808,
          22.756239,
          21.579322,
          21.434331,
          17.788673,
          -9.108056,
          -9.157778,
          -9.347222,
          -7.926667,
          23.596678,
          27.583614,
          26.025902,
          21.227453,
          11.970002,
          12.829702,
          18.057501,
          18.090834,
          17.635658,
          13.0788,
          20.289301,
          15.627231,
          19.302525,
          19.951685,
          20.240284,
          21.837503,
          21.913622,
          18.921947,
          21.286388,
          16.677942,
          15.856972,
          15.352657
         ],
         "marker": {
          "color": "#FF6692",
          "opacity": 0.4,
          "size": [
           13.236321,
           16.919576,
           14.608504,
           19.190335,
           13.97845,
           12.523505,
           11.781854,
           14.787564,
           14.100782,
           14.567044,
           12.944598,
           14.640805,
           14.81268,
           14.705634,
           11.341185,
           12.842754,
           14.327172,
           14.569196,
           17.802967,
           16.875843,
           20.32358,
           15.57881,
           15.313738,
           14.266245,
           18.682784,
           16.489249,
           23.921083,
           18.435565,
           16.653832,
           12.296574,
           17.270451,
           25.380925,
           24.696366,
           18.666911,
           19.436881,
           13.695237,
           13.485642,
           15.250826,
           17.119724,
           16.061823,
           12.379726,
           13.192736,
           11.823123,
           12.423116,
           11.994496,
           10.578466,
           13.376674,
           13.076938,
           12.392775,
           13.687462,
           13.515509,
           13.427596,
           15.24653,
           11.951139,
           10.282646,
           13.002718,
           11.948696,
           12.040123,
           12.951982,
           13.776988,
           11.565453,
           10.882653,
           11.325708,
           11.397428,
           14.033249,
           15.073384,
           12.705393,
           12.574983,
           12.789846,
           13.271031,
           12.890498,
           12.711364,
           11.214417,
           12.244933,
           12.017583,
           13.010192,
           12.893257,
           12.934388,
           11.104895,
           11.983944,
           10.383987,
           11.635107,
           9.856579,
           6.27563,
           8.941618,
           5.943251,
           15.060833,
           17.963018,
           14.872995,
           10.019336,
           11.227654,
           6.720053,
           19.688172,
           12.155689,
           11.965899,
           15.321534,
           7.301614,
           12.099082,
           8.019741,
           12.634615,
           11.917005,
           4.539228,
           5.415536,
           4.354429,
           4.460459,
           5.945455,
           15.01001,
           14.09636,
           13.264381,
           13.648356,
           14.266079,
           13.432214,
           10.268031,
           14.247516,
           12.300589,
           11.424204,
           14.051007,
           10.047503,
           10.455317,
           11.060378,
           11.263739,
           10.200199,
           11.856743,
           10.783774,
           15.476296,
           11.859996,
           13.463603,
           11.944279,
           15.824027,
           17.091193,
           14.391216,
           13.069344,
           11.84155,
           12.436338,
           9.130502,
           8.986247,
           6.97379,
           14.267857,
           15.162516,
           17.283563,
           13.107667,
           9.532049,
           12.315558,
           13.002057,
           13.647651,
           12.479338,
           14.689587,
           14.284461,
           13.04293,
           13.484743,
           11.705437,
           14.057797,
           8.417138,
           13.46916,
           13.95688,
           10.606602,
           11.514683,
           13.87172,
           11.153179,
           15.848167,
           17.685987,
           15.527387,
           13.195039,
           13.412708,
           12.230161,
           10.002186,
           10.402739,
           16.58613,
           15.034951,
           13.62339,
           12.420192,
           10.928548,
           9.030004,
           9.5591,
           11.433325,
           9.960425,
           10.47755,
           9.7907,
           12.262142,
           11.497954,
           11.691325,
           10.586222,
           11.752537,
           10.624283,
           8.038827,
           7.203831,
           9.953742,
           10.395696,
           7.486961,
           9.590462,
           10.877774,
           6.386624,
           7.420871,
           9.545399,
           9.318762,
           7.103531,
           10.764287,
           8.477523,
           10.24675,
           10.189576,
           10.11053,
           10.828675,
           9.568158,
           11.945411,
           8.996075,
           6.794377,
           9.67155,
           12.019491,
           6.546663,
           10.939653,
           20.816775,
           10.839764,
           11.771429,
           13.176438,
           9.942876,
           16.021639,
           15.861111,
           25.672981,
           21.470914,
           12.044985,
           15.642424,
           18.206687,
           23.245029,
           20.714681,
           16.205797,
           16.130435,
           21.762712,
           28.423729,
           18.531698,
           11.853933,
           14.008746,
           16.063361,
           22.791429,
           17.093294,
           20.442857,
           16.962536,
           29.216138,
           20.089783,
           17.667606,
           25.087571,
           19.40634,
           23.456044,
           15.779944,
           23.345506,
           23.597765,
           31.25,
           12.836676,
           16.387283,
           16.571031,
           14.185908,
           10.670423,
           26.501424,
           10.985755,
           14.539945,
           24.721369,
           20.270423,
           31.901896,
           29.066077,
           30.006571,
           27.024926,
           22.160221,
           15.812325,
           24.369863,
           17.470423,
           12.446512,
           13.835196,
           27.225808,
           12.594153,
           16.910448,
           16.896359,
           19.387187,
           13.485074,
           13.020991,
           12.468866,
           26.504819,
           21.683129,
           24.078313,
           11.979769,
           15.486065,
           9.336517,
           25.58651,
           11.089119,
           18.071562,
           13.27762,
           18.09621,
           9.096707,
           20.144928,
           13.823529,
           15.727735,
           27.160256,
           13.823171,
           10.65067,
           7.830097,
           9.907301,
           11.669167,
           12.02807,
           12.312014,
           15.917079,
           12.476221,
           12.448128,
           11.538978,
           10.673576,
           12.640694,
           13.344757,
           14.21835,
           12.803076,
           12.125276,
           6.762815,
           8.825313,
           4.731638,
           27.273273,
           12.897218,
           18.868486,
           26.346154,
           21.293151,
           23.956164,
           22.134072,
           29.728571,
           20.457289,
           21.465559,
           28.090908,
           21.181222,
           23.627787,
           30.140162,
           19.287655,
           26.642072,
           13.33061,
           14.065972,
           16.745363,
           17.259802,
           22.905817,
           18.906728,
           23.967134,
           18.416522,
           20.787204,
           27.025765,
           30.896265,
           24.35196,
           15.355014,
           22.990962,
           25.604647,
           14.942473,
           21.413407,
           24.474444,
           27.773988,
           22.862136,
           16.646648,
           24.972535,
           21.215068,
           22.787147,
           21.247697,
           14.212885,
           26.001714,
           25.894944,
           13.471781,
           33.717808,
           25.156742,
           27.188195,
           28.158287,
           31.571388,
           20.310056,
           24.067817,
           21.007445,
           34.88745,
           29.098494,
           20.107374,
           14.334493,
           24.910774,
           26.828296,
           29.210169,
           36.010959,
           25.841226,
           22.855385,
           22.348468,
           18.372678,
           19.588286,
           25.920167,
           21.023672,
           27.10193,
           33.561364,
           11.345238,
           13.551207,
           12.228133,
           11.912215,
           17.301691,
           23.156837,
           16.893697,
           11.119221,
           8.266937,
           7.792754,
           4.80579,
           4.209584,
           4.136593,
           8.251126,
           3.677026,
           19.259669,
           22.749334,
           17.574611,
           22.278441,
           20.164213,
           19.419321,
           17.417422,
           18.989409,
           18.477178,
           20.18,
           18.397
          ],
          "sizemode": "area",
          "sizeref": 0.25007610416666665
         },
         "mode": "markers",
         "name": "urban",
         "showlegend": true,
         "subplot": "mapbox",
         "type": "scattermapbox"
        }
       ],
       "layout": {
        "height": 900,
        "legend": {
         "itemsizing": "constant",
         "title": {
          "text": "StationAre"
         },
         "tracegroupgap": 0
        },
        "mapbox": {
         "center": {
          "lat": 48.536053066197184,
          "lon": 9.552567835211267
         },
         "domain": {
          "x": [
           0,
           1
          ],
          "y": [
           0,
           1
          ]
         },
         "style": "carto-positron",
         "zoom": 4
        },
        "margin": {
         "b": 0,
         "l": 0,
         "r": 0,
         "t": 0
        },
        "template": {
         "data": {
          "bar": [
           {
            "error_x": {
             "color": "#2a3f5f"
            },
            "error_y": {
             "color": "#2a3f5f"
            },
            "marker": {
             "line": {
              "color": "#E5ECF6",
              "width": 0.5
             }
            },
            "type": "bar"
           }
          ],
          "barpolar": [
           {
            "marker": {
             "line": {
              "color": "#E5ECF6",
              "width": 0.5
             }
            },
            "type": "barpolar"
           }
          ],
          "carpet": [
           {
            "aaxis": {
             "endlinecolor": "#2a3f5f",
             "gridcolor": "white",
             "linecolor": "white",
             "minorgridcolor": "white",
             "startlinecolor": "#2a3f5f"
            },
            "baxis": {
             "endlinecolor": "#2a3f5f",
             "gridcolor": "white",
             "linecolor": "white",
             "minorgridcolor": "white",
             "startlinecolor": "#2a3f5f"
            },
            "type": "carpet"
           }
          ],
          "choropleth": [
           {
            "colorbar": {
             "outlinewidth": 0,
             "ticks": ""
            },
            "type": "choropleth"
           }
          ],
          "contour": [
           {
            "colorbar": {
             "outlinewidth": 0,
             "ticks": ""
            },
            "colorscale": [
             [
              0,
              "#0d0887"
             ],
             [
              0.1111111111111111,
              "#46039f"
             ],
             [
              0.2222222222222222,
              "#7201a8"
             ],
             [
              0.3333333333333333,
              "#9c179e"
             ],
             [
              0.4444444444444444,
              "#bd3786"
             ],
             [
              0.5555555555555556,
              "#d8576b"
             ],
             [
              0.6666666666666666,
              "#ed7953"
             ],
             [
              0.7777777777777778,
              "#fb9f3a"
             ],
             [
              0.8888888888888888,
              "#fdca26"
             ],
             [
              1,
              "#f0f921"
             ]
            ],
            "type": "contour"
           }
          ],
          "contourcarpet": [
           {
            "colorbar": {
             "outlinewidth": 0,
             "ticks": ""
            },
            "type": "contourcarpet"
           }
          ],
          "heatmap": [
           {
            "colorbar": {
             "outlinewidth": 0,
             "ticks": ""
            },
            "colorscale": [
             [
              0,
              "#0d0887"
             ],
             [
              0.1111111111111111,
              "#46039f"
             ],
             [
              0.2222222222222222,
              "#7201a8"
             ],
             [
              0.3333333333333333,
              "#9c179e"
             ],
             [
              0.4444444444444444,
              "#bd3786"
             ],
             [
              0.5555555555555556,
              "#d8576b"
             ],
             [
              0.6666666666666666,
              "#ed7953"
             ],
             [
              0.7777777777777778,
              "#fb9f3a"
             ],
             [
              0.8888888888888888,
              "#fdca26"
             ],
             [
              1,
              "#f0f921"
             ]
            ],
            "type": "heatmap"
           }
          ],
          "heatmapgl": [
           {
            "colorbar": {
             "outlinewidth": 0,
             "ticks": ""
            },
            "colorscale": [
             [
              0,
              "#0d0887"
             ],
             [
              0.1111111111111111,
              "#46039f"
             ],
             [
              0.2222222222222222,
              "#7201a8"
             ],
             [
              0.3333333333333333,
              "#9c179e"
             ],
             [
              0.4444444444444444,
              "#bd3786"
             ],
             [
              0.5555555555555556,
              "#d8576b"
             ],
             [
              0.6666666666666666,
              "#ed7953"
             ],
             [
              0.7777777777777778,
              "#fb9f3a"
             ],
             [
              0.8888888888888888,
              "#fdca26"
             ],
             [
              1,
              "#f0f921"
             ]
            ],
            "type": "heatmapgl"
           }
          ],
          "histogram": [
           {
            "marker": {
             "colorbar": {
              "outlinewidth": 0,
              "ticks": ""
             }
            },
            "type": "histogram"
           }
          ],
          "histogram2d": [
           {
            "colorbar": {
             "outlinewidth": 0,
             "ticks": ""
            },
            "colorscale": [
             [
              0,
              "#0d0887"
             ],
             [
              0.1111111111111111,
              "#46039f"
             ],
             [
              0.2222222222222222,
              "#7201a8"
             ],
             [
              0.3333333333333333,
              "#9c179e"
             ],
             [
              0.4444444444444444,
              "#bd3786"
             ],
             [
              0.5555555555555556,
              "#d8576b"
             ],
             [
              0.6666666666666666,
              "#ed7953"
             ],
             [
              0.7777777777777778,
              "#fb9f3a"
             ],
             [
              0.8888888888888888,
              "#fdca26"
             ],
             [
              1,
              "#f0f921"
             ]
            ],
            "type": "histogram2d"
           }
          ],
          "histogram2dcontour": [
           {
            "colorbar": {
             "outlinewidth": 0,
             "ticks": ""
            },
            "colorscale": [
             [
              0,
              "#0d0887"
             ],
             [
              0.1111111111111111,
              "#46039f"
             ],
             [
              0.2222222222222222,
              "#7201a8"
             ],
             [
              0.3333333333333333,
              "#9c179e"
             ],
             [
              0.4444444444444444,
              "#bd3786"
             ],
             [
              0.5555555555555556,
              "#d8576b"
             ],
             [
              0.6666666666666666,
              "#ed7953"
             ],
             [
              0.7777777777777778,
              "#fb9f3a"
             ],
             [
              0.8888888888888888,
              "#fdca26"
             ],
             [
              1,
              "#f0f921"
             ]
            ],
            "type": "histogram2dcontour"
           }
          ],
          "mesh3d": [
           {
            "colorbar": {
             "outlinewidth": 0,
             "ticks": ""
            },
            "type": "mesh3d"
           }
          ],
          "parcoords": [
           {
            "line": {
             "colorbar": {
              "outlinewidth": 0,
              "ticks": ""
             }
            },
            "type": "parcoords"
           }
          ],
          "pie": [
           {
            "automargin": true,
            "type": "pie"
           }
          ],
          "scatter": [
           {
            "marker": {
             "colorbar": {
              "outlinewidth": 0,
              "ticks": ""
             }
            },
            "type": "scatter"
           }
          ],
          "scatter3d": [
           {
            "line": {
             "colorbar": {
              "outlinewidth": 0,
              "ticks": ""
             }
            },
            "marker": {
             "colorbar": {
              "outlinewidth": 0,
              "ticks": ""
             }
            },
            "type": "scatter3d"
           }
          ],
          "scattercarpet": [
           {
            "marker": {
             "colorbar": {
              "outlinewidth": 0,
              "ticks": ""
             }
            },
            "type": "scattercarpet"
           }
          ],
          "scattergeo": [
           {
            "marker": {
             "colorbar": {
              "outlinewidth": 0,
              "ticks": ""
             }
            },
            "type": "scattergeo"
           }
          ],
          "scattergl": [
           {
            "marker": {
             "colorbar": {
              "outlinewidth": 0,
              "ticks": ""
             }
            },
            "type": "scattergl"
           }
          ],
          "scattermapbox": [
           {
            "marker": {
             "colorbar": {
              "outlinewidth": 0,
              "ticks": ""
             }
            },
            "type": "scattermapbox"
           }
          ],
          "scatterpolar": [
           {
            "marker": {
             "colorbar": {
              "outlinewidth": 0,
              "ticks": ""
             }
            },
            "type": "scatterpolar"
           }
          ],
          "scatterpolargl": [
           {
            "marker": {
             "colorbar": {
              "outlinewidth": 0,
              "ticks": ""
             }
            },
            "type": "scatterpolargl"
           }
          ],
          "scatterternary": [
           {
            "marker": {
             "colorbar": {
              "outlinewidth": 0,
              "ticks": ""
             }
            },
            "type": "scatterternary"
           }
          ],
          "surface": [
           {
            "colorbar": {
             "outlinewidth": 0,
             "ticks": ""
            },
            "colorscale": [
             [
              0,
              "#0d0887"
             ],
             [
              0.1111111111111111,
              "#46039f"
             ],
             [
              0.2222222222222222,
              "#7201a8"
             ],
             [
              0.3333333333333333,
              "#9c179e"
             ],
             [
              0.4444444444444444,
              "#bd3786"
             ],
             [
              0.5555555555555556,
              "#d8576b"
             ],
             [
              0.6666666666666666,
              "#ed7953"
             ],
             [
              0.7777777777777778,
              "#fb9f3a"
             ],
             [
              0.8888888888888888,
              "#fdca26"
             ],
             [
              1,
              "#f0f921"
             ]
            ],
            "type": "surface"
           }
          ],
          "table": [
           {
            "cells": {
             "fill": {
              "color": "#EBF0F8"
             },
             "line": {
              "color": "white"
             }
            },
            "header": {
             "fill": {
              "color": "#C8D4E3"
             },
             "line": {
              "color": "white"
             }
            },
            "type": "table"
           }
          ]
         },
         "layout": {
          "annotationdefaults": {
           "arrowcolor": "#2a3f5f",
           "arrowhead": 0,
           "arrowwidth": 1
          },
          "coloraxis": {
           "colorbar": {
            "outlinewidth": 0,
            "ticks": ""
           }
          },
          "colorscale": {
           "diverging": [
            [
             0,
             "#8e0152"
            ],
            [
             0.1,
             "#c51b7d"
            ],
            [
             0.2,
             "#de77ae"
            ],
            [
             0.3,
             "#f1b6da"
            ],
            [
             0.4,
             "#fde0ef"
            ],
            [
             0.5,
             "#f7f7f7"
            ],
            [
             0.6,
             "#e6f5d0"
            ],
            [
             0.7,
             "#b8e186"
            ],
            [
             0.8,
             "#7fbc41"
            ],
            [
             0.9,
             "#4d9221"
            ],
            [
             1,
             "#276419"
            ]
           ],
           "sequential": [
            [
             0,
             "#0d0887"
            ],
            [
             0.1111111111111111,
             "#46039f"
            ],
            [
             0.2222222222222222,
             "#7201a8"
            ],
            [
             0.3333333333333333,
             "#9c179e"
            ],
            [
             0.4444444444444444,
             "#bd3786"
            ],
            [
             0.5555555555555556,
             "#d8576b"
            ],
            [
             0.6666666666666666,
             "#ed7953"
            ],
            [
             0.7777777777777778,
             "#fb9f3a"
            ],
            [
             0.8888888888888888,
             "#fdca26"
            ],
            [
             1,
             "#f0f921"
            ]
           ],
           "sequentialminus": [
            [
             0,
             "#0d0887"
            ],
            [
             0.1111111111111111,
             "#46039f"
            ],
            [
             0.2222222222222222,
             "#7201a8"
            ],
            [
             0.3333333333333333,
             "#9c179e"
            ],
            [
             0.4444444444444444,
             "#bd3786"
            ],
            [
             0.5555555555555556,
             "#d8576b"
            ],
            [
             0.6666666666666666,
             "#ed7953"
            ],
            [
             0.7777777777777778,
             "#fb9f3a"
            ],
            [
             0.8888888888888888,
             "#fdca26"
            ],
            [
             1,
             "#f0f921"
            ]
           ]
          },
          "colorway": [
           "#636efa",
           "#EF553B",
           "#00cc96",
           "#ab63fa",
           "#FFA15A",
           "#19d3f3",
           "#FF6692",
           "#B6E880",
           "#FF97FF",
           "#FECB52"
          ],
          "font": {
           "color": "#2a3f5f"
          },
          "geo": {
           "bgcolor": "white",
           "lakecolor": "white",
           "landcolor": "#E5ECF6",
           "showlakes": true,
           "showland": true,
           "subunitcolor": "white"
          },
          "hoverlabel": {
           "align": "left"
          },
          "hovermode": "closest",
          "mapbox": {
           "style": "light"
          },
          "paper_bgcolor": "white",
          "plot_bgcolor": "#E5ECF6",
          "polar": {
           "angularaxis": {
            "gridcolor": "white",
            "linecolor": "white",
            "ticks": ""
           },
           "bgcolor": "#E5ECF6",
           "radialaxis": {
            "gridcolor": "white",
            "linecolor": "white",
            "ticks": ""
           }
          },
          "scene": {
           "xaxis": {
            "backgroundcolor": "#E5ECF6",
            "gridcolor": "white",
            "gridwidth": 2,
            "linecolor": "white",
            "showbackground": true,
            "ticks": "",
            "zerolinecolor": "white"
           },
           "yaxis": {
            "backgroundcolor": "#E5ECF6",
            "gridcolor": "white",
            "gridwidth": 2,
            "linecolor": "white",
            "showbackground": true,
            "ticks": "",
            "zerolinecolor": "white"
           },
           "zaxis": {
            "backgroundcolor": "#E5ECF6",
            "gridcolor": "white",
            "gridwidth": 2,
            "linecolor": "white",
            "showbackground": true,
            "ticks": "",
            "zerolinecolor": "white"
           }
          },
          "shapedefaults": {
           "line": {
            "color": "#2a3f5f"
           }
          },
          "ternary": {
           "aaxis": {
            "gridcolor": "white",
            "linecolor": "white",
            "ticks": ""
           },
           "baxis": {
            "gridcolor": "white",
            "linecolor": "white",
            "ticks": ""
           },
           "bgcolor": "#E5ECF6",
           "caxis": {
            "gridcolor": "white",
            "linecolor": "white",
            "ticks": ""
           }
          },
          "title": {
           "x": 0.05
          },
          "xaxis": {
           "automargin": true,
           "gridcolor": "white",
           "linecolor": "white",
           "ticks": "",
           "title": {
            "standoff": 15
           },
           "zerolinecolor": "white",
           "zerolinewidth": 2
          },
          "yaxis": {
           "automargin": true,
           "gridcolor": "white",
           "linecolor": "white",
           "ticks": "",
           "title": {
            "standoff": 15
           },
           "zerolinecolor": "white",
           "zerolinewidth": 2
          }
         }
        },
        "title": {
         "text": "Air quality level in Europe 2018"
        },
        "width": 1400
       }
      },
      "text/html": [
       "<div>\n",
       "        \n",
       "        \n",
       "            <div id=\"466fdb6a-c97d-40ac-aa86-5563467601ed\" class=\"plotly-graph-div\" style=\"height:900px; width:1400px;\"></div>\n",
       "            <script type=\"text/javascript\">\n",
       "                require([\"plotly\"], function(Plotly) {\n",
       "                    window.PLOTLYENV=window.PLOTLYENV || {};\n",
       "                    \n",
       "                if (document.getElementById(\"466fdb6a-c97d-40ac-aa86-5563467601ed\")) {\n",
       "                    Plotly.newPlot(\n",
       "                        '466fdb6a-c97d-40ac-aa86-5563467601ed',\n",
       "                        [{\"customdata\": [[525.0], [918.0], [532.0], [245.0], [535.0], [88.0], [904.0], [798.0], [755.0], [700.0], [362.0], [45.0], [419.0], [1205.0], [65.0], [3.0], [140.0], [134.0], [127.0], [235.0], [170.0], [50.0], [670.0], [225.0], [477.0], [180.0], [655.0], [0.0], [550.0], [319.0], [114.0], [200.0], [210.0], [280.0], [1118.0], [735.0]], \"hovertemplate\": \"<b>%{hovertext}</b><br><br>StationAre=rural-regional<br>avg15=%{marker.size}<br>Latitude=%{lat}<br>Longitude=%{lon}<br>Altitude=%{customdata[0]}<extra></extra>\", \"hovertext\": [\"Enzenkirchen im Sauwald\", \"Gr\\u00fcnbach bei Freistadt\", \"Emep - Ayia Marina\", \"Mikulov-Sedlec\", \"Kosetice\", \"Hasenholz\", \"Schwarzwald-S\\u00fcd\", \"Schw\\u00e4bische_Alb\", \"Tiefenbach/Altenschneeberg\", \"Andechs/Rothenfeld\", \"Burgbernheim/Gr\\u00fcne Au\", \"Bornh\\u00f6ved\", \"Unterharz / Friedrichsbrunn\", \"Schauinsland\", \"Neuglobsow\", \"Risoe\", \"Zone Rurale Nord\", \"Zone rurale Sud\", \"Zone Rurale SE\", \"Paray le Fresil\", \"Campagne les B.\", \"SAINT-DENIS D'ANJOU\", \"Obs Haute-Provence\", \"Jonville en Woevre\", \"St Germain/Rh\\u00f4ne\", \"Verneuil\", \"Venaco\", \"PLITVICKA JEZERA - RH0113 - HR0013A; Dr\\u017eavna mre\\u017ea za trajno pracenje kvalitete zraka\", \"Genga -Parco Gola della Rossa\", \"Beidweiler\", \"Gharb Station\", \"Nye Birkenes\", \"K\\u013arvatn\", \"Hurdal25\", \"Churanov\", \"Svratouch\"], \"lat\": [48.39172, 48.531111, 35.038027, 48.791767, 49.573395, 52.563835, 47.809892, 48.345778, 49.438464, 47.968753, 49.44406, 54.09323, 51.662435, 47.913256, 53.141303, 55.694206, 49.100257, 48.36414, 48.354709, 46.652645, 50.610484, 47.787712, 43.93352, 49.065837, 46.072219, 46.814819, 42.236087, 44.899333, 43.46806, 49.72226, 36.067041, 58.38846, 62.78246, 60.37288, 49.068427, 49.735068], \"legendgroup\": \"rural-regional\", \"lon\": [13.67114, 14.574722, 33.057823, 16.724497, 15.080278, 14.015252, 7.764528, 9.207639, 12.548869, 11.220172, 10.325, 10.240596, 11.043386, 7.908035, 13.031662, 12.088898, 2.343893, 2.23694, 2.645296, 3.600663, 1.991448, -0.444044, 5.711704, 5.785555, 5.820832, 2.610082, 9.190035, 15.609778, 12.95222, 6.30533, 14.197154, 8.2519, 8.87658, 11.07407, 13.614777, 16.034209], \"marker\": {\"color\": \"#636efa\", \"opacity\": 0.4, \"size\": [13.353289, 9.099422, 9.879714, 16.080899, 11.625252, 11.945001, 6.111503, 7.883377, 8.871439, 8.743363, 11.139296, 9.868317, 8.684215, 6.690393, 9.969703, 9.520642, 12.660772, 9.648008, 9.169847, 8.447957, 10.634634, 10.292241, 7.504084, 12.595133, 8.89671, 11.602657, 7.685495, 9.171703, 11.594837, 11.022904, 9.19006, 2.707727, 1.512005, 2.752935, 7.103898, 11.822], \"sizemode\": \"area\", \"sizeref\": 0.25007610416666665}, \"mode\": \"markers\", \"name\": \"rural-regional\", \"showlegend\": true, \"subplot\": \"mapbox\", \"type\": \"scattermapbox\"}, {\"customdata\": [[899.0], [313.0], [29.0], [309.0], [143.0], [620.0], [45.0]], \"hovertemplate\": \"<b>%{hovertext}</b><br><br>StationAre=rural-remote<br>avg15=%{marker.size}<br>Latitude=%{lat}<br>Longitude=%{lon}<br>Altitude=%{customdata[0]}<extra></extra>\", \"hovertext\": [\"Z\\u00f6belboden im Reichraminger Hintergebirge - Wildwiese\", \"Collmberg\", \"Serv Tech Guipry\", \"La Coulonche MERA\", \"LA TARDIERE\", \"Station MORVAN\", \"Mayo Claremorris\"], \"lat\": [47.838611, 51.303772, 47.831934, 48.645008, 46.656714, 47.275017, 53.703889], \"legendgroup\": \"rural-remote\", \"lon\": [14.441389, 13.009406, -1.836327, -0.458333, -0.743681, 4.09833, -9.012672], \"marker\": {\"color\": \"#EF553B\", \"opacity\": 0.4, \"size\": [7.257276, 10.191917, 8.913834, 8.07166, 10.524742, 9.567993, 5.735632], \"sizemode\": \"area\", \"sizeref\": 0.25007610416666665}, \"mode\": \"markers\", \"name\": \"rural-remote\", \"showlegend\": true, \"subplot\": \"mapbox\", \"type\": \"scattermapbox\"}, {\"customdata\": [[150.0], [231.0], [203.0], [124.0], [110.0], [153.0], [0.0], [532.0]], \"hovertemplate\": \"<b>%{hovertext}</b><br><br>StationAre=rural-near_city<br>avg15=%{marker.size}<br>Latitude=%{lat}<br>Longitude=%{lon}<br>Altitude=%{customdata[0]}<extra></extra>\", \"hovertext\": [\"Glinzendorf im Marchfeld\", \"Studenka\", \"Vernovice\", \"Kleinwallstadt/Hofstetter Stra\\u00dfe\", \"Soest-Ost\", \"Pourcy\", \"DESINIC - RH0112 - HR0012A; Dr\\u017eavna mre\\u017ea za trajno pracenje kvalitete zraka\", \"CENMA1\"], \"lat\": [48.236667, 49.720936, 49.924679, 49.869422, 51.570662, 49.158627, 46.169056, 40.256389], \"legendgroup\": \"rural-near_city\", \"lon\": [16.636944, 18.089306, 18.422873, 9.171544, 8.148061, 3.912612, 15.660639, 8.773056], \"marker\": {\"color\": \"#00cc96\", \"opacity\": 0.4, \"size\": [14.789538, 23.892614, 33.040112, 12.735729, 12.44337, 11.019525, 14.282799, 7.149379], \"sizemode\": \"area\", \"sizeref\": 0.25007610416666665}, \"mode\": \"markers\", \"name\": \"rural-near_city\", \"showlegend\": true, \"subplot\": \"mapbox\", \"type\": \"scattermapbox\"}, {\"customdata\": [[200.0], [510.0], [23.0], [3.0], [30.0], [2.0], [135.0], [0.0], [145.0], [233.0], [160.0], [490.0], [265.0], [225.0], [510.0], [430.0], [375.0], [343.0], [17.0], [2.0], [16.0], [606.0], [546.0], [72.0], [74.0], [937.0], [32.0], [6.0], [50.0], [917.0], [78.0], [1230.0], [134.0], [1360.0], [23.0], [393.0], [885.0], [985.0], [470.0], [506.0], [911.0], [619.0], [804.0], [430.0], [995.0], [469.0], [172.0], [200.0], [64.0], [7.0], [4.0], [617.0], [126.0], [260.0], [14.0], [61.0], [948.0], [388.0], [-2.0], [11.0], [115.0], [48.0], [14.0], [10.0], [110.0], [1192.0], [16.0], [209.0], [620.0], [202.0], [22.0], [165.0], [0.0], [4.0], [48.0], [1.0], [258.0], [420.0], [811.0], [1038.0], [268.0], [150.0], [150.0], [180.0], [15.0], [4.0], [-4.0], [1.0], [1.0], [157.0], [291.0], [179.0], [60.0], [473.0], [143.0], [57.0], [187.0], [300.0], [30.0], [20.0], [540.0], [808.0], [117.0], [86.0], [340.0], [390.0], [605.0], [125.0], [489.0], [1031.0], [18.0], [157.0]], \"hovertemplate\": \"<b>%{hovertext}</b><br><br>StationAre=rural<br>avg15=%{marker.size}<br>Latitude=%{lat}<br>Longitude=%{lon}<br>Altitude=%{customdata[0]}<extra></extra>\", \"hovertext\": [\"Zwentendorf im Tullnerfeld\", \"Lenzing\", \"26RT01 - RETIE\", \"44N012 - MOERKERKE\", \"42N016 - DESSEL\", \"44N029 - HOUTEM\", \"42N054 - WALSHOUTEM\", \"43N060 - HAVINNES\", \"43N063 - CORROY L.G.\", \"43N067 - MEMBACH\", \"43N073 - VEZIN\", \"43N085 - VIELSALM\", \"43N093 - SINSIN\", \"43N100 - DOURBES\", \"43N113 - SAINT-ODE\", \"43N121 - OFFAGNE\", \"43N132 - HABAY-LA-N.\", \"Bad Arolsen\", \"G\\u00fclzow\", \"Jadebusen\", \"Wendland\", \"Pf\\u00e4lzerwald-Hortenkopf\", \"Westerwald-Neuh\\u00e4usel\", \"Dom\\u00e4ne Bobbe\", \"Waldhof\", \"Schm\\u00fccke\", \"Lahemaa\", \"Vilsandi\", \"Saarej\\u00e4rve\", \"SAN PABLO DE LOS MONTES\", \"MAH\\u00d3N\", \"V\\u00cdZNAR\", \"NIEMBRO\", \"CAMPIS\\u00c1BALOS\", \"CABO DE CREUS\", \"BARCARROTA\", \"ZARRA\", \"PE\\u0143AUSENDE\", \"ELS TORMS\", \"O SAVI\\u0143AO\", \"VALDEREJO\", \"ZORITA\", \"CAUDETE DE LAS FUENTES\", \"VILLAR DEL ARZOBISPO\", \"EL ATAZAR\", \"VILLA DEL PRADO\", \"HOSPITAL JOAN MARCH\", \"ALGAR DE PAL\\u0154NCIA\", \"Luukki\", \"Ut\\u00f6\", \"Virolahti 2\", \"Dr\\u00f4me Rurale Sud-SND\", \"Harwell\", \"Auchencorth Moss\", \"Rochester Stoke\", \"CASTEL DI GUIDO\", \"LEONESSA\", \"FONTECHIARI\", \"GHERARDI\", \"SAN PIETRO CAPOFIUME\", \"CASIRATE D'ADDA\", \"PT-MONTALE\", \"MANSUE'\", \"LECCE - S. M. Cerrate\", \"Civitanova IPPODROMO S. MARONE\", \"MOGGIO\", \"SCHIVENOGLIA\", \"BRUFA\", \"Dernice - Costa\", \"BADIA\", \"SAN ROCCO\", \"SAN CLEMENTE\", \"OSTELLATO\", \"GAVELLO\", \"BESENZONE\", \"BALLIRANA\", \"Vinchio - San Michele\", \"ACQUAPENDENTE\", \"CASTELLUCCIO\", \"M Martani\", \"Revello - Staffarda\", \"Posta del Principe\", \"Azienda Russo\", \"Aukstaitija\", \"Biest Houtakker-Biestsestraat\", \"De Zilk-Vogelaarsdreef\", \"Wieringerwerf-Medemblikkerweg\", \"Badhoevedorp-Sloterweg\", \"Amsterdam-Spaarnwoude\", \"KMS Puszcza Borecka\", \"Zloty Potok, Lesnicz\\u00f3wka\", \"Osiecz\\u00f3w\", \"Ervedeira\", \"Fund\\u0103o\", \"Chamusca\", \"Fernando P\\u00f3\", \"Terena\", \"Cerro\", \"B8 Balotesti\", \"GR-4\", \"Iskrba\", \"Stara Lesna - AU SAV EMEP/O3\", \"Illmitz\", \"Melpitz\", \"Pallas (Matorova)\", \"Revin\", \"Saint-Nazaire-le-D\\u00e9sert\", \"K-puszta\", \"Payerne\", \"Rigi\", \"Rucava\", \"Diabla Gora\"], \"lat\": [48.331111, 47.971944, 51.230858, 51.254574, 51.233652, 51.01628, 50.711706, 50.616718, 50.655439, 50.612278, 50.502716, 50.303208, 50.274478, 50.095683, 50.027029, 49.877128, 49.719281, 51.430897, 53.817775, 53.59617, 52.95702, 49.270263, 50.4243, 51.837306, 52.800773, 50.654066, 59.494446, 58.37611, 58.702778, 39.54694, 39.87528, 37.23722, 43.43917, 41.27417, 42.31917, 38.47278, 39.08278, 41.23889, 41.39389, 42.63472, 42.875278, 40.735, 39.558611, 39.708056, 40.91028, 40.25194, 39.67766, 39.782222, 60.31439, 59.77923, 60.53002, 44.569431, 51.571078, 55.79216, 51.45617, 41.889444, 42.5725, 41.67, 44.839722, 44.662222, 45.4975, 43.91611, 45.836944, 40.45889, 43.33556, 45.913056, 44.99694, 43.06694, 44.76335, 44.6575, 44.873056, 43.932778, 44.741667, 44.92784, 44.989444, 44.526485, 44.80801, 42.74472, 44.15, 42.80472, 44.71976, 41.63083, 41.54666, 55.463333, 51.519444, 52.298054, 52.804722, 52.333561, 52.400002, 54.124819, 50.710889, 51.31763, 39.923889, 40.233056, 39.3525, 38.635556, 38.615, 37.3125, 44.616665, 43.963814, 45.56107, 49.152779, 47.766667, 51.53014, 68.0, 49.9, 44.569444, 46.966667, 46.813056, 47.0675, 56.161944, 54.15], \"legendgroup\": \"rural\", \"lon\": [15.903611, 13.600833, 5.053303, 3.362536, 5.163979, 2.582323, 5.103159, 3.457624, 4.668288, 5.992753, 4.988423, 6.001736, 5.235169, 4.594763, 5.593017, 5.202387, 5.630398, 8.928171, 12.064708, 8.09059, 11.16705, 7.826521, 7.7299, 11.891412, 10.756733, 10.769534, 25.930569, 21.845013, 26.758898, -4.35056, 4.31639, -3.53417, -4.85, -3.1425, 3.31583, -6.92361, -1.10111, -5.8975, 0.73472, -7.70472, -3.231389, -0.169444, -1.281389, -0.831944, -3.46667, -4.27472, 2.68665, -0.359167, 24.68486, 21.37395, 27.6754, 5.278968, -1.325283, -3.2429, 0.634889, 12.266389, 12.961944, 13.674444, 11.961111, 11.639444, 9.556389, 11.00694, 12.510278, 18.11611, 13.67472, 9.496944, 11.07083, 12.46806, 9.05243, 10.288889, 10.663889, 12.6275, 11.942222, 11.17795, 10.019167, 11.981381, 8.31031, 11.865, 10.926111, 12.56611, 7.42622, 15.38667, 15.44083, 26.004169, 5.148902, 4.510286, 5.050842, 4.773589, 4.73, 22.038056, 19.458797, 15.431719, -8.891667, -7.301944, -8.466111, -8.690556, -7.3975, -7.678611, 26.116667, 26.038739, 14.85806, 20.291117, 16.766667, 12.93386, 24.237222, 4.633333, 5.278972, 19.583333, 6.944722, 8.463889, 21.173056, 22.066667], \"marker\": {\"color\": \"#ab63fa\", \"opacity\": 0.4, \"size\": [14.524676, 12.058089, 12.033426, 11.621019, 13.721193, 10.76674, 13.100392, 11.006506, 11.354895, 9.426099, 9.973228, 6.826367, 8.910852, 8.098825, 7.560071, 7.819823, 8.689426, 11.416152, 12.241828, 9.372394, 10.485007, 7.542832, 8.508962, 13.072419, 10.463367, 7.286816, 5.188643, 3.966952, 5.433148, 6.61236, 7.035144, 10.344214, 7.051429, 4.81686, 8.486239, 8.456647, 5.960674, 5.795732, 8.335227, 8.379538, 6.162902, 7.114348, 11.081898, 10.759357, 5.867473, 11.740706, 6.991095, 9.177124, 5.008677, 4.971934, 5.294007, 6.146076, 7.725895, 3.176025, 8.73313, 14.676796, 9.897507, 14.543353, 20.559557, 18.643258, 26.64348, 23.441667, 25.488571, 17.683505, 12.557535, 12.047041, 26.951496, 13.312321, 11.011142, 14.707042, 23.017192, 15.268362, 19.083333, 20.044818, 26.727528, 18.326284, 20.749296, 10.436975, 6.641834, 8.455446, 25.84375, 13.391694, 13.131818, 7.775623, 12.270036, 9.512012, 8.977558, 12.989084, 12.013362, 12.482206, 18.470833, 14.53796, 7.347346, 5.618682, 10.51776, 11.822876, 12.341719, 6.654075, 18.895706, 13.13879, 10.032877, 10.67064, 14.702786, 14.731795, 3.427191, 14.76596, 6.179576, 17.358067, 9.748889, 5.774699, 10.848464, 12.486371], \"sizemode\": \"area\", \"sizeref\": 0.25007610416666665}, \"mode\": \"markers\", \"name\": \"rural\", \"showlegend\": true, \"subplot\": \"mapbox\", \"type\": \"scattermapbox\"}, {\"customdata\": [[525.0], [306.0], [400.0], [158.0]], \"hovertemplate\": \"<b>%{hovertext}</b><br><br>StationAre=rural-nearcity<br>avg15=%{marker.size}<br>Latitude=%{lat}<br>Longitude=%{lon}<br>Altitude=%{customdata[0]}<extra></extra>\", \"hovertext\": [\"Krizanov\", \"Belotin\", \"Celadna\", \"Doksany\"], \"lat\": [49.383584, 49.587079, 49.559234, 50.458832], \"legendgroup\": \"rural-nearcity\", \"lon\": [16.098618, 17.80425, 18.348359, 14.170205], \"marker\": {\"color\": \"#FFA15A\", \"opacity\": 0.4, \"size\": [15.089, 22.236, 17.006, 17.747], \"sizemode\": \"area\", \"sizeref\": 0.25007610416666665}, \"mode\": \"markers\", \"name\": \"rural-nearcity\", \"showlegend\": true, \"subplot\": \"mapbox\", \"type\": \"scattermapbox\"}, {\"customdata\": [[848.0], [160.0], [210.0], [155.0], [460.0], [274.0], [420.0], [272.0], [8.0], [10.0], [10.0], [13.0], [10.0], [20.0], [15.0], [30.0], [160.0], [70.0], [50.0], [55.0], [41.0], [27.0], [30.0], [100.0], [12.0], [65.0], [135.0], [118.0], [157.0], [6.0], [8.0], [0.0], [103.0], [301.0], [241.0], [225.0], [476.0], [367.0], [258.0], [89.0], [33.0], [22.0], [31.0], [99.0], [43.0], [157.0], [275.0], [325.0], [480.0], [134.0], [420.0], [678.0], [380.0], [226.0], [488.0], [513.0], [495.0], [417.0], [54.0], [170.0], [30.0], [80.0], [72.0], [40.0], [25.0], [153.0], [103.0], [40.0], [47.0], [645.0], [616.0], [581.0], [610.0], [721.0], [355.0], [25.0], [51.0], [181.0], [91.0], [25.0], [45.0], [65.0], [164.0], [10.0], [83.0], [2.0], [47.0], [60.0], [13.0], [210.0], [432.0], [10.0], [20.0], [12.0], [47.32], [0.0], [15.0], [380.0], [150.0], [48.0], [257.0], [18.0], [91.0], [226.0], [113.0], [25.0], [263.0], [10.0], [230.0], [240.0], [273.0], [131.0], [32.0], [275.0], [55.0], [140.0], [242.0], [271.0], [666.0], [71.0], [143.0], [246.0], [95.0], [100.0], [1.0], [-1.0], [34.0], [212.0], [31.0], [57.0], [190.0], [91.0], [99.0], [100.0], [297.0], [0.0], [242.0]], \"hovertemplate\": \"<b>%{hovertext}</b><br><br>StationAre=suburban<br>avg15=%{marker.size}<br>Latitude=%{lat}<br>Longitude=%{lon}<br>Altitude=%{customdata[0]}<extra></extra>\", \"hovertext\": [\"Korca\", \"Eisenstadt Laschoberstra\\u00dfe\", \"Wiener Neudorf Hauptstra\\u00dfe\", \"Schwechat Sportplatz, M\\u00fchlgasse\", \"Bad Ischl, Rettenbachstra\\u00dfe\", \"Traun Tischlerstra\\u00dfe\", \"V\\u00f6cklabruck, Untere Agergasse\", \"Leibnitz Lastenstra\\u00dfe\", \"26R811 - SCHOTEN\", \"40AB02 - BERENDRECHT\", \"40AL01 - LINKEROEVER\", \"40HB23 - HOBOKEN\", \"40MN01 - MENEN\", \"40RL01 - ROESELARE\", \"40SZ02 - STEENOKKERZ\", \"41B011 - BERCHEM S.A\", \"43H201 - LIEGE\", \"43M204 - ANGLEUR\", \"41MEU1 - MEUDON\", \"42N035 - AARSCHOT\", \"42N045 - HASSELT\", \"44N052 - ZWEVEGEM\", \"43N070 - MONS\", \"41R012 - UCCLE\", \"42R020 - VILVOORDE\", \"43R222 - SERAING\", \"45R502 - LODELINSART\", \"45R510 - CHATELINEAU\", \"45R511 - MARCINELLE\", \"44R710 - DESTELBERGE\", \"42R811 - SCHOTEN\", \"42R834 - Boom\", \"PAFOS RESIDENTIAL\", \"Praha 4-Libus\", \"Brno-Turany\", \"Znojmo\", \"Sokolov\", \"Usti n.L.-Kockov\", \"Zlin\", \"Elsterwerda\", \"Brandenburg a.d. Havel\", \"Wittenberge\", \"Nauen\", \"Spremberg\", \"Blankenfelde-Mahlow\", \"Heilbronn\", \"Weil am Rhein\", \"T\\u00fcbingen\", \"Arzberg/Egerstra\\u00dfe\", \"Aschaffenburg/Bussardweg\", \"Burghausen/Marktler Stra\\u00dfe\", \"Kempten (Allg\\u00e4u)/Westendstra\\u00dfe\", \"Schwandorf/Wackersdorfer Stra\\u00dfe\", \"W\\u00fcrzburg/Kopfklinik\", \"Trostberg/Schwimmbadstra\\u00dfe\", \"M\\u00fcnchen/Johanneskirchen\", \"Augsburg/LfU\", \"Oettingen/Goethestra\\u00dfe\", \"Weserbergland\", \"G\\u00f6ttingen\", \"Emsland\", \"Datteln-Hagem\", \"Unna-K\\u00f6nigsborn\", \"Gelsenkirchen-Bismarck\", \"Wesel-Feldmark\", \"Essen-Schuir (LANUV)\", \"Speyer-Nord\", \"Itzehoe\", \"Burg\", \"CASA DE CAMPO\", \"VIVER\", \"TORREJON DE ARDOZ\", \"VALDEMORO\", \"ALGETE\", \"ELDA-LACY\", \"TORRE DE H\\u00c9RCULES\", \"MONTEVIL\", \"PLASENCIA\", \"Tiril\\u00e4 Pekkasenkatu\", \"Vartiokyl\\u00e4 Huivipolku\", \"Rognac les Brets\", \"GONESSE\", \"RAMBOUILLET\", \"Lunel\", \"GARNOR03\", \"Cappelle\", \"BASTIA MONTESORO\", \"London Eltham\", \"London Bexley\", \"LYKOVRISI\", \"D\\u00fcbendorf-EMPA\", \"Dublin Finglas Mellowes Road\", \"Dublin Marino Brian Road\", \"Cork Ballinlough Heatherton Park\", \"Wicklow Bray Wurzburg Road\", \"K\\u00f3pavogur Dalsm\\u00e1ri\", \"CHIARAVALLE2\", \"BORGO VAL\", \"CASTELLARANO\", \"TENUTA DEL CAVALIERE\", \"Borgaro T. - Caduti\", \"LATINA SCALO\", \"VR - Cason\", \"DARFO_2\", \"PONTI SUL MINCIO\", \"CENPS7\", \"AREA FELTRINA\", \"Campi Salentina\", \"LS1 Laives\", \"Ivrea - Liberazione\", \"CALUSCO\", \"Vercelli - CONI\", \"SAVIGNANO\", \"CENS16\", \"MALAGROTTA\", \"Municipio\", \"Magione\", \"Chieri - Bersezio\", \"Trivero - Ronco\", \"Rocca di Neto\", \"Ciconia2\", \"Lein\\u011b (ACEA) - Grande Torino\", \"Narni Scalo\", \"Ceglie Messapica\", \"Breda-Bastenakenstraat\", \"Groningen-Nijensteinheerd\", \"V\\u013aland\", \"Lillehammer barnehage\", \"\\u0158yekast\", \"Wloclawek Sielska DMD\", \"Chelm ul. Jagiellonska\", \"Legionowo-Zegrzynska\", \"Piast\\u00f3w-Pulaskiego\", \"Bydgoszcz, ul. Berlinga\", \"Ljubljana Biotehnicna fakulteta\", \"Prishtine1\", \"Ostrava-Poruba/CHMU\"], \"lat\": [40.62593, 47.84, 48.083889, 48.145, 47.716111, 48.225278, 48.000833, 46.778333, 51.252103, 51.340727, 51.236194, 51.170298, 50.793469, 50.953177, 50.91302, 50.858031, 50.624992, 50.611923, 50.895101, 50.977541, 50.939712, 50.814874, 50.465192, 50.796632, 50.941387, 50.613413, 50.428995, 50.416433, 50.377592, 51.061278, 51.252103, 51.092, 34.779453, 50.007305, 49.148972, 48.842957, 50.172825, 50.683525, 49.232906, 51.462734, 52.420442, 52.99875, 52.608609, 51.5645, 52.349703, 49.165508, 47.588152, 48.507703, 50.058195, 49.991518, 48.177175, 47.72514, 49.321955, 49.804695, 48.021657, 48.173194, 48.326013, 48.95218, 52.17017, 51.55107, 52.49855, 51.641383, 51.547495, 51.533646, 51.672809, 51.406968, 49.351143, 53.924712, 52.268354, 40.42, 39.930556, 40.455, 40.18528, 40.59333, 38.454722, 43.3825, 43.516588, 40.07778, 61.05748, 60.22393, 43.51056, 48.990856, 48.63373, 43.675749, 44.053531, 50.995965, 42.671343, 51.45258, 51.46603, 38.069633, 47.402916, 53.39025, 54.361111, 51.881944, 53.187222, 64.104969, 43.59889, 46.05184, 44.516111, 41.931389, 45.15464, 41.531389, 45.4625, 45.873889, 45.41083, 39.203333, 46.030833, 40.40444, 46.43444, 45.4512, 45.683333, 45.31891, 44.095833, 40.724444, 41.875556, 38.95955, 43.133056, 45.00276, 45.66423, 39.18752, 42.737222, 45.17635, 42.53417, 40.64917, 51.603333, 53.246944, 58.96173, 61.12087, 59.1292, 52.664721, 51.13095, 52.407578, 52.191728, 53.151467, 46.0483, 42.385586, 49.825267], \"legendgroup\": \"suburban\", \"lon\": [20.78018, 16.52806, 16.330278, 16.474444, 13.632222, 14.238889, 13.6675, 15.540556, 4.491362, 4.32182, 4.385224, 4.341005, 3.109642, 3.121156, 4.512184, 4.288336, 5.547464, 5.61115, 4.392718, 4.837618, 5.368379, 3.322494, 3.939714, 4.358539, 4.436721, 5.570223, 4.458681, 4.52113, 4.4247, 3.775262, 4.491362, 4.380104, 32.438614, 14.445933, 16.696217, 16.060127, 12.672818, 14.041195, 17.667175, 13.526796, 12.552303, 11.73846, 12.885194, 14.3764, 13.424304, 9.224786, 7.633271, 9.051178, 12.18865, 9.117973, 12.829314, 10.306561, 12.128139, 9.95642, 12.538174, 11.648036, 10.903051, 10.59772, 9.06255, 9.94976, 7.31747, 7.331405, 7.693835, 7.101786, 6.629576, 6.965643, 8.423005, 9.532635, 11.864763, -3.749167, -0.603333, -3.48417, -3.67972, -3.50306, -0.803333, -8.408889, -5.67065, -6.14722, 28.24585, 25.10244, 5.219724, 2.44472, 1.830533, 4.088422, 4.697362, 2.36627, 9.434646, 0.070766, 0.184806, 23.776886, 8.613397, -6.305266, -6.225, -8.456667, -6.121667, -21.888979, 13.34194, 11.45389, 10.733889, 12.659167, 7.65804, 12.946111, 10.912222, 10.1775, 10.69194, 8.386111, 11.905833, 18.02972, 11.33944, 7.87804, 9.466667, 8.40236, 12.4025, 8.576111, 12.345, 16.29517, 12.205833, 7.83748, 8.15981, 17.01034, 12.136667, 7.71158, 12.52194, 17.5125, 4.780847, 6.608897, 5.73147, 10.46563, 9.64217, 19.036386, 23.514603, 20.955928, 20.837489, 18.132111, 14.4713, 21.08135, 18.159264], \"marker\": {\"color\": \"#19d3f3\", \"opacity\": 0.4, \"size\": [30.33897, 14.568675, 13.965723, 16.251845, 9.26586, 15.235787, 12.29686, 19.929107, 13.718232, 13.09626, 13.189466, 14.934121, 13.435091, 13.367502, 13.040427, 12.665909, 10.52111, 10.300577, 15.115963, 13.434084, 13.466545, 14.683366, 12.551983, 14.419126, 14.460037, 10.924992, 12.737044, 12.025819, 11.799868, 14.449595, 14.176761, 13.806131, 15.403012, 15.720217, 17.68138, 16.817191, 13.479739, 15.357874, 15.830083, 13.736274, 13.316793, 10.390088, 12.886066, 13.224965, 14.294797, 13.91155, 12.319939, 12.087066, 13.370539, 12.226837, 13.667626, 10.870899, 13.536733, 11.990753, 12.232226, 11.973409, 12.609537, 12.751086, 10.626572, 8.884077, 12.163193, 14.545125, 13.009496, 14.49445, 13.879151, 13.120164, 14.384997, 12.364177, 12.134096, 9.970065, 8.071548, 9.272346, 12.140876, 6.545989, 9.289138, 16.062731, 10.773827, 7.034714, 7.017104, 6.839457, 12.691131, 13.844158, 11.77751, 11.80413, 14.732841, 13.016788, 9.187283, 10.512368, 10.491823, 16.446809, 10.918156, 8.137651, 7.801538, 6.829863, 6.562644, 4.757997, 15.260284, 19.961988, 19.587896, 18.155556, 26.382789, 15.528736, 26.40407, 26.752312, 27.587592, 17.74, 21.339031, 18.237104, 15.372806, 23.772861, 24.301943, 26.541899, 19.534286, 6.486389, 17.070988, 12.697797, 15.741667, 24.154519, 13.470255, 16.221457, 12.063218, 30.376471, 19.925714, 16.465388, 12.352135, 11.518471, 7.309426, 6.644817, 7.134425, 18.383501, 27.2, 32.175951, 30.466363, 15.837606, 22.565476, 28.486592, 22.678], \"sizemode\": \"area\", \"sizeref\": 0.25007610416666665}, \"mode\": \"markers\", \"name\": \"suburban\", \"showlegend\": true, \"subplot\": \"mapbox\", \"type\": \"scattermapbox\"}, {\"customdata\": [[13.0], [445.0], [445.0], [460.0], [270.0], [350.0], [305.0], [390.0], [236.0], [159.0], [5.0], [5.0], [6.0], [15.0], [65.0], [115.0], [5.0], [6.0], [22.0], [208.0], [17.0], [256.0], [309.0], [383.0], [239.0], [502.0], [224.0], [346.0], [360.0], [303.0], [224.0], [235.0], [320.0], [221.0], [257.0], [31.0], [75.0], [35.0], [35.0], [35.0], [235.0], [481.0], [278.0], [403.0], [114.0], [262.0], [477.0], [231.0], [521.0], [470.0], [300.0], [400.0], [300.0], [7.0], [3.0], [100.0], [181.0], [121.0], [15.0], [3.0], [17.0], [2.0], [95.0], [85.0], [75.0], [47.0], [32.0], [186.0], [157.0], [110.0], [232.0], [108.0], [12.0], [192.0], [115.0], [112.0], [116.0], [58.0], [195.0], [265.0], [490.0], [25.0], [21.0], [6.0], [41.0], [25.0], [24.0], [3.0], [12.0], [929.0], [449.0], [389.0], [11.0], [220.0], [500.0], [136.0], [220.0], [7.0], [693.0], [55.0], [609.0], [112.0], [21.0], [16.0], [56.0], [109.0], [192.0], [154.0], [28.0], [95.0], [37.0], [51.0], [92.0], [43.0], [59.0], [340.0], [8.0], [25.0], [10.0], [48.0], [83.0], [10.0], [8.0], [4.0], [25.0], [150.0], [93.0], [147.0], [214.0], [139.0], [250.0], [95.0], [34.0], [28.0], [48.0], [29.0], [17.0], [173.0], [204.0], [160.0], [233.0], [25.0], [47.0], [85.0], [18.0], [371.0], [741.0], [9.0], [17.0], [255.0], [96.0], [26.0], [552.0], [366.0], [200.0], [195.0], [35.0], [14.0], [350.0], [280.0], [453.0], [441.0], [111.0], [85.0], [115.0], [158.0], [301.0], [125.0], [321.0], [331.0], [261.0], [20.0], [10.0], [12.0], [78.0], [7.0], [45.0], [5.0], [175.0], [41.0], [172.0], [30.0], [32.0], [37.0], [20.0], [38.0], [40.0], [5.0], [30.0], [5.0], [4.0], [81.0], [58.0], [93.0], [10.0], [110.0], [45.0], [16.0], [15.0], [15.0], [58.0], [79.0], [24.0], [36.0], [134.0], [128.0], [11.0], [83.0], [40.0], [98.0], [0.0], [0.0], [409.0], [280.0], [19.0], [640.0], [200.0], [249.0], [60.0], [85.0], [61.0], [43.0], [77.0], [50.0], [260.0], [50.0], [53.0], [1.0], [100.0], [581.0], [35.0], [203.0], [6.0], [29.0], [114.0], [5.0], [36.0], [290.0], [3.0], [10.0], [4.0], [3.0], [405.0], [72.0], [156.0], [13.0], [203.0], [550.0], [344.0], [6.0], [13.0], [15.0], [10.0], [401.0], [212.0], [54.0], [122.0], [70.0], [45.0], [162.0], [34.0], [267.0], [91.0], [31.0], [150.0], [319.0], [22.0], [55.0], [498.0], [31.0], [9.0], [230.0], [11.0], [56.0], [76.0], [290.0], [61.0], [15.0], [15.0], [16.0], [255.0], [20.0], [37.0], [105.0], [118.0], [370.0], [284.0], [329.0], [758.0], [243.0], [583.0], [170.0], [75.0], [73.0], [275.0], [287.0], [1.0], [3.0], [56.0], [2.0], [3.0], [22.0], [0.0], [3.0], [2.0], [1.0], [30.0], [5.0], [24.0], [30.0], [273.0], [40.0], [64.0], [144.0], [207.0], [226.0], [235.0], [206.0], [189.0], [101.0], [159.0], [102.0], [85.0], [119.0], [145.0], [128.0], [179.0], [25.0], [120.0], [120.0], [122.0], [424.0], [114.0], [215.0], [150.0], [181.0], [236.0], [67.0], [10.0], [156.0], [275.0], [15.0], [97.0], [277.0], [260.0], [119.0], [22.0], [156.0], [173.0], [203.0], [145.0], [6.0], [262.0], [372.0], [45.0], [223.0], [228.0], [132.0], [191.0], [180.0], [177.0], [223.0], [212.0], [204.0], [319.0], [62.0], [134.0], [155.0], [29.0], [202.0], [305.0], [340.0], [163.0], [264.0], [345.0], [160.0], [201.0], [96.0], [167.0], [120.0], [32.0], [63.0], [173.0], [4.0], [333.0], [44.0], [160.0], [89.0], [30.0], [20.0], [58.0], [30.0], [22.0], [10.0], [0.0], [280.0], [475.0], [320.0], [289.0], [133.0], [160.0], [383.0], [201.0], [340.0], [232.0], [283.0]], \"hovertemplate\": \"<b>%{hovertext}</b><br><br>StationAre=urban<br>avg15=%{marker.size}<br>Latitude=%{lat}<br>Longitude=%{lon}<br>Altitude=%{customdata[0]}<extra></extra>\", \"hovertext\": [\"Shkoder\", \"Klagenfurt V\\u00f6lkermarkter Stra\\u00dfe\", \"Klagenfurt Sterneckstra\\u00dfe\", \"Wolfsberg Hauptschule\", \"St. P\\u00f6lten Eybnerstra\\u00dfe\", \"Braunau Zentrum, Kolpingplatz\", \"Steyr M\\u00fcnichholz\", \"Voitsberg M\\u00fchlgasse\", \"Kendlerstra\\u00dfe\", \"Stadlau\", \"26BB15 - BRUGGE\", \"26R701 - GENT\", \"26R801 - BORGERHOUT\", \"41R001 - MOLENBEEK\", \"43R221 - LIEGE\", \"45R501 - CHARLEROI\", \"44R701 - GENT\", \"42R801 - BORGERHOUT\", \"LIMASSOL RESIDENTIAL\", \"NICOSIA RESIDENTIAL\", \"LARNAKA RESIDENTIAL\", \"Praha 2-Riegrovy sady\", \"Praha 5-Stodulky\", \"Ceske Budejovice\", \"Pardubice Dukla\", \"Jihlava\", \"Olomouc-Hejcin\", \"Plzen-Bory\", \"Plzen-Lochotin\", \"Kladno-stred mesta\", \"Mlada Boleslav\", \"Ostrava-Zabreh\", \"Trinec-Kosmos\", \"Most\", \"Teplice\", \"Potsdam-Zentrum\", \"Cottbus\", \"B Wedding-Amrumer Str.\", \"B Neuk\\u00f6lln-Nansenstra\\u00dfe\", \"B Mitte, Br\\u00fcckenstra\\u00dfe\", \"Stuttgart Bad Cannstatt\", \"Ulm\", \"Pforzheim\", \"Konstanz\", \"Karlsruhe-Nordwest\", \"Freiburg\", \"Augsburg/Bourges-Platz\", \"Bamberg/L\\u00f6wenbr\\u00fccke\", \"M\\u00fcnchen/Lothstra\\u00dfe\", \"Neu-Ulm/Gabelsbergerstra\\u00dfe\", \"N\\u00fcrnberg/Muggenhof\", \"Weiden i.d.OPf./Nikolaistra\\u00dfe\", \"Passau/Stelzhamerstra\\u00dfe\", \"Bremen-Ost\", \"Bremerhaven\", \"Frankfurt-Ost\", \"Kassel-Mitte\", \"Wiesbaden-S\\u00fcd\", \"Hamburg Sternschanze\", \"Hamburg Wilhelmsburg\", \"G\\u00fcstrow\", \"Rostock-Warnem\\u00fcnde\", \"Osnabr\\u00fcck\", \"Hannover\", \"Dortmund-Eving\", \"Essen-Vogelheim\", \"D\\u00fcsseldorf-L\\u00f6rick\", \"Wuppertal-Langerfeld\", \"Schwerte\", \"Mainz-Zitadelle\", \"Kaiserslautern-Rathausplatz\", \"Bad Kreuznach-Bosenheimer Stra\\u00dfe\", \"L\\u00fcbeck-St. J\\u00fcrgen\", \"Saarbr\\u00fccken-City\", \"Leipzig-West\", \"Dresden-Winckelmannstr.\", \"Halle/Nord\", \"Magdeburg/West\", \"Erfurt Kr\\u00e4mpferstr.\", \"Greiz Mollbergstr.\", \"Zella-Mehlis\", \"Copenhagen/1259\", \"\\u0139rhus/6160\", \"\\u0150ism\\u00e4e\", \"Tartu\", \"Narva\", \"Barcelona (Zona Universit\\u0155ria)\", \"Barcelona (el Poblenou)\", \"ESTACION 1 (ESTE)\", \"BURGOS 4\", \"ITURRAMA\", \"C\\u00c1CERES\", \"VAL\\u010cNCIA-VIVERS\", \"RENOVALES\", \"TOLEDO2\", \"Barcelona (parc de la Vall d'Hebron)\", \"COMPOSTELA\", \"VAL\\u010cNCIA-POLIT\\u010cCNIC\", \"ALCORC\\u00d3N\", \"ALACANT-FLORIDA-BABEL\", \"MENDEZ ALVARO\", \"Kasarmipuisto\", \"Kallio 2\", \"Vaasa vesitorni\", \"Nahkurintori 2\", \"Kaleva\", \"Metz-Centre\", \"Thionville-Centre\", \"GENNEVILLIERS\", \"VITRY-SUR-SEINE\", \"PARIS Centre\", \"BOBIGNY\", \"Le Havre ville-haute\", \"Valenciennes Acacias\", \"Cambrai Gambetta\", \"Montferrand\", \"Pr\\u00e9s Ar\\u010dnes\", \"Les Carmes\", \"place de VERDUN\", \"Ecole Jules Ferry\", \"Square Pablo Casals\", \"Place Orbigny LR\", \"Malo-les-Bains\", \"Calais Berthelot\", \"Lille Fives\", \"BERTHELOT\", \"Jean d Aulan\", \"St DIZIER L. Michel\", \"Grenoble Les Frenes\", \"STG Est\", \"Mulhouse Sud 2\", \"P. Roth St Quentin\", \"Faiencerie Creil\", \"St Pierre Amiens\", \"Brest Mace\", \"Lorient B. Bissonnet\", \"Vannes UTA\", \"VAULX EN VELIN\", \"VILLEFRANCHE Village\", \"LYON Centre\", \"Station de FORBACH\", \"LEON BLUM\", \"BEAUX ARTS\", \"SOURCES\", \"CIM BOUTEILLERIE\", \"MANOSQUE\", \"GAP COMMANDERIE\", \"NICE ARSON\", \"Espace du Palais\", \"Station PEJOCES\", \"Station AUXERRE\", \"Bethune Stade\", \"SAINT ETIENNE SUD\", \"SAINT-CHAMOND\", \"Nancy-Charles III\", \"BILLERE\", \"SAINT-CROUTS\", \"DAX\", \"Le Creusot Molette\", \"PASTEUR\", \"LOVERCHY\", \"ANNEMASSE\", \"St Jean\", \"Jou\\u00e9 l\\u010ds Tours\", \"Vierzon\", \"Luc\\u00e9\", \"LIMOGES - Pr\\u00e9sidial\", \"Valence Urb. Centre\", \"Besancon Prevoyance\", \"Montb\\u00e9liard centre\", \"Lons-le-Saunier CV\", \"London Bloomsbury\", \"Belfast Centre\", \"Cardiff Centre\", \"Leeds Centre\", \"Southampton Centre\", \"Manchester Piccadilly\", \"London N. Kensington\", \"Leamington Spa\", \"Nottingham Centre\", \"Stoke-on-Trent Centre\", \"Salford Eccles\", \"Derry\", \"Southend-on-Sea\", \"Aberdeen\", \"Wirral Tranmere\", \"Preston\", \"Portsmouth\", \"Bournemouth\", \"London Westminster\", \"Hull Freetown\", \"Edinburgh St Leonards\", \"Reading New Town\", \"Birmingham Tyburn\", \"Brighton Preston Park\", \"Sunderland Silksworth\", \"Wigan Centre\", \"Blackpool Marton\", \"Bristol St Pauls\", \"York Bootham\", \"Oxford St Ebbes\", \"London Harrow Stanmore\", \"Newport\", \"Norwich Lakenfields\", \"Birmingham Acocks Green\", \"Northampton Kingsthorpe\", \"London Teddington Bushy Park\", \"Leicester University\", \"Glasgow Townhead\", \"Coventry Allesley\", \"ZAGREB PPI PM2,5 - Ksaverska cesta - RH0121 - HR0021A; Dr\\u017eavna mre\\u017ea za trajno pracenje kvalitete zr\", \"Split-1 - SD0203 - HR0022A; Mjerna mre\\u017ea Cemex Hrvatska d.o.o.\", \"Z\\u00fcrich-Kaserne\", \"Lugano-Universit\\u0155\", \"Reykjavik Husdyragardurinn\", \"LA1 Laces\", \"ROVERETO LGP\", \"BERGAMO - VIA MEUCCI\", \"CITTADELLA\", \"QUARTO - GENOVA\", \"FI-BASSI\", \"GIARDINI MARGHERITA\", \"PAVIA - VIA FOLPERTI\", \"S. LAZZARO\", \"AR-ACROPOLI\", \"VILLA ADA\", \"CINECITTA\", \"VE - Parco Bissuola\", \"CAIROLI\", \"AOSTA (PIAZZA PLOUVES)\", \"PARCO BUCCI\", \"TRENTO PSC\", \"MARECCHIA\", \"PARCO RESISTENZA\", \"BASSANO DEL GRAPPA\", \"PI-PASSI\", \"VI - Quartiere Italia\", \"CORTONESE\", \"LU-VIAREGGIO\", \"LU-CAPANNORI\", \"CAORLE\", \"SAN DONA' DI PIAVE\", \"Biella - Sturzo\", \"CONEGLIANO\", \"BORGO RIVO\", \"PD - Mandria\", \"Verbania - Gabardi\", \"Cuneo - Alpini\", \"Borgosesia - Tonella\", \"MAGGIOLINA - LA SPEZIA\", \"LI-CAPPIELLO\", \"TV - Via Lancieri di Novara\", \"GR-URSS\", \"BL - Citt\\u0155\", \"SARONNO - SANTUARIO\", \"PO-ROMA\", \"MILANO PASCAL CITT\\u0155 STUDI\", \"BRESCIA VILLAGGIO SERENO\", \"CREMONA VIA FATEBENEFRATELLI\", \"MONZA - VIA  MACHIAVELLI\", \"PARCO FERRARI\", \"LECCO VIA SORA\", \"Alessandria - Volta\", \"CIPRO\", \"MONTICELLI\", \"Piazza Vittoria\", \"MANTOVA SANT'AGNESE\", \"VARALDO - SAVONA\", \"PIAZZA 40 MARTIRI\", \"ARENULA\", \"VILLA FULVIA\", \"Citt\\u0155 dei ragazzi\", \"Locri\", \"CENSA3\", \"LODI S.ALBERTO\", \"SONDRIO - VIA PARIBELLI\", \"PARCO MONTECUCCO\", \"CENMO1\", \"stadio casardi\", \"CENPT1\", \"FROSINONE MAZZINI\", \"Villa Comunale\", \"Gioacchino da Fiore (via)\", \"SI-POGGIBONSI\", \"PARCO EDILCARANI\", \"Parco della biodiversit\\u0155 mediterranea\", \"C Castello\", \"Amelia\", \"Acri\", \"Torino Lingotto\", \"Aosta Liconi\", \"Vilnius - Lazdynai\", \"N.Akmene\", \"Kaunas - Noreikiskes\", \"Luxembourg Bonnevoie\", \"Esch/Alzette\", \"Ventspils parventa\", \"Riga Kronvalda boulevard\", \"Zejtun Station\", \"Amsterdam-Vondelpark\", \"Amsterdam-Westerpark\", \"Veldhoven-Europalaan\", \"Rotterdam Zuid-Zwartewaalstraat\", \"Schiedam-Alphons Arienstraat\", \"Utrecht-Griftpark\", \"Zaandam-Wagenschotpad\", \"Nijmegen-Ruyterstraat\", \"R\\u013adhuset\", \"Sofienbergparken\", \"Torvet\", \"Katowice, ul. Kossutha 6\", \"AM8 Gdansk Wrzeszcz\", \"Torun POLICJA\", \"BialaP-Orzechowa\", \"Lublin Ul. Sliwinskiego\", \"Zamosc ul. Hrubieszowska 69A\", \"L\\u00f3dz-Widzew\", \"L\\u00f3dz-Legion\\u00f3w 1\", \"Zgierz-Sr\\u00f3dmiescie\", \"Plock-Reja\", \"Radom-Tochtermana\", \"Warszawa-Ursyn\\u00f3w\", \"Warszawa-Targ\\u00f3wek\", \"Zyrard\\u00f3w-Roosevelta\", \"Bialystok-Miejska\", \"Lomza Sikorskiego 48/94\", \"Suwalki, ul. Pulaskiego 73\", \"AM11 Slupsk Kniaziewicza\", \"WIOS Olsztyn ul. Puszkina\", \"WIOS Ostr\\u00f3da ul. Chrobrego\", \"Legnica - Rzeczypospolitej\", \"Walbrzych - Wysockiego\", \"Wroclaw - Korzeniowskiego\", \"Zgorzelec - Bohater\\u00f3w Getta\", \"Zielona G\\u00f3ra ul. Kr\\u00f3tka\", \"K-Kozle automat 1\", \"Gliwice, ul. Mewy 34\", \"WKPPoznan1\", \"Szczecin_Andrzejewskiego\", \"Nisko-Szklarniowa-WIOS\", \"Kielce, ul. Jagiellonska\", \"WIOS Elblag ul. Bazynskiego\", \"Plock-Gimnazjum\", \"Krosno-Klet\\u00f3wki\", \"Zory, Os. Gen. Wladyslawa Sikorskiego 52\", \"Wroclaw - Na Grobli\", \"Gorz\\u00f3w Wlkp. ul. Pilsudskiego\", \"Radom-Hallera\", \"Opole manualna 4\", \"Rzesz\\u00f3w-Nowe Miasto\", \"Bialystok-Warszawska\", \"Zaspa\", \"Czestochowa, ul. Zana 6\", \"Bielsko-Biala, ul. Sternicza\", \"Koszalin_Spasowskiego\", \"Krak\\u00f3w, ul. Bujaka\", \"Tarn\\u00f3w, ul. Bitwy pod Studziankami\", \"WKPKalisz\", \"Lublin ul. Obywatelska\", \"Piotrk\\u00f3w Tryb.-Krakowskie Przedmiescie\", \"Kluczbork manualna 2\", \"Jaslo-Sikorskiego-WIOS\", \"Busko-Zdr\\u00f3j, ul. Rokosza\", \"God\\u00f3w, ul. Gliniki\", \"Tarnowskie G\\u00f3ry, ul. Litewska\", \"Myslib\\u00f3rz_ZaBramka\", \"Szczecinek_1Maja\", \"Siedlce-Konarskiego\", \"Grudziadz Star\\u00f3wka\", \"Bochnia, ul. Konfederat\\u00f3w Barskich\", \"Nowy Sacz, ul. Nadbrzezna\", \"Trzebinia, os. Zwiazku Walki Mlodych\", \"AM12 Koscierzyna Targowa\", \"Starachowice, ul. Zlota\", \"Jelenia G\\u00f3ra - Oginskiego\", \"Zary, ul. Szymanowskiego 8\", \"Przemysl-Grunwaldzka-WIOS\", \"Ostroleka-Hallera\", \"Mielec-MOSIR-WIOS\", \"WpPleszew\", \"Olivais\", \"Laranjeiro\", \"Mem Martins\", \"Joaquim Magalh\\u0103es\", \"CJ-2\", \"IS-2\", \"PH-2\", \"TM-2\", \"G\\u00f6teborg Femman\", \"Landskrona Polishuset\", \"Stockholm Torkel Knutssongatan\", \"Stockholm Olaus Petri\", \"Uppsala Klostergatan\", \"Burl\\u00f6v F\\u00f6rsamlingshemmet\", \"Ume\\u013a F\\u00f6rskolan Uven\", \"Maribor Vrbanski plato\", \"Ruzomberok - Riadok\", \"Hnusta - Hlavna\", \"Jelsava - Jesenskeho\", \"Strazske - Mierova\", \"Humenne - Nam. slobody\", \"Martin - Jesenskeho\", \"Kosice - Amurska\", \"Brno-Lisen\", \"Hr.Kral.-tr.SNP\", \"Jicin\"], \"lat\": [42.3139, 46.62556, 46.626617, 46.835, 48.2125, 48.257778, 48.049444, 47.044722, 48.205, 48.226361, 51.213463, 51.058332, 51.209663, 50.849665, 50.658444, 50.409311, 51.058332, 51.209663, 34.681633, 35.126975, 34.91363, 50.081482, 50.046131, 48.984386, 50.024036, 49.401596, 49.601463, 49.728394, 49.770126, 50.14386, 50.428646, 49.79604, 49.668114, 50.510365, 50.645279, 52.401352, 51.746344, 52.543041, 52.489451, 52.513606, 48.8088, 48.396836, 48.889039, 47.664361, 49.028594, 48.001511, 48.376576, 49.89833, 48.154534, 48.397079, 49.462229, 49.67895, 48.573629, 53.060045, 53.562455, 50.125332, 51.314248, 50.050343, 53.56414, 53.50793, 53.78175, 54.17133, 52.25534, 52.36292, 51.536911, 51.496527, 51.249211, 51.277647, 51.448762, 49.994975, 49.446, 49.842136, 53.835492, 49.233464, 51.317905, 51.036105, 51.496185, 52.127899, 50.979455, 50.655861, 50.653245, 55.700281, 56.159783, 59.414169, 58.370556, 59.376161, 41.384906, 41.403882, 42.210278, 42.33611, 42.80722, 39.47278, 39.478056, 41.63528, 39.86806, 41.426077, 42.875833, 39.480278, 40.34194, 38.340278, 40.398056, 62.8936, 60.18739, 63.10121, 60.25145, 61.4991, 49.119427, 49.358314, 48.929692, 48.775773, 48.858998, 48.902477, 49.514695, 50.35853, 50.172479, 45.797264, 43.591552, 42.695777, 46.162573, 46.329562, 45.647439, 46.161639, 51.048572, 50.947317, 50.628039, 43.587193, 49.224145, 48.645839, 45.161929, 48.570346, 47.737411, 49.851339, 49.259568, 49.902514, 48.386397, 47.742485, 47.648889, 45.778911, 45.9864, 45.757731, 49.187404, 47.264106, 47.468541, 47.97105, 47.222514, 43.835302, 44.555222, 43.702057, 49.442438, 47.308041, 47.800566, 50.535404, 45.420088, 45.475296, 48.688199, 43.310806, 43.479736, 43.70472, 46.802215, 45.564735, 45.895257, 46.19585, 47.917375, 47.344149, 47.222026, 48.439286, 45.831075, 44.93351, 47.2474, 47.510303, 46.671325, 51.52229, 54.59965, 51.48178, 53.80378, 50.90814, 53.48152, 51.52105, 52.28881, 52.95473, 53.02821, 53.48481, 55.001225, 51.544206, 57.15736, 53.37287, 53.76559, 50.82881, 50.73957, 51.49467, 53.74878, 55.945589, 51.45309, 52.511722, 50.840836, 54.88361, 53.54914, 53.80489, 51.462839, 53.967513, 51.744806, 51.617333, 51.601203, 52.614193, 52.437165, 52.271886, 51.425286, 52.619823, 55.865782, 52.411563, 45.834372, 43.510653, 47.377617, 46.011111, 64.138883, 46.61949, 45.89244, 45.690278, 44.79361, 44.396389, 43.78667, 44.48333, 45.193889, 44.690833, 43.46111, 41.932778, 41.857778, 45.499167, 46.066111, 45.73583, 44.28333, 46.06293, 44.0625, 44.219167, 45.760833, 43.738889, 45.560556, 43.10306, 43.883889, 43.840833, 44.42, 45.630278, 45.55882, 45.890556, 42.58194, 45.371944, 45.93034, 44.38175, 45.71317, 44.117778, 43.52, 45.6725, 42.77861, 46.141389, 45.626944, 43.87278, 45.47833, 45.515278, 45.142222, 45.58111, 44.65061, 45.849444, 44.9203, 41.906389, 42.84861, 42.73972, 45.160556, 44.315278, 43.35278, 41.893889, 44.825, 39.3134, 38.22976, 39.066667, 45.302787, 46.16861, 45.038333, 39.260556, 41.31667, 40.831389, 41.638889, 38.10495, 39.06808, 43.47278, 44.53944, 38.918288, 43.456944, 42.551944, 39.48963, 45.02494, 45.734306, 54.686111, 56.31944, 54.883614, 49.59769, 49.50504, 57.403997, 56.954847, 35.852321, 52.359997, 52.393059, 51.407501, 51.89389, 51.921111, 52.102222, 52.450001, 51.838889, 60.39213, 59.92295, 63.43038, 50.264611, 54.380279, 53.028647, 52.029194, 51.273078, 50.716628, 51.75805, 51.776417, 51.856692, 52.550938, 51.399084, 52.160772, 52.290864, 52.053811, 53.126689, 53.181394, 54.117878, 54.463611, 53.789233, 53.692469, 51.204503, 50.768729, 51.129378, 51.150391, 51.939783, 50.349608, 50.279333, 52.398175, 53.380975, 50.529892, 50.872549, 54.167847, 52.556279, 49.690169, 50.028681, 51.103456, 52.747044, 51.415324, 50.676856, 50.024242, 53.129306, 54.398639, 50.801918, 49.806389, 54.20705, 50.010575, 50.020169, 51.749053, 51.259431, 51.404406, 50.972181, 49.744886, 50.453653, 49.921875, 50.444736, 52.926189, 53.712097, 52.172145, 53.491831, 49.969017, 49.619281, 50.159406, 54.120694, 51.050611, 50.913433, 51.642656, 49.784339, 53.083736, 50.300761, 51.885218, 38.768889, 38.663611, 38.785, 37.015, 46.775002, 47.151112, 44.939201, 45.755493, 57.708611, 55.869659, 59.31694, 59.346111, 59.860111, 55.633598, 63.820801, 46.568722, 49.079166, 48.583611, 48.631111, 48.874165, 48.930836, 49.066944, 48.691113, 49.213231, 50.218543, 50.439498], \"legendgroup\": \"urban\", \"lon\": [19.52342, 14.31806, 14.299144, 14.843611, 15.634167, 13.039722, 14.442778, 15.152778, 16.30975, 16.458345, 3.234066, 3.729298, 4.431821, 4.33382, 5.627835, 4.452172, 3.729298, 4.431821, 33.017758, 33.331629, 33.615856, 14.442692, 14.331413, 14.465684, 15.763549, 15.610246, 17.238073, 13.37554, 13.368221, 14.101784, 14.913859, 18.247181, 18.677799, 13.645272, 13.85125, 13.059945, 14.33455, 13.349326, 13.430844, 13.418833, 9.229745, 9.979031, 8.665536, 9.169289, 8.355628, 7.832122, 10.88837, 10.887686, 11.554669, 10.008293, 11.0248, 12.159361, 13.422039, 8.916966, 8.569405, 8.746343, 9.483397, 8.244949, 9.967882, 9.990569, 12.175512, 12.080003, 8.05286, 9.70612, 7.457463, 6.981045, 6.732383, 7.231895, 7.582295, 8.273965, 7.7673, 7.866208, 10.695936, 6.987601, 12.297411, 13.730205, 11.979056, 11.611464, 11.037924, 12.205199, 10.668641, 12.561412, 10.193633, 24.649458, 26.734722, 28.179167, 2.119574, 2.204523, -8.736944, -3.63611, -1.65139, -6.36028, -0.368333, -0.89361, -4.02083, 2.147992, -8.559167, -0.336389, -3.83389, -0.506667, -3.686667, 27.66952, 24.9506, 21.60407, 24.06287, 23.80221, 6.180831, 6.156945, 2.294719, 2.375801, 2.350999, 2.4525, 0.100645, 3.508038, 3.236064, 3.11383, 3.886893, 2.899699, -1.153599, -0.458889, 0.167167, -1.211207, 2.420043, 1.843082, 3.090312, 1.443889, 4.020554, 4.966111, 5.735599, 7.766331, 7.309079, 3.283998, 2.4744, 2.304601, -4.486815, -3.394805, -2.763892, 4.924699, 4.719281, 4.854217, 6.910865, -2.249858, -0.556053, 0.221422, -1.537503, 5.785833, 6.07306, 7.286262, 1.09369, 5.066112, 3.576391, 2.635693, 4.395421, 4.515004, 6.190434, -0.391111, -1.488059, -1.038614, 4.417501, 5.928333, 6.118336, 6.24056, 1.966259, 0.653776, 2.072997, 1.468772, 1.256878, 4.893483, 6.015416, 6.794003, 5.556808, -0.125889, -5.928833, -3.17625, -1.546472, -1.395778, -2.237881, -0.213492, -1.533119, -1.146447, -2.175133, -2.334139, -7.329115, 0.678408, -2.094278, -3.022722, -2.680353, -1.068583, -1.826744, -0.131931, -0.341222, -3.182186, -0.944067, -1.830583, -0.147572, -1.406878, -2.638139, -3.007175, -2.584482, -1.086514, -1.260278, -0.298777, -2.977281, 1.301976, -1.829999, -0.879898, -0.345606, -1.127311, -4.243631, -1.560228, 15.978394, 16.449342, 8.530411, 8.957174, -21.873348, 10.85907, 11.03941, 9.643889, 10.33167, 8.992222, 11.2875, 11.355, 9.164722, 10.664722, 11.88889, 12.506944, 12.568611, 12.262222, 13.240556, 7.32417, 11.87056, 11.1262, 12.553333, 12.048889, 11.736667, 10.401667, 11.539722, 12.36611, 10.245, 10.573889, 12.225556, 12.591667, 8.05639, 12.308056, 12.62361, 11.841944, 8.56548, 7.5382, 8.28353, 9.842778, 10.321667, 12.238611, 11.11917, 12.216944, 9.024167, 11.09194, 9.23583, 10.219444, 10.045833, 9.27444, 10.90633, 9.395833, 8.6232, 12.4475, 13.61944, 12.73722, 10.795556, 8.485556, 12.57639, 12.475278, 11.649722, 16.24517, 16.25518, 9.008889, 9.495286, 9.88028, 9.669167, 9.136389, 16.28611, 8.405278, 13.323333, 15.63879, 17.11417, 11.14194, 10.79139, 16.57925, 12.245833, 12.419722, 16.3868, 7.64905, 7.329645, 25.210835, 22.87084, 23.835835, 6.13759, 5.97694, 21.590317, 24.104756, 14.538963, 4.808897, 4.870003, 5.393333, 4.4875, 4.401389, 5.128334, 4.816667, 5.858061, 5.32805, 10.76573, 10.39355, 18.975028, 18.620274, 18.666103, 23.149389, 22.551675, 23.290247, 19.529786, 19.452936, 19.421231, 19.709791, 21.147474, 21.033819, 21.042458, 20.429892, 23.155869, 22.054381, 22.934608, 17.046722, 20.486075, 19.969778, 16.180513, 16.269677, 17.02925, 15.008175, 15.518861, 18.236575, 18.655764, 16.959519, 14.663347, 22.112467, 20.604998, 19.410942, 19.687672, 21.7497, 18.691222, 17.059225, 15.246294, 21.171285, 17.950278, 22.010575, 23.181744, 18.614333, 19.106961, 19.023194, 16.193103, 19.949189, 21.004167, 18.048389, 22.569133, 19.696956, 18.207575, 21.454617, 20.715442, 18.471278, 18.829639, 14.862558, 16.692264, 22.282001, 18.752503, 20.439511, 20.714403, 19.477464, 17.975861, 21.084175, 15.765608, 15.127808, 22.756239, 21.579322, 21.434331, 17.788673, -9.108056, -9.157778, -9.347222, -7.926667, 23.596678, 27.583614, 26.025902, 21.227453, 11.970002, 12.829702, 18.057501, 18.090834, 17.635658, 13.0788, 20.289301, 15.627231, 19.302525, 19.951685, 20.240284, 21.837503, 21.913622, 18.921947, 21.286388, 16.677942, 15.856972, 15.352657], \"marker\": {\"color\": \"#FF6692\", \"opacity\": 0.4, \"size\": [13.236321, 16.919576, 14.608504, 19.190335, 13.97845, 12.523505, 11.781854, 14.787564, 14.100782, 14.567044, 12.944598, 14.640805, 14.81268, 14.705634, 11.341185, 12.842754, 14.327172, 14.569196, 17.802967, 16.875843, 20.32358, 15.57881, 15.313738, 14.266245, 18.682784, 16.489249, 23.921083, 18.435565, 16.653832, 12.296574, 17.270451, 25.380925, 24.696366, 18.666911, 19.436881, 13.695237, 13.485642, 15.250826, 17.119724, 16.061823, 12.379726, 13.192736, 11.823123, 12.423116, 11.994496, 10.578466, 13.376674, 13.076938, 12.392775, 13.687462, 13.515509, 13.427596, 15.24653, 11.951139, 10.282646, 13.002718, 11.948696, 12.040123, 12.951982, 13.776988, 11.565453, 10.882653, 11.325708, 11.397428, 14.033249, 15.073384, 12.705393, 12.574983, 12.789846, 13.271031, 12.890498, 12.711364, 11.214417, 12.244933, 12.017583, 13.010192, 12.893257, 12.934388, 11.104895, 11.983944, 10.383987, 11.635107, 9.856579, 6.27563, 8.941618, 5.943251, 15.060833, 17.963018, 14.872995, 10.019336, 11.227654, 6.720053, 19.688172, 12.155689, 11.965899, 15.321534, 7.301614, 12.099082, 8.019741, 12.634615, 11.917005, 4.539228, 5.415536, 4.354429, 4.460459, 5.945455, 15.01001, 14.09636, 13.264381, 13.648356, 14.266079, 13.432214, 10.268031, 14.247516, 12.300589, 11.424204, 14.051007, 10.047503, 10.455317, 11.060378, 11.263739, 10.200199, 11.856743, 10.783774, 15.476296, 11.859996, 13.463603, 11.944279, 15.824027, 17.091193, 14.391216, 13.069344, 11.84155, 12.436338, 9.130502, 8.986247, 6.97379, 14.267857, 15.162516, 17.283563, 13.107667, 9.532049, 12.315558, 13.002057, 13.647651, 12.479338, 14.689587, 14.284461, 13.04293, 13.484743, 11.705437, 14.057797, 8.417138, 13.46916, 13.95688, 10.606602, 11.514683, 13.87172, 11.153179, 15.848167, 17.685987, 15.527387, 13.195039, 13.412708, 12.230161, 10.002186, 10.402739, 16.58613, 15.034951, 13.62339, 12.420192, 10.928548, 9.030004, 9.5591, 11.433325, 9.960425, 10.47755, 9.7907, 12.262142, 11.497954, 11.691325, 10.586222, 11.752537, 10.624283, 8.038827, 7.203831, 9.953742, 10.395696, 7.486961, 9.590462, 10.877774, 6.386624, 7.420871, 9.545399, 9.318762, 7.103531, 10.764287, 8.477523, 10.24675, 10.189576, 10.11053, 10.828675, 9.568158, 11.945411, 8.996075, 6.794377, 9.67155, 12.019491, 6.546663, 10.939653, 20.816775, 10.839764, 11.771429, 13.176438, 9.942876, 16.021639, 15.861111, 25.672981, 21.470914, 12.044985, 15.642424, 18.206687, 23.245029, 20.714681, 16.205797, 16.130435, 21.762712, 28.423729, 18.531698, 11.853933, 14.008746, 16.063361, 22.791429, 17.093294, 20.442857, 16.962536, 29.216138, 20.089783, 17.667606, 25.087571, 19.40634, 23.456044, 15.779944, 23.345506, 23.597765, 31.25, 12.836676, 16.387283, 16.571031, 14.185908, 10.670423, 26.501424, 10.985755, 14.539945, 24.721369, 20.270423, 31.901896, 29.066077, 30.006571, 27.024926, 22.160221, 15.812325, 24.369863, 17.470423, 12.446512, 13.835196, 27.225808, 12.594153, 16.910448, 16.896359, 19.387187, 13.485074, 13.020991, 12.468866, 26.504819, 21.683129, 24.078313, 11.979769, 15.486065, 9.336517, 25.58651, 11.089119, 18.071562, 13.27762, 18.09621, 9.096707, 20.144928, 13.823529, 15.727735, 27.160256, 13.823171, 10.65067, 7.830097, 9.907301, 11.669167, 12.02807, 12.312014, 15.917079, 12.476221, 12.448128, 11.538978, 10.673576, 12.640694, 13.344757, 14.21835, 12.803076, 12.125276, 6.762815, 8.825313, 4.731638, 27.273273, 12.897218, 18.868486, 26.346154, 21.293151, 23.956164, 22.134072, 29.728571, 20.457289, 21.465559, 28.090908, 21.181222, 23.627787, 30.140162, 19.287655, 26.642072, 13.33061, 14.065972, 16.745363, 17.259802, 22.905817, 18.906728, 23.967134, 18.416522, 20.787204, 27.025765, 30.896265, 24.35196, 15.355014, 22.990962, 25.604647, 14.942473, 21.413407, 24.474444, 27.773988, 22.862136, 16.646648, 24.972535, 21.215068, 22.787147, 21.247697, 14.212885, 26.001714, 25.894944, 13.471781, 33.717808, 25.156742, 27.188195, 28.158287, 31.571388, 20.310056, 24.067817, 21.007445, 34.88745, 29.098494, 20.107374, 14.334493, 24.910774, 26.828296, 29.210169, 36.010959, 25.841226, 22.855385, 22.348468, 18.372678, 19.588286, 25.920167, 21.023672, 27.10193, 33.561364, 11.345238, 13.551207, 12.228133, 11.912215, 17.301691, 23.156837, 16.893697, 11.119221, 8.266937, 7.792754, 4.80579, 4.209584, 4.136593, 8.251126, 3.677026, 19.259669, 22.749334, 17.574611, 22.278441, 20.164213, 19.419321, 17.417422, 18.989409, 18.477178, 20.18, 18.397], \"sizemode\": \"area\", \"sizeref\": 0.25007610416666665}, \"mode\": \"markers\", \"name\": \"urban\", \"showlegend\": true, \"subplot\": \"mapbox\", \"type\": \"scattermapbox\"}],\n",
       "                        {\"height\": 900, \"legend\": {\"itemsizing\": \"constant\", \"title\": {\"text\": \"StationAre\"}, \"tracegroupgap\": 0}, \"mapbox\": {\"center\": {\"lat\": 48.536053066197184, \"lon\": 9.552567835211267}, \"domain\": {\"x\": [0.0, 1.0], \"y\": [0.0, 1.0]}, \"style\": \"carto-positron\", \"zoom\": 4}, \"margin\": {\"b\": 0, \"l\": 0, \"r\": 0, \"t\": 0}, \"template\": {\"data\": {\"bar\": [{\"error_x\": {\"color\": \"#2a3f5f\"}, \"error_y\": {\"color\": \"#2a3f5f\"}, \"marker\": {\"line\": {\"color\": \"#E5ECF6\", \"width\": 0.5}}, \"type\": \"bar\"}], \"barpolar\": [{\"marker\": {\"line\": {\"color\": \"#E5ECF6\", \"width\": 0.5}}, \"type\": \"barpolar\"}], \"carpet\": [{\"aaxis\": {\"endlinecolor\": \"#2a3f5f\", \"gridcolor\": \"white\", \"linecolor\": \"white\", \"minorgridcolor\": \"white\", \"startlinecolor\": \"#2a3f5f\"}, \"baxis\": {\"endlinecolor\": \"#2a3f5f\", \"gridcolor\": \"white\", \"linecolor\": \"white\", \"minorgridcolor\": \"white\", \"startlinecolor\": \"#2a3f5f\"}, \"type\": \"carpet\"}], \"choropleth\": [{\"colorbar\": {\"outlinewidth\": 0, \"ticks\": \"\"}, \"type\": \"choropleth\"}], \"contour\": [{\"colorbar\": {\"outlinewidth\": 0, \"ticks\": \"\"}, \"colorscale\": [[0.0, \"#0d0887\"], [0.1111111111111111, \"#46039f\"], [0.2222222222222222, \"#7201a8\"], [0.3333333333333333, \"#9c179e\"], [0.4444444444444444, \"#bd3786\"], [0.5555555555555556, \"#d8576b\"], [0.6666666666666666, \"#ed7953\"], [0.7777777777777778, \"#fb9f3a\"], [0.8888888888888888, \"#fdca26\"], [1.0, \"#f0f921\"]], \"type\": \"contour\"}], \"contourcarpet\": [{\"colorbar\": {\"outlinewidth\": 0, \"ticks\": \"\"}, \"type\": \"contourcarpet\"}], \"heatmap\": [{\"colorbar\": {\"outlinewidth\": 0, \"ticks\": \"\"}, \"colorscale\": [[0.0, \"#0d0887\"], [0.1111111111111111, \"#46039f\"], [0.2222222222222222, \"#7201a8\"], [0.3333333333333333, \"#9c179e\"], [0.4444444444444444, \"#bd3786\"], [0.5555555555555556, \"#d8576b\"], [0.6666666666666666, \"#ed7953\"], [0.7777777777777778, \"#fb9f3a\"], [0.8888888888888888, \"#fdca26\"], [1.0, \"#f0f921\"]], \"type\": \"heatmap\"}], \"heatmapgl\": [{\"colorbar\": {\"outlinewidth\": 0, \"ticks\": \"\"}, \"colorscale\": [[0.0, \"#0d0887\"], [0.1111111111111111, \"#46039f\"], [0.2222222222222222, \"#7201a8\"], [0.3333333333333333, \"#9c179e\"], [0.4444444444444444, \"#bd3786\"], [0.5555555555555556, \"#d8576b\"], [0.6666666666666666, \"#ed7953\"], [0.7777777777777778, \"#fb9f3a\"], [0.8888888888888888, \"#fdca26\"], [1.0, \"#f0f921\"]], \"type\": \"heatmapgl\"}], \"histogram\": [{\"marker\": {\"colorbar\": {\"outlinewidth\": 0, \"ticks\": \"\"}}, \"type\": \"histogram\"}], \"histogram2d\": [{\"colorbar\": {\"outlinewidth\": 0, \"ticks\": \"\"}, \"colorscale\": [[0.0, \"#0d0887\"], [0.1111111111111111, \"#46039f\"], [0.2222222222222222, \"#7201a8\"], [0.3333333333333333, \"#9c179e\"], [0.4444444444444444, \"#bd3786\"], [0.5555555555555556, \"#d8576b\"], [0.6666666666666666, \"#ed7953\"], [0.7777777777777778, \"#fb9f3a\"], [0.8888888888888888, \"#fdca26\"], [1.0, \"#f0f921\"]], \"type\": \"histogram2d\"}], \"histogram2dcontour\": [{\"colorbar\": {\"outlinewidth\": 0, \"ticks\": \"\"}, \"colorscale\": [[0.0, \"#0d0887\"], [0.1111111111111111, \"#46039f\"], [0.2222222222222222, \"#7201a8\"], [0.3333333333333333, \"#9c179e\"], [0.4444444444444444, \"#bd3786\"], [0.5555555555555556, \"#d8576b\"], [0.6666666666666666, \"#ed7953\"], [0.7777777777777778, \"#fb9f3a\"], [0.8888888888888888, \"#fdca26\"], [1.0, \"#f0f921\"]], \"type\": \"histogram2dcontour\"}], \"mesh3d\": [{\"colorbar\": {\"outlinewidth\": 0, \"ticks\": \"\"}, \"type\": \"mesh3d\"}], \"parcoords\": [{\"line\": {\"colorbar\": {\"outlinewidth\": 0, \"ticks\": \"\"}}, \"type\": \"parcoords\"}], \"pie\": [{\"automargin\": true, \"type\": \"pie\"}], \"scatter\": [{\"marker\": {\"colorbar\": {\"outlinewidth\": 0, \"ticks\": \"\"}}, \"type\": \"scatter\"}], \"scatter3d\": [{\"line\": {\"colorbar\": {\"outlinewidth\": 0, \"ticks\": \"\"}}, \"marker\": {\"colorbar\": {\"outlinewidth\": 0, \"ticks\": \"\"}}, \"type\": \"scatter3d\"}], \"scattercarpet\": [{\"marker\": {\"colorbar\": {\"outlinewidth\": 0, \"ticks\": \"\"}}, \"type\": \"scattercarpet\"}], \"scattergeo\": [{\"marker\": {\"colorbar\": {\"outlinewidth\": 0, \"ticks\": \"\"}}, \"type\": \"scattergeo\"}], \"scattergl\": [{\"marker\": {\"colorbar\": {\"outlinewidth\": 0, \"ticks\": \"\"}}, \"type\": \"scattergl\"}], \"scattermapbox\": [{\"marker\": {\"colorbar\": {\"outlinewidth\": 0, \"ticks\": \"\"}}, \"type\": \"scattermapbox\"}], \"scatterpolar\": [{\"marker\": {\"colorbar\": {\"outlinewidth\": 0, \"ticks\": \"\"}}, \"type\": \"scatterpolar\"}], \"scatterpolargl\": [{\"marker\": {\"colorbar\": {\"outlinewidth\": 0, \"ticks\": \"\"}}, \"type\": \"scatterpolargl\"}], \"scatterternary\": [{\"marker\": {\"colorbar\": {\"outlinewidth\": 0, \"ticks\": \"\"}}, \"type\": \"scatterternary\"}], \"surface\": [{\"colorbar\": {\"outlinewidth\": 0, \"ticks\": \"\"}, \"colorscale\": [[0.0, \"#0d0887\"], [0.1111111111111111, \"#46039f\"], [0.2222222222222222, \"#7201a8\"], [0.3333333333333333, \"#9c179e\"], [0.4444444444444444, \"#bd3786\"], [0.5555555555555556, \"#d8576b\"], [0.6666666666666666, \"#ed7953\"], [0.7777777777777778, \"#fb9f3a\"], [0.8888888888888888, \"#fdca26\"], [1.0, \"#f0f921\"]], \"type\": \"surface\"}], \"table\": [{\"cells\": {\"fill\": {\"color\": \"#EBF0F8\"}, \"line\": {\"color\": \"white\"}}, \"header\": {\"fill\": {\"color\": \"#C8D4E3\"}, \"line\": {\"color\": \"white\"}}, \"type\": \"table\"}]}, \"layout\": {\"annotationdefaults\": {\"arrowcolor\": \"#2a3f5f\", \"arrowhead\": 0, \"arrowwidth\": 1}, \"coloraxis\": {\"colorbar\": {\"outlinewidth\": 0, \"ticks\": \"\"}}, \"colorscale\": {\"diverging\": [[0, \"#8e0152\"], [0.1, \"#c51b7d\"], [0.2, \"#de77ae\"], [0.3, \"#f1b6da\"], [0.4, \"#fde0ef\"], [0.5, \"#f7f7f7\"], [0.6, \"#e6f5d0\"], [0.7, \"#b8e186\"], [0.8, \"#7fbc41\"], [0.9, \"#4d9221\"], [1, \"#276419\"]], \"sequential\": [[0.0, \"#0d0887\"], [0.1111111111111111, \"#46039f\"], [0.2222222222222222, \"#7201a8\"], [0.3333333333333333, \"#9c179e\"], [0.4444444444444444, \"#bd3786\"], [0.5555555555555556, \"#d8576b\"], [0.6666666666666666, \"#ed7953\"], [0.7777777777777778, \"#fb9f3a\"], [0.8888888888888888, \"#fdca26\"], [1.0, \"#f0f921\"]], \"sequentialminus\": [[0.0, \"#0d0887\"], [0.1111111111111111, \"#46039f\"], [0.2222222222222222, \"#7201a8\"], [0.3333333333333333, \"#9c179e\"], [0.4444444444444444, \"#bd3786\"], [0.5555555555555556, \"#d8576b\"], [0.6666666666666666, \"#ed7953\"], [0.7777777777777778, \"#fb9f3a\"], [0.8888888888888888, \"#fdca26\"], [1.0, \"#f0f921\"]]}, \"colorway\": [\"#636efa\", \"#EF553B\", \"#00cc96\", \"#ab63fa\", \"#FFA15A\", \"#19d3f3\", \"#FF6692\", \"#B6E880\", \"#FF97FF\", \"#FECB52\"], \"font\": {\"color\": \"#2a3f5f\"}, \"geo\": {\"bgcolor\": \"white\", \"lakecolor\": \"white\", \"landcolor\": \"#E5ECF6\", \"showlakes\": true, \"showland\": true, \"subunitcolor\": \"white\"}, \"hoverlabel\": {\"align\": \"left\"}, \"hovermode\": \"closest\", \"mapbox\": {\"style\": \"light\"}, \"paper_bgcolor\": \"white\", \"plot_bgcolor\": \"#E5ECF6\", \"polar\": {\"angularaxis\": {\"gridcolor\": \"white\", \"linecolor\": \"white\", \"ticks\": \"\"}, \"bgcolor\": \"#E5ECF6\", \"radialaxis\": {\"gridcolor\": \"white\", \"linecolor\": \"white\", \"ticks\": \"\"}}, \"scene\": {\"xaxis\": {\"backgroundcolor\": \"#E5ECF6\", \"gridcolor\": \"white\", \"gridwidth\": 2, \"linecolor\": \"white\", \"showbackground\": true, \"ticks\": \"\", \"zerolinecolor\": \"white\"}, \"yaxis\": {\"backgroundcolor\": \"#E5ECF6\", \"gridcolor\": \"white\", \"gridwidth\": 2, \"linecolor\": \"white\", \"showbackground\": true, \"ticks\": \"\", \"zerolinecolor\": \"white\"}, \"zaxis\": {\"backgroundcolor\": \"#E5ECF6\", \"gridcolor\": \"white\", \"gridwidth\": 2, \"linecolor\": \"white\", \"showbackground\": true, \"ticks\": \"\", \"zerolinecolor\": \"white\"}}, \"shapedefaults\": {\"line\": {\"color\": \"#2a3f5f\"}}, \"ternary\": {\"aaxis\": {\"gridcolor\": \"white\", \"linecolor\": \"white\", \"ticks\": \"\"}, \"baxis\": {\"gridcolor\": \"white\", \"linecolor\": \"white\", \"ticks\": \"\"}, \"bgcolor\": \"#E5ECF6\", \"caxis\": {\"gridcolor\": \"white\", \"linecolor\": \"white\", \"ticks\": \"\"}}, \"title\": {\"x\": 0.05}, \"xaxis\": {\"automargin\": true, \"gridcolor\": \"white\", \"linecolor\": \"white\", \"ticks\": \"\", \"title\": {\"standoff\": 15}, \"zerolinecolor\": \"white\", \"zerolinewidth\": 2}, \"yaxis\": {\"automargin\": true, \"gridcolor\": \"white\", \"linecolor\": \"white\", \"ticks\": \"\", \"title\": {\"standoff\": 15}, \"zerolinecolor\": \"white\", \"zerolinewidth\": 2}}}, \"title\": {\"text\": \"Air quality level in Europe 2018\"}, \"width\": 1400},\n",
       "                        {\"responsive\": true}\n",
       "                    ).then(function(){\n",
       "                            \n",
       "var gd = document.getElementById('466fdb6a-c97d-40ac-aa86-5563467601ed');\n",
       "var x = new MutationObserver(function (mutations, observer) {{\n",
       "        var display = window.getComputedStyle(gd).display;\n",
       "        if (!display || display === 'none') {{\n",
       "            console.log([gd, 'removed!']);\n",
       "            Plotly.purge(gd);\n",
       "            observer.disconnect();\n",
       "        }}\n",
       "}});\n",
       "\n",
       "// Listen for the removal of the full notebook cells\n",
       "var notebookContainer = gd.closest('#notebook-container');\n",
       "if (notebookContainer) {{\n",
       "    x.observe(notebookContainer, {childList: true});\n",
       "}}\n",
       "\n",
       "// Listen for the clearing of the current output cell\n",
       "var outputEl = gd.closest('.output');\n",
       "if (outputEl) {{\n",
       "    x.observe(outputEl, {childList: true});\n",
       "}}\n",
       "\n",
       "                        })\n",
       "                };\n",
       "                });\n",
       "            </script>\n",
       "        </div>"
      ]
     },
     "metadata": {},
     "output_type": "display_data"
    }
   ],
   "source": [
    "fig = px.scatter_mapbox(df_air_quality, lat=\"Latitude\", lon=\"Longitude\", hover_name=\"StationNam\", hover_data=[\"Altitude\"],\n",
    "                        color=\"StationAre\", zoom=4, height=900,size=\"avg15\",size_max=12, opacity = 0.4,width=1400)\n",
    "fig.update_layout(mapbox_style='carto-positron')\n",
    "fig.update_layout(margin={\"r\":0,\"t\":0,\"l\":0,\"b\":0})\n",
    "fig.update_layout(title_text=\"Air quality level in Europe 2018\")\n",
    "fig.show()"
   ]
  },
  {
   "cell_type": "markdown",
   "metadata": {},
   "source": [
    "![title](geoscatter2.png)"
   ]
  },
  {
   "cell_type": "markdown",
   "metadata": {},
   "source": [
    "Focusing on Terrain by selecting mapbox_style to ****"
   ]
  },
  {
   "cell_type": "code",
   "execution_count": 27,
   "metadata": {},
   "outputs": [
    {
     "data": {
      "application/vnd.plotly.v1+json": {
       "config": {
        "plotlyServerURL": "https://plot.ly"
       },
       "data": [
        {
         "customdata": [
          [
           525
          ],
          [
           918
          ],
          [
           532
          ],
          [
           245
          ],
          [
           535
          ],
          [
           88
          ],
          [
           904
          ],
          [
           798
          ],
          [
           755
          ],
          [
           700
          ],
          [
           362
          ],
          [
           45
          ],
          [
           419
          ],
          [
           1205
          ],
          [
           65
          ],
          [
           3
          ],
          [
           140
          ],
          [
           134
          ],
          [
           127
          ],
          [
           235
          ],
          [
           170
          ],
          [
           50
          ],
          [
           670
          ],
          [
           225
          ],
          [
           477
          ],
          [
           180
          ],
          [
           655
          ],
          [
           0
          ],
          [
           550
          ],
          [
           319
          ],
          [
           114
          ],
          [
           200
          ],
          [
           210
          ],
          [
           280
          ],
          [
           1118
          ],
          [
           735
          ]
         ],
         "hovertemplate": "<b>%{hovertext}</b><br><br>StationAre=rural-regional<br>avg15=%{marker.size}<br>Latitude=%{lat}<br>Longitude=%{lon}<br>Altitude=%{customdata[0]}<extra></extra>",
         "hovertext": [
          "Enzenkirchen im Sauwald",
          "Grünbach bei Freistadt",
          "Emep - Ayia Marina",
          "Mikulov-Sedlec",
          "Kosetice",
          "Hasenholz",
          "Schwarzwald-Süd",
          "Schwäbische_Alb",
          "Tiefenbach/Altenschneeberg",
          "Andechs/Rothenfeld",
          "Burgbernheim/Grüne Au",
          "Bornhöved",
          "Unterharz / Friedrichsbrunn",
          "Schauinsland",
          "Neuglobsow",
          "Risoe",
          "Zone Rurale Nord",
          "Zone rurale Sud",
          "Zone Rurale SE",
          "Paray le Fresil",
          "Campagne les B.",
          "SAINT-DENIS D'ANJOU",
          "Obs Haute-Provence",
          "Jonville en Woevre",
          "St Germain/Rhône",
          "Verneuil",
          "Venaco",
          "PLITVICKA JEZERA - RH0113 - HR0013A; Državna mreža za trajno pracenje kvalitete zraka",
          "Genga -Parco Gola della Rossa",
          "Beidweiler",
          "Gharb Station",
          "Nye Birkenes",
          "Kĺrvatn",
          "Hurdal25",
          "Churanov",
          "Svratouch"
         ],
         "lat": [
          48.39172,
          48.531111,
          35.038027,
          48.791767,
          49.573395,
          52.563835,
          47.809892,
          48.345778,
          49.438464,
          47.968753,
          49.44406,
          54.09323,
          51.662435,
          47.913256,
          53.141303,
          55.694206,
          49.100257,
          48.36414,
          48.354709,
          46.652645,
          50.610484,
          47.787712,
          43.93352,
          49.065837,
          46.072219,
          46.814819,
          42.236087,
          44.899333,
          43.46806,
          49.72226,
          36.067041,
          58.38846,
          62.78246,
          60.37288,
          49.068427,
          49.735068
         ],
         "legendgroup": "rural-regional",
         "lon": [
          13.67114,
          14.574722,
          33.057823,
          16.724497,
          15.080278,
          14.015252,
          7.764528,
          9.207639,
          12.548869,
          11.220172,
          10.325,
          10.240596,
          11.043386,
          7.908035,
          13.031662,
          12.088898,
          2.343893,
          2.23694,
          2.645296,
          3.600663,
          1.991448,
          -0.444044,
          5.711704,
          5.785555,
          5.820832,
          2.610082,
          9.190035,
          15.609778,
          12.95222,
          6.30533,
          14.197154,
          8.2519,
          8.87658,
          11.07407,
          13.614777,
          16.034209
         ],
         "marker": {
          "color": "#636efa",
          "opacity": 0.4,
          "size": [
           13.353289,
           9.099422,
           9.879714,
           16.080899,
           11.625252,
           11.945001,
           6.111503,
           7.883377,
           8.871439,
           8.743363,
           11.139296,
           9.868317,
           8.684215,
           6.690393,
           9.969703,
           9.520642,
           12.660772,
           9.648008,
           9.169847,
           8.447957,
           10.634634,
           10.292241,
           7.504084,
           12.595133,
           8.89671,
           11.602657,
           7.685495,
           9.171703,
           11.594837,
           11.022904,
           9.19006,
           2.707727,
           1.512005,
           2.752935,
           7.103898,
           11.822
          ],
          "sizemode": "area",
          "sizeref": 0.25007610416666665
         },
         "mode": "markers",
         "name": "rural-regional",
         "showlegend": true,
         "subplot": "mapbox",
         "type": "scattermapbox"
        },
        {
         "customdata": [
          [
           899
          ],
          [
           313
          ],
          [
           29
          ],
          [
           309
          ],
          [
           143
          ],
          [
           620
          ],
          [
           45
          ]
         ],
         "hovertemplate": "<b>%{hovertext}</b><br><br>StationAre=rural-remote<br>avg15=%{marker.size}<br>Latitude=%{lat}<br>Longitude=%{lon}<br>Altitude=%{customdata[0]}<extra></extra>",
         "hovertext": [
          "Zöbelboden im Reichraminger Hintergebirge - Wildwiese",
          "Collmberg",
          "Serv Tech Guipry",
          "La Coulonche MERA",
          "LA TARDIERE",
          "Station MORVAN",
          "Mayo Claremorris"
         ],
         "lat": [
          47.838611,
          51.303772,
          47.831934,
          48.645008,
          46.656714,
          47.275017,
          53.703889
         ],
         "legendgroup": "rural-remote",
         "lon": [
          14.441389,
          13.009406,
          -1.836327,
          -0.458333,
          -0.743681,
          4.09833,
          -9.012672
         ],
         "marker": {
          "color": "#EF553B",
          "opacity": 0.4,
          "size": [
           7.257276,
           10.191917,
           8.913834,
           8.07166,
           10.524742,
           9.567993,
           5.735632
          ],
          "sizemode": "area",
          "sizeref": 0.25007610416666665
         },
         "mode": "markers",
         "name": "rural-remote",
         "showlegend": true,
         "subplot": "mapbox",
         "type": "scattermapbox"
        },
        {
         "customdata": [
          [
           150
          ],
          [
           231
          ],
          [
           203
          ],
          [
           124
          ],
          [
           110
          ],
          [
           153
          ],
          [
           0
          ],
          [
           532
          ]
         ],
         "hovertemplate": "<b>%{hovertext}</b><br><br>StationAre=rural-near_city<br>avg15=%{marker.size}<br>Latitude=%{lat}<br>Longitude=%{lon}<br>Altitude=%{customdata[0]}<extra></extra>",
         "hovertext": [
          "Glinzendorf im Marchfeld",
          "Studenka",
          "Vernovice",
          "Kleinwallstadt/Hofstetter Straße",
          "Soest-Ost",
          "Pourcy",
          "DESINIC - RH0112 - HR0012A; Državna mreža za trajno pracenje kvalitete zraka",
          "CENMA1"
         ],
         "lat": [
          48.236667,
          49.720936,
          49.924679,
          49.869422,
          51.570662,
          49.158627,
          46.169056,
          40.256389
         ],
         "legendgroup": "rural-near_city",
         "lon": [
          16.636944,
          18.089306,
          18.422873,
          9.171544,
          8.148061,
          3.912612,
          15.660639,
          8.773056
         ],
         "marker": {
          "color": "#00cc96",
          "opacity": 0.4,
          "size": [
           14.789538,
           23.892614,
           33.040112,
           12.735729,
           12.44337,
           11.019525,
           14.282799,
           7.149379
          ],
          "sizemode": "area",
          "sizeref": 0.25007610416666665
         },
         "mode": "markers",
         "name": "rural-near_city",
         "showlegend": true,
         "subplot": "mapbox",
         "type": "scattermapbox"
        },
        {
         "customdata": [
          [
           200
          ],
          [
           510
          ],
          [
           23
          ],
          [
           3
          ],
          [
           30
          ],
          [
           2
          ],
          [
           135
          ],
          [
           0
          ],
          [
           145
          ],
          [
           233
          ],
          [
           160
          ],
          [
           490
          ],
          [
           265
          ],
          [
           225
          ],
          [
           510
          ],
          [
           430
          ],
          [
           375
          ],
          [
           343
          ],
          [
           17
          ],
          [
           2
          ],
          [
           16
          ],
          [
           606
          ],
          [
           546
          ],
          [
           72
          ],
          [
           74
          ],
          [
           937
          ],
          [
           32
          ],
          [
           6
          ],
          [
           50
          ],
          [
           917
          ],
          [
           78
          ],
          [
           1230
          ],
          [
           134
          ],
          [
           1360
          ],
          [
           23
          ],
          [
           393
          ],
          [
           885
          ],
          [
           985
          ],
          [
           470
          ],
          [
           506
          ],
          [
           911
          ],
          [
           619
          ],
          [
           804
          ],
          [
           430
          ],
          [
           995
          ],
          [
           469
          ],
          [
           172
          ],
          [
           200
          ],
          [
           64
          ],
          [
           7
          ],
          [
           4
          ],
          [
           617
          ],
          [
           126
          ],
          [
           260
          ],
          [
           14
          ],
          [
           61
          ],
          [
           948
          ],
          [
           388
          ],
          [
           -2
          ],
          [
           11
          ],
          [
           115
          ],
          [
           48
          ],
          [
           14
          ],
          [
           10
          ],
          [
           110
          ],
          [
           1192
          ],
          [
           16
          ],
          [
           209
          ],
          [
           620
          ],
          [
           202
          ],
          [
           22
          ],
          [
           165
          ],
          [
           0
          ],
          [
           4
          ],
          [
           48
          ],
          [
           1
          ],
          [
           258
          ],
          [
           420
          ],
          [
           811
          ],
          [
           1038
          ],
          [
           268
          ],
          [
           150
          ],
          [
           150
          ],
          [
           180
          ],
          [
           15
          ],
          [
           4
          ],
          [
           -4
          ],
          [
           1
          ],
          [
           1
          ],
          [
           157
          ],
          [
           291
          ],
          [
           179
          ],
          [
           60
          ],
          [
           473
          ],
          [
           143
          ],
          [
           57
          ],
          [
           187
          ],
          [
           300
          ],
          [
           30
          ],
          [
           20
          ],
          [
           540
          ],
          [
           808
          ],
          [
           117
          ],
          [
           86
          ],
          [
           340
          ],
          [
           390
          ],
          [
           605
          ],
          [
           125
          ],
          [
           489
          ],
          [
           1031
          ],
          [
           18
          ],
          [
           157
          ]
         ],
         "hovertemplate": "<b>%{hovertext}</b><br><br>StationAre=rural<br>avg15=%{marker.size}<br>Latitude=%{lat}<br>Longitude=%{lon}<br>Altitude=%{customdata[0]}<extra></extra>",
         "hovertext": [
          "Zwentendorf im Tullnerfeld",
          "Lenzing",
          "26RT01 - RETIE",
          "44N012 - MOERKERKE",
          "42N016 - DESSEL",
          "44N029 - HOUTEM",
          "42N054 - WALSHOUTEM",
          "43N060 - HAVINNES",
          "43N063 - CORROY L.G.",
          "43N067 - MEMBACH",
          "43N073 - VEZIN",
          "43N085 - VIELSALM",
          "43N093 - SINSIN",
          "43N100 - DOURBES",
          "43N113 - SAINT-ODE",
          "43N121 - OFFAGNE",
          "43N132 - HABAY-LA-N.",
          "Bad Arolsen",
          "Gülzow",
          "Jadebusen",
          "Wendland",
          "Pfälzerwald-Hortenkopf",
          "Westerwald-Neuhäusel",
          "Domäne Bobbe",
          "Waldhof",
          "Schmücke",
          "Lahemaa",
          "Vilsandi",
          "Saarejärve",
          "SAN PABLO DE LOS MONTES",
          "MAHÓN",
          "VÍZNAR",
          "NIEMBRO",
          "CAMPISÁBALOS",
          "CABO DE CREUS",
          "BARCARROTA",
          "ZARRA",
          "PEŃAUSENDE",
          "ELS TORMS",
          "O SAVIŃAO",
          "VALDEREJO",
          "ZORITA",
          "CAUDETE DE LAS FUENTES",
          "VILLAR DEL ARZOBISPO",
          "EL ATAZAR",
          "VILLA DEL PRADO",
          "HOSPITAL JOAN MARCH",
          "ALGAR DE PALŔNCIA",
          "Luukki",
          "Utö",
          "Virolahti 2",
          "Drôme Rurale Sud-SND",
          "Harwell",
          "Auchencorth Moss",
          "Rochester Stoke",
          "CASTEL DI GUIDO",
          "LEONESSA",
          "FONTECHIARI",
          "GHERARDI",
          "SAN PIETRO CAPOFIUME",
          "CASIRATE D'ADDA",
          "PT-MONTALE",
          "MANSUE'",
          "LECCE - S. M. Cerrate",
          "Civitanova IPPODROMO S. MARONE",
          "MOGGIO",
          "SCHIVENOGLIA",
          "BRUFA",
          "Dernice - Costa",
          "BADIA",
          "SAN ROCCO",
          "SAN CLEMENTE",
          "OSTELLATO",
          "GAVELLO",
          "BESENZONE",
          "BALLIRANA",
          "Vinchio - San Michele",
          "ACQUAPENDENTE",
          "CASTELLUCCIO",
          "M Martani",
          "Revello - Staffarda",
          "Posta del Principe",
          "Azienda Russo",
          "Aukstaitija",
          "Biest Houtakker-Biestsestraat",
          "De Zilk-Vogelaarsdreef",
          "Wieringerwerf-Medemblikkerweg",
          "Badhoevedorp-Sloterweg",
          "Amsterdam-Spaarnwoude",
          "KMS Puszcza Borecka",
          "Zloty Potok, Lesniczówka",
          "Osieczów",
          "Ervedeira",
          "Fundăo",
          "Chamusca",
          "Fernando Pó",
          "Terena",
          "Cerro",
          "B8 Balotesti",
          "GR-4",
          "Iskrba",
          "Stara Lesna - AU SAV EMEP/O3",
          "Illmitz",
          "Melpitz",
          "Pallas (Matorova)",
          "Revin",
          "Saint-Nazaire-le-Désert",
          "K-puszta",
          "Payerne",
          "Rigi",
          "Rucava",
          "Diabla Gora"
         ],
         "lat": [
          48.331111,
          47.971944,
          51.230858,
          51.254574,
          51.233652,
          51.01628,
          50.711706,
          50.616718,
          50.655439,
          50.612278,
          50.502716,
          50.303208,
          50.274478,
          50.095683,
          50.027029,
          49.877128,
          49.719281,
          51.430897,
          53.817775,
          53.59617,
          52.95702,
          49.270263,
          50.4243,
          51.837306,
          52.800773,
          50.654066,
          59.494446,
          58.37611,
          58.702778,
          39.54694,
          39.87528,
          37.23722,
          43.43917,
          41.27417,
          42.31917,
          38.47278,
          39.08278,
          41.23889,
          41.39389,
          42.63472,
          42.875278,
          40.735,
          39.558611,
          39.708056,
          40.91028,
          40.25194,
          39.67766,
          39.782222,
          60.31439,
          59.77923,
          60.53002,
          44.569431,
          51.571078,
          55.79216,
          51.45617,
          41.889444,
          42.5725,
          41.67,
          44.839722,
          44.662222,
          45.4975,
          43.91611,
          45.836944,
          40.45889,
          43.33556,
          45.913056,
          44.99694,
          43.06694,
          44.76335,
          44.6575,
          44.873056,
          43.932778,
          44.741667,
          44.92784,
          44.989444,
          44.526485,
          44.80801,
          42.74472,
          44.15,
          42.80472,
          44.71976,
          41.63083,
          41.54666,
          55.463333,
          51.519444,
          52.298054,
          52.804722,
          52.333561,
          52.400002,
          54.124819,
          50.710889,
          51.31763,
          39.923889,
          40.233056,
          39.3525,
          38.635556,
          38.615,
          37.3125,
          44.616665,
          43.963814,
          45.56107,
          49.152779,
          47.766667,
          51.53014,
          68,
          49.9,
          44.569444,
          46.966667,
          46.813056,
          47.0675,
          56.161944,
          54.15
         ],
         "legendgroup": "rural",
         "lon": [
          15.903611,
          13.600833,
          5.053303,
          3.362536,
          5.163979,
          2.582323,
          5.103159,
          3.457624,
          4.668288,
          5.992753,
          4.988423,
          6.001736,
          5.235169,
          4.594763,
          5.593017,
          5.202387,
          5.630398,
          8.928171,
          12.064708,
          8.09059,
          11.16705,
          7.826521,
          7.7299,
          11.891412,
          10.756733,
          10.769534,
          25.930569,
          21.845013,
          26.758898,
          -4.35056,
          4.31639,
          -3.53417,
          -4.85,
          -3.1425,
          3.31583,
          -6.92361,
          -1.10111,
          -5.8975,
          0.73472,
          -7.70472,
          -3.231389,
          -0.169444,
          -1.281389,
          -0.831944,
          -3.46667,
          -4.27472,
          2.68665,
          -0.359167,
          24.68486,
          21.37395,
          27.6754,
          5.278968,
          -1.325283,
          -3.2429,
          0.634889,
          12.266389,
          12.961944,
          13.674444,
          11.961111,
          11.639444,
          9.556389,
          11.00694,
          12.510278,
          18.11611,
          13.67472,
          9.496944,
          11.07083,
          12.46806,
          9.05243,
          10.288889,
          10.663889,
          12.6275,
          11.942222,
          11.17795,
          10.019167,
          11.981381,
          8.31031,
          11.865,
          10.926111,
          12.56611,
          7.42622,
          15.38667,
          15.44083,
          26.004169,
          5.148902,
          4.510286,
          5.050842,
          4.773589,
          4.73,
          22.038056,
          19.458797,
          15.431719,
          -8.891667,
          -7.301944,
          -8.466111,
          -8.690556,
          -7.3975,
          -7.678611,
          26.116667,
          26.038739,
          14.85806,
          20.291117,
          16.766667,
          12.93386,
          24.237222,
          4.633333,
          5.278972,
          19.583333,
          6.944722,
          8.463889,
          21.173056,
          22.066667
         ],
         "marker": {
          "color": "#ab63fa",
          "opacity": 0.4,
          "size": [
           14.524676,
           12.058089,
           12.033426,
           11.621019,
           13.721193,
           10.76674,
           13.100392,
           11.006506,
           11.354895,
           9.426099,
           9.973228,
           6.826367,
           8.910852,
           8.098825,
           7.560071,
           7.819823,
           8.689426,
           11.416152,
           12.241828,
           9.372394,
           10.485007,
           7.542832,
           8.508962,
           13.072419,
           10.463367,
           7.286816,
           5.188643,
           3.966952,
           5.433148,
           6.61236,
           7.035144,
           10.344214,
           7.051429,
           4.81686,
           8.486239,
           8.456647,
           5.960674,
           5.795732,
           8.335227,
           8.379538,
           6.162902,
           7.114348,
           11.081898,
           10.759357,
           5.867473,
           11.740706,
           6.991095,
           9.177124,
           5.008677,
           4.971934,
           5.294007,
           6.146076,
           7.725895,
           3.176025,
           8.73313,
           14.676796,
           9.897507,
           14.543353,
           20.559557,
           18.643258,
           26.64348,
           23.441667,
           25.488571,
           17.683505,
           12.557535,
           12.047041,
           26.951496,
           13.312321,
           11.011142,
           14.707042,
           23.017192,
           15.268362,
           19.083333,
           20.044818,
           26.727528,
           18.326284,
           20.749296,
           10.436975,
           6.641834,
           8.455446,
           25.84375,
           13.391694,
           13.131818,
           7.775623,
           12.270036,
           9.512012,
           8.977558,
           12.989084,
           12.013362,
           12.482206,
           18.470833,
           14.53796,
           7.347346,
           5.618682,
           10.51776,
           11.822876,
           12.341719,
           6.654075,
           18.895706,
           13.13879,
           10.032877,
           10.67064,
           14.702786,
           14.731795,
           3.427191,
           14.76596,
           6.179576,
           17.358067,
           9.748889,
           5.774699,
           10.848464,
           12.486371
          ],
          "sizemode": "area",
          "sizeref": 0.25007610416666665
         },
         "mode": "markers",
         "name": "rural",
         "showlegend": true,
         "subplot": "mapbox",
         "type": "scattermapbox"
        },
        {
         "customdata": [
          [
           525
          ],
          [
           306
          ],
          [
           400
          ],
          [
           158
          ]
         ],
         "hovertemplate": "<b>%{hovertext}</b><br><br>StationAre=rural-nearcity<br>avg15=%{marker.size}<br>Latitude=%{lat}<br>Longitude=%{lon}<br>Altitude=%{customdata[0]}<extra></extra>",
         "hovertext": [
          "Krizanov",
          "Belotin",
          "Celadna",
          "Doksany"
         ],
         "lat": [
          49.383584,
          49.587079,
          49.559234,
          50.458832
         ],
         "legendgroup": "rural-nearcity",
         "lon": [
          16.098618,
          17.80425,
          18.348359,
          14.170205
         ],
         "marker": {
          "color": "#FFA15A",
          "opacity": 0.4,
          "size": [
           15.089,
           22.236,
           17.006,
           17.747
          ],
          "sizemode": "area",
          "sizeref": 0.25007610416666665
         },
         "mode": "markers",
         "name": "rural-nearcity",
         "showlegend": true,
         "subplot": "mapbox",
         "type": "scattermapbox"
        },
        {
         "customdata": [
          [
           848
          ],
          [
           160
          ],
          [
           210
          ],
          [
           155
          ],
          [
           460
          ],
          [
           274
          ],
          [
           420
          ],
          [
           272
          ],
          [
           8
          ],
          [
           10
          ],
          [
           10
          ],
          [
           13
          ],
          [
           10
          ],
          [
           20
          ],
          [
           15
          ],
          [
           30
          ],
          [
           160
          ],
          [
           70
          ],
          [
           50
          ],
          [
           55
          ],
          [
           41
          ],
          [
           27
          ],
          [
           30
          ],
          [
           100
          ],
          [
           12
          ],
          [
           65
          ],
          [
           135
          ],
          [
           118
          ],
          [
           157
          ],
          [
           6
          ],
          [
           8
          ],
          [
           0
          ],
          [
           103
          ],
          [
           301
          ],
          [
           241
          ],
          [
           225
          ],
          [
           476
          ],
          [
           367
          ],
          [
           258
          ],
          [
           89
          ],
          [
           33
          ],
          [
           22
          ],
          [
           31
          ],
          [
           99
          ],
          [
           43
          ],
          [
           157
          ],
          [
           275
          ],
          [
           325
          ],
          [
           480
          ],
          [
           134
          ],
          [
           420
          ],
          [
           678
          ],
          [
           380
          ],
          [
           226
          ],
          [
           488
          ],
          [
           513
          ],
          [
           495
          ],
          [
           417
          ],
          [
           54
          ],
          [
           170
          ],
          [
           30
          ],
          [
           80
          ],
          [
           72
          ],
          [
           40
          ],
          [
           25
          ],
          [
           153
          ],
          [
           103
          ],
          [
           40
          ],
          [
           47
          ],
          [
           645
          ],
          [
           616
          ],
          [
           581
          ],
          [
           610
          ],
          [
           721
          ],
          [
           355
          ],
          [
           25
          ],
          [
           51
          ],
          [
           181
          ],
          [
           91
          ],
          [
           25
          ],
          [
           45
          ],
          [
           65
          ],
          [
           164
          ],
          [
           10
          ],
          [
           83
          ],
          [
           2
          ],
          [
           47
          ],
          [
           60
          ],
          [
           13
          ],
          [
           210
          ],
          [
           432
          ],
          [
           10
          ],
          [
           20
          ],
          [
           12
          ],
          [
           47.32
          ],
          [
           0
          ],
          [
           15
          ],
          [
           380
          ],
          [
           150
          ],
          [
           48
          ],
          [
           257
          ],
          [
           18
          ],
          [
           91
          ],
          [
           226
          ],
          [
           113
          ],
          [
           25
          ],
          [
           263
          ],
          [
           10
          ],
          [
           230
          ],
          [
           240
          ],
          [
           273
          ],
          [
           131
          ],
          [
           32
          ],
          [
           275
          ],
          [
           55
          ],
          [
           140
          ],
          [
           242
          ],
          [
           271
          ],
          [
           666
          ],
          [
           71
          ],
          [
           143
          ],
          [
           246
          ],
          [
           95
          ],
          [
           100
          ],
          [
           1
          ],
          [
           -1
          ],
          [
           34
          ],
          [
           212
          ],
          [
           31
          ],
          [
           57
          ],
          [
           190
          ],
          [
           91
          ],
          [
           99
          ],
          [
           100
          ],
          [
           297
          ],
          [
           0
          ],
          [
           242
          ]
         ],
         "hovertemplate": "<b>%{hovertext}</b><br><br>StationAre=suburban<br>avg15=%{marker.size}<br>Latitude=%{lat}<br>Longitude=%{lon}<br>Altitude=%{customdata[0]}<extra></extra>",
         "hovertext": [
          "Korca",
          "Eisenstadt Laschoberstraße",
          "Wiener Neudorf Hauptstraße",
          "Schwechat Sportplatz, Mühlgasse",
          "Bad Ischl, Rettenbachstraße",
          "Traun Tischlerstraße",
          "Vöcklabruck, Untere Agergasse",
          "Leibnitz Lastenstraße",
          "26R811 - SCHOTEN",
          "40AB02 - BERENDRECHT",
          "40AL01 - LINKEROEVER",
          "40HB23 - HOBOKEN",
          "40MN01 - MENEN",
          "40RL01 - ROESELARE",
          "40SZ02 - STEENOKKERZ",
          "41B011 - BERCHEM S.A",
          "43H201 - LIEGE",
          "43M204 - ANGLEUR",
          "41MEU1 - MEUDON",
          "42N035 - AARSCHOT",
          "42N045 - HASSELT",
          "44N052 - ZWEVEGEM",
          "43N070 - MONS",
          "41R012 - UCCLE",
          "42R020 - VILVOORDE",
          "43R222 - SERAING",
          "45R502 - LODELINSART",
          "45R510 - CHATELINEAU",
          "45R511 - MARCINELLE",
          "44R710 - DESTELBERGE",
          "42R811 - SCHOTEN",
          "42R834 - Boom",
          "PAFOS RESIDENTIAL",
          "Praha 4-Libus",
          "Brno-Turany",
          "Znojmo",
          "Sokolov",
          "Usti n.L.-Kockov",
          "Zlin",
          "Elsterwerda",
          "Brandenburg a.d. Havel",
          "Wittenberge",
          "Nauen",
          "Spremberg",
          "Blankenfelde-Mahlow",
          "Heilbronn",
          "Weil am Rhein",
          "Tübingen",
          "Arzberg/Egerstraße",
          "Aschaffenburg/Bussardweg",
          "Burghausen/Marktler Straße",
          "Kempten (Allgäu)/Westendstraße",
          "Schwandorf/Wackersdorfer Straße",
          "Würzburg/Kopfklinik",
          "Trostberg/Schwimmbadstraße",
          "München/Johanneskirchen",
          "Augsburg/LfU",
          "Oettingen/Goethestraße",
          "Weserbergland",
          "Göttingen",
          "Emsland",
          "Datteln-Hagem",
          "Unna-Königsborn",
          "Gelsenkirchen-Bismarck",
          "Wesel-Feldmark",
          "Essen-Schuir (LANUV)",
          "Speyer-Nord",
          "Itzehoe",
          "Burg",
          "CASA DE CAMPO",
          "VIVER",
          "TORREJON DE ARDOZ",
          "VALDEMORO",
          "ALGETE",
          "ELDA-LACY",
          "TORRE DE HÉRCULES",
          "MONTEVIL",
          "PLASENCIA",
          "Tirilä Pekkasenkatu",
          "Vartiokylä Huivipolku",
          "Rognac les Brets",
          "GONESSE",
          "RAMBOUILLET",
          "Lunel",
          "GARNOR03",
          "Cappelle",
          "BASTIA MONTESORO",
          "London Eltham",
          "London Bexley",
          "LYKOVRISI",
          "Dübendorf-EMPA",
          "Dublin Finglas Mellowes Road",
          "Dublin Marino Brian Road",
          "Cork Ballinlough Heatherton Park",
          "Wicklow Bray Wurzburg Road",
          "Kópavogur Dalsmári",
          "CHIARAVALLE2",
          "BORGO VAL",
          "CASTELLARANO",
          "TENUTA DEL CAVALIERE",
          "Borgaro T. - Caduti",
          "LATINA SCALO",
          "VR - Cason",
          "DARFO_2",
          "PONTI SUL MINCIO",
          "CENPS7",
          "AREA FELTRINA",
          "Campi Salentina",
          "LS1 Laives",
          "Ivrea - Liberazione",
          "CALUSCO",
          "Vercelli - CONI",
          "SAVIGNANO",
          "CENS16",
          "MALAGROTTA",
          "Municipio",
          "Magione",
          "Chieri - Bersezio",
          "Trivero - Ronco",
          "Rocca di Neto",
          "Ciconia2",
          "Leině (ACEA) - Grande Torino",
          "Narni Scalo",
          "Ceglie Messapica",
          "Breda-Bastenakenstraat",
          "Groningen-Nijensteinheerd",
          "Vĺland",
          "Lillehammer barnehage",
          "Řyekast",
          "Wloclawek Sielska DMD",
          "Chelm ul. Jagiellonska",
          "Legionowo-Zegrzynska",
          "Piastów-Pulaskiego",
          "Bydgoszcz, ul. Berlinga",
          "Ljubljana Biotehnicna fakulteta",
          "Prishtine1",
          "Ostrava-Poruba/CHMU"
         ],
         "lat": [
          40.62593,
          47.84,
          48.083889,
          48.145,
          47.716111,
          48.225278,
          48.000833,
          46.778333,
          51.252103,
          51.340727,
          51.236194,
          51.170298,
          50.793469,
          50.953177,
          50.91302,
          50.858031,
          50.624992,
          50.611923,
          50.895101,
          50.977541,
          50.939712,
          50.814874,
          50.465192,
          50.796632,
          50.941387,
          50.613413,
          50.428995,
          50.416433,
          50.377592,
          51.061278,
          51.252103,
          51.092,
          34.779453,
          50.007305,
          49.148972,
          48.842957,
          50.172825,
          50.683525,
          49.232906,
          51.462734,
          52.420442,
          52.99875,
          52.608609,
          51.5645,
          52.349703,
          49.165508,
          47.588152,
          48.507703,
          50.058195,
          49.991518,
          48.177175,
          47.72514,
          49.321955,
          49.804695,
          48.021657,
          48.173194,
          48.326013,
          48.95218,
          52.17017,
          51.55107,
          52.49855,
          51.641383,
          51.547495,
          51.533646,
          51.672809,
          51.406968,
          49.351143,
          53.924712,
          52.268354,
          40.42,
          39.930556,
          40.455,
          40.18528,
          40.59333,
          38.454722,
          43.3825,
          43.516588,
          40.07778,
          61.05748,
          60.22393,
          43.51056,
          48.990856,
          48.63373,
          43.675749,
          44.053531,
          50.995965,
          42.671343,
          51.45258,
          51.46603,
          38.069633,
          47.402916,
          53.39025,
          54.361111,
          51.881944,
          53.187222,
          64.104969,
          43.59889,
          46.05184,
          44.516111,
          41.931389,
          45.15464,
          41.531389,
          45.4625,
          45.873889,
          45.41083,
          39.203333,
          46.030833,
          40.40444,
          46.43444,
          45.4512,
          45.683333,
          45.31891,
          44.095833,
          40.724444,
          41.875556,
          38.95955,
          43.133056,
          45.00276,
          45.66423,
          39.18752,
          42.737222,
          45.17635,
          42.53417,
          40.64917,
          51.603333,
          53.246944,
          58.96173,
          61.12087,
          59.1292,
          52.664721,
          51.13095,
          52.407578,
          52.191728,
          53.151467,
          46.0483,
          42.385586,
          49.825267
         ],
         "legendgroup": "suburban",
         "lon": [
          20.78018,
          16.52806,
          16.330278,
          16.474444,
          13.632222,
          14.238889,
          13.6675,
          15.540556,
          4.491362,
          4.32182,
          4.385224,
          4.341005,
          3.109642,
          3.121156,
          4.512184,
          4.288336,
          5.547464,
          5.61115,
          4.392718,
          4.837618,
          5.368379,
          3.322494,
          3.939714,
          4.358539,
          4.436721,
          5.570223,
          4.458681,
          4.52113,
          4.4247,
          3.775262,
          4.491362,
          4.380104,
          32.438614,
          14.445933,
          16.696217,
          16.060127,
          12.672818,
          14.041195,
          17.667175,
          13.526796,
          12.552303,
          11.73846,
          12.885194,
          14.3764,
          13.424304,
          9.224786,
          7.633271,
          9.051178,
          12.18865,
          9.117973,
          12.829314,
          10.306561,
          12.128139,
          9.95642,
          12.538174,
          11.648036,
          10.903051,
          10.59772,
          9.06255,
          9.94976,
          7.31747,
          7.331405,
          7.693835,
          7.101786,
          6.629576,
          6.965643,
          8.423005,
          9.532635,
          11.864763,
          -3.749167,
          -0.603333,
          -3.48417,
          -3.67972,
          -3.50306,
          -0.803333,
          -8.408889,
          -5.67065,
          -6.14722,
          28.24585,
          25.10244,
          5.219724,
          2.44472,
          1.830533,
          4.088422,
          4.697362,
          2.36627,
          9.434646,
          0.070766,
          0.184806,
          23.776886,
          8.613397,
          -6.305266,
          -6.225,
          -8.456667,
          -6.121667,
          -21.888979,
          13.34194,
          11.45389,
          10.733889,
          12.659167,
          7.65804,
          12.946111,
          10.912222,
          10.1775,
          10.69194,
          8.386111,
          11.905833,
          18.02972,
          11.33944,
          7.87804,
          9.466667,
          8.40236,
          12.4025,
          8.576111,
          12.345,
          16.29517,
          12.205833,
          7.83748,
          8.15981,
          17.01034,
          12.136667,
          7.71158,
          12.52194,
          17.5125,
          4.780847,
          6.608897,
          5.73147,
          10.46563,
          9.64217,
          19.036386,
          23.514603,
          20.955928,
          20.837489,
          18.132111,
          14.4713,
          21.08135,
          18.159264
         ],
         "marker": {
          "color": "#19d3f3",
          "opacity": 0.4,
          "size": [
           30.33897,
           14.568675,
           13.965723,
           16.251845,
           9.26586,
           15.235787,
           12.29686,
           19.929107,
           13.718232,
           13.09626,
           13.189466,
           14.934121,
           13.435091,
           13.367502,
           13.040427,
           12.665909,
           10.52111,
           10.300577,
           15.115963,
           13.434084,
           13.466545,
           14.683366,
           12.551983,
           14.419126,
           14.460037,
           10.924992,
           12.737044,
           12.025819,
           11.799868,
           14.449595,
           14.176761,
           13.806131,
           15.403012,
           15.720217,
           17.68138,
           16.817191,
           13.479739,
           15.357874,
           15.830083,
           13.736274,
           13.316793,
           10.390088,
           12.886066,
           13.224965,
           14.294797,
           13.91155,
           12.319939,
           12.087066,
           13.370539,
           12.226837,
           13.667626,
           10.870899,
           13.536733,
           11.990753,
           12.232226,
           11.973409,
           12.609537,
           12.751086,
           10.626572,
           8.884077,
           12.163193,
           14.545125,
           13.009496,
           14.49445,
           13.879151,
           13.120164,
           14.384997,
           12.364177,
           12.134096,
           9.970065,
           8.071548,
           9.272346,
           12.140876,
           6.545989,
           9.289138,
           16.062731,
           10.773827,
           7.034714,
           7.017104,
           6.839457,
           12.691131,
           13.844158,
           11.77751,
           11.80413,
           14.732841,
           13.016788,
           9.187283,
           10.512368,
           10.491823,
           16.446809,
           10.918156,
           8.137651,
           7.801538,
           6.829863,
           6.562644,
           4.757997,
           15.260284,
           19.961988,
           19.587896,
           18.155556,
           26.382789,
           15.528736,
           26.40407,
           26.752312,
           27.587592,
           17.74,
           21.339031,
           18.237104,
           15.372806,
           23.772861,
           24.301943,
           26.541899,
           19.534286,
           6.486389,
           17.070988,
           12.697797,
           15.741667,
           24.154519,
           13.470255,
           16.221457,
           12.063218,
           30.376471,
           19.925714,
           16.465388,
           12.352135,
           11.518471,
           7.309426,
           6.644817,
           7.134425,
           18.383501,
           27.2,
           32.175951,
           30.466363,
           15.837606,
           22.565476,
           28.486592,
           22.678
          ],
          "sizemode": "area",
          "sizeref": 0.25007610416666665
         },
         "mode": "markers",
         "name": "suburban",
         "showlegend": true,
         "subplot": "mapbox",
         "type": "scattermapbox"
        },
        {
         "customdata": [
          [
           13
          ],
          [
           445
          ],
          [
           445
          ],
          [
           460
          ],
          [
           270
          ],
          [
           350
          ],
          [
           305
          ],
          [
           390
          ],
          [
           236
          ],
          [
           159
          ],
          [
           5
          ],
          [
           5
          ],
          [
           6
          ],
          [
           15
          ],
          [
           65
          ],
          [
           115
          ],
          [
           5
          ],
          [
           6
          ],
          [
           22
          ],
          [
           208
          ],
          [
           17
          ],
          [
           256
          ],
          [
           309
          ],
          [
           383
          ],
          [
           239
          ],
          [
           502
          ],
          [
           224
          ],
          [
           346
          ],
          [
           360
          ],
          [
           303
          ],
          [
           224
          ],
          [
           235
          ],
          [
           320
          ],
          [
           221
          ],
          [
           257
          ],
          [
           31
          ],
          [
           75
          ],
          [
           35
          ],
          [
           35
          ],
          [
           35
          ],
          [
           235
          ],
          [
           481
          ],
          [
           278
          ],
          [
           403
          ],
          [
           114
          ],
          [
           262
          ],
          [
           477
          ],
          [
           231
          ],
          [
           521
          ],
          [
           470
          ],
          [
           300
          ],
          [
           400
          ],
          [
           300
          ],
          [
           7
          ],
          [
           3
          ],
          [
           100
          ],
          [
           181
          ],
          [
           121
          ],
          [
           15
          ],
          [
           3
          ],
          [
           17
          ],
          [
           2
          ],
          [
           95
          ],
          [
           85
          ],
          [
           75
          ],
          [
           47
          ],
          [
           32
          ],
          [
           186
          ],
          [
           157
          ],
          [
           110
          ],
          [
           232
          ],
          [
           108
          ],
          [
           12
          ],
          [
           192
          ],
          [
           115
          ],
          [
           112
          ],
          [
           116
          ],
          [
           58
          ],
          [
           195
          ],
          [
           265
          ],
          [
           490
          ],
          [
           25
          ],
          [
           21
          ],
          [
           6
          ],
          [
           41
          ],
          [
           25
          ],
          [
           24
          ],
          [
           3
          ],
          [
           12
          ],
          [
           929
          ],
          [
           449
          ],
          [
           389
          ],
          [
           11
          ],
          [
           220
          ],
          [
           500
          ],
          [
           136
          ],
          [
           220
          ],
          [
           7
          ],
          [
           693
          ],
          [
           55
          ],
          [
           609
          ],
          [
           112
          ],
          [
           21
          ],
          [
           16
          ],
          [
           56
          ],
          [
           109
          ],
          [
           192
          ],
          [
           154
          ],
          [
           28
          ],
          [
           95
          ],
          [
           37
          ],
          [
           51
          ],
          [
           92
          ],
          [
           43
          ],
          [
           59
          ],
          [
           340
          ],
          [
           8
          ],
          [
           25
          ],
          [
           10
          ],
          [
           48
          ],
          [
           83
          ],
          [
           10
          ],
          [
           8
          ],
          [
           4
          ],
          [
           25
          ],
          [
           150
          ],
          [
           93
          ],
          [
           147
          ],
          [
           214
          ],
          [
           139
          ],
          [
           250
          ],
          [
           95
          ],
          [
           34
          ],
          [
           28
          ],
          [
           48
          ],
          [
           29
          ],
          [
           17
          ],
          [
           173
          ],
          [
           204
          ],
          [
           160
          ],
          [
           233
          ],
          [
           25
          ],
          [
           47
          ],
          [
           85
          ],
          [
           18
          ],
          [
           371
          ],
          [
           741
          ],
          [
           9
          ],
          [
           17
          ],
          [
           255
          ],
          [
           96
          ],
          [
           26
          ],
          [
           552
          ],
          [
           366
          ],
          [
           200
          ],
          [
           195
          ],
          [
           35
          ],
          [
           14
          ],
          [
           350
          ],
          [
           280
          ],
          [
           453
          ],
          [
           441
          ],
          [
           111
          ],
          [
           85
          ],
          [
           115
          ],
          [
           158
          ],
          [
           301
          ],
          [
           125
          ],
          [
           321
          ],
          [
           331
          ],
          [
           261
          ],
          [
           20
          ],
          [
           10
          ],
          [
           12
          ],
          [
           78
          ],
          [
           7
          ],
          [
           45
          ],
          [
           5
          ],
          [
           175
          ],
          [
           41
          ],
          [
           172
          ],
          [
           30
          ],
          [
           32
          ],
          [
           37
          ],
          [
           20
          ],
          [
           38
          ],
          [
           40
          ],
          [
           5
          ],
          [
           30
          ],
          [
           5
          ],
          [
           4
          ],
          [
           81
          ],
          [
           58
          ],
          [
           93
          ],
          [
           10
          ],
          [
           110
          ],
          [
           45
          ],
          [
           16
          ],
          [
           15
          ],
          [
           15
          ],
          [
           58
          ],
          [
           79
          ],
          [
           24
          ],
          [
           36
          ],
          [
           134
          ],
          [
           128
          ],
          [
           11
          ],
          [
           83
          ],
          [
           40
          ],
          [
           98
          ],
          [
           0
          ],
          [
           0
          ],
          [
           409
          ],
          [
           280
          ],
          [
           19
          ],
          [
           640
          ],
          [
           200
          ],
          [
           249
          ],
          [
           60
          ],
          [
           85
          ],
          [
           61
          ],
          [
           43
          ],
          [
           77
          ],
          [
           50
          ],
          [
           260
          ],
          [
           50
          ],
          [
           53
          ],
          [
           1
          ],
          [
           100
          ],
          [
           581
          ],
          [
           35
          ],
          [
           203
          ],
          [
           6
          ],
          [
           29
          ],
          [
           114
          ],
          [
           5
          ],
          [
           36
          ],
          [
           290
          ],
          [
           3
          ],
          [
           10
          ],
          [
           4
          ],
          [
           3
          ],
          [
           405
          ],
          [
           72
          ],
          [
           156
          ],
          [
           13
          ],
          [
           203
          ],
          [
           550
          ],
          [
           344
          ],
          [
           6
          ],
          [
           13
          ],
          [
           15
          ],
          [
           10
          ],
          [
           401
          ],
          [
           212
          ],
          [
           54
          ],
          [
           122
          ],
          [
           70
          ],
          [
           45
          ],
          [
           162
          ],
          [
           34
          ],
          [
           267
          ],
          [
           91
          ],
          [
           31
          ],
          [
           150
          ],
          [
           319
          ],
          [
           22
          ],
          [
           55
          ],
          [
           498
          ],
          [
           31
          ],
          [
           9
          ],
          [
           230
          ],
          [
           11
          ],
          [
           56
          ],
          [
           76
          ],
          [
           290
          ],
          [
           61
          ],
          [
           15
          ],
          [
           15
          ],
          [
           16
          ],
          [
           255
          ],
          [
           20
          ],
          [
           37
          ],
          [
           105
          ],
          [
           118
          ],
          [
           370
          ],
          [
           284
          ],
          [
           329
          ],
          [
           758
          ],
          [
           243
          ],
          [
           583
          ],
          [
           170
          ],
          [
           75
          ],
          [
           73
          ],
          [
           275
          ],
          [
           287
          ],
          [
           1
          ],
          [
           3
          ],
          [
           56
          ],
          [
           2
          ],
          [
           3
          ],
          [
           22
          ],
          [
           0
          ],
          [
           3
          ],
          [
           2
          ],
          [
           1
          ],
          [
           30
          ],
          [
           5
          ],
          [
           24
          ],
          [
           30
          ],
          [
           273
          ],
          [
           40
          ],
          [
           64
          ],
          [
           144
          ],
          [
           207
          ],
          [
           226
          ],
          [
           235
          ],
          [
           206
          ],
          [
           189
          ],
          [
           101
          ],
          [
           159
          ],
          [
           102
          ],
          [
           85
          ],
          [
           119
          ],
          [
           145
          ],
          [
           128
          ],
          [
           179
          ],
          [
           25
          ],
          [
           120
          ],
          [
           120
          ],
          [
           122
          ],
          [
           424
          ],
          [
           114
          ],
          [
           215
          ],
          [
           150
          ],
          [
           181
          ],
          [
           236
          ],
          [
           67
          ],
          [
           10
          ],
          [
           156
          ],
          [
           275
          ],
          [
           15
          ],
          [
           97
          ],
          [
           277
          ],
          [
           260
          ],
          [
           119
          ],
          [
           22
          ],
          [
           156
          ],
          [
           173
          ],
          [
           203
          ],
          [
           145
          ],
          [
           6
          ],
          [
           262
          ],
          [
           372
          ],
          [
           45
          ],
          [
           223
          ],
          [
           228
          ],
          [
           132
          ],
          [
           191
          ],
          [
           180
          ],
          [
           177
          ],
          [
           223
          ],
          [
           212
          ],
          [
           204
          ],
          [
           319
          ],
          [
           62
          ],
          [
           134
          ],
          [
           155
          ],
          [
           29
          ],
          [
           202
          ],
          [
           305
          ],
          [
           340
          ],
          [
           163
          ],
          [
           264
          ],
          [
           345
          ],
          [
           160
          ],
          [
           201
          ],
          [
           96
          ],
          [
           167
          ],
          [
           120
          ],
          [
           32
          ],
          [
           63
          ],
          [
           173
          ],
          [
           4
          ],
          [
           333
          ],
          [
           44
          ],
          [
           160
          ],
          [
           89
          ],
          [
           30
          ],
          [
           20
          ],
          [
           58
          ],
          [
           30
          ],
          [
           22
          ],
          [
           10
          ],
          [
           0
          ],
          [
           280
          ],
          [
           475
          ],
          [
           320
          ],
          [
           289
          ],
          [
           133
          ],
          [
           160
          ],
          [
           383
          ],
          [
           201
          ],
          [
           340
          ],
          [
           232
          ],
          [
           283
          ]
         ],
         "hovertemplate": "<b>%{hovertext}</b><br><br>StationAre=urban<br>avg15=%{marker.size}<br>Latitude=%{lat}<br>Longitude=%{lon}<br>Altitude=%{customdata[0]}<extra></extra>",
         "hovertext": [
          "Shkoder",
          "Klagenfurt Völkermarkter Straße",
          "Klagenfurt Sterneckstraße",
          "Wolfsberg Hauptschule",
          "St. Pölten Eybnerstraße",
          "Braunau Zentrum, Kolpingplatz",
          "Steyr Münichholz",
          "Voitsberg Mühlgasse",
          "Kendlerstraße",
          "Stadlau",
          "26BB15 - BRUGGE",
          "26R701 - GENT",
          "26R801 - BORGERHOUT",
          "41R001 - MOLENBEEK",
          "43R221 - LIEGE",
          "45R501 - CHARLEROI",
          "44R701 - GENT",
          "42R801 - BORGERHOUT",
          "LIMASSOL RESIDENTIAL",
          "NICOSIA RESIDENTIAL",
          "LARNAKA RESIDENTIAL",
          "Praha 2-Riegrovy sady",
          "Praha 5-Stodulky",
          "Ceske Budejovice",
          "Pardubice Dukla",
          "Jihlava",
          "Olomouc-Hejcin",
          "Plzen-Bory",
          "Plzen-Lochotin",
          "Kladno-stred mesta",
          "Mlada Boleslav",
          "Ostrava-Zabreh",
          "Trinec-Kosmos",
          "Most",
          "Teplice",
          "Potsdam-Zentrum",
          "Cottbus",
          "B Wedding-Amrumer Str.",
          "B Neukölln-Nansenstraße",
          "B Mitte, Brückenstraße",
          "Stuttgart Bad Cannstatt",
          "Ulm",
          "Pforzheim",
          "Konstanz",
          "Karlsruhe-Nordwest",
          "Freiburg",
          "Augsburg/Bourges-Platz",
          "Bamberg/Löwenbrücke",
          "München/Lothstraße",
          "Neu-Ulm/Gabelsbergerstraße",
          "Nürnberg/Muggenhof",
          "Weiden i.d.OPf./Nikolaistraße",
          "Passau/Stelzhamerstraße",
          "Bremen-Ost",
          "Bremerhaven",
          "Frankfurt-Ost",
          "Kassel-Mitte",
          "Wiesbaden-Süd",
          "Hamburg Sternschanze",
          "Hamburg Wilhelmsburg",
          "Güstrow",
          "Rostock-Warnemünde",
          "Osnabrück",
          "Hannover",
          "Dortmund-Eving",
          "Essen-Vogelheim",
          "Düsseldorf-Lörick",
          "Wuppertal-Langerfeld",
          "Schwerte",
          "Mainz-Zitadelle",
          "Kaiserslautern-Rathausplatz",
          "Bad Kreuznach-Bosenheimer Straße",
          "Lübeck-St. Jürgen",
          "Saarbrücken-City",
          "Leipzig-West",
          "Dresden-Winckelmannstr.",
          "Halle/Nord",
          "Magdeburg/West",
          "Erfurt Krämpferstr.",
          "Greiz Mollbergstr.",
          "Zella-Mehlis",
          "Copenhagen/1259",
          "Ĺrhus/6160",
          "Őismäe",
          "Tartu",
          "Narva",
          "Barcelona (Zona Universitŕria)",
          "Barcelona (el Poblenou)",
          "ESTACION 1 (ESTE)",
          "BURGOS 4",
          "ITURRAMA",
          "CÁCERES",
          "VALČNCIA-VIVERS",
          "RENOVALES",
          "TOLEDO2",
          "Barcelona (parc de la Vall d'Hebron)",
          "COMPOSTELA",
          "VALČNCIA-POLITČCNIC",
          "ALCORCÓN",
          "ALACANT-FLORIDA-BABEL",
          "MENDEZ ALVARO",
          "Kasarmipuisto",
          "Kallio 2",
          "Vaasa vesitorni",
          "Nahkurintori 2",
          "Kaleva",
          "Metz-Centre",
          "Thionville-Centre",
          "GENNEVILLIERS",
          "VITRY-SUR-SEINE",
          "PARIS Centre",
          "BOBIGNY",
          "Le Havre ville-haute",
          "Valenciennes Acacias",
          "Cambrai Gambetta",
          "Montferrand",
          "Prés Arčnes",
          "Les Carmes",
          "place de VERDUN",
          "Ecole Jules Ferry",
          "Square Pablo Casals",
          "Place Orbigny LR",
          "Malo-les-Bains",
          "Calais Berthelot",
          "Lille Fives",
          "BERTHELOT",
          "Jean d Aulan",
          "St DIZIER L. Michel",
          "Grenoble Les Frenes",
          "STG Est",
          "Mulhouse Sud 2",
          "P. Roth St Quentin",
          "Faiencerie Creil",
          "St Pierre Amiens",
          "Brest Mace",
          "Lorient B. Bissonnet",
          "Vannes UTA",
          "VAULX EN VELIN",
          "VILLEFRANCHE Village",
          "LYON Centre",
          "Station de FORBACH",
          "LEON BLUM",
          "BEAUX ARTS",
          "SOURCES",
          "CIM BOUTEILLERIE",
          "MANOSQUE",
          "GAP COMMANDERIE",
          "NICE ARSON",
          "Espace du Palais",
          "Station PEJOCES",
          "Station AUXERRE",
          "Bethune Stade",
          "SAINT ETIENNE SUD",
          "SAINT-CHAMOND",
          "Nancy-Charles III",
          "BILLERE",
          "SAINT-CROUTS",
          "DAX",
          "Le Creusot Molette",
          "PASTEUR",
          "LOVERCHY",
          "ANNEMASSE",
          "St Jean",
          "Joué lčs Tours",
          "Vierzon",
          "Lucé",
          "LIMOGES - Présidial",
          "Valence Urb. Centre",
          "Besancon Prevoyance",
          "Montbéliard centre",
          "Lons-le-Saunier CV",
          "London Bloomsbury",
          "Belfast Centre",
          "Cardiff Centre",
          "Leeds Centre",
          "Southampton Centre",
          "Manchester Piccadilly",
          "London N. Kensington",
          "Leamington Spa",
          "Nottingham Centre",
          "Stoke-on-Trent Centre",
          "Salford Eccles",
          "Derry",
          "Southend-on-Sea",
          "Aberdeen",
          "Wirral Tranmere",
          "Preston",
          "Portsmouth",
          "Bournemouth",
          "London Westminster",
          "Hull Freetown",
          "Edinburgh St Leonards",
          "Reading New Town",
          "Birmingham Tyburn",
          "Brighton Preston Park",
          "Sunderland Silksworth",
          "Wigan Centre",
          "Blackpool Marton",
          "Bristol St Pauls",
          "York Bootham",
          "Oxford St Ebbes",
          "London Harrow Stanmore",
          "Newport",
          "Norwich Lakenfields",
          "Birmingham Acocks Green",
          "Northampton Kingsthorpe",
          "London Teddington Bushy Park",
          "Leicester University",
          "Glasgow Townhead",
          "Coventry Allesley",
          "ZAGREB PPI PM2,5 - Ksaverska cesta - RH0121 - HR0021A; Državna mreža za trajno pracenje kvalitete zr",
          "Split-1 - SD0203 - HR0022A; Mjerna mreža Cemex Hrvatska d.o.o.",
          "Zürich-Kaserne",
          "Lugano-Universitŕ",
          "Reykjavik Husdyragardurinn",
          "LA1 Laces",
          "ROVERETO LGP",
          "BERGAMO - VIA MEUCCI",
          "CITTADELLA",
          "QUARTO - GENOVA",
          "FI-BASSI",
          "GIARDINI MARGHERITA",
          "PAVIA - VIA FOLPERTI",
          "S. LAZZARO",
          "AR-ACROPOLI",
          "VILLA ADA",
          "CINECITTA",
          "VE - Parco Bissuola",
          "CAIROLI",
          "AOSTA (PIAZZA PLOUVES)",
          "PARCO BUCCI",
          "TRENTO PSC",
          "MARECCHIA",
          "PARCO RESISTENZA",
          "BASSANO DEL GRAPPA",
          "PI-PASSI",
          "VI - Quartiere Italia",
          "CORTONESE",
          "LU-VIAREGGIO",
          "LU-CAPANNORI",
          "CAORLE",
          "SAN DONA' DI PIAVE",
          "Biella - Sturzo",
          "CONEGLIANO",
          "BORGO RIVO",
          "PD - Mandria",
          "Verbania - Gabardi",
          "Cuneo - Alpini",
          "Borgosesia - Tonella",
          "MAGGIOLINA - LA SPEZIA",
          "LI-CAPPIELLO",
          "TV - Via Lancieri di Novara",
          "GR-URSS",
          "BL - Cittŕ",
          "SARONNO - SANTUARIO",
          "PO-ROMA",
          "MILANO PASCAL CITTŕ STUDI",
          "BRESCIA VILLAGGIO SERENO",
          "CREMONA VIA FATEBENEFRATELLI",
          "MONZA - VIA  MACHIAVELLI",
          "PARCO FERRARI",
          "LECCO VIA SORA",
          "Alessandria - Volta",
          "CIPRO",
          "MONTICELLI",
          "Piazza Vittoria",
          "MANTOVA SANT'AGNESE",
          "VARALDO - SAVONA",
          "PIAZZA 40 MARTIRI",
          "ARENULA",
          "VILLA FULVIA",
          "Cittŕ dei ragazzi",
          "Locri",
          "CENSA3",
          "LODI S.ALBERTO",
          "SONDRIO - VIA PARIBELLI",
          "PARCO MONTECUCCO",
          "CENMO1",
          "stadio casardi",
          "CENPT1",
          "FROSINONE MAZZINI",
          "Villa Comunale",
          "Gioacchino da Fiore (via)",
          "SI-POGGIBONSI",
          "PARCO EDILCARANI",
          "Parco della biodiversitŕ mediterranea",
          "C Castello",
          "Amelia",
          "Acri",
          "Torino Lingotto",
          "Aosta Liconi",
          "Vilnius - Lazdynai",
          "N.Akmene",
          "Kaunas - Noreikiskes",
          "Luxembourg Bonnevoie",
          "Esch/Alzette",
          "Ventspils parventa",
          "Riga Kronvalda boulevard",
          "Zejtun Station",
          "Amsterdam-Vondelpark",
          "Amsterdam-Westerpark",
          "Veldhoven-Europalaan",
          "Rotterdam Zuid-Zwartewaalstraat",
          "Schiedam-Alphons Arienstraat",
          "Utrecht-Griftpark",
          "Zaandam-Wagenschotpad",
          "Nijmegen-Ruyterstraat",
          "Rĺdhuset",
          "Sofienbergparken",
          "Torvet",
          "Katowice, ul. Kossutha 6",
          "AM8 Gdansk Wrzeszcz",
          "Torun POLICJA",
          "BialaP-Orzechowa",
          "Lublin Ul. Sliwinskiego",
          "Zamosc ul. Hrubieszowska 69A",
          "Lódz-Widzew",
          "Lódz-Legionów 1",
          "Zgierz-Sródmiescie",
          "Plock-Reja",
          "Radom-Tochtermana",
          "Warszawa-Ursynów",
          "Warszawa-Targówek",
          "Zyrardów-Roosevelta",
          "Bialystok-Miejska",
          "Lomza Sikorskiego 48/94",
          "Suwalki, ul. Pulaskiego 73",
          "AM11 Slupsk Kniaziewicza",
          "WIOS Olsztyn ul. Puszkina",
          "WIOS Ostróda ul. Chrobrego",
          "Legnica - Rzeczypospolitej",
          "Walbrzych - Wysockiego",
          "Wroclaw - Korzeniowskiego",
          "Zgorzelec - Bohaterów Getta",
          "Zielona Góra ul. Krótka",
          "K-Kozle automat 1",
          "Gliwice, ul. Mewy 34",
          "WKPPoznan1",
          "Szczecin_Andrzejewskiego",
          "Nisko-Szklarniowa-WIOS",
          "Kielce, ul. Jagiellonska",
          "WIOS Elblag ul. Bazynskiego",
          "Plock-Gimnazjum",
          "Krosno-Kletówki",
          "Zory, Os. Gen. Wladyslawa Sikorskiego 52",
          "Wroclaw - Na Grobli",
          "Gorzów Wlkp. ul. Pilsudskiego",
          "Radom-Hallera",
          "Opole manualna 4",
          "Rzeszów-Nowe Miasto",
          "Bialystok-Warszawska",
          "Zaspa",
          "Czestochowa, ul. Zana 6",
          "Bielsko-Biala, ul. Sternicza",
          "Koszalin_Spasowskiego",
          "Kraków, ul. Bujaka",
          "Tarnów, ul. Bitwy pod Studziankami",
          "WKPKalisz",
          "Lublin ul. Obywatelska",
          "Piotrków Tryb.-Krakowskie Przedmiescie",
          "Kluczbork manualna 2",
          "Jaslo-Sikorskiego-WIOS",
          "Busko-Zdrój, ul. Rokosza",
          "Godów, ul. Gliniki",
          "Tarnowskie Góry, ul. Litewska",
          "Myslibórz_ZaBramka",
          "Szczecinek_1Maja",
          "Siedlce-Konarskiego",
          "Grudziadz Starówka",
          "Bochnia, ul. Konfederatów Barskich",
          "Nowy Sacz, ul. Nadbrzezna",
          "Trzebinia, os. Zwiazku Walki Mlodych",
          "AM12 Koscierzyna Targowa",
          "Starachowice, ul. Zlota",
          "Jelenia Góra - Oginskiego",
          "Zary, ul. Szymanowskiego 8",
          "Przemysl-Grunwaldzka-WIOS",
          "Ostroleka-Hallera",
          "Mielec-MOSIR-WIOS",
          "WpPleszew",
          "Olivais",
          "Laranjeiro",
          "Mem Martins",
          "Joaquim Magalhăes",
          "CJ-2",
          "IS-2",
          "PH-2",
          "TM-2",
          "Göteborg Femman",
          "Landskrona Polishuset",
          "Stockholm Torkel Knutssongatan",
          "Stockholm Olaus Petri",
          "Uppsala Klostergatan",
          "Burlöv Församlingshemmet",
          "Umeĺ Förskolan Uven",
          "Maribor Vrbanski plato",
          "Ruzomberok - Riadok",
          "Hnusta - Hlavna",
          "Jelsava - Jesenskeho",
          "Strazske - Mierova",
          "Humenne - Nam. slobody",
          "Martin - Jesenskeho",
          "Kosice - Amurska",
          "Brno-Lisen",
          "Hr.Kral.-tr.SNP",
          "Jicin"
         ],
         "lat": [
          42.3139,
          46.62556,
          46.626617,
          46.835,
          48.2125,
          48.257778,
          48.049444,
          47.044722,
          48.205,
          48.226361,
          51.213463,
          51.058332,
          51.209663,
          50.849665,
          50.658444,
          50.409311,
          51.058332,
          51.209663,
          34.681633,
          35.126975,
          34.91363,
          50.081482,
          50.046131,
          48.984386,
          50.024036,
          49.401596,
          49.601463,
          49.728394,
          49.770126,
          50.14386,
          50.428646,
          49.79604,
          49.668114,
          50.510365,
          50.645279,
          52.401352,
          51.746344,
          52.543041,
          52.489451,
          52.513606,
          48.8088,
          48.396836,
          48.889039,
          47.664361,
          49.028594,
          48.001511,
          48.376576,
          49.89833,
          48.154534,
          48.397079,
          49.462229,
          49.67895,
          48.573629,
          53.060045,
          53.562455,
          50.125332,
          51.314248,
          50.050343,
          53.56414,
          53.50793,
          53.78175,
          54.17133,
          52.25534,
          52.36292,
          51.536911,
          51.496527,
          51.249211,
          51.277647,
          51.448762,
          49.994975,
          49.446,
          49.842136,
          53.835492,
          49.233464,
          51.317905,
          51.036105,
          51.496185,
          52.127899,
          50.979455,
          50.655861,
          50.653245,
          55.700281,
          56.159783,
          59.414169,
          58.370556,
          59.376161,
          41.384906,
          41.403882,
          42.210278,
          42.33611,
          42.80722,
          39.47278,
          39.478056,
          41.63528,
          39.86806,
          41.426077,
          42.875833,
          39.480278,
          40.34194,
          38.340278,
          40.398056,
          62.8936,
          60.18739,
          63.10121,
          60.25145,
          61.4991,
          49.119427,
          49.358314,
          48.929692,
          48.775773,
          48.858998,
          48.902477,
          49.514695,
          50.35853,
          50.172479,
          45.797264,
          43.591552,
          42.695777,
          46.162573,
          46.329562,
          45.647439,
          46.161639,
          51.048572,
          50.947317,
          50.628039,
          43.587193,
          49.224145,
          48.645839,
          45.161929,
          48.570346,
          47.737411,
          49.851339,
          49.259568,
          49.902514,
          48.386397,
          47.742485,
          47.648889,
          45.778911,
          45.9864,
          45.757731,
          49.187404,
          47.264106,
          47.468541,
          47.97105,
          47.222514,
          43.835302,
          44.555222,
          43.702057,
          49.442438,
          47.308041,
          47.800566,
          50.535404,
          45.420088,
          45.475296,
          48.688199,
          43.310806,
          43.479736,
          43.70472,
          46.802215,
          45.564735,
          45.895257,
          46.19585,
          47.917375,
          47.344149,
          47.222026,
          48.439286,
          45.831075,
          44.93351,
          47.2474,
          47.510303,
          46.671325,
          51.52229,
          54.59965,
          51.48178,
          53.80378,
          50.90814,
          53.48152,
          51.52105,
          52.28881,
          52.95473,
          53.02821,
          53.48481,
          55.001225,
          51.544206,
          57.15736,
          53.37287,
          53.76559,
          50.82881,
          50.73957,
          51.49467,
          53.74878,
          55.945589,
          51.45309,
          52.511722,
          50.840836,
          54.88361,
          53.54914,
          53.80489,
          51.462839,
          53.967513,
          51.744806,
          51.617333,
          51.601203,
          52.614193,
          52.437165,
          52.271886,
          51.425286,
          52.619823,
          55.865782,
          52.411563,
          45.834372,
          43.510653,
          47.377617,
          46.011111,
          64.138883,
          46.61949,
          45.89244,
          45.690278,
          44.79361,
          44.396389,
          43.78667,
          44.48333,
          45.193889,
          44.690833,
          43.46111,
          41.932778,
          41.857778,
          45.499167,
          46.066111,
          45.73583,
          44.28333,
          46.06293,
          44.0625,
          44.219167,
          45.760833,
          43.738889,
          45.560556,
          43.10306,
          43.883889,
          43.840833,
          44.42,
          45.630278,
          45.55882,
          45.890556,
          42.58194,
          45.371944,
          45.93034,
          44.38175,
          45.71317,
          44.117778,
          43.52,
          45.6725,
          42.77861,
          46.141389,
          45.626944,
          43.87278,
          45.47833,
          45.515278,
          45.142222,
          45.58111,
          44.65061,
          45.849444,
          44.9203,
          41.906389,
          42.84861,
          42.73972,
          45.160556,
          44.315278,
          43.35278,
          41.893889,
          44.825,
          39.3134,
          38.22976,
          39.066667,
          45.302787,
          46.16861,
          45.038333,
          39.260556,
          41.31667,
          40.831389,
          41.638889,
          38.10495,
          39.06808,
          43.47278,
          44.53944,
          38.918288,
          43.456944,
          42.551944,
          39.48963,
          45.02494,
          45.734306,
          54.686111,
          56.31944,
          54.883614,
          49.59769,
          49.50504,
          57.403997,
          56.954847,
          35.852321,
          52.359997,
          52.393059,
          51.407501,
          51.89389,
          51.921111,
          52.102222,
          52.450001,
          51.838889,
          60.39213,
          59.92295,
          63.43038,
          50.264611,
          54.380279,
          53.028647,
          52.029194,
          51.273078,
          50.716628,
          51.75805,
          51.776417,
          51.856692,
          52.550938,
          51.399084,
          52.160772,
          52.290864,
          52.053811,
          53.126689,
          53.181394,
          54.117878,
          54.463611,
          53.789233,
          53.692469,
          51.204503,
          50.768729,
          51.129378,
          51.150391,
          51.939783,
          50.349608,
          50.279333,
          52.398175,
          53.380975,
          50.529892,
          50.872549,
          54.167847,
          52.556279,
          49.690169,
          50.028681,
          51.103456,
          52.747044,
          51.415324,
          50.676856,
          50.024242,
          53.129306,
          54.398639,
          50.801918,
          49.806389,
          54.20705,
          50.010575,
          50.020169,
          51.749053,
          51.259431,
          51.404406,
          50.972181,
          49.744886,
          50.453653,
          49.921875,
          50.444736,
          52.926189,
          53.712097,
          52.172145,
          53.491831,
          49.969017,
          49.619281,
          50.159406,
          54.120694,
          51.050611,
          50.913433,
          51.642656,
          49.784339,
          53.083736,
          50.300761,
          51.885218,
          38.768889,
          38.663611,
          38.785,
          37.015,
          46.775002,
          47.151112,
          44.939201,
          45.755493,
          57.708611,
          55.869659,
          59.31694,
          59.346111,
          59.860111,
          55.633598,
          63.820801,
          46.568722,
          49.079166,
          48.583611,
          48.631111,
          48.874165,
          48.930836,
          49.066944,
          48.691113,
          49.213231,
          50.218543,
          50.439498
         ],
         "legendgroup": "urban",
         "lon": [
          19.52342,
          14.31806,
          14.299144,
          14.843611,
          15.634167,
          13.039722,
          14.442778,
          15.152778,
          16.30975,
          16.458345,
          3.234066,
          3.729298,
          4.431821,
          4.33382,
          5.627835,
          4.452172,
          3.729298,
          4.431821,
          33.017758,
          33.331629,
          33.615856,
          14.442692,
          14.331413,
          14.465684,
          15.763549,
          15.610246,
          17.238073,
          13.37554,
          13.368221,
          14.101784,
          14.913859,
          18.247181,
          18.677799,
          13.645272,
          13.85125,
          13.059945,
          14.33455,
          13.349326,
          13.430844,
          13.418833,
          9.229745,
          9.979031,
          8.665536,
          9.169289,
          8.355628,
          7.832122,
          10.88837,
          10.887686,
          11.554669,
          10.008293,
          11.0248,
          12.159361,
          13.422039,
          8.916966,
          8.569405,
          8.746343,
          9.483397,
          8.244949,
          9.967882,
          9.990569,
          12.175512,
          12.080003,
          8.05286,
          9.70612,
          7.457463,
          6.981045,
          6.732383,
          7.231895,
          7.582295,
          8.273965,
          7.7673,
          7.866208,
          10.695936,
          6.987601,
          12.297411,
          13.730205,
          11.979056,
          11.611464,
          11.037924,
          12.205199,
          10.668641,
          12.561412,
          10.193633,
          24.649458,
          26.734722,
          28.179167,
          2.119574,
          2.204523,
          -8.736944,
          -3.63611,
          -1.65139,
          -6.36028,
          -0.368333,
          -0.89361,
          -4.02083,
          2.147992,
          -8.559167,
          -0.336389,
          -3.83389,
          -0.506667,
          -3.686667,
          27.66952,
          24.9506,
          21.60407,
          24.06287,
          23.80221,
          6.180831,
          6.156945,
          2.294719,
          2.375801,
          2.350999,
          2.4525,
          0.100645,
          3.508038,
          3.236064,
          3.11383,
          3.886893,
          2.899699,
          -1.153599,
          -0.458889,
          0.167167,
          -1.211207,
          2.420043,
          1.843082,
          3.090312,
          1.443889,
          4.020554,
          4.966111,
          5.735599,
          7.766331,
          7.309079,
          3.283998,
          2.4744,
          2.304601,
          -4.486815,
          -3.394805,
          -2.763892,
          4.924699,
          4.719281,
          4.854217,
          6.910865,
          -2.249858,
          -0.556053,
          0.221422,
          -1.537503,
          5.785833,
          6.07306,
          7.286262,
          1.09369,
          5.066112,
          3.576391,
          2.635693,
          4.395421,
          4.515004,
          6.190434,
          -0.391111,
          -1.488059,
          -1.038614,
          4.417501,
          5.928333,
          6.118336,
          6.24056,
          1.966259,
          0.653776,
          2.072997,
          1.468772,
          1.256878,
          4.893483,
          6.015416,
          6.794003,
          5.556808,
          -0.125889,
          -5.928833,
          -3.17625,
          -1.546472,
          -1.395778,
          -2.237881,
          -0.213492,
          -1.533119,
          -1.146447,
          -2.175133,
          -2.334139,
          -7.329115,
          0.678408,
          -2.094278,
          -3.022722,
          -2.680353,
          -1.068583,
          -1.826744,
          -0.131931,
          -0.341222,
          -3.182186,
          -0.944067,
          -1.830583,
          -0.147572,
          -1.406878,
          -2.638139,
          -3.007175,
          -2.584482,
          -1.086514,
          -1.260278,
          -0.298777,
          -2.977281,
          1.301976,
          -1.829999,
          -0.879898,
          -0.345606,
          -1.127311,
          -4.243631,
          -1.560228,
          15.978394,
          16.449342,
          8.530411,
          8.957174,
          -21.873348,
          10.85907,
          11.03941,
          9.643889,
          10.33167,
          8.992222,
          11.2875,
          11.355,
          9.164722,
          10.664722,
          11.88889,
          12.506944,
          12.568611,
          12.262222,
          13.240556,
          7.32417,
          11.87056,
          11.1262,
          12.553333,
          12.048889,
          11.736667,
          10.401667,
          11.539722,
          12.36611,
          10.245,
          10.573889,
          12.225556,
          12.591667,
          8.05639,
          12.308056,
          12.62361,
          11.841944,
          8.56548,
          7.5382,
          8.28353,
          9.842778,
          10.321667,
          12.238611,
          11.11917,
          12.216944,
          9.024167,
          11.09194,
          9.23583,
          10.219444,
          10.045833,
          9.27444,
          10.90633,
          9.395833,
          8.6232,
          12.4475,
          13.61944,
          12.73722,
          10.795556,
          8.485556,
          12.57639,
          12.475278,
          11.649722,
          16.24517,
          16.25518,
          9.008889,
          9.495286,
          9.88028,
          9.669167,
          9.136389,
          16.28611,
          8.405278,
          13.323333,
          15.63879,
          17.11417,
          11.14194,
          10.79139,
          16.57925,
          12.245833,
          12.419722,
          16.3868,
          7.64905,
          7.329645,
          25.210835,
          22.87084,
          23.835835,
          6.13759,
          5.97694,
          21.590317,
          24.104756,
          14.538963,
          4.808897,
          4.870003,
          5.393333,
          4.4875,
          4.401389,
          5.128334,
          4.816667,
          5.858061,
          5.32805,
          10.76573,
          10.39355,
          18.975028,
          18.620274,
          18.666103,
          23.149389,
          22.551675,
          23.290247,
          19.529786,
          19.452936,
          19.421231,
          19.709791,
          21.147474,
          21.033819,
          21.042458,
          20.429892,
          23.155869,
          22.054381,
          22.934608,
          17.046722,
          20.486075,
          19.969778,
          16.180513,
          16.269677,
          17.02925,
          15.008175,
          15.518861,
          18.236575,
          18.655764,
          16.959519,
          14.663347,
          22.112467,
          20.604998,
          19.410942,
          19.687672,
          21.7497,
          18.691222,
          17.059225,
          15.246294,
          21.171285,
          17.950278,
          22.010575,
          23.181744,
          18.614333,
          19.106961,
          19.023194,
          16.193103,
          19.949189,
          21.004167,
          18.048389,
          22.569133,
          19.696956,
          18.207575,
          21.454617,
          20.715442,
          18.471278,
          18.829639,
          14.862558,
          16.692264,
          22.282001,
          18.752503,
          20.439511,
          20.714403,
          19.477464,
          17.975861,
          21.084175,
          15.765608,
          15.127808,
          22.756239,
          21.579322,
          21.434331,
          17.788673,
          -9.108056,
          -9.157778,
          -9.347222,
          -7.926667,
          23.596678,
          27.583614,
          26.025902,
          21.227453,
          11.970002,
          12.829702,
          18.057501,
          18.090834,
          17.635658,
          13.0788,
          20.289301,
          15.627231,
          19.302525,
          19.951685,
          20.240284,
          21.837503,
          21.913622,
          18.921947,
          21.286388,
          16.677942,
          15.856972,
          15.352657
         ],
         "marker": {
          "color": "#FF6692",
          "opacity": 0.4,
          "size": [
           13.236321,
           16.919576,
           14.608504,
           19.190335,
           13.97845,
           12.523505,
           11.781854,
           14.787564,
           14.100782,
           14.567044,
           12.944598,
           14.640805,
           14.81268,
           14.705634,
           11.341185,
           12.842754,
           14.327172,
           14.569196,
           17.802967,
           16.875843,
           20.32358,
           15.57881,
           15.313738,
           14.266245,
           18.682784,
           16.489249,
           23.921083,
           18.435565,
           16.653832,
           12.296574,
           17.270451,
           25.380925,
           24.696366,
           18.666911,
           19.436881,
           13.695237,
           13.485642,
           15.250826,
           17.119724,
           16.061823,
           12.379726,
           13.192736,
           11.823123,
           12.423116,
           11.994496,
           10.578466,
           13.376674,
           13.076938,
           12.392775,
           13.687462,
           13.515509,
           13.427596,
           15.24653,
           11.951139,
           10.282646,
           13.002718,
           11.948696,
           12.040123,
           12.951982,
           13.776988,
           11.565453,
           10.882653,
           11.325708,
           11.397428,
           14.033249,
           15.073384,
           12.705393,
           12.574983,
           12.789846,
           13.271031,
           12.890498,
           12.711364,
           11.214417,
           12.244933,
           12.017583,
           13.010192,
           12.893257,
           12.934388,
           11.104895,
           11.983944,
           10.383987,
           11.635107,
           9.856579,
           6.27563,
           8.941618,
           5.943251,
           15.060833,
           17.963018,
           14.872995,
           10.019336,
           11.227654,
           6.720053,
           19.688172,
           12.155689,
           11.965899,
           15.321534,
           7.301614,
           12.099082,
           8.019741,
           12.634615,
           11.917005,
           4.539228,
           5.415536,
           4.354429,
           4.460459,
           5.945455,
           15.01001,
           14.09636,
           13.264381,
           13.648356,
           14.266079,
           13.432214,
           10.268031,
           14.247516,
           12.300589,
           11.424204,
           14.051007,
           10.047503,
           10.455317,
           11.060378,
           11.263739,
           10.200199,
           11.856743,
           10.783774,
           15.476296,
           11.859996,
           13.463603,
           11.944279,
           15.824027,
           17.091193,
           14.391216,
           13.069344,
           11.84155,
           12.436338,
           9.130502,
           8.986247,
           6.97379,
           14.267857,
           15.162516,
           17.283563,
           13.107667,
           9.532049,
           12.315558,
           13.002057,
           13.647651,
           12.479338,
           14.689587,
           14.284461,
           13.04293,
           13.484743,
           11.705437,
           14.057797,
           8.417138,
           13.46916,
           13.95688,
           10.606602,
           11.514683,
           13.87172,
           11.153179,
           15.848167,
           17.685987,
           15.527387,
           13.195039,
           13.412708,
           12.230161,
           10.002186,
           10.402739,
           16.58613,
           15.034951,
           13.62339,
           12.420192,
           10.928548,
           9.030004,
           9.5591,
           11.433325,
           9.960425,
           10.47755,
           9.7907,
           12.262142,
           11.497954,
           11.691325,
           10.586222,
           11.752537,
           10.624283,
           8.038827,
           7.203831,
           9.953742,
           10.395696,
           7.486961,
           9.590462,
           10.877774,
           6.386624,
           7.420871,
           9.545399,
           9.318762,
           7.103531,
           10.764287,
           8.477523,
           10.24675,
           10.189576,
           10.11053,
           10.828675,
           9.568158,
           11.945411,
           8.996075,
           6.794377,
           9.67155,
           12.019491,
           6.546663,
           10.939653,
           20.816775,
           10.839764,
           11.771429,
           13.176438,
           9.942876,
           16.021639,
           15.861111,
           25.672981,
           21.470914,
           12.044985,
           15.642424,
           18.206687,
           23.245029,
           20.714681,
           16.205797,
           16.130435,
           21.762712,
           28.423729,
           18.531698,
           11.853933,
           14.008746,
           16.063361,
           22.791429,
           17.093294,
           20.442857,
           16.962536,
           29.216138,
           20.089783,
           17.667606,
           25.087571,
           19.40634,
           23.456044,
           15.779944,
           23.345506,
           23.597765,
           31.25,
           12.836676,
           16.387283,
           16.571031,
           14.185908,
           10.670423,
           26.501424,
           10.985755,
           14.539945,
           24.721369,
           20.270423,
           31.901896,
           29.066077,
           30.006571,
           27.024926,
           22.160221,
           15.812325,
           24.369863,
           17.470423,
           12.446512,
           13.835196,
           27.225808,
           12.594153,
           16.910448,
           16.896359,
           19.387187,
           13.485074,
           13.020991,
           12.468866,
           26.504819,
           21.683129,
           24.078313,
           11.979769,
           15.486065,
           9.336517,
           25.58651,
           11.089119,
           18.071562,
           13.27762,
           18.09621,
           9.096707,
           20.144928,
           13.823529,
           15.727735,
           27.160256,
           13.823171,
           10.65067,
           7.830097,
           9.907301,
           11.669167,
           12.02807,
           12.312014,
           15.917079,
           12.476221,
           12.448128,
           11.538978,
           10.673576,
           12.640694,
           13.344757,
           14.21835,
           12.803076,
           12.125276,
           6.762815,
           8.825313,
           4.731638,
           27.273273,
           12.897218,
           18.868486,
           26.346154,
           21.293151,
           23.956164,
           22.134072,
           29.728571,
           20.457289,
           21.465559,
           28.090908,
           21.181222,
           23.627787,
           30.140162,
           19.287655,
           26.642072,
           13.33061,
           14.065972,
           16.745363,
           17.259802,
           22.905817,
           18.906728,
           23.967134,
           18.416522,
           20.787204,
           27.025765,
           30.896265,
           24.35196,
           15.355014,
           22.990962,
           25.604647,
           14.942473,
           21.413407,
           24.474444,
           27.773988,
           22.862136,
           16.646648,
           24.972535,
           21.215068,
           22.787147,
           21.247697,
           14.212885,
           26.001714,
           25.894944,
           13.471781,
           33.717808,
           25.156742,
           27.188195,
           28.158287,
           31.571388,
           20.310056,
           24.067817,
           21.007445,
           34.88745,
           29.098494,
           20.107374,
           14.334493,
           24.910774,
           26.828296,
           29.210169,
           36.010959,
           25.841226,
           22.855385,
           22.348468,
           18.372678,
           19.588286,
           25.920167,
           21.023672,
           27.10193,
           33.561364,
           11.345238,
           13.551207,
           12.228133,
           11.912215,
           17.301691,
           23.156837,
           16.893697,
           11.119221,
           8.266937,
           7.792754,
           4.80579,
           4.209584,
           4.136593,
           8.251126,
           3.677026,
           19.259669,
           22.749334,
           17.574611,
           22.278441,
           20.164213,
           19.419321,
           17.417422,
           18.989409,
           18.477178,
           20.18,
           18.397
          ],
          "sizemode": "area",
          "sizeref": 0.25007610416666665
         },
         "mode": "markers",
         "name": "urban",
         "showlegend": true,
         "subplot": "mapbox",
         "type": "scattermapbox"
        }
       ],
       "layout": {
        "height": 900,
        "legend": {
         "itemsizing": "constant",
         "title": {
          "text": "StationAre"
         },
         "tracegroupgap": 0
        },
        "mapbox": {
         "center": {
          "lat": 48.536053066197184,
          "lon": 9.552567835211267
         },
         "domain": {
          "x": [
           0,
           1
          ],
          "y": [
           0,
           1
          ]
         },
         "style": "stamen-terrain",
         "zoom": 4
        },
        "margin": {
         "b": 0,
         "l": 0,
         "r": 0,
         "t": 0
        },
        "template": {
         "data": {
          "bar": [
           {
            "error_x": {
             "color": "#2a3f5f"
            },
            "error_y": {
             "color": "#2a3f5f"
            },
            "marker": {
             "line": {
              "color": "#E5ECF6",
              "width": 0.5
             }
            },
            "type": "bar"
           }
          ],
          "barpolar": [
           {
            "marker": {
             "line": {
              "color": "#E5ECF6",
              "width": 0.5
             }
            },
            "type": "barpolar"
           }
          ],
          "carpet": [
           {
            "aaxis": {
             "endlinecolor": "#2a3f5f",
             "gridcolor": "white",
             "linecolor": "white",
             "minorgridcolor": "white",
             "startlinecolor": "#2a3f5f"
            },
            "baxis": {
             "endlinecolor": "#2a3f5f",
             "gridcolor": "white",
             "linecolor": "white",
             "minorgridcolor": "white",
             "startlinecolor": "#2a3f5f"
            },
            "type": "carpet"
           }
          ],
          "choropleth": [
           {
            "colorbar": {
             "outlinewidth": 0,
             "ticks": ""
            },
            "type": "choropleth"
           }
          ],
          "contour": [
           {
            "colorbar": {
             "outlinewidth": 0,
             "ticks": ""
            },
            "colorscale": [
             [
              0,
              "#0d0887"
             ],
             [
              0.1111111111111111,
              "#46039f"
             ],
             [
              0.2222222222222222,
              "#7201a8"
             ],
             [
              0.3333333333333333,
              "#9c179e"
             ],
             [
              0.4444444444444444,
              "#bd3786"
             ],
             [
              0.5555555555555556,
              "#d8576b"
             ],
             [
              0.6666666666666666,
              "#ed7953"
             ],
             [
              0.7777777777777778,
              "#fb9f3a"
             ],
             [
              0.8888888888888888,
              "#fdca26"
             ],
             [
              1,
              "#f0f921"
             ]
            ],
            "type": "contour"
           }
          ],
          "contourcarpet": [
           {
            "colorbar": {
             "outlinewidth": 0,
             "ticks": ""
            },
            "type": "contourcarpet"
           }
          ],
          "heatmap": [
           {
            "colorbar": {
             "outlinewidth": 0,
             "ticks": ""
            },
            "colorscale": [
             [
              0,
              "#0d0887"
             ],
             [
              0.1111111111111111,
              "#46039f"
             ],
             [
              0.2222222222222222,
              "#7201a8"
             ],
             [
              0.3333333333333333,
              "#9c179e"
             ],
             [
              0.4444444444444444,
              "#bd3786"
             ],
             [
              0.5555555555555556,
              "#d8576b"
             ],
             [
              0.6666666666666666,
              "#ed7953"
             ],
             [
              0.7777777777777778,
              "#fb9f3a"
             ],
             [
              0.8888888888888888,
              "#fdca26"
             ],
             [
              1,
              "#f0f921"
             ]
            ],
            "type": "heatmap"
           }
          ],
          "heatmapgl": [
           {
            "colorbar": {
             "outlinewidth": 0,
             "ticks": ""
            },
            "colorscale": [
             [
              0,
              "#0d0887"
             ],
             [
              0.1111111111111111,
              "#46039f"
             ],
             [
              0.2222222222222222,
              "#7201a8"
             ],
             [
              0.3333333333333333,
              "#9c179e"
             ],
             [
              0.4444444444444444,
              "#bd3786"
             ],
             [
              0.5555555555555556,
              "#d8576b"
             ],
             [
              0.6666666666666666,
              "#ed7953"
             ],
             [
              0.7777777777777778,
              "#fb9f3a"
             ],
             [
              0.8888888888888888,
              "#fdca26"
             ],
             [
              1,
              "#f0f921"
             ]
            ],
            "type": "heatmapgl"
           }
          ],
          "histogram": [
           {
            "marker": {
             "colorbar": {
              "outlinewidth": 0,
              "ticks": ""
             }
            },
            "type": "histogram"
           }
          ],
          "histogram2d": [
           {
            "colorbar": {
             "outlinewidth": 0,
             "ticks": ""
            },
            "colorscale": [
             [
              0,
              "#0d0887"
             ],
             [
              0.1111111111111111,
              "#46039f"
             ],
             [
              0.2222222222222222,
              "#7201a8"
             ],
             [
              0.3333333333333333,
              "#9c179e"
             ],
             [
              0.4444444444444444,
              "#bd3786"
             ],
             [
              0.5555555555555556,
              "#d8576b"
             ],
             [
              0.6666666666666666,
              "#ed7953"
             ],
             [
              0.7777777777777778,
              "#fb9f3a"
             ],
             [
              0.8888888888888888,
              "#fdca26"
             ],
             [
              1,
              "#f0f921"
             ]
            ],
            "type": "histogram2d"
           }
          ],
          "histogram2dcontour": [
           {
            "colorbar": {
             "outlinewidth": 0,
             "ticks": ""
            },
            "colorscale": [
             [
              0,
              "#0d0887"
             ],
             [
              0.1111111111111111,
              "#46039f"
             ],
             [
              0.2222222222222222,
              "#7201a8"
             ],
             [
              0.3333333333333333,
              "#9c179e"
             ],
             [
              0.4444444444444444,
              "#bd3786"
             ],
             [
              0.5555555555555556,
              "#d8576b"
             ],
             [
              0.6666666666666666,
              "#ed7953"
             ],
             [
              0.7777777777777778,
              "#fb9f3a"
             ],
             [
              0.8888888888888888,
              "#fdca26"
             ],
             [
              1,
              "#f0f921"
             ]
            ],
            "type": "histogram2dcontour"
           }
          ],
          "mesh3d": [
           {
            "colorbar": {
             "outlinewidth": 0,
             "ticks": ""
            },
            "type": "mesh3d"
           }
          ],
          "parcoords": [
           {
            "line": {
             "colorbar": {
              "outlinewidth": 0,
              "ticks": ""
             }
            },
            "type": "parcoords"
           }
          ],
          "pie": [
           {
            "automargin": true,
            "type": "pie"
           }
          ],
          "scatter": [
           {
            "marker": {
             "colorbar": {
              "outlinewidth": 0,
              "ticks": ""
             }
            },
            "type": "scatter"
           }
          ],
          "scatter3d": [
           {
            "line": {
             "colorbar": {
              "outlinewidth": 0,
              "ticks": ""
             }
            },
            "marker": {
             "colorbar": {
              "outlinewidth": 0,
              "ticks": ""
             }
            },
            "type": "scatter3d"
           }
          ],
          "scattercarpet": [
           {
            "marker": {
             "colorbar": {
              "outlinewidth": 0,
              "ticks": ""
             }
            },
            "type": "scattercarpet"
           }
          ],
          "scattergeo": [
           {
            "marker": {
             "colorbar": {
              "outlinewidth": 0,
              "ticks": ""
             }
            },
            "type": "scattergeo"
           }
          ],
          "scattergl": [
           {
            "marker": {
             "colorbar": {
              "outlinewidth": 0,
              "ticks": ""
             }
            },
            "type": "scattergl"
           }
          ],
          "scattermapbox": [
           {
            "marker": {
             "colorbar": {
              "outlinewidth": 0,
              "ticks": ""
             }
            },
            "type": "scattermapbox"
           }
          ],
          "scatterpolar": [
           {
            "marker": {
             "colorbar": {
              "outlinewidth": 0,
              "ticks": ""
             }
            },
            "type": "scatterpolar"
           }
          ],
          "scatterpolargl": [
           {
            "marker": {
             "colorbar": {
              "outlinewidth": 0,
              "ticks": ""
             }
            },
            "type": "scatterpolargl"
           }
          ],
          "scatterternary": [
           {
            "marker": {
             "colorbar": {
              "outlinewidth": 0,
              "ticks": ""
             }
            },
            "type": "scatterternary"
           }
          ],
          "surface": [
           {
            "colorbar": {
             "outlinewidth": 0,
             "ticks": ""
            },
            "colorscale": [
             [
              0,
              "#0d0887"
             ],
             [
              0.1111111111111111,
              "#46039f"
             ],
             [
              0.2222222222222222,
              "#7201a8"
             ],
             [
              0.3333333333333333,
              "#9c179e"
             ],
             [
              0.4444444444444444,
              "#bd3786"
             ],
             [
              0.5555555555555556,
              "#d8576b"
             ],
             [
              0.6666666666666666,
              "#ed7953"
             ],
             [
              0.7777777777777778,
              "#fb9f3a"
             ],
             [
              0.8888888888888888,
              "#fdca26"
             ],
             [
              1,
              "#f0f921"
             ]
            ],
            "type": "surface"
           }
          ],
          "table": [
           {
            "cells": {
             "fill": {
              "color": "#EBF0F8"
             },
             "line": {
              "color": "white"
             }
            },
            "header": {
             "fill": {
              "color": "#C8D4E3"
             },
             "line": {
              "color": "white"
             }
            },
            "type": "table"
           }
          ]
         },
         "layout": {
          "annotationdefaults": {
           "arrowcolor": "#2a3f5f",
           "arrowhead": 0,
           "arrowwidth": 1
          },
          "coloraxis": {
           "colorbar": {
            "outlinewidth": 0,
            "ticks": ""
           }
          },
          "colorscale": {
           "diverging": [
            [
             0,
             "#8e0152"
            ],
            [
             0.1,
             "#c51b7d"
            ],
            [
             0.2,
             "#de77ae"
            ],
            [
             0.3,
             "#f1b6da"
            ],
            [
             0.4,
             "#fde0ef"
            ],
            [
             0.5,
             "#f7f7f7"
            ],
            [
             0.6,
             "#e6f5d0"
            ],
            [
             0.7,
             "#b8e186"
            ],
            [
             0.8,
             "#7fbc41"
            ],
            [
             0.9,
             "#4d9221"
            ],
            [
             1,
             "#276419"
            ]
           ],
           "sequential": [
            [
             0,
             "#0d0887"
            ],
            [
             0.1111111111111111,
             "#46039f"
            ],
            [
             0.2222222222222222,
             "#7201a8"
            ],
            [
             0.3333333333333333,
             "#9c179e"
            ],
            [
             0.4444444444444444,
             "#bd3786"
            ],
            [
             0.5555555555555556,
             "#d8576b"
            ],
            [
             0.6666666666666666,
             "#ed7953"
            ],
            [
             0.7777777777777778,
             "#fb9f3a"
            ],
            [
             0.8888888888888888,
             "#fdca26"
            ],
            [
             1,
             "#f0f921"
            ]
           ],
           "sequentialminus": [
            [
             0,
             "#0d0887"
            ],
            [
             0.1111111111111111,
             "#46039f"
            ],
            [
             0.2222222222222222,
             "#7201a8"
            ],
            [
             0.3333333333333333,
             "#9c179e"
            ],
            [
             0.4444444444444444,
             "#bd3786"
            ],
            [
             0.5555555555555556,
             "#d8576b"
            ],
            [
             0.6666666666666666,
             "#ed7953"
            ],
            [
             0.7777777777777778,
             "#fb9f3a"
            ],
            [
             0.8888888888888888,
             "#fdca26"
            ],
            [
             1,
             "#f0f921"
            ]
           ]
          },
          "colorway": [
           "#636efa",
           "#EF553B",
           "#00cc96",
           "#ab63fa",
           "#FFA15A",
           "#19d3f3",
           "#FF6692",
           "#B6E880",
           "#FF97FF",
           "#FECB52"
          ],
          "font": {
           "color": "#2a3f5f"
          },
          "geo": {
           "bgcolor": "white",
           "lakecolor": "white",
           "landcolor": "#E5ECF6",
           "showlakes": true,
           "showland": true,
           "subunitcolor": "white"
          },
          "hoverlabel": {
           "align": "left"
          },
          "hovermode": "closest",
          "mapbox": {
           "style": "light"
          },
          "paper_bgcolor": "white",
          "plot_bgcolor": "#E5ECF6",
          "polar": {
           "angularaxis": {
            "gridcolor": "white",
            "linecolor": "white",
            "ticks": ""
           },
           "bgcolor": "#E5ECF6",
           "radialaxis": {
            "gridcolor": "white",
            "linecolor": "white",
            "ticks": ""
           }
          },
          "scene": {
           "xaxis": {
            "backgroundcolor": "#E5ECF6",
            "gridcolor": "white",
            "gridwidth": 2,
            "linecolor": "white",
            "showbackground": true,
            "ticks": "",
            "zerolinecolor": "white"
           },
           "yaxis": {
            "backgroundcolor": "#E5ECF6",
            "gridcolor": "white",
            "gridwidth": 2,
            "linecolor": "white",
            "showbackground": true,
            "ticks": "",
            "zerolinecolor": "white"
           },
           "zaxis": {
            "backgroundcolor": "#E5ECF6",
            "gridcolor": "white",
            "gridwidth": 2,
            "linecolor": "white",
            "showbackground": true,
            "ticks": "",
            "zerolinecolor": "white"
           }
          },
          "shapedefaults": {
           "line": {
            "color": "#2a3f5f"
           }
          },
          "ternary": {
           "aaxis": {
            "gridcolor": "white",
            "linecolor": "white",
            "ticks": ""
           },
           "baxis": {
            "gridcolor": "white",
            "linecolor": "white",
            "ticks": ""
           },
           "bgcolor": "#E5ECF6",
           "caxis": {
            "gridcolor": "white",
            "linecolor": "white",
            "ticks": ""
           }
          },
          "title": {
           "x": 0.05
          },
          "xaxis": {
           "automargin": true,
           "gridcolor": "white",
           "linecolor": "white",
           "ticks": "",
           "title": {
            "standoff": 15
           },
           "zerolinecolor": "white",
           "zerolinewidth": 2
          },
          "yaxis": {
           "automargin": true,
           "gridcolor": "white",
           "linecolor": "white",
           "ticks": "",
           "title": {
            "standoff": 15
           },
           "zerolinecolor": "white",
           "zerolinewidth": 2
          }
         }
        },
        "title": {
         "text": "Air quality level in Europe 2018"
        },
        "width": 1400
       }
      },
      "text/html": [
       "<div>\n",
       "        \n",
       "        \n",
       "            <div id=\"fce4c2eb-434a-4e92-b2bc-93ea10f45add\" class=\"plotly-graph-div\" style=\"height:900px; width:1400px;\"></div>\n",
       "            <script type=\"text/javascript\">\n",
       "                require([\"plotly\"], function(Plotly) {\n",
       "                    window.PLOTLYENV=window.PLOTLYENV || {};\n",
       "                    \n",
       "                if (document.getElementById(\"fce4c2eb-434a-4e92-b2bc-93ea10f45add\")) {\n",
       "                    Plotly.newPlot(\n",
       "                        'fce4c2eb-434a-4e92-b2bc-93ea10f45add',\n",
       "                        [{\"customdata\": [[525.0], [918.0], [532.0], [245.0], [535.0], [88.0], [904.0], [798.0], [755.0], [700.0], [362.0], [45.0], [419.0], [1205.0], [65.0], [3.0], [140.0], [134.0], [127.0], [235.0], [170.0], [50.0], [670.0], [225.0], [477.0], [180.0], [655.0], [0.0], [550.0], [319.0], [114.0], [200.0], [210.0], [280.0], [1118.0], [735.0]], \"hovertemplate\": \"<b>%{hovertext}</b><br><br>StationAre=rural-regional<br>avg15=%{marker.size}<br>Latitude=%{lat}<br>Longitude=%{lon}<br>Altitude=%{customdata[0]}<extra></extra>\", \"hovertext\": [\"Enzenkirchen im Sauwald\", \"Gr\\u00fcnbach bei Freistadt\", \"Emep - Ayia Marina\", \"Mikulov-Sedlec\", \"Kosetice\", \"Hasenholz\", \"Schwarzwald-S\\u00fcd\", \"Schw\\u00e4bische_Alb\", \"Tiefenbach/Altenschneeberg\", \"Andechs/Rothenfeld\", \"Burgbernheim/Gr\\u00fcne Au\", \"Bornh\\u00f6ved\", \"Unterharz / Friedrichsbrunn\", \"Schauinsland\", \"Neuglobsow\", \"Risoe\", \"Zone Rurale Nord\", \"Zone rurale Sud\", \"Zone Rurale SE\", \"Paray le Fresil\", \"Campagne les B.\", \"SAINT-DENIS D'ANJOU\", \"Obs Haute-Provence\", \"Jonville en Woevre\", \"St Germain/Rh\\u00f4ne\", \"Verneuil\", \"Venaco\", \"PLITVICKA JEZERA - RH0113 - HR0013A; Dr\\u017eavna mre\\u017ea za trajno pracenje kvalitete zraka\", \"Genga -Parco Gola della Rossa\", \"Beidweiler\", \"Gharb Station\", \"Nye Birkenes\", \"K\\u013arvatn\", \"Hurdal25\", \"Churanov\", \"Svratouch\"], \"lat\": [48.39172, 48.531111, 35.038027, 48.791767, 49.573395, 52.563835, 47.809892, 48.345778, 49.438464, 47.968753, 49.44406, 54.09323, 51.662435, 47.913256, 53.141303, 55.694206, 49.100257, 48.36414, 48.354709, 46.652645, 50.610484, 47.787712, 43.93352, 49.065837, 46.072219, 46.814819, 42.236087, 44.899333, 43.46806, 49.72226, 36.067041, 58.38846, 62.78246, 60.37288, 49.068427, 49.735068], \"legendgroup\": \"rural-regional\", \"lon\": [13.67114, 14.574722, 33.057823, 16.724497, 15.080278, 14.015252, 7.764528, 9.207639, 12.548869, 11.220172, 10.325, 10.240596, 11.043386, 7.908035, 13.031662, 12.088898, 2.343893, 2.23694, 2.645296, 3.600663, 1.991448, -0.444044, 5.711704, 5.785555, 5.820832, 2.610082, 9.190035, 15.609778, 12.95222, 6.30533, 14.197154, 8.2519, 8.87658, 11.07407, 13.614777, 16.034209], \"marker\": {\"color\": \"#636efa\", \"opacity\": 0.4, \"size\": [13.353289, 9.099422, 9.879714, 16.080899, 11.625252, 11.945001, 6.111503, 7.883377, 8.871439, 8.743363, 11.139296, 9.868317, 8.684215, 6.690393, 9.969703, 9.520642, 12.660772, 9.648008, 9.169847, 8.447957, 10.634634, 10.292241, 7.504084, 12.595133, 8.89671, 11.602657, 7.685495, 9.171703, 11.594837, 11.022904, 9.19006, 2.707727, 1.512005, 2.752935, 7.103898, 11.822], \"sizemode\": \"area\", \"sizeref\": 0.25007610416666665}, \"mode\": \"markers\", \"name\": \"rural-regional\", \"showlegend\": true, \"subplot\": \"mapbox\", \"type\": \"scattermapbox\"}, {\"customdata\": [[899.0], [313.0], [29.0], [309.0], [143.0], [620.0], [45.0]], \"hovertemplate\": \"<b>%{hovertext}</b><br><br>StationAre=rural-remote<br>avg15=%{marker.size}<br>Latitude=%{lat}<br>Longitude=%{lon}<br>Altitude=%{customdata[0]}<extra></extra>\", \"hovertext\": [\"Z\\u00f6belboden im Reichraminger Hintergebirge - Wildwiese\", \"Collmberg\", \"Serv Tech Guipry\", \"La Coulonche MERA\", \"LA TARDIERE\", \"Station MORVAN\", \"Mayo Claremorris\"], \"lat\": [47.838611, 51.303772, 47.831934, 48.645008, 46.656714, 47.275017, 53.703889], \"legendgroup\": \"rural-remote\", \"lon\": [14.441389, 13.009406, -1.836327, -0.458333, -0.743681, 4.09833, -9.012672], \"marker\": {\"color\": \"#EF553B\", \"opacity\": 0.4, \"size\": [7.257276, 10.191917, 8.913834, 8.07166, 10.524742, 9.567993, 5.735632], \"sizemode\": \"area\", \"sizeref\": 0.25007610416666665}, \"mode\": \"markers\", \"name\": \"rural-remote\", \"showlegend\": true, \"subplot\": \"mapbox\", \"type\": \"scattermapbox\"}, {\"customdata\": [[150.0], [231.0], [203.0], [124.0], [110.0], [153.0], [0.0], [532.0]], \"hovertemplate\": \"<b>%{hovertext}</b><br><br>StationAre=rural-near_city<br>avg15=%{marker.size}<br>Latitude=%{lat}<br>Longitude=%{lon}<br>Altitude=%{customdata[0]}<extra></extra>\", \"hovertext\": [\"Glinzendorf im Marchfeld\", \"Studenka\", \"Vernovice\", \"Kleinwallstadt/Hofstetter Stra\\u00dfe\", \"Soest-Ost\", \"Pourcy\", \"DESINIC - RH0112 - HR0012A; Dr\\u017eavna mre\\u017ea za trajno pracenje kvalitete zraka\", \"CENMA1\"], \"lat\": [48.236667, 49.720936, 49.924679, 49.869422, 51.570662, 49.158627, 46.169056, 40.256389], \"legendgroup\": \"rural-near_city\", \"lon\": [16.636944, 18.089306, 18.422873, 9.171544, 8.148061, 3.912612, 15.660639, 8.773056], \"marker\": {\"color\": \"#00cc96\", \"opacity\": 0.4, \"size\": [14.789538, 23.892614, 33.040112, 12.735729, 12.44337, 11.019525, 14.282799, 7.149379], \"sizemode\": \"area\", \"sizeref\": 0.25007610416666665}, \"mode\": \"markers\", \"name\": \"rural-near_city\", \"showlegend\": true, \"subplot\": \"mapbox\", \"type\": \"scattermapbox\"}, {\"customdata\": [[200.0], [510.0], [23.0], [3.0], [30.0], [2.0], [135.0], [0.0], [145.0], [233.0], [160.0], [490.0], [265.0], [225.0], [510.0], [430.0], [375.0], [343.0], [17.0], [2.0], [16.0], [606.0], [546.0], [72.0], [74.0], [937.0], [32.0], [6.0], [50.0], [917.0], [78.0], [1230.0], [134.0], [1360.0], [23.0], [393.0], [885.0], [985.0], [470.0], [506.0], [911.0], [619.0], [804.0], [430.0], [995.0], [469.0], [172.0], [200.0], [64.0], [7.0], [4.0], [617.0], [126.0], [260.0], [14.0], [61.0], [948.0], [388.0], [-2.0], [11.0], [115.0], [48.0], [14.0], [10.0], [110.0], [1192.0], [16.0], [209.0], [620.0], [202.0], [22.0], [165.0], [0.0], [4.0], [48.0], [1.0], [258.0], [420.0], [811.0], [1038.0], [268.0], [150.0], [150.0], [180.0], [15.0], [4.0], [-4.0], [1.0], [1.0], [157.0], [291.0], [179.0], [60.0], [473.0], [143.0], [57.0], [187.0], [300.0], [30.0], [20.0], [540.0], [808.0], [117.0], [86.0], [340.0], [390.0], [605.0], [125.0], [489.0], [1031.0], [18.0], [157.0]], \"hovertemplate\": \"<b>%{hovertext}</b><br><br>StationAre=rural<br>avg15=%{marker.size}<br>Latitude=%{lat}<br>Longitude=%{lon}<br>Altitude=%{customdata[0]}<extra></extra>\", \"hovertext\": [\"Zwentendorf im Tullnerfeld\", \"Lenzing\", \"26RT01 - RETIE\", \"44N012 - MOERKERKE\", \"42N016 - DESSEL\", \"44N029 - HOUTEM\", \"42N054 - WALSHOUTEM\", \"43N060 - HAVINNES\", \"43N063 - CORROY L.G.\", \"43N067 - MEMBACH\", \"43N073 - VEZIN\", \"43N085 - VIELSALM\", \"43N093 - SINSIN\", \"43N100 - DOURBES\", \"43N113 - SAINT-ODE\", \"43N121 - OFFAGNE\", \"43N132 - HABAY-LA-N.\", \"Bad Arolsen\", \"G\\u00fclzow\", \"Jadebusen\", \"Wendland\", \"Pf\\u00e4lzerwald-Hortenkopf\", \"Westerwald-Neuh\\u00e4usel\", \"Dom\\u00e4ne Bobbe\", \"Waldhof\", \"Schm\\u00fccke\", \"Lahemaa\", \"Vilsandi\", \"Saarej\\u00e4rve\", \"SAN PABLO DE LOS MONTES\", \"MAH\\u00d3N\", \"V\\u00cdZNAR\", \"NIEMBRO\", \"CAMPIS\\u00c1BALOS\", \"CABO DE CREUS\", \"BARCARROTA\", \"ZARRA\", \"PE\\u0143AUSENDE\", \"ELS TORMS\", \"O SAVI\\u0143AO\", \"VALDEREJO\", \"ZORITA\", \"CAUDETE DE LAS FUENTES\", \"VILLAR DEL ARZOBISPO\", \"EL ATAZAR\", \"VILLA DEL PRADO\", \"HOSPITAL JOAN MARCH\", \"ALGAR DE PAL\\u0154NCIA\", \"Luukki\", \"Ut\\u00f6\", \"Virolahti 2\", \"Dr\\u00f4me Rurale Sud-SND\", \"Harwell\", \"Auchencorth Moss\", \"Rochester Stoke\", \"CASTEL DI GUIDO\", \"LEONESSA\", \"FONTECHIARI\", \"GHERARDI\", \"SAN PIETRO CAPOFIUME\", \"CASIRATE D'ADDA\", \"PT-MONTALE\", \"MANSUE'\", \"LECCE - S. M. Cerrate\", \"Civitanova IPPODROMO S. MARONE\", \"MOGGIO\", \"SCHIVENOGLIA\", \"BRUFA\", \"Dernice - Costa\", \"BADIA\", \"SAN ROCCO\", \"SAN CLEMENTE\", \"OSTELLATO\", \"GAVELLO\", \"BESENZONE\", \"BALLIRANA\", \"Vinchio - San Michele\", \"ACQUAPENDENTE\", \"CASTELLUCCIO\", \"M Martani\", \"Revello - Staffarda\", \"Posta del Principe\", \"Azienda Russo\", \"Aukstaitija\", \"Biest Houtakker-Biestsestraat\", \"De Zilk-Vogelaarsdreef\", \"Wieringerwerf-Medemblikkerweg\", \"Badhoevedorp-Sloterweg\", \"Amsterdam-Spaarnwoude\", \"KMS Puszcza Borecka\", \"Zloty Potok, Lesnicz\\u00f3wka\", \"Osiecz\\u00f3w\", \"Ervedeira\", \"Fund\\u0103o\", \"Chamusca\", \"Fernando P\\u00f3\", \"Terena\", \"Cerro\", \"B8 Balotesti\", \"GR-4\", \"Iskrba\", \"Stara Lesna - AU SAV EMEP/O3\", \"Illmitz\", \"Melpitz\", \"Pallas (Matorova)\", \"Revin\", \"Saint-Nazaire-le-D\\u00e9sert\", \"K-puszta\", \"Payerne\", \"Rigi\", \"Rucava\", \"Diabla Gora\"], \"lat\": [48.331111, 47.971944, 51.230858, 51.254574, 51.233652, 51.01628, 50.711706, 50.616718, 50.655439, 50.612278, 50.502716, 50.303208, 50.274478, 50.095683, 50.027029, 49.877128, 49.719281, 51.430897, 53.817775, 53.59617, 52.95702, 49.270263, 50.4243, 51.837306, 52.800773, 50.654066, 59.494446, 58.37611, 58.702778, 39.54694, 39.87528, 37.23722, 43.43917, 41.27417, 42.31917, 38.47278, 39.08278, 41.23889, 41.39389, 42.63472, 42.875278, 40.735, 39.558611, 39.708056, 40.91028, 40.25194, 39.67766, 39.782222, 60.31439, 59.77923, 60.53002, 44.569431, 51.571078, 55.79216, 51.45617, 41.889444, 42.5725, 41.67, 44.839722, 44.662222, 45.4975, 43.91611, 45.836944, 40.45889, 43.33556, 45.913056, 44.99694, 43.06694, 44.76335, 44.6575, 44.873056, 43.932778, 44.741667, 44.92784, 44.989444, 44.526485, 44.80801, 42.74472, 44.15, 42.80472, 44.71976, 41.63083, 41.54666, 55.463333, 51.519444, 52.298054, 52.804722, 52.333561, 52.400002, 54.124819, 50.710889, 51.31763, 39.923889, 40.233056, 39.3525, 38.635556, 38.615, 37.3125, 44.616665, 43.963814, 45.56107, 49.152779, 47.766667, 51.53014, 68.0, 49.9, 44.569444, 46.966667, 46.813056, 47.0675, 56.161944, 54.15], \"legendgroup\": \"rural\", \"lon\": [15.903611, 13.600833, 5.053303, 3.362536, 5.163979, 2.582323, 5.103159, 3.457624, 4.668288, 5.992753, 4.988423, 6.001736, 5.235169, 4.594763, 5.593017, 5.202387, 5.630398, 8.928171, 12.064708, 8.09059, 11.16705, 7.826521, 7.7299, 11.891412, 10.756733, 10.769534, 25.930569, 21.845013, 26.758898, -4.35056, 4.31639, -3.53417, -4.85, -3.1425, 3.31583, -6.92361, -1.10111, -5.8975, 0.73472, -7.70472, -3.231389, -0.169444, -1.281389, -0.831944, -3.46667, -4.27472, 2.68665, -0.359167, 24.68486, 21.37395, 27.6754, 5.278968, -1.325283, -3.2429, 0.634889, 12.266389, 12.961944, 13.674444, 11.961111, 11.639444, 9.556389, 11.00694, 12.510278, 18.11611, 13.67472, 9.496944, 11.07083, 12.46806, 9.05243, 10.288889, 10.663889, 12.6275, 11.942222, 11.17795, 10.019167, 11.981381, 8.31031, 11.865, 10.926111, 12.56611, 7.42622, 15.38667, 15.44083, 26.004169, 5.148902, 4.510286, 5.050842, 4.773589, 4.73, 22.038056, 19.458797, 15.431719, -8.891667, -7.301944, -8.466111, -8.690556, -7.3975, -7.678611, 26.116667, 26.038739, 14.85806, 20.291117, 16.766667, 12.93386, 24.237222, 4.633333, 5.278972, 19.583333, 6.944722, 8.463889, 21.173056, 22.066667], \"marker\": {\"color\": \"#ab63fa\", \"opacity\": 0.4, \"size\": [14.524676, 12.058089, 12.033426, 11.621019, 13.721193, 10.76674, 13.100392, 11.006506, 11.354895, 9.426099, 9.973228, 6.826367, 8.910852, 8.098825, 7.560071, 7.819823, 8.689426, 11.416152, 12.241828, 9.372394, 10.485007, 7.542832, 8.508962, 13.072419, 10.463367, 7.286816, 5.188643, 3.966952, 5.433148, 6.61236, 7.035144, 10.344214, 7.051429, 4.81686, 8.486239, 8.456647, 5.960674, 5.795732, 8.335227, 8.379538, 6.162902, 7.114348, 11.081898, 10.759357, 5.867473, 11.740706, 6.991095, 9.177124, 5.008677, 4.971934, 5.294007, 6.146076, 7.725895, 3.176025, 8.73313, 14.676796, 9.897507, 14.543353, 20.559557, 18.643258, 26.64348, 23.441667, 25.488571, 17.683505, 12.557535, 12.047041, 26.951496, 13.312321, 11.011142, 14.707042, 23.017192, 15.268362, 19.083333, 20.044818, 26.727528, 18.326284, 20.749296, 10.436975, 6.641834, 8.455446, 25.84375, 13.391694, 13.131818, 7.775623, 12.270036, 9.512012, 8.977558, 12.989084, 12.013362, 12.482206, 18.470833, 14.53796, 7.347346, 5.618682, 10.51776, 11.822876, 12.341719, 6.654075, 18.895706, 13.13879, 10.032877, 10.67064, 14.702786, 14.731795, 3.427191, 14.76596, 6.179576, 17.358067, 9.748889, 5.774699, 10.848464, 12.486371], \"sizemode\": \"area\", \"sizeref\": 0.25007610416666665}, \"mode\": \"markers\", \"name\": \"rural\", \"showlegend\": true, \"subplot\": \"mapbox\", \"type\": \"scattermapbox\"}, {\"customdata\": [[525.0], [306.0], [400.0], [158.0]], \"hovertemplate\": \"<b>%{hovertext}</b><br><br>StationAre=rural-nearcity<br>avg15=%{marker.size}<br>Latitude=%{lat}<br>Longitude=%{lon}<br>Altitude=%{customdata[0]}<extra></extra>\", \"hovertext\": [\"Krizanov\", \"Belotin\", \"Celadna\", \"Doksany\"], \"lat\": [49.383584, 49.587079, 49.559234, 50.458832], \"legendgroup\": \"rural-nearcity\", \"lon\": [16.098618, 17.80425, 18.348359, 14.170205], \"marker\": {\"color\": \"#FFA15A\", \"opacity\": 0.4, \"size\": [15.089, 22.236, 17.006, 17.747], \"sizemode\": \"area\", \"sizeref\": 0.25007610416666665}, \"mode\": \"markers\", \"name\": \"rural-nearcity\", \"showlegend\": true, \"subplot\": \"mapbox\", \"type\": \"scattermapbox\"}, {\"customdata\": [[848.0], [160.0], [210.0], [155.0], [460.0], [274.0], [420.0], [272.0], [8.0], [10.0], [10.0], [13.0], [10.0], [20.0], [15.0], [30.0], [160.0], [70.0], [50.0], [55.0], [41.0], [27.0], [30.0], [100.0], [12.0], [65.0], [135.0], [118.0], [157.0], [6.0], [8.0], [0.0], [103.0], [301.0], [241.0], [225.0], [476.0], [367.0], [258.0], [89.0], [33.0], [22.0], [31.0], [99.0], [43.0], [157.0], [275.0], [325.0], [480.0], [134.0], [420.0], [678.0], [380.0], [226.0], [488.0], [513.0], [495.0], [417.0], [54.0], [170.0], [30.0], [80.0], [72.0], [40.0], [25.0], [153.0], [103.0], [40.0], [47.0], [645.0], [616.0], [581.0], [610.0], [721.0], [355.0], [25.0], [51.0], [181.0], [91.0], [25.0], [45.0], [65.0], [164.0], [10.0], [83.0], [2.0], [47.0], [60.0], [13.0], [210.0], [432.0], [10.0], [20.0], [12.0], [47.32], [0.0], [15.0], [380.0], [150.0], [48.0], [257.0], [18.0], [91.0], [226.0], [113.0], [25.0], [263.0], [10.0], [230.0], [240.0], [273.0], [131.0], [32.0], [275.0], [55.0], [140.0], [242.0], [271.0], [666.0], [71.0], [143.0], [246.0], [95.0], [100.0], [1.0], [-1.0], [34.0], [212.0], [31.0], [57.0], [190.0], [91.0], [99.0], [100.0], [297.0], [0.0], [242.0]], \"hovertemplate\": \"<b>%{hovertext}</b><br><br>StationAre=suburban<br>avg15=%{marker.size}<br>Latitude=%{lat}<br>Longitude=%{lon}<br>Altitude=%{customdata[0]}<extra></extra>\", \"hovertext\": [\"Korca\", \"Eisenstadt Laschoberstra\\u00dfe\", \"Wiener Neudorf Hauptstra\\u00dfe\", \"Schwechat Sportplatz, M\\u00fchlgasse\", \"Bad Ischl, Rettenbachstra\\u00dfe\", \"Traun Tischlerstra\\u00dfe\", \"V\\u00f6cklabruck, Untere Agergasse\", \"Leibnitz Lastenstra\\u00dfe\", \"26R811 - SCHOTEN\", \"40AB02 - BERENDRECHT\", \"40AL01 - LINKEROEVER\", \"40HB23 - HOBOKEN\", \"40MN01 - MENEN\", \"40RL01 - ROESELARE\", \"40SZ02 - STEENOKKERZ\", \"41B011 - BERCHEM S.A\", \"43H201 - LIEGE\", \"43M204 - ANGLEUR\", \"41MEU1 - MEUDON\", \"42N035 - AARSCHOT\", \"42N045 - HASSELT\", \"44N052 - ZWEVEGEM\", \"43N070 - MONS\", \"41R012 - UCCLE\", \"42R020 - VILVOORDE\", \"43R222 - SERAING\", \"45R502 - LODELINSART\", \"45R510 - CHATELINEAU\", \"45R511 - MARCINELLE\", \"44R710 - DESTELBERGE\", \"42R811 - SCHOTEN\", \"42R834 - Boom\", \"PAFOS RESIDENTIAL\", \"Praha 4-Libus\", \"Brno-Turany\", \"Znojmo\", \"Sokolov\", \"Usti n.L.-Kockov\", \"Zlin\", \"Elsterwerda\", \"Brandenburg a.d. Havel\", \"Wittenberge\", \"Nauen\", \"Spremberg\", \"Blankenfelde-Mahlow\", \"Heilbronn\", \"Weil am Rhein\", \"T\\u00fcbingen\", \"Arzberg/Egerstra\\u00dfe\", \"Aschaffenburg/Bussardweg\", \"Burghausen/Marktler Stra\\u00dfe\", \"Kempten (Allg\\u00e4u)/Westendstra\\u00dfe\", \"Schwandorf/Wackersdorfer Stra\\u00dfe\", \"W\\u00fcrzburg/Kopfklinik\", \"Trostberg/Schwimmbadstra\\u00dfe\", \"M\\u00fcnchen/Johanneskirchen\", \"Augsburg/LfU\", \"Oettingen/Goethestra\\u00dfe\", \"Weserbergland\", \"G\\u00f6ttingen\", \"Emsland\", \"Datteln-Hagem\", \"Unna-K\\u00f6nigsborn\", \"Gelsenkirchen-Bismarck\", \"Wesel-Feldmark\", \"Essen-Schuir (LANUV)\", \"Speyer-Nord\", \"Itzehoe\", \"Burg\", \"CASA DE CAMPO\", \"VIVER\", \"TORREJON DE ARDOZ\", \"VALDEMORO\", \"ALGETE\", \"ELDA-LACY\", \"TORRE DE H\\u00c9RCULES\", \"MONTEVIL\", \"PLASENCIA\", \"Tiril\\u00e4 Pekkasenkatu\", \"Vartiokyl\\u00e4 Huivipolku\", \"Rognac les Brets\", \"GONESSE\", \"RAMBOUILLET\", \"Lunel\", \"GARNOR03\", \"Cappelle\", \"BASTIA MONTESORO\", \"London Eltham\", \"London Bexley\", \"LYKOVRISI\", \"D\\u00fcbendorf-EMPA\", \"Dublin Finglas Mellowes Road\", \"Dublin Marino Brian Road\", \"Cork Ballinlough Heatherton Park\", \"Wicklow Bray Wurzburg Road\", \"K\\u00f3pavogur Dalsm\\u00e1ri\", \"CHIARAVALLE2\", \"BORGO VAL\", \"CASTELLARANO\", \"TENUTA DEL CAVALIERE\", \"Borgaro T. - Caduti\", \"LATINA SCALO\", \"VR - Cason\", \"DARFO_2\", \"PONTI SUL MINCIO\", \"CENPS7\", \"AREA FELTRINA\", \"Campi Salentina\", \"LS1 Laives\", \"Ivrea - Liberazione\", \"CALUSCO\", \"Vercelli - CONI\", \"SAVIGNANO\", \"CENS16\", \"MALAGROTTA\", \"Municipio\", \"Magione\", \"Chieri - Bersezio\", \"Trivero - Ronco\", \"Rocca di Neto\", \"Ciconia2\", \"Lein\\u011b (ACEA) - Grande Torino\", \"Narni Scalo\", \"Ceglie Messapica\", \"Breda-Bastenakenstraat\", \"Groningen-Nijensteinheerd\", \"V\\u013aland\", \"Lillehammer barnehage\", \"\\u0158yekast\", \"Wloclawek Sielska DMD\", \"Chelm ul. Jagiellonska\", \"Legionowo-Zegrzynska\", \"Piast\\u00f3w-Pulaskiego\", \"Bydgoszcz, ul. Berlinga\", \"Ljubljana Biotehnicna fakulteta\", \"Prishtine1\", \"Ostrava-Poruba/CHMU\"], \"lat\": [40.62593, 47.84, 48.083889, 48.145, 47.716111, 48.225278, 48.000833, 46.778333, 51.252103, 51.340727, 51.236194, 51.170298, 50.793469, 50.953177, 50.91302, 50.858031, 50.624992, 50.611923, 50.895101, 50.977541, 50.939712, 50.814874, 50.465192, 50.796632, 50.941387, 50.613413, 50.428995, 50.416433, 50.377592, 51.061278, 51.252103, 51.092, 34.779453, 50.007305, 49.148972, 48.842957, 50.172825, 50.683525, 49.232906, 51.462734, 52.420442, 52.99875, 52.608609, 51.5645, 52.349703, 49.165508, 47.588152, 48.507703, 50.058195, 49.991518, 48.177175, 47.72514, 49.321955, 49.804695, 48.021657, 48.173194, 48.326013, 48.95218, 52.17017, 51.55107, 52.49855, 51.641383, 51.547495, 51.533646, 51.672809, 51.406968, 49.351143, 53.924712, 52.268354, 40.42, 39.930556, 40.455, 40.18528, 40.59333, 38.454722, 43.3825, 43.516588, 40.07778, 61.05748, 60.22393, 43.51056, 48.990856, 48.63373, 43.675749, 44.053531, 50.995965, 42.671343, 51.45258, 51.46603, 38.069633, 47.402916, 53.39025, 54.361111, 51.881944, 53.187222, 64.104969, 43.59889, 46.05184, 44.516111, 41.931389, 45.15464, 41.531389, 45.4625, 45.873889, 45.41083, 39.203333, 46.030833, 40.40444, 46.43444, 45.4512, 45.683333, 45.31891, 44.095833, 40.724444, 41.875556, 38.95955, 43.133056, 45.00276, 45.66423, 39.18752, 42.737222, 45.17635, 42.53417, 40.64917, 51.603333, 53.246944, 58.96173, 61.12087, 59.1292, 52.664721, 51.13095, 52.407578, 52.191728, 53.151467, 46.0483, 42.385586, 49.825267], \"legendgroup\": \"suburban\", \"lon\": [20.78018, 16.52806, 16.330278, 16.474444, 13.632222, 14.238889, 13.6675, 15.540556, 4.491362, 4.32182, 4.385224, 4.341005, 3.109642, 3.121156, 4.512184, 4.288336, 5.547464, 5.61115, 4.392718, 4.837618, 5.368379, 3.322494, 3.939714, 4.358539, 4.436721, 5.570223, 4.458681, 4.52113, 4.4247, 3.775262, 4.491362, 4.380104, 32.438614, 14.445933, 16.696217, 16.060127, 12.672818, 14.041195, 17.667175, 13.526796, 12.552303, 11.73846, 12.885194, 14.3764, 13.424304, 9.224786, 7.633271, 9.051178, 12.18865, 9.117973, 12.829314, 10.306561, 12.128139, 9.95642, 12.538174, 11.648036, 10.903051, 10.59772, 9.06255, 9.94976, 7.31747, 7.331405, 7.693835, 7.101786, 6.629576, 6.965643, 8.423005, 9.532635, 11.864763, -3.749167, -0.603333, -3.48417, -3.67972, -3.50306, -0.803333, -8.408889, -5.67065, -6.14722, 28.24585, 25.10244, 5.219724, 2.44472, 1.830533, 4.088422, 4.697362, 2.36627, 9.434646, 0.070766, 0.184806, 23.776886, 8.613397, -6.305266, -6.225, -8.456667, -6.121667, -21.888979, 13.34194, 11.45389, 10.733889, 12.659167, 7.65804, 12.946111, 10.912222, 10.1775, 10.69194, 8.386111, 11.905833, 18.02972, 11.33944, 7.87804, 9.466667, 8.40236, 12.4025, 8.576111, 12.345, 16.29517, 12.205833, 7.83748, 8.15981, 17.01034, 12.136667, 7.71158, 12.52194, 17.5125, 4.780847, 6.608897, 5.73147, 10.46563, 9.64217, 19.036386, 23.514603, 20.955928, 20.837489, 18.132111, 14.4713, 21.08135, 18.159264], \"marker\": {\"color\": \"#19d3f3\", \"opacity\": 0.4, \"size\": [30.33897, 14.568675, 13.965723, 16.251845, 9.26586, 15.235787, 12.29686, 19.929107, 13.718232, 13.09626, 13.189466, 14.934121, 13.435091, 13.367502, 13.040427, 12.665909, 10.52111, 10.300577, 15.115963, 13.434084, 13.466545, 14.683366, 12.551983, 14.419126, 14.460037, 10.924992, 12.737044, 12.025819, 11.799868, 14.449595, 14.176761, 13.806131, 15.403012, 15.720217, 17.68138, 16.817191, 13.479739, 15.357874, 15.830083, 13.736274, 13.316793, 10.390088, 12.886066, 13.224965, 14.294797, 13.91155, 12.319939, 12.087066, 13.370539, 12.226837, 13.667626, 10.870899, 13.536733, 11.990753, 12.232226, 11.973409, 12.609537, 12.751086, 10.626572, 8.884077, 12.163193, 14.545125, 13.009496, 14.49445, 13.879151, 13.120164, 14.384997, 12.364177, 12.134096, 9.970065, 8.071548, 9.272346, 12.140876, 6.545989, 9.289138, 16.062731, 10.773827, 7.034714, 7.017104, 6.839457, 12.691131, 13.844158, 11.77751, 11.80413, 14.732841, 13.016788, 9.187283, 10.512368, 10.491823, 16.446809, 10.918156, 8.137651, 7.801538, 6.829863, 6.562644, 4.757997, 15.260284, 19.961988, 19.587896, 18.155556, 26.382789, 15.528736, 26.40407, 26.752312, 27.587592, 17.74, 21.339031, 18.237104, 15.372806, 23.772861, 24.301943, 26.541899, 19.534286, 6.486389, 17.070988, 12.697797, 15.741667, 24.154519, 13.470255, 16.221457, 12.063218, 30.376471, 19.925714, 16.465388, 12.352135, 11.518471, 7.309426, 6.644817, 7.134425, 18.383501, 27.2, 32.175951, 30.466363, 15.837606, 22.565476, 28.486592, 22.678], \"sizemode\": \"area\", \"sizeref\": 0.25007610416666665}, \"mode\": \"markers\", \"name\": \"suburban\", \"showlegend\": true, \"subplot\": \"mapbox\", \"type\": \"scattermapbox\"}, {\"customdata\": [[13.0], [445.0], [445.0], [460.0], [270.0], [350.0], [305.0], [390.0], [236.0], [159.0], [5.0], [5.0], [6.0], [15.0], [65.0], [115.0], [5.0], [6.0], [22.0], [208.0], [17.0], [256.0], [309.0], [383.0], [239.0], [502.0], [224.0], [346.0], [360.0], [303.0], [224.0], [235.0], [320.0], [221.0], [257.0], [31.0], [75.0], [35.0], [35.0], [35.0], [235.0], [481.0], [278.0], [403.0], [114.0], [262.0], [477.0], [231.0], [521.0], [470.0], [300.0], [400.0], [300.0], [7.0], [3.0], [100.0], [181.0], [121.0], [15.0], [3.0], [17.0], [2.0], [95.0], [85.0], [75.0], [47.0], [32.0], [186.0], [157.0], [110.0], [232.0], [108.0], [12.0], [192.0], [115.0], [112.0], [116.0], [58.0], [195.0], [265.0], [490.0], [25.0], [21.0], [6.0], [41.0], [25.0], [24.0], [3.0], [12.0], [929.0], [449.0], [389.0], [11.0], [220.0], [500.0], [136.0], [220.0], [7.0], [693.0], [55.0], [609.0], [112.0], [21.0], [16.0], [56.0], [109.0], [192.0], [154.0], [28.0], [95.0], [37.0], [51.0], [92.0], [43.0], [59.0], [340.0], [8.0], [25.0], [10.0], [48.0], [83.0], [10.0], [8.0], [4.0], [25.0], [150.0], [93.0], [147.0], [214.0], [139.0], [250.0], [95.0], [34.0], [28.0], [48.0], [29.0], [17.0], [173.0], [204.0], [160.0], [233.0], [25.0], [47.0], [85.0], [18.0], [371.0], [741.0], [9.0], [17.0], [255.0], [96.0], [26.0], [552.0], [366.0], [200.0], [195.0], [35.0], [14.0], [350.0], [280.0], [453.0], [441.0], [111.0], [85.0], [115.0], [158.0], [301.0], [125.0], [321.0], [331.0], [261.0], [20.0], [10.0], [12.0], [78.0], [7.0], [45.0], [5.0], [175.0], [41.0], [172.0], [30.0], [32.0], [37.0], [20.0], [38.0], [40.0], [5.0], [30.0], [5.0], [4.0], [81.0], [58.0], [93.0], [10.0], [110.0], [45.0], [16.0], [15.0], [15.0], [58.0], [79.0], [24.0], [36.0], [134.0], [128.0], [11.0], [83.0], [40.0], [98.0], [0.0], [0.0], [409.0], [280.0], [19.0], [640.0], [200.0], [249.0], [60.0], [85.0], [61.0], [43.0], [77.0], [50.0], [260.0], [50.0], [53.0], [1.0], [100.0], [581.0], [35.0], [203.0], [6.0], [29.0], [114.0], [5.0], [36.0], [290.0], [3.0], [10.0], [4.0], [3.0], [405.0], [72.0], [156.0], [13.0], [203.0], [550.0], [344.0], [6.0], [13.0], [15.0], [10.0], [401.0], [212.0], [54.0], [122.0], [70.0], [45.0], [162.0], [34.0], [267.0], [91.0], [31.0], [150.0], [319.0], [22.0], [55.0], [498.0], [31.0], [9.0], [230.0], [11.0], [56.0], [76.0], [290.0], [61.0], [15.0], [15.0], [16.0], [255.0], [20.0], [37.0], [105.0], [118.0], [370.0], [284.0], [329.0], [758.0], [243.0], [583.0], [170.0], [75.0], [73.0], [275.0], [287.0], [1.0], [3.0], [56.0], [2.0], [3.0], [22.0], [0.0], [3.0], [2.0], [1.0], [30.0], [5.0], [24.0], [30.0], [273.0], [40.0], [64.0], [144.0], [207.0], [226.0], [235.0], [206.0], [189.0], [101.0], [159.0], [102.0], [85.0], [119.0], [145.0], [128.0], [179.0], [25.0], [120.0], [120.0], [122.0], [424.0], [114.0], [215.0], [150.0], [181.0], [236.0], [67.0], [10.0], [156.0], [275.0], [15.0], [97.0], [277.0], [260.0], [119.0], [22.0], [156.0], [173.0], [203.0], [145.0], [6.0], [262.0], [372.0], [45.0], [223.0], [228.0], [132.0], [191.0], [180.0], [177.0], [223.0], [212.0], [204.0], [319.0], [62.0], [134.0], [155.0], [29.0], [202.0], [305.0], [340.0], [163.0], [264.0], [345.0], [160.0], [201.0], [96.0], [167.0], [120.0], [32.0], [63.0], [173.0], [4.0], [333.0], [44.0], [160.0], [89.0], [30.0], [20.0], [58.0], [30.0], [22.0], [10.0], [0.0], [280.0], [475.0], [320.0], [289.0], [133.0], [160.0], [383.0], [201.0], [340.0], [232.0], [283.0]], \"hovertemplate\": \"<b>%{hovertext}</b><br><br>StationAre=urban<br>avg15=%{marker.size}<br>Latitude=%{lat}<br>Longitude=%{lon}<br>Altitude=%{customdata[0]}<extra></extra>\", \"hovertext\": [\"Shkoder\", \"Klagenfurt V\\u00f6lkermarkter Stra\\u00dfe\", \"Klagenfurt Sterneckstra\\u00dfe\", \"Wolfsberg Hauptschule\", \"St. P\\u00f6lten Eybnerstra\\u00dfe\", \"Braunau Zentrum, Kolpingplatz\", \"Steyr M\\u00fcnichholz\", \"Voitsberg M\\u00fchlgasse\", \"Kendlerstra\\u00dfe\", \"Stadlau\", \"26BB15 - BRUGGE\", \"26R701 - GENT\", \"26R801 - BORGERHOUT\", \"41R001 - MOLENBEEK\", \"43R221 - LIEGE\", \"45R501 - CHARLEROI\", \"44R701 - GENT\", \"42R801 - BORGERHOUT\", \"LIMASSOL RESIDENTIAL\", \"NICOSIA RESIDENTIAL\", \"LARNAKA RESIDENTIAL\", \"Praha 2-Riegrovy sady\", \"Praha 5-Stodulky\", \"Ceske Budejovice\", \"Pardubice Dukla\", \"Jihlava\", \"Olomouc-Hejcin\", \"Plzen-Bory\", \"Plzen-Lochotin\", \"Kladno-stred mesta\", \"Mlada Boleslav\", \"Ostrava-Zabreh\", \"Trinec-Kosmos\", \"Most\", \"Teplice\", \"Potsdam-Zentrum\", \"Cottbus\", \"B Wedding-Amrumer Str.\", \"B Neuk\\u00f6lln-Nansenstra\\u00dfe\", \"B Mitte, Br\\u00fcckenstra\\u00dfe\", \"Stuttgart Bad Cannstatt\", \"Ulm\", \"Pforzheim\", \"Konstanz\", \"Karlsruhe-Nordwest\", \"Freiburg\", \"Augsburg/Bourges-Platz\", \"Bamberg/L\\u00f6wenbr\\u00fccke\", \"M\\u00fcnchen/Lothstra\\u00dfe\", \"Neu-Ulm/Gabelsbergerstra\\u00dfe\", \"N\\u00fcrnberg/Muggenhof\", \"Weiden i.d.OPf./Nikolaistra\\u00dfe\", \"Passau/Stelzhamerstra\\u00dfe\", \"Bremen-Ost\", \"Bremerhaven\", \"Frankfurt-Ost\", \"Kassel-Mitte\", \"Wiesbaden-S\\u00fcd\", \"Hamburg Sternschanze\", \"Hamburg Wilhelmsburg\", \"G\\u00fcstrow\", \"Rostock-Warnem\\u00fcnde\", \"Osnabr\\u00fcck\", \"Hannover\", \"Dortmund-Eving\", \"Essen-Vogelheim\", \"D\\u00fcsseldorf-L\\u00f6rick\", \"Wuppertal-Langerfeld\", \"Schwerte\", \"Mainz-Zitadelle\", \"Kaiserslautern-Rathausplatz\", \"Bad Kreuznach-Bosenheimer Stra\\u00dfe\", \"L\\u00fcbeck-St. J\\u00fcrgen\", \"Saarbr\\u00fccken-City\", \"Leipzig-West\", \"Dresden-Winckelmannstr.\", \"Halle/Nord\", \"Magdeburg/West\", \"Erfurt Kr\\u00e4mpferstr.\", \"Greiz Mollbergstr.\", \"Zella-Mehlis\", \"Copenhagen/1259\", \"\\u0139rhus/6160\", \"\\u0150ism\\u00e4e\", \"Tartu\", \"Narva\", \"Barcelona (Zona Universit\\u0155ria)\", \"Barcelona (el Poblenou)\", \"ESTACION 1 (ESTE)\", \"BURGOS 4\", \"ITURRAMA\", \"C\\u00c1CERES\", \"VAL\\u010cNCIA-VIVERS\", \"RENOVALES\", \"TOLEDO2\", \"Barcelona (parc de la Vall d'Hebron)\", \"COMPOSTELA\", \"VAL\\u010cNCIA-POLIT\\u010cCNIC\", \"ALCORC\\u00d3N\", \"ALACANT-FLORIDA-BABEL\", \"MENDEZ ALVARO\", \"Kasarmipuisto\", \"Kallio 2\", \"Vaasa vesitorni\", \"Nahkurintori 2\", \"Kaleva\", \"Metz-Centre\", \"Thionville-Centre\", \"GENNEVILLIERS\", \"VITRY-SUR-SEINE\", \"PARIS Centre\", \"BOBIGNY\", \"Le Havre ville-haute\", \"Valenciennes Acacias\", \"Cambrai Gambetta\", \"Montferrand\", \"Pr\\u00e9s Ar\\u010dnes\", \"Les Carmes\", \"place de VERDUN\", \"Ecole Jules Ferry\", \"Square Pablo Casals\", \"Place Orbigny LR\", \"Malo-les-Bains\", \"Calais Berthelot\", \"Lille Fives\", \"BERTHELOT\", \"Jean d Aulan\", \"St DIZIER L. Michel\", \"Grenoble Les Frenes\", \"STG Est\", \"Mulhouse Sud 2\", \"P. Roth St Quentin\", \"Faiencerie Creil\", \"St Pierre Amiens\", \"Brest Mace\", \"Lorient B. Bissonnet\", \"Vannes UTA\", \"VAULX EN VELIN\", \"VILLEFRANCHE Village\", \"LYON Centre\", \"Station de FORBACH\", \"LEON BLUM\", \"BEAUX ARTS\", \"SOURCES\", \"CIM BOUTEILLERIE\", \"MANOSQUE\", \"GAP COMMANDERIE\", \"NICE ARSON\", \"Espace du Palais\", \"Station PEJOCES\", \"Station AUXERRE\", \"Bethune Stade\", \"SAINT ETIENNE SUD\", \"SAINT-CHAMOND\", \"Nancy-Charles III\", \"BILLERE\", \"SAINT-CROUTS\", \"DAX\", \"Le Creusot Molette\", \"PASTEUR\", \"LOVERCHY\", \"ANNEMASSE\", \"St Jean\", \"Jou\\u00e9 l\\u010ds Tours\", \"Vierzon\", \"Luc\\u00e9\", \"LIMOGES - Pr\\u00e9sidial\", \"Valence Urb. Centre\", \"Besancon Prevoyance\", \"Montb\\u00e9liard centre\", \"Lons-le-Saunier CV\", \"London Bloomsbury\", \"Belfast Centre\", \"Cardiff Centre\", \"Leeds Centre\", \"Southampton Centre\", \"Manchester Piccadilly\", \"London N. Kensington\", \"Leamington Spa\", \"Nottingham Centre\", \"Stoke-on-Trent Centre\", \"Salford Eccles\", \"Derry\", \"Southend-on-Sea\", \"Aberdeen\", \"Wirral Tranmere\", \"Preston\", \"Portsmouth\", \"Bournemouth\", \"London Westminster\", \"Hull Freetown\", \"Edinburgh St Leonards\", \"Reading New Town\", \"Birmingham Tyburn\", \"Brighton Preston Park\", \"Sunderland Silksworth\", \"Wigan Centre\", \"Blackpool Marton\", \"Bristol St Pauls\", \"York Bootham\", \"Oxford St Ebbes\", \"London Harrow Stanmore\", \"Newport\", \"Norwich Lakenfields\", \"Birmingham Acocks Green\", \"Northampton Kingsthorpe\", \"London Teddington Bushy Park\", \"Leicester University\", \"Glasgow Townhead\", \"Coventry Allesley\", \"ZAGREB PPI PM2,5 - Ksaverska cesta - RH0121 - HR0021A; Dr\\u017eavna mre\\u017ea za trajno pracenje kvalitete zr\", \"Split-1 - SD0203 - HR0022A; Mjerna mre\\u017ea Cemex Hrvatska d.o.o.\", \"Z\\u00fcrich-Kaserne\", \"Lugano-Universit\\u0155\", \"Reykjavik Husdyragardurinn\", \"LA1 Laces\", \"ROVERETO LGP\", \"BERGAMO - VIA MEUCCI\", \"CITTADELLA\", \"QUARTO - GENOVA\", \"FI-BASSI\", \"GIARDINI MARGHERITA\", \"PAVIA - VIA FOLPERTI\", \"S. LAZZARO\", \"AR-ACROPOLI\", \"VILLA ADA\", \"CINECITTA\", \"VE - Parco Bissuola\", \"CAIROLI\", \"AOSTA (PIAZZA PLOUVES)\", \"PARCO BUCCI\", \"TRENTO PSC\", \"MARECCHIA\", \"PARCO RESISTENZA\", \"BASSANO DEL GRAPPA\", \"PI-PASSI\", \"VI - Quartiere Italia\", \"CORTONESE\", \"LU-VIAREGGIO\", \"LU-CAPANNORI\", \"CAORLE\", \"SAN DONA' DI PIAVE\", \"Biella - Sturzo\", \"CONEGLIANO\", \"BORGO RIVO\", \"PD - Mandria\", \"Verbania - Gabardi\", \"Cuneo - Alpini\", \"Borgosesia - Tonella\", \"MAGGIOLINA - LA SPEZIA\", \"LI-CAPPIELLO\", \"TV - Via Lancieri di Novara\", \"GR-URSS\", \"BL - Citt\\u0155\", \"SARONNO - SANTUARIO\", \"PO-ROMA\", \"MILANO PASCAL CITT\\u0155 STUDI\", \"BRESCIA VILLAGGIO SERENO\", \"CREMONA VIA FATEBENEFRATELLI\", \"MONZA - VIA  MACHIAVELLI\", \"PARCO FERRARI\", \"LECCO VIA SORA\", \"Alessandria - Volta\", \"CIPRO\", \"MONTICELLI\", \"Piazza Vittoria\", \"MANTOVA SANT'AGNESE\", \"VARALDO - SAVONA\", \"PIAZZA 40 MARTIRI\", \"ARENULA\", \"VILLA FULVIA\", \"Citt\\u0155 dei ragazzi\", \"Locri\", \"CENSA3\", \"LODI S.ALBERTO\", \"SONDRIO - VIA PARIBELLI\", \"PARCO MONTECUCCO\", \"CENMO1\", \"stadio casardi\", \"CENPT1\", \"FROSINONE MAZZINI\", \"Villa Comunale\", \"Gioacchino da Fiore (via)\", \"SI-POGGIBONSI\", \"PARCO EDILCARANI\", \"Parco della biodiversit\\u0155 mediterranea\", \"C Castello\", \"Amelia\", \"Acri\", \"Torino Lingotto\", \"Aosta Liconi\", \"Vilnius - Lazdynai\", \"N.Akmene\", \"Kaunas - Noreikiskes\", \"Luxembourg Bonnevoie\", \"Esch/Alzette\", \"Ventspils parventa\", \"Riga Kronvalda boulevard\", \"Zejtun Station\", \"Amsterdam-Vondelpark\", \"Amsterdam-Westerpark\", \"Veldhoven-Europalaan\", \"Rotterdam Zuid-Zwartewaalstraat\", \"Schiedam-Alphons Arienstraat\", \"Utrecht-Griftpark\", \"Zaandam-Wagenschotpad\", \"Nijmegen-Ruyterstraat\", \"R\\u013adhuset\", \"Sofienbergparken\", \"Torvet\", \"Katowice, ul. Kossutha 6\", \"AM8 Gdansk Wrzeszcz\", \"Torun POLICJA\", \"BialaP-Orzechowa\", \"Lublin Ul. Sliwinskiego\", \"Zamosc ul. Hrubieszowska 69A\", \"L\\u00f3dz-Widzew\", \"L\\u00f3dz-Legion\\u00f3w 1\", \"Zgierz-Sr\\u00f3dmiescie\", \"Plock-Reja\", \"Radom-Tochtermana\", \"Warszawa-Ursyn\\u00f3w\", \"Warszawa-Targ\\u00f3wek\", \"Zyrard\\u00f3w-Roosevelta\", \"Bialystok-Miejska\", \"Lomza Sikorskiego 48/94\", \"Suwalki, ul. Pulaskiego 73\", \"AM11 Slupsk Kniaziewicza\", \"WIOS Olsztyn ul. Puszkina\", \"WIOS Ostr\\u00f3da ul. Chrobrego\", \"Legnica - Rzeczypospolitej\", \"Walbrzych - Wysockiego\", \"Wroclaw - Korzeniowskiego\", \"Zgorzelec - Bohater\\u00f3w Getta\", \"Zielona G\\u00f3ra ul. Kr\\u00f3tka\", \"K-Kozle automat 1\", \"Gliwice, ul. Mewy 34\", \"WKPPoznan1\", \"Szczecin_Andrzejewskiego\", \"Nisko-Szklarniowa-WIOS\", \"Kielce, ul. Jagiellonska\", \"WIOS Elblag ul. Bazynskiego\", \"Plock-Gimnazjum\", \"Krosno-Klet\\u00f3wki\", \"Zory, Os. Gen. Wladyslawa Sikorskiego 52\", \"Wroclaw - Na Grobli\", \"Gorz\\u00f3w Wlkp. ul. Pilsudskiego\", \"Radom-Hallera\", \"Opole manualna 4\", \"Rzesz\\u00f3w-Nowe Miasto\", \"Bialystok-Warszawska\", \"Zaspa\", \"Czestochowa, ul. Zana 6\", \"Bielsko-Biala, ul. Sternicza\", \"Koszalin_Spasowskiego\", \"Krak\\u00f3w, ul. Bujaka\", \"Tarn\\u00f3w, ul. Bitwy pod Studziankami\", \"WKPKalisz\", \"Lublin ul. Obywatelska\", \"Piotrk\\u00f3w Tryb.-Krakowskie Przedmiescie\", \"Kluczbork manualna 2\", \"Jaslo-Sikorskiego-WIOS\", \"Busko-Zdr\\u00f3j, ul. Rokosza\", \"God\\u00f3w, ul. Gliniki\", \"Tarnowskie G\\u00f3ry, ul. Litewska\", \"Myslib\\u00f3rz_ZaBramka\", \"Szczecinek_1Maja\", \"Siedlce-Konarskiego\", \"Grudziadz Star\\u00f3wka\", \"Bochnia, ul. Konfederat\\u00f3w Barskich\", \"Nowy Sacz, ul. Nadbrzezna\", \"Trzebinia, os. Zwiazku Walki Mlodych\", \"AM12 Koscierzyna Targowa\", \"Starachowice, ul. Zlota\", \"Jelenia G\\u00f3ra - Oginskiego\", \"Zary, ul. Szymanowskiego 8\", \"Przemysl-Grunwaldzka-WIOS\", \"Ostroleka-Hallera\", \"Mielec-MOSIR-WIOS\", \"WpPleszew\", \"Olivais\", \"Laranjeiro\", \"Mem Martins\", \"Joaquim Magalh\\u0103es\", \"CJ-2\", \"IS-2\", \"PH-2\", \"TM-2\", \"G\\u00f6teborg Femman\", \"Landskrona Polishuset\", \"Stockholm Torkel Knutssongatan\", \"Stockholm Olaus Petri\", \"Uppsala Klostergatan\", \"Burl\\u00f6v F\\u00f6rsamlingshemmet\", \"Ume\\u013a F\\u00f6rskolan Uven\", \"Maribor Vrbanski plato\", \"Ruzomberok - Riadok\", \"Hnusta - Hlavna\", \"Jelsava - Jesenskeho\", \"Strazske - Mierova\", \"Humenne - Nam. slobody\", \"Martin - Jesenskeho\", \"Kosice - Amurska\", \"Brno-Lisen\", \"Hr.Kral.-tr.SNP\", \"Jicin\"], \"lat\": [42.3139, 46.62556, 46.626617, 46.835, 48.2125, 48.257778, 48.049444, 47.044722, 48.205, 48.226361, 51.213463, 51.058332, 51.209663, 50.849665, 50.658444, 50.409311, 51.058332, 51.209663, 34.681633, 35.126975, 34.91363, 50.081482, 50.046131, 48.984386, 50.024036, 49.401596, 49.601463, 49.728394, 49.770126, 50.14386, 50.428646, 49.79604, 49.668114, 50.510365, 50.645279, 52.401352, 51.746344, 52.543041, 52.489451, 52.513606, 48.8088, 48.396836, 48.889039, 47.664361, 49.028594, 48.001511, 48.376576, 49.89833, 48.154534, 48.397079, 49.462229, 49.67895, 48.573629, 53.060045, 53.562455, 50.125332, 51.314248, 50.050343, 53.56414, 53.50793, 53.78175, 54.17133, 52.25534, 52.36292, 51.536911, 51.496527, 51.249211, 51.277647, 51.448762, 49.994975, 49.446, 49.842136, 53.835492, 49.233464, 51.317905, 51.036105, 51.496185, 52.127899, 50.979455, 50.655861, 50.653245, 55.700281, 56.159783, 59.414169, 58.370556, 59.376161, 41.384906, 41.403882, 42.210278, 42.33611, 42.80722, 39.47278, 39.478056, 41.63528, 39.86806, 41.426077, 42.875833, 39.480278, 40.34194, 38.340278, 40.398056, 62.8936, 60.18739, 63.10121, 60.25145, 61.4991, 49.119427, 49.358314, 48.929692, 48.775773, 48.858998, 48.902477, 49.514695, 50.35853, 50.172479, 45.797264, 43.591552, 42.695777, 46.162573, 46.329562, 45.647439, 46.161639, 51.048572, 50.947317, 50.628039, 43.587193, 49.224145, 48.645839, 45.161929, 48.570346, 47.737411, 49.851339, 49.259568, 49.902514, 48.386397, 47.742485, 47.648889, 45.778911, 45.9864, 45.757731, 49.187404, 47.264106, 47.468541, 47.97105, 47.222514, 43.835302, 44.555222, 43.702057, 49.442438, 47.308041, 47.800566, 50.535404, 45.420088, 45.475296, 48.688199, 43.310806, 43.479736, 43.70472, 46.802215, 45.564735, 45.895257, 46.19585, 47.917375, 47.344149, 47.222026, 48.439286, 45.831075, 44.93351, 47.2474, 47.510303, 46.671325, 51.52229, 54.59965, 51.48178, 53.80378, 50.90814, 53.48152, 51.52105, 52.28881, 52.95473, 53.02821, 53.48481, 55.001225, 51.544206, 57.15736, 53.37287, 53.76559, 50.82881, 50.73957, 51.49467, 53.74878, 55.945589, 51.45309, 52.511722, 50.840836, 54.88361, 53.54914, 53.80489, 51.462839, 53.967513, 51.744806, 51.617333, 51.601203, 52.614193, 52.437165, 52.271886, 51.425286, 52.619823, 55.865782, 52.411563, 45.834372, 43.510653, 47.377617, 46.011111, 64.138883, 46.61949, 45.89244, 45.690278, 44.79361, 44.396389, 43.78667, 44.48333, 45.193889, 44.690833, 43.46111, 41.932778, 41.857778, 45.499167, 46.066111, 45.73583, 44.28333, 46.06293, 44.0625, 44.219167, 45.760833, 43.738889, 45.560556, 43.10306, 43.883889, 43.840833, 44.42, 45.630278, 45.55882, 45.890556, 42.58194, 45.371944, 45.93034, 44.38175, 45.71317, 44.117778, 43.52, 45.6725, 42.77861, 46.141389, 45.626944, 43.87278, 45.47833, 45.515278, 45.142222, 45.58111, 44.65061, 45.849444, 44.9203, 41.906389, 42.84861, 42.73972, 45.160556, 44.315278, 43.35278, 41.893889, 44.825, 39.3134, 38.22976, 39.066667, 45.302787, 46.16861, 45.038333, 39.260556, 41.31667, 40.831389, 41.638889, 38.10495, 39.06808, 43.47278, 44.53944, 38.918288, 43.456944, 42.551944, 39.48963, 45.02494, 45.734306, 54.686111, 56.31944, 54.883614, 49.59769, 49.50504, 57.403997, 56.954847, 35.852321, 52.359997, 52.393059, 51.407501, 51.89389, 51.921111, 52.102222, 52.450001, 51.838889, 60.39213, 59.92295, 63.43038, 50.264611, 54.380279, 53.028647, 52.029194, 51.273078, 50.716628, 51.75805, 51.776417, 51.856692, 52.550938, 51.399084, 52.160772, 52.290864, 52.053811, 53.126689, 53.181394, 54.117878, 54.463611, 53.789233, 53.692469, 51.204503, 50.768729, 51.129378, 51.150391, 51.939783, 50.349608, 50.279333, 52.398175, 53.380975, 50.529892, 50.872549, 54.167847, 52.556279, 49.690169, 50.028681, 51.103456, 52.747044, 51.415324, 50.676856, 50.024242, 53.129306, 54.398639, 50.801918, 49.806389, 54.20705, 50.010575, 50.020169, 51.749053, 51.259431, 51.404406, 50.972181, 49.744886, 50.453653, 49.921875, 50.444736, 52.926189, 53.712097, 52.172145, 53.491831, 49.969017, 49.619281, 50.159406, 54.120694, 51.050611, 50.913433, 51.642656, 49.784339, 53.083736, 50.300761, 51.885218, 38.768889, 38.663611, 38.785, 37.015, 46.775002, 47.151112, 44.939201, 45.755493, 57.708611, 55.869659, 59.31694, 59.346111, 59.860111, 55.633598, 63.820801, 46.568722, 49.079166, 48.583611, 48.631111, 48.874165, 48.930836, 49.066944, 48.691113, 49.213231, 50.218543, 50.439498], \"legendgroup\": \"urban\", \"lon\": [19.52342, 14.31806, 14.299144, 14.843611, 15.634167, 13.039722, 14.442778, 15.152778, 16.30975, 16.458345, 3.234066, 3.729298, 4.431821, 4.33382, 5.627835, 4.452172, 3.729298, 4.431821, 33.017758, 33.331629, 33.615856, 14.442692, 14.331413, 14.465684, 15.763549, 15.610246, 17.238073, 13.37554, 13.368221, 14.101784, 14.913859, 18.247181, 18.677799, 13.645272, 13.85125, 13.059945, 14.33455, 13.349326, 13.430844, 13.418833, 9.229745, 9.979031, 8.665536, 9.169289, 8.355628, 7.832122, 10.88837, 10.887686, 11.554669, 10.008293, 11.0248, 12.159361, 13.422039, 8.916966, 8.569405, 8.746343, 9.483397, 8.244949, 9.967882, 9.990569, 12.175512, 12.080003, 8.05286, 9.70612, 7.457463, 6.981045, 6.732383, 7.231895, 7.582295, 8.273965, 7.7673, 7.866208, 10.695936, 6.987601, 12.297411, 13.730205, 11.979056, 11.611464, 11.037924, 12.205199, 10.668641, 12.561412, 10.193633, 24.649458, 26.734722, 28.179167, 2.119574, 2.204523, -8.736944, -3.63611, -1.65139, -6.36028, -0.368333, -0.89361, -4.02083, 2.147992, -8.559167, -0.336389, -3.83389, -0.506667, -3.686667, 27.66952, 24.9506, 21.60407, 24.06287, 23.80221, 6.180831, 6.156945, 2.294719, 2.375801, 2.350999, 2.4525, 0.100645, 3.508038, 3.236064, 3.11383, 3.886893, 2.899699, -1.153599, -0.458889, 0.167167, -1.211207, 2.420043, 1.843082, 3.090312, 1.443889, 4.020554, 4.966111, 5.735599, 7.766331, 7.309079, 3.283998, 2.4744, 2.304601, -4.486815, -3.394805, -2.763892, 4.924699, 4.719281, 4.854217, 6.910865, -2.249858, -0.556053, 0.221422, -1.537503, 5.785833, 6.07306, 7.286262, 1.09369, 5.066112, 3.576391, 2.635693, 4.395421, 4.515004, 6.190434, -0.391111, -1.488059, -1.038614, 4.417501, 5.928333, 6.118336, 6.24056, 1.966259, 0.653776, 2.072997, 1.468772, 1.256878, 4.893483, 6.015416, 6.794003, 5.556808, -0.125889, -5.928833, -3.17625, -1.546472, -1.395778, -2.237881, -0.213492, -1.533119, -1.146447, -2.175133, -2.334139, -7.329115, 0.678408, -2.094278, -3.022722, -2.680353, -1.068583, -1.826744, -0.131931, -0.341222, -3.182186, -0.944067, -1.830583, -0.147572, -1.406878, -2.638139, -3.007175, -2.584482, -1.086514, -1.260278, -0.298777, -2.977281, 1.301976, -1.829999, -0.879898, -0.345606, -1.127311, -4.243631, -1.560228, 15.978394, 16.449342, 8.530411, 8.957174, -21.873348, 10.85907, 11.03941, 9.643889, 10.33167, 8.992222, 11.2875, 11.355, 9.164722, 10.664722, 11.88889, 12.506944, 12.568611, 12.262222, 13.240556, 7.32417, 11.87056, 11.1262, 12.553333, 12.048889, 11.736667, 10.401667, 11.539722, 12.36611, 10.245, 10.573889, 12.225556, 12.591667, 8.05639, 12.308056, 12.62361, 11.841944, 8.56548, 7.5382, 8.28353, 9.842778, 10.321667, 12.238611, 11.11917, 12.216944, 9.024167, 11.09194, 9.23583, 10.219444, 10.045833, 9.27444, 10.90633, 9.395833, 8.6232, 12.4475, 13.61944, 12.73722, 10.795556, 8.485556, 12.57639, 12.475278, 11.649722, 16.24517, 16.25518, 9.008889, 9.495286, 9.88028, 9.669167, 9.136389, 16.28611, 8.405278, 13.323333, 15.63879, 17.11417, 11.14194, 10.79139, 16.57925, 12.245833, 12.419722, 16.3868, 7.64905, 7.329645, 25.210835, 22.87084, 23.835835, 6.13759, 5.97694, 21.590317, 24.104756, 14.538963, 4.808897, 4.870003, 5.393333, 4.4875, 4.401389, 5.128334, 4.816667, 5.858061, 5.32805, 10.76573, 10.39355, 18.975028, 18.620274, 18.666103, 23.149389, 22.551675, 23.290247, 19.529786, 19.452936, 19.421231, 19.709791, 21.147474, 21.033819, 21.042458, 20.429892, 23.155869, 22.054381, 22.934608, 17.046722, 20.486075, 19.969778, 16.180513, 16.269677, 17.02925, 15.008175, 15.518861, 18.236575, 18.655764, 16.959519, 14.663347, 22.112467, 20.604998, 19.410942, 19.687672, 21.7497, 18.691222, 17.059225, 15.246294, 21.171285, 17.950278, 22.010575, 23.181744, 18.614333, 19.106961, 19.023194, 16.193103, 19.949189, 21.004167, 18.048389, 22.569133, 19.696956, 18.207575, 21.454617, 20.715442, 18.471278, 18.829639, 14.862558, 16.692264, 22.282001, 18.752503, 20.439511, 20.714403, 19.477464, 17.975861, 21.084175, 15.765608, 15.127808, 22.756239, 21.579322, 21.434331, 17.788673, -9.108056, -9.157778, -9.347222, -7.926667, 23.596678, 27.583614, 26.025902, 21.227453, 11.970002, 12.829702, 18.057501, 18.090834, 17.635658, 13.0788, 20.289301, 15.627231, 19.302525, 19.951685, 20.240284, 21.837503, 21.913622, 18.921947, 21.286388, 16.677942, 15.856972, 15.352657], \"marker\": {\"color\": \"#FF6692\", \"opacity\": 0.4, \"size\": [13.236321, 16.919576, 14.608504, 19.190335, 13.97845, 12.523505, 11.781854, 14.787564, 14.100782, 14.567044, 12.944598, 14.640805, 14.81268, 14.705634, 11.341185, 12.842754, 14.327172, 14.569196, 17.802967, 16.875843, 20.32358, 15.57881, 15.313738, 14.266245, 18.682784, 16.489249, 23.921083, 18.435565, 16.653832, 12.296574, 17.270451, 25.380925, 24.696366, 18.666911, 19.436881, 13.695237, 13.485642, 15.250826, 17.119724, 16.061823, 12.379726, 13.192736, 11.823123, 12.423116, 11.994496, 10.578466, 13.376674, 13.076938, 12.392775, 13.687462, 13.515509, 13.427596, 15.24653, 11.951139, 10.282646, 13.002718, 11.948696, 12.040123, 12.951982, 13.776988, 11.565453, 10.882653, 11.325708, 11.397428, 14.033249, 15.073384, 12.705393, 12.574983, 12.789846, 13.271031, 12.890498, 12.711364, 11.214417, 12.244933, 12.017583, 13.010192, 12.893257, 12.934388, 11.104895, 11.983944, 10.383987, 11.635107, 9.856579, 6.27563, 8.941618, 5.943251, 15.060833, 17.963018, 14.872995, 10.019336, 11.227654, 6.720053, 19.688172, 12.155689, 11.965899, 15.321534, 7.301614, 12.099082, 8.019741, 12.634615, 11.917005, 4.539228, 5.415536, 4.354429, 4.460459, 5.945455, 15.01001, 14.09636, 13.264381, 13.648356, 14.266079, 13.432214, 10.268031, 14.247516, 12.300589, 11.424204, 14.051007, 10.047503, 10.455317, 11.060378, 11.263739, 10.200199, 11.856743, 10.783774, 15.476296, 11.859996, 13.463603, 11.944279, 15.824027, 17.091193, 14.391216, 13.069344, 11.84155, 12.436338, 9.130502, 8.986247, 6.97379, 14.267857, 15.162516, 17.283563, 13.107667, 9.532049, 12.315558, 13.002057, 13.647651, 12.479338, 14.689587, 14.284461, 13.04293, 13.484743, 11.705437, 14.057797, 8.417138, 13.46916, 13.95688, 10.606602, 11.514683, 13.87172, 11.153179, 15.848167, 17.685987, 15.527387, 13.195039, 13.412708, 12.230161, 10.002186, 10.402739, 16.58613, 15.034951, 13.62339, 12.420192, 10.928548, 9.030004, 9.5591, 11.433325, 9.960425, 10.47755, 9.7907, 12.262142, 11.497954, 11.691325, 10.586222, 11.752537, 10.624283, 8.038827, 7.203831, 9.953742, 10.395696, 7.486961, 9.590462, 10.877774, 6.386624, 7.420871, 9.545399, 9.318762, 7.103531, 10.764287, 8.477523, 10.24675, 10.189576, 10.11053, 10.828675, 9.568158, 11.945411, 8.996075, 6.794377, 9.67155, 12.019491, 6.546663, 10.939653, 20.816775, 10.839764, 11.771429, 13.176438, 9.942876, 16.021639, 15.861111, 25.672981, 21.470914, 12.044985, 15.642424, 18.206687, 23.245029, 20.714681, 16.205797, 16.130435, 21.762712, 28.423729, 18.531698, 11.853933, 14.008746, 16.063361, 22.791429, 17.093294, 20.442857, 16.962536, 29.216138, 20.089783, 17.667606, 25.087571, 19.40634, 23.456044, 15.779944, 23.345506, 23.597765, 31.25, 12.836676, 16.387283, 16.571031, 14.185908, 10.670423, 26.501424, 10.985755, 14.539945, 24.721369, 20.270423, 31.901896, 29.066077, 30.006571, 27.024926, 22.160221, 15.812325, 24.369863, 17.470423, 12.446512, 13.835196, 27.225808, 12.594153, 16.910448, 16.896359, 19.387187, 13.485074, 13.020991, 12.468866, 26.504819, 21.683129, 24.078313, 11.979769, 15.486065, 9.336517, 25.58651, 11.089119, 18.071562, 13.27762, 18.09621, 9.096707, 20.144928, 13.823529, 15.727735, 27.160256, 13.823171, 10.65067, 7.830097, 9.907301, 11.669167, 12.02807, 12.312014, 15.917079, 12.476221, 12.448128, 11.538978, 10.673576, 12.640694, 13.344757, 14.21835, 12.803076, 12.125276, 6.762815, 8.825313, 4.731638, 27.273273, 12.897218, 18.868486, 26.346154, 21.293151, 23.956164, 22.134072, 29.728571, 20.457289, 21.465559, 28.090908, 21.181222, 23.627787, 30.140162, 19.287655, 26.642072, 13.33061, 14.065972, 16.745363, 17.259802, 22.905817, 18.906728, 23.967134, 18.416522, 20.787204, 27.025765, 30.896265, 24.35196, 15.355014, 22.990962, 25.604647, 14.942473, 21.413407, 24.474444, 27.773988, 22.862136, 16.646648, 24.972535, 21.215068, 22.787147, 21.247697, 14.212885, 26.001714, 25.894944, 13.471781, 33.717808, 25.156742, 27.188195, 28.158287, 31.571388, 20.310056, 24.067817, 21.007445, 34.88745, 29.098494, 20.107374, 14.334493, 24.910774, 26.828296, 29.210169, 36.010959, 25.841226, 22.855385, 22.348468, 18.372678, 19.588286, 25.920167, 21.023672, 27.10193, 33.561364, 11.345238, 13.551207, 12.228133, 11.912215, 17.301691, 23.156837, 16.893697, 11.119221, 8.266937, 7.792754, 4.80579, 4.209584, 4.136593, 8.251126, 3.677026, 19.259669, 22.749334, 17.574611, 22.278441, 20.164213, 19.419321, 17.417422, 18.989409, 18.477178, 20.18, 18.397], \"sizemode\": \"area\", \"sizeref\": 0.25007610416666665}, \"mode\": \"markers\", \"name\": \"urban\", \"showlegend\": true, \"subplot\": \"mapbox\", \"type\": \"scattermapbox\"}],\n",
       "                        {\"height\": 900, \"legend\": {\"itemsizing\": \"constant\", \"title\": {\"text\": \"StationAre\"}, \"tracegroupgap\": 0}, \"mapbox\": {\"center\": {\"lat\": 48.536053066197184, \"lon\": 9.552567835211267}, \"domain\": {\"x\": [0.0, 1.0], \"y\": [0.0, 1.0]}, \"style\": \"stamen-terrain\", \"zoom\": 4}, \"margin\": {\"b\": 0, \"l\": 0, \"r\": 0, \"t\": 0}, \"template\": {\"data\": {\"bar\": [{\"error_x\": {\"color\": \"#2a3f5f\"}, \"error_y\": {\"color\": \"#2a3f5f\"}, \"marker\": {\"line\": {\"color\": \"#E5ECF6\", \"width\": 0.5}}, \"type\": \"bar\"}], \"barpolar\": [{\"marker\": {\"line\": {\"color\": \"#E5ECF6\", \"width\": 0.5}}, \"type\": \"barpolar\"}], \"carpet\": [{\"aaxis\": {\"endlinecolor\": \"#2a3f5f\", \"gridcolor\": \"white\", \"linecolor\": \"white\", \"minorgridcolor\": \"white\", \"startlinecolor\": \"#2a3f5f\"}, \"baxis\": {\"endlinecolor\": \"#2a3f5f\", \"gridcolor\": \"white\", \"linecolor\": \"white\", \"minorgridcolor\": \"white\", \"startlinecolor\": \"#2a3f5f\"}, \"type\": \"carpet\"}], \"choropleth\": [{\"colorbar\": {\"outlinewidth\": 0, \"ticks\": \"\"}, \"type\": \"choropleth\"}], \"contour\": [{\"colorbar\": {\"outlinewidth\": 0, \"ticks\": \"\"}, \"colorscale\": [[0.0, \"#0d0887\"], [0.1111111111111111, \"#46039f\"], [0.2222222222222222, \"#7201a8\"], [0.3333333333333333, \"#9c179e\"], [0.4444444444444444, \"#bd3786\"], [0.5555555555555556, \"#d8576b\"], [0.6666666666666666, \"#ed7953\"], [0.7777777777777778, \"#fb9f3a\"], [0.8888888888888888, \"#fdca26\"], [1.0, \"#f0f921\"]], \"type\": \"contour\"}], \"contourcarpet\": [{\"colorbar\": {\"outlinewidth\": 0, \"ticks\": \"\"}, \"type\": \"contourcarpet\"}], \"heatmap\": [{\"colorbar\": {\"outlinewidth\": 0, \"ticks\": \"\"}, \"colorscale\": [[0.0, \"#0d0887\"], [0.1111111111111111, \"#46039f\"], [0.2222222222222222, \"#7201a8\"], [0.3333333333333333, \"#9c179e\"], [0.4444444444444444, \"#bd3786\"], [0.5555555555555556, \"#d8576b\"], [0.6666666666666666, \"#ed7953\"], [0.7777777777777778, \"#fb9f3a\"], [0.8888888888888888, \"#fdca26\"], [1.0, \"#f0f921\"]], \"type\": \"heatmap\"}], \"heatmapgl\": [{\"colorbar\": {\"outlinewidth\": 0, \"ticks\": \"\"}, \"colorscale\": [[0.0, \"#0d0887\"], [0.1111111111111111, \"#46039f\"], [0.2222222222222222, \"#7201a8\"], [0.3333333333333333, \"#9c179e\"], [0.4444444444444444, \"#bd3786\"], [0.5555555555555556, \"#d8576b\"], [0.6666666666666666, \"#ed7953\"], [0.7777777777777778, \"#fb9f3a\"], [0.8888888888888888, \"#fdca26\"], [1.0, \"#f0f921\"]], \"type\": \"heatmapgl\"}], \"histogram\": [{\"marker\": {\"colorbar\": {\"outlinewidth\": 0, \"ticks\": \"\"}}, \"type\": \"histogram\"}], \"histogram2d\": [{\"colorbar\": {\"outlinewidth\": 0, \"ticks\": \"\"}, \"colorscale\": [[0.0, \"#0d0887\"], [0.1111111111111111, \"#46039f\"], [0.2222222222222222, \"#7201a8\"], [0.3333333333333333, \"#9c179e\"], [0.4444444444444444, \"#bd3786\"], [0.5555555555555556, \"#d8576b\"], [0.6666666666666666, \"#ed7953\"], [0.7777777777777778, \"#fb9f3a\"], [0.8888888888888888, \"#fdca26\"], [1.0, \"#f0f921\"]], \"type\": \"histogram2d\"}], \"histogram2dcontour\": [{\"colorbar\": {\"outlinewidth\": 0, \"ticks\": \"\"}, \"colorscale\": [[0.0, \"#0d0887\"], [0.1111111111111111, \"#46039f\"], [0.2222222222222222, \"#7201a8\"], [0.3333333333333333, \"#9c179e\"], [0.4444444444444444, \"#bd3786\"], [0.5555555555555556, \"#d8576b\"], [0.6666666666666666, \"#ed7953\"], [0.7777777777777778, \"#fb9f3a\"], [0.8888888888888888, \"#fdca26\"], [1.0, \"#f0f921\"]], \"type\": \"histogram2dcontour\"}], \"mesh3d\": [{\"colorbar\": {\"outlinewidth\": 0, \"ticks\": \"\"}, \"type\": \"mesh3d\"}], \"parcoords\": [{\"line\": {\"colorbar\": {\"outlinewidth\": 0, \"ticks\": \"\"}}, \"type\": \"parcoords\"}], \"pie\": [{\"automargin\": true, \"type\": \"pie\"}], \"scatter\": [{\"marker\": {\"colorbar\": {\"outlinewidth\": 0, \"ticks\": \"\"}}, \"type\": \"scatter\"}], \"scatter3d\": [{\"line\": {\"colorbar\": {\"outlinewidth\": 0, \"ticks\": \"\"}}, \"marker\": {\"colorbar\": {\"outlinewidth\": 0, \"ticks\": \"\"}}, \"type\": \"scatter3d\"}], \"scattercarpet\": [{\"marker\": {\"colorbar\": {\"outlinewidth\": 0, \"ticks\": \"\"}}, \"type\": \"scattercarpet\"}], \"scattergeo\": [{\"marker\": {\"colorbar\": {\"outlinewidth\": 0, \"ticks\": \"\"}}, \"type\": \"scattergeo\"}], \"scattergl\": [{\"marker\": {\"colorbar\": {\"outlinewidth\": 0, \"ticks\": \"\"}}, \"type\": \"scattergl\"}], \"scattermapbox\": [{\"marker\": {\"colorbar\": {\"outlinewidth\": 0, \"ticks\": \"\"}}, \"type\": \"scattermapbox\"}], \"scatterpolar\": [{\"marker\": {\"colorbar\": {\"outlinewidth\": 0, \"ticks\": \"\"}}, \"type\": \"scatterpolar\"}], \"scatterpolargl\": [{\"marker\": {\"colorbar\": {\"outlinewidth\": 0, \"ticks\": \"\"}}, \"type\": \"scatterpolargl\"}], \"scatterternary\": [{\"marker\": {\"colorbar\": {\"outlinewidth\": 0, \"ticks\": \"\"}}, \"type\": \"scatterternary\"}], \"surface\": [{\"colorbar\": {\"outlinewidth\": 0, \"ticks\": \"\"}, \"colorscale\": [[0.0, \"#0d0887\"], [0.1111111111111111, \"#46039f\"], [0.2222222222222222, \"#7201a8\"], [0.3333333333333333, \"#9c179e\"], [0.4444444444444444, \"#bd3786\"], [0.5555555555555556, \"#d8576b\"], [0.6666666666666666, \"#ed7953\"], [0.7777777777777778, \"#fb9f3a\"], [0.8888888888888888, \"#fdca26\"], [1.0, \"#f0f921\"]], \"type\": \"surface\"}], \"table\": [{\"cells\": {\"fill\": {\"color\": \"#EBF0F8\"}, \"line\": {\"color\": \"white\"}}, \"header\": {\"fill\": {\"color\": \"#C8D4E3\"}, \"line\": {\"color\": \"white\"}}, \"type\": \"table\"}]}, \"layout\": {\"annotationdefaults\": {\"arrowcolor\": \"#2a3f5f\", \"arrowhead\": 0, \"arrowwidth\": 1}, \"coloraxis\": {\"colorbar\": {\"outlinewidth\": 0, \"ticks\": \"\"}}, \"colorscale\": {\"diverging\": [[0, \"#8e0152\"], [0.1, \"#c51b7d\"], [0.2, \"#de77ae\"], [0.3, \"#f1b6da\"], [0.4, \"#fde0ef\"], [0.5, \"#f7f7f7\"], [0.6, \"#e6f5d0\"], [0.7, \"#b8e186\"], [0.8, \"#7fbc41\"], [0.9, \"#4d9221\"], [1, \"#276419\"]], \"sequential\": [[0.0, \"#0d0887\"], [0.1111111111111111, \"#46039f\"], [0.2222222222222222, \"#7201a8\"], [0.3333333333333333, \"#9c179e\"], [0.4444444444444444, \"#bd3786\"], [0.5555555555555556, \"#d8576b\"], [0.6666666666666666, \"#ed7953\"], [0.7777777777777778, \"#fb9f3a\"], [0.8888888888888888, \"#fdca26\"], [1.0, \"#f0f921\"]], \"sequentialminus\": [[0.0, \"#0d0887\"], [0.1111111111111111, \"#46039f\"], [0.2222222222222222, \"#7201a8\"], [0.3333333333333333, \"#9c179e\"], [0.4444444444444444, \"#bd3786\"], [0.5555555555555556, \"#d8576b\"], [0.6666666666666666, \"#ed7953\"], [0.7777777777777778, \"#fb9f3a\"], [0.8888888888888888, \"#fdca26\"], [1.0, \"#f0f921\"]]}, \"colorway\": [\"#636efa\", \"#EF553B\", \"#00cc96\", \"#ab63fa\", \"#FFA15A\", \"#19d3f3\", \"#FF6692\", \"#B6E880\", \"#FF97FF\", \"#FECB52\"], \"font\": {\"color\": \"#2a3f5f\"}, \"geo\": {\"bgcolor\": \"white\", \"lakecolor\": \"white\", \"landcolor\": \"#E5ECF6\", \"showlakes\": true, \"showland\": true, \"subunitcolor\": \"white\"}, \"hoverlabel\": {\"align\": \"left\"}, \"hovermode\": \"closest\", \"mapbox\": {\"style\": \"light\"}, \"paper_bgcolor\": \"white\", \"plot_bgcolor\": \"#E5ECF6\", \"polar\": {\"angularaxis\": {\"gridcolor\": \"white\", \"linecolor\": \"white\", \"ticks\": \"\"}, \"bgcolor\": \"#E5ECF6\", \"radialaxis\": {\"gridcolor\": \"white\", \"linecolor\": \"white\", \"ticks\": \"\"}}, \"scene\": {\"xaxis\": {\"backgroundcolor\": \"#E5ECF6\", \"gridcolor\": \"white\", \"gridwidth\": 2, \"linecolor\": \"white\", \"showbackground\": true, \"ticks\": \"\", \"zerolinecolor\": \"white\"}, \"yaxis\": {\"backgroundcolor\": \"#E5ECF6\", \"gridcolor\": \"white\", \"gridwidth\": 2, \"linecolor\": \"white\", \"showbackground\": true, \"ticks\": \"\", \"zerolinecolor\": \"white\"}, \"zaxis\": {\"backgroundcolor\": \"#E5ECF6\", \"gridcolor\": \"white\", \"gridwidth\": 2, \"linecolor\": \"white\", \"showbackground\": true, \"ticks\": \"\", \"zerolinecolor\": \"white\"}}, \"shapedefaults\": {\"line\": {\"color\": \"#2a3f5f\"}}, \"ternary\": {\"aaxis\": {\"gridcolor\": \"white\", \"linecolor\": \"white\", \"ticks\": \"\"}, \"baxis\": {\"gridcolor\": \"white\", \"linecolor\": \"white\", \"ticks\": \"\"}, \"bgcolor\": \"#E5ECF6\", \"caxis\": {\"gridcolor\": \"white\", \"linecolor\": \"white\", \"ticks\": \"\"}}, \"title\": {\"x\": 0.05}, \"xaxis\": {\"automargin\": true, \"gridcolor\": \"white\", \"linecolor\": \"white\", \"ticks\": \"\", \"title\": {\"standoff\": 15}, \"zerolinecolor\": \"white\", \"zerolinewidth\": 2}, \"yaxis\": {\"automargin\": true, \"gridcolor\": \"white\", \"linecolor\": \"white\", \"ticks\": \"\", \"title\": {\"standoff\": 15}, \"zerolinecolor\": \"white\", \"zerolinewidth\": 2}}}, \"title\": {\"text\": \"Air quality level in Europe 2018\"}, \"width\": 1400},\n",
       "                        {\"responsive\": true}\n",
       "                    ).then(function(){\n",
       "                            \n",
       "var gd = document.getElementById('fce4c2eb-434a-4e92-b2bc-93ea10f45add');\n",
       "var x = new MutationObserver(function (mutations, observer) {{\n",
       "        var display = window.getComputedStyle(gd).display;\n",
       "        if (!display || display === 'none') {{\n",
       "            console.log([gd, 'removed!']);\n",
       "            Plotly.purge(gd);\n",
       "            observer.disconnect();\n",
       "        }}\n",
       "}});\n",
       "\n",
       "// Listen for the removal of the full notebook cells\n",
       "var notebookContainer = gd.closest('#notebook-container');\n",
       "if (notebookContainer) {{\n",
       "    x.observe(notebookContainer, {childList: true});\n",
       "}}\n",
       "\n",
       "// Listen for the clearing of the current output cell\n",
       "var outputEl = gd.closest('.output');\n",
       "if (outputEl) {{\n",
       "    x.observe(outputEl, {childList: true});\n",
       "}}\n",
       "\n",
       "                        })\n",
       "                };\n",
       "                });\n",
       "            </script>\n",
       "        </div>"
      ]
     },
     "metadata": {},
     "output_type": "display_data"
    }
   ],
   "source": [
    "fig = px.scatter_mapbox(df_air_quality, lat=\"Latitude\", lon=\"Longitude\", hover_name=\"StationNam\", hover_data=[\"Altitude\"],\n",
    "                        color=\"StationAre\", zoom=4, height=900,size=\"avg15\",size_max=12, opacity =0.4,width=1400)\n",
    "fig.update_layout(mapbox_style='stamen-terrain')\n",
    "fig.update_layout(margin={\"r\":0,\"t\":0,\"l\":0,\"b\":0})\n",
    "fig.update_layout(title_text=\"Air quality level in Europe 2018\")\n",
    "fig.show()"
   ]
  },
  {
   "cell_type": "markdown",
   "metadata": {},
   "source": [
    "![title](terrain.png)"
   ]
  },
  {
   "cell_type": "markdown",
   "metadata": {},
   "source": [
    "**Larger Bubbles can be found in regions having lower altitude**"
   ]
  },
  {
   "cell_type": "markdown",
   "metadata": {},
   "source": [
    "## Merging Countries dataframe with airquality dataframe\n",
    "Now I am going to read the europe geojson file"
   ]
  },
  {
   "cell_type": "code",
   "execution_count": 28,
   "metadata": {},
   "outputs": [],
   "source": [
    "df_europe = gpd.read_file(\"europe.geo.json\")"
   ]
  },
  {
   "cell_type": "code",
   "execution_count": 29,
   "metadata": {
    "scrolled": true
   },
   "outputs": [
    {
     "data": {
      "text/html": [
       "<div>\n",
       "<style scoped>\n",
       "    .dataframe tbody tr th:only-of-type {\n",
       "        vertical-align: middle;\n",
       "    }\n",
       "\n",
       "    .dataframe tbody tr th {\n",
       "        vertical-align: top;\n",
       "    }\n",
       "\n",
       "    .dataframe thead th {\n",
       "        text-align: right;\n",
       "    }\n",
       "</style>\n",
       "<table border=\"1\" class=\"dataframe\">\n",
       "  <thead>\n",
       "    <tr style=\"text-align: right;\">\n",
       "      <th></th>\n",
       "      <th>scalerank</th>\n",
       "      <th>featurecla</th>\n",
       "      <th>labelrank</th>\n",
       "      <th>sovereignt</th>\n",
       "      <th>sov_a3</th>\n",
       "      <th>adm0_dif</th>\n",
       "      <th>level</th>\n",
       "      <th>type</th>\n",
       "      <th>admin</th>\n",
       "      <th>adm0_a3</th>\n",
       "      <th>...</th>\n",
       "      <th>region_un</th>\n",
       "      <th>subregion</th>\n",
       "      <th>region_wb</th>\n",
       "      <th>name_len</th>\n",
       "      <th>long_len</th>\n",
       "      <th>abbrev_len</th>\n",
       "      <th>tiny</th>\n",
       "      <th>homepart</th>\n",
       "      <th>filename</th>\n",
       "      <th>geometry</th>\n",
       "    </tr>\n",
       "  </thead>\n",
       "  <tbody>\n",
       "    <tr>\n",
       "      <th>0</th>\n",
       "      <td>1</td>\n",
       "      <td>Admin-0 country</td>\n",
       "      <td>6</td>\n",
       "      <td>Albania</td>\n",
       "      <td>ALB</td>\n",
       "      <td>0</td>\n",
       "      <td>2</td>\n",
       "      <td>Sovereign country</td>\n",
       "      <td>Albania</td>\n",
       "      <td>ALB</td>\n",
       "      <td>...</td>\n",
       "      <td>Europe</td>\n",
       "      <td>Southern Europe</td>\n",
       "      <td>Europe &amp; Central Asia</td>\n",
       "      <td>7</td>\n",
       "      <td>7</td>\n",
       "      <td>4</td>\n",
       "      <td>-99</td>\n",
       "      <td>1</td>\n",
       "      <td>ALB.geojson</td>\n",
       "      <td>POLYGON ((20.59025 41.85540, 20.46318 41.51509...</td>\n",
       "    </tr>\n",
       "    <tr>\n",
       "      <th>1</th>\n",
       "      <td>1</td>\n",
       "      <td>Admin-0 country</td>\n",
       "      <td>4</td>\n",
       "      <td>Austria</td>\n",
       "      <td>AUT</td>\n",
       "      <td>0</td>\n",
       "      <td>2</td>\n",
       "      <td>Sovereign country</td>\n",
       "      <td>Austria</td>\n",
       "      <td>AUT</td>\n",
       "      <td>...</td>\n",
       "      <td>Europe</td>\n",
       "      <td>Western Europe</td>\n",
       "      <td>Europe &amp; Central Asia</td>\n",
       "      <td>7</td>\n",
       "      <td>7</td>\n",
       "      <td>5</td>\n",
       "      <td>-99</td>\n",
       "      <td>1</td>\n",
       "      <td>AUT.geojson</td>\n",
       "      <td>POLYGON ((16.97967 48.12350, 16.90375 47.71487...</td>\n",
       "    </tr>\n",
       "    <tr>\n",
       "      <th>2</th>\n",
       "      <td>1</td>\n",
       "      <td>Admin-0 country</td>\n",
       "      <td>2</td>\n",
       "      <td>Belgium</td>\n",
       "      <td>BEL</td>\n",
       "      <td>0</td>\n",
       "      <td>2</td>\n",
       "      <td>Sovereign country</td>\n",
       "      <td>Belgium</td>\n",
       "      <td>BEL</td>\n",
       "      <td>...</td>\n",
       "      <td>Europe</td>\n",
       "      <td>Western Europe</td>\n",
       "      <td>Europe &amp; Central Asia</td>\n",
       "      <td>7</td>\n",
       "      <td>7</td>\n",
       "      <td>5</td>\n",
       "      <td>-99</td>\n",
       "      <td>1</td>\n",
       "      <td>BEL.geojson</td>\n",
       "      <td>POLYGON ((3.31497 51.34578, 4.04707 51.26726, ...</td>\n",
       "    </tr>\n",
       "    <tr>\n",
       "      <th>3</th>\n",
       "      <td>1</td>\n",
       "      <td>Admin-0 country</td>\n",
       "      <td>4</td>\n",
       "      <td>Bulgaria</td>\n",
       "      <td>BGR</td>\n",
       "      <td>0</td>\n",
       "      <td>2</td>\n",
       "      <td>Sovereign country</td>\n",
       "      <td>Bulgaria</td>\n",
       "      <td>BGR</td>\n",
       "      <td>...</td>\n",
       "      <td>Europe</td>\n",
       "      <td>Eastern Europe</td>\n",
       "      <td>Europe &amp; Central Asia</td>\n",
       "      <td>8</td>\n",
       "      <td>8</td>\n",
       "      <td>5</td>\n",
       "      <td>-99</td>\n",
       "      <td>1</td>\n",
       "      <td>BGR.geojson</td>\n",
       "      <td>POLYGON ((22.65715 44.23492, 22.94483 43.82379...</td>\n",
       "    </tr>\n",
       "    <tr>\n",
       "      <th>4</th>\n",
       "      <td>1</td>\n",
       "      <td>Admin-0 country</td>\n",
       "      <td>4</td>\n",
       "      <td>Belarus</td>\n",
       "      <td>BLR</td>\n",
       "      <td>0</td>\n",
       "      <td>2</td>\n",
       "      <td>Sovereign country</td>\n",
       "      <td>Belarus</td>\n",
       "      <td>BLR</td>\n",
       "      <td>...</td>\n",
       "      <td>Europe</td>\n",
       "      <td>Eastern Europe</td>\n",
       "      <td>Europe &amp; Central Asia</td>\n",
       "      <td>7</td>\n",
       "      <td>7</td>\n",
       "      <td>5</td>\n",
       "      <td>-99</td>\n",
       "      <td>1</td>\n",
       "      <td>BLR.geojson</td>\n",
       "      <td>POLYGON ((23.48413 53.91250, 24.45068 53.90570...</td>\n",
       "    </tr>\n",
       "  </tbody>\n",
       "</table>\n",
       "<p>5 rows × 65 columns</p>\n",
       "</div>"
      ],
      "text/plain": [
       "   scalerank       featurecla  labelrank sovereignt sov_a3  adm0_dif  level  \\\n",
       "0          1  Admin-0 country          6    Albania    ALB         0      2   \n",
       "1          1  Admin-0 country          4    Austria    AUT         0      2   \n",
       "2          1  Admin-0 country          2    Belgium    BEL         0      2   \n",
       "3          1  Admin-0 country          4   Bulgaria    BGR         0      2   \n",
       "4          1  Admin-0 country          4    Belarus    BLR         0      2   \n",
       "\n",
       "                type     admin adm0_a3  ...  region_un        subregion  \\\n",
       "0  Sovereign country   Albania     ALB  ...     Europe  Southern Europe   \n",
       "1  Sovereign country   Austria     AUT  ...     Europe   Western Europe   \n",
       "2  Sovereign country   Belgium     BEL  ...     Europe   Western Europe   \n",
       "3  Sovereign country  Bulgaria     BGR  ...     Europe   Eastern Europe   \n",
       "4  Sovereign country   Belarus     BLR  ...     Europe   Eastern Europe   \n",
       "\n",
       "               region_wb  name_len long_len abbrev_len  tiny homepart  \\\n",
       "0  Europe & Central Asia         7        7          4   -99        1   \n",
       "1  Europe & Central Asia         7        7          5   -99        1   \n",
       "2  Europe & Central Asia         7        7          5   -99        1   \n",
       "3  Europe & Central Asia         8        8          5   -99        1   \n",
       "4  Europe & Central Asia         7        7          5   -99        1   \n",
       "\n",
       "      filename                                           geometry  \n",
       "0  ALB.geojson  POLYGON ((20.59025 41.85540, 20.46318 41.51509...  \n",
       "1  AUT.geojson  POLYGON ((16.97967 48.12350, 16.90375 47.71487...  \n",
       "2  BEL.geojson  POLYGON ((3.31497 51.34578, 4.04707 51.26726, ...  \n",
       "3  BGR.geojson  POLYGON ((22.65715 44.23492, 22.94483 43.82379...  \n",
       "4  BLR.geojson  POLYGON ((23.48413 53.91250, 24.45068 53.90570...  \n",
       "\n",
       "[5 rows x 65 columns]"
      ]
     },
     "execution_count": 29,
     "metadata": {},
     "output_type": "execute_result"
    }
   ],
   "source": [
    "df_europe.head()"
   ]
  },
  {
   "cell_type": "markdown",
   "metadata": {},
   "source": [
    "There is no need to keep all the columns, I am only going to keep admin(country) and geometry"
   ]
  },
  {
   "cell_type": "code",
   "execution_count": 30,
   "metadata": {},
   "outputs": [],
   "source": [
    "df_europe = df_europe[[\"admin\",\"geometry\"]]"
   ]
  },
  {
   "cell_type": "markdown",
   "metadata": {},
   "source": [
    "Now I am going to merge the geopandas dataframe containing coordinates of all european countries and the geopandas dataframe that has information of air quality"
   ]
  },
  {
   "cell_type": "code",
   "execution_count": 31,
   "metadata": {},
   "outputs": [],
   "source": [
    "df_merged = gpd.sjoin(df_air_quality, df_europe, how=\"inner\", op='intersects')"
   ]
  },
  {
   "cell_type": "code",
   "execution_count": 32,
   "metadata": {},
   "outputs": [
    {
     "data": {
      "text/html": [
       "<div>\n",
       "<style scoped>\n",
       "    .dataframe tbody tr th:only-of-type {\n",
       "        vertical-align: middle;\n",
       "    }\n",
       "\n",
       "    .dataframe tbody tr th {\n",
       "        vertical-align: top;\n",
       "    }\n",
       "\n",
       "    .dataframe thead th {\n",
       "        text-align: right;\n",
       "    }\n",
       "</style>\n",
       "<table border=\"1\" class=\"dataframe\">\n",
       "  <thead>\n",
       "    <tr style=\"text-align: right;\">\n",
       "      <th></th>\n",
       "      <th>OBJECTID</th>\n",
       "      <th>EoICode</th>\n",
       "      <th>StationNam</th>\n",
       "      <th>Longitude</th>\n",
       "      <th>Latitude</th>\n",
       "      <th>Altitude</th>\n",
       "      <th>StationTyp</th>\n",
       "      <th>StationAre</th>\n",
       "      <th>avg15</th>\n",
       "      <th>geometry</th>\n",
       "      <th>index_right</th>\n",
       "      <th>admin</th>\n",
       "    </tr>\n",
       "  </thead>\n",
       "  <tbody>\n",
       "    <tr>\n",
       "      <th>0</th>\n",
       "      <td>1</td>\n",
       "      <td>AT0ENK1</td>\n",
       "      <td>Enzenkirchen im Sauwald</td>\n",
       "      <td>13.671140</td>\n",
       "      <td>48.391720</td>\n",
       "      <td>525.0</td>\n",
       "      <td>background</td>\n",
       "      <td>rural-regional</td>\n",
       "      <td>13.353289</td>\n",
       "      <td>POINT (13.67114 48.39172)</td>\n",
       "      <td>1</td>\n",
       "      <td>Austria</td>\n",
       "    </tr>\n",
       "    <tr>\n",
       "      <th>1</th>\n",
       "      <td>2</td>\n",
       "      <td>AT0ZOE2</td>\n",
       "      <td>Zöbelboden im Reichraminger Hintergebirge - Wi...</td>\n",
       "      <td>14.441389</td>\n",
       "      <td>47.838611</td>\n",
       "      <td>899.0</td>\n",
       "      <td>background</td>\n",
       "      <td>rural-remote</td>\n",
       "      <td>7.257276</td>\n",
       "      <td>POINT (14.44139 47.83861)</td>\n",
       "      <td>1</td>\n",
       "      <td>Austria</td>\n",
       "    </tr>\n",
       "    <tr>\n",
       "      <th>2</th>\n",
       "      <td>3</td>\n",
       "      <td>AT30407</td>\n",
       "      <td>Glinzendorf im Marchfeld</td>\n",
       "      <td>16.636944</td>\n",
       "      <td>48.236667</td>\n",
       "      <td>150.0</td>\n",
       "      <td>background</td>\n",
       "      <td>rural-near_city</td>\n",
       "      <td>14.789538</td>\n",
       "      <td>POINT (16.63694 48.23667)</td>\n",
       "      <td>1</td>\n",
       "      <td>Austria</td>\n",
       "    </tr>\n",
       "    <tr>\n",
       "      <th>3</th>\n",
       "      <td>4</td>\n",
       "      <td>AT31902</td>\n",
       "      <td>Zwentendorf im Tullnerfeld</td>\n",
       "      <td>15.903611</td>\n",
       "      <td>48.331111</td>\n",
       "      <td>200.0</td>\n",
       "      <td>background</td>\n",
       "      <td>rural</td>\n",
       "      <td>14.524676</td>\n",
       "      <td>POINT (15.90361 48.33111)</td>\n",
       "      <td>1</td>\n",
       "      <td>Austria</td>\n",
       "    </tr>\n",
       "    <tr>\n",
       "      <th>4</th>\n",
       "      <td>5</td>\n",
       "      <td>AT4S108</td>\n",
       "      <td>Grünbach bei Freistadt</td>\n",
       "      <td>14.574722</td>\n",
       "      <td>48.531111</td>\n",
       "      <td>918.0</td>\n",
       "      <td>background</td>\n",
       "      <td>rural-regional</td>\n",
       "      <td>9.099422</td>\n",
       "      <td>POINT (14.57472 48.53111)</td>\n",
       "      <td>1</td>\n",
       "      <td>Austria</td>\n",
       "    </tr>\n",
       "  </tbody>\n",
       "</table>\n",
       "</div>"
      ],
      "text/plain": [
       "   OBJECTID  EoICode                                         StationNam  \\\n",
       "0         1  AT0ENK1                            Enzenkirchen im Sauwald   \n",
       "1         2  AT0ZOE2  Zöbelboden im Reichraminger Hintergebirge - Wi...   \n",
       "2         3  AT30407                           Glinzendorf im Marchfeld   \n",
       "3         4  AT31902                         Zwentendorf im Tullnerfeld   \n",
       "4         5  AT4S108                             Grünbach bei Freistadt   \n",
       "\n",
       "   Longitude   Latitude  Altitude  StationTyp       StationAre      avg15  \\\n",
       "0  13.671140  48.391720     525.0  background   rural-regional  13.353289   \n",
       "1  14.441389  47.838611     899.0  background     rural-remote   7.257276   \n",
       "2  16.636944  48.236667     150.0  background  rural-near_city  14.789538   \n",
       "3  15.903611  48.331111     200.0  background            rural  14.524676   \n",
       "4  14.574722  48.531111     918.0  background   rural-regional   9.099422   \n",
       "\n",
       "                    geometry  index_right    admin  \n",
       "0  POINT (13.67114 48.39172)            1  Austria  \n",
       "1  POINT (14.44139 47.83861)            1  Austria  \n",
       "2  POINT (16.63694 48.23667)            1  Austria  \n",
       "3  POINT (15.90361 48.33111)            1  Austria  \n",
       "4  POINT (14.57472 48.53111)            1  Austria  "
      ]
     },
     "execution_count": 32,
     "metadata": {},
     "output_type": "execute_result"
    }
   ],
   "source": [
    "df_merged.head() "
   ]
  },
  {
   "cell_type": "markdown",
   "metadata": {},
   "source": [
    "## Bar plot of all countries with aggregated average of PM 2,5 levels"
   ]
  },
  {
   "cell_type": "markdown",
   "metadata": {},
   "source": [
    "But I will only plot for those countries who at least have 5 stations"
   ]
  },
  {
   "cell_type": "code",
   "execution_count": 33,
   "metadata": {},
   "outputs": [],
   "source": [
    "# making a list of countries having more than 5 stations\n",
    "countries_over_5 = df_merged.groupby(\"admin\").size().apply(lambda g: g>=5)\n",
    "\n",
    "\n",
    "countries_over_5_df = df_merged[df_merged['admin'].isin(countries_over_5[countries_over_5].index)]"
   ]
  },
  {
   "cell_type": "code",
   "execution_count": 37,
   "metadata": {},
   "outputs": [
    {
     "data": {
      "application/vnd.plotly.v1+json": {
       "config": {
        "plotlyServerURL": "https://plot.ly"
       },
       "data": [
        {
         "alignmentgroup": "True",
         "hovertemplate": "variable=avg15<br>admin=%{x}<br>value=%{y}<br>text=%{text}<extra></extra>",
         "legendgroup": "avg15",
         "marker": {
          "color": "#636efa"
         },
         "name": "avg15",
         "offsetgroup": "avg15",
         "orientation": "v",
         "showlegend": true,
         "text": [
          24,
          46,
          34,
          10,
          89,
          98,
          129,
          16,
          9,
          79,
          10,
          6,
          8,
          40,
          6,
          6,
          43
         ],
         "textposition": "auto",
         "type": "bar",
         "x": [
          "Austria",
          "Belgium",
          "Czech Republic",
          "Finland",
          "France",
          "Germany",
          "Italy",
          "Netherlands",
          "Norway",
          "Poland",
          "Portugal",
          "Romania",
          "Slovakia",
          "Spain",
          "Sweden",
          "Switzerland",
          "United Kingdom"
         ],
         "xaxis": "x",
         "y": [
          13.958461541666665,
          12.267752934782614,
          17.863260323529413,
          5.230154300000001,
          12.13298965168539,
          12.104947561224488,
          18.729023852713187,
          12.032609562499998,
          5.375677888888889,
          22.9004568227848,
          10.3339251,
          16.750990333333334,
          18.657923874999998,
          10.094624075,
          6.243797333333333,
          10.692750333333334,
          9.579994023255813
         ],
         "yaxis": "y"
        }
       ],
       "layout": {
        "barmode": "relative",
        "legend": {
         "title": {
          "text": "variable"
         },
         "tracegroupgap": 0
        },
        "margin": {
         "t": 60
        },
        "template": {
         "data": {
          "bar": [
           {
            "error_x": {
             "color": "#2a3f5f"
            },
            "error_y": {
             "color": "#2a3f5f"
            },
            "marker": {
             "line": {
              "color": "#E5ECF6",
              "width": 0.5
             }
            },
            "type": "bar"
           }
          ],
          "barpolar": [
           {
            "marker": {
             "line": {
              "color": "#E5ECF6",
              "width": 0.5
             }
            },
            "type": "barpolar"
           }
          ],
          "carpet": [
           {
            "aaxis": {
             "endlinecolor": "#2a3f5f",
             "gridcolor": "white",
             "linecolor": "white",
             "minorgridcolor": "white",
             "startlinecolor": "#2a3f5f"
            },
            "baxis": {
             "endlinecolor": "#2a3f5f",
             "gridcolor": "white",
             "linecolor": "white",
             "minorgridcolor": "white",
             "startlinecolor": "#2a3f5f"
            },
            "type": "carpet"
           }
          ],
          "choropleth": [
           {
            "colorbar": {
             "outlinewidth": 0,
             "ticks": ""
            },
            "type": "choropleth"
           }
          ],
          "contour": [
           {
            "colorbar": {
             "outlinewidth": 0,
             "ticks": ""
            },
            "colorscale": [
             [
              0,
              "#0d0887"
             ],
             [
              0.1111111111111111,
              "#46039f"
             ],
             [
              0.2222222222222222,
              "#7201a8"
             ],
             [
              0.3333333333333333,
              "#9c179e"
             ],
             [
              0.4444444444444444,
              "#bd3786"
             ],
             [
              0.5555555555555556,
              "#d8576b"
             ],
             [
              0.6666666666666666,
              "#ed7953"
             ],
             [
              0.7777777777777778,
              "#fb9f3a"
             ],
             [
              0.8888888888888888,
              "#fdca26"
             ],
             [
              1,
              "#f0f921"
             ]
            ],
            "type": "contour"
           }
          ],
          "contourcarpet": [
           {
            "colorbar": {
             "outlinewidth": 0,
             "ticks": ""
            },
            "type": "contourcarpet"
           }
          ],
          "heatmap": [
           {
            "colorbar": {
             "outlinewidth": 0,
             "ticks": ""
            },
            "colorscale": [
             [
              0,
              "#0d0887"
             ],
             [
              0.1111111111111111,
              "#46039f"
             ],
             [
              0.2222222222222222,
              "#7201a8"
             ],
             [
              0.3333333333333333,
              "#9c179e"
             ],
             [
              0.4444444444444444,
              "#bd3786"
             ],
             [
              0.5555555555555556,
              "#d8576b"
             ],
             [
              0.6666666666666666,
              "#ed7953"
             ],
             [
              0.7777777777777778,
              "#fb9f3a"
             ],
             [
              0.8888888888888888,
              "#fdca26"
             ],
             [
              1,
              "#f0f921"
             ]
            ],
            "type": "heatmap"
           }
          ],
          "heatmapgl": [
           {
            "colorbar": {
             "outlinewidth": 0,
             "ticks": ""
            },
            "colorscale": [
             [
              0,
              "#0d0887"
             ],
             [
              0.1111111111111111,
              "#46039f"
             ],
             [
              0.2222222222222222,
              "#7201a8"
             ],
             [
              0.3333333333333333,
              "#9c179e"
             ],
             [
              0.4444444444444444,
              "#bd3786"
             ],
             [
              0.5555555555555556,
              "#d8576b"
             ],
             [
              0.6666666666666666,
              "#ed7953"
             ],
             [
              0.7777777777777778,
              "#fb9f3a"
             ],
             [
              0.8888888888888888,
              "#fdca26"
             ],
             [
              1,
              "#f0f921"
             ]
            ],
            "type": "heatmapgl"
           }
          ],
          "histogram": [
           {
            "marker": {
             "colorbar": {
              "outlinewidth": 0,
              "ticks": ""
             }
            },
            "type": "histogram"
           }
          ],
          "histogram2d": [
           {
            "colorbar": {
             "outlinewidth": 0,
             "ticks": ""
            },
            "colorscale": [
             [
              0,
              "#0d0887"
             ],
             [
              0.1111111111111111,
              "#46039f"
             ],
             [
              0.2222222222222222,
              "#7201a8"
             ],
             [
              0.3333333333333333,
              "#9c179e"
             ],
             [
              0.4444444444444444,
              "#bd3786"
             ],
             [
              0.5555555555555556,
              "#d8576b"
             ],
             [
              0.6666666666666666,
              "#ed7953"
             ],
             [
              0.7777777777777778,
              "#fb9f3a"
             ],
             [
              0.8888888888888888,
              "#fdca26"
             ],
             [
              1,
              "#f0f921"
             ]
            ],
            "type": "histogram2d"
           }
          ],
          "histogram2dcontour": [
           {
            "colorbar": {
             "outlinewidth": 0,
             "ticks": ""
            },
            "colorscale": [
             [
              0,
              "#0d0887"
             ],
             [
              0.1111111111111111,
              "#46039f"
             ],
             [
              0.2222222222222222,
              "#7201a8"
             ],
             [
              0.3333333333333333,
              "#9c179e"
             ],
             [
              0.4444444444444444,
              "#bd3786"
             ],
             [
              0.5555555555555556,
              "#d8576b"
             ],
             [
              0.6666666666666666,
              "#ed7953"
             ],
             [
              0.7777777777777778,
              "#fb9f3a"
             ],
             [
              0.8888888888888888,
              "#fdca26"
             ],
             [
              1,
              "#f0f921"
             ]
            ],
            "type": "histogram2dcontour"
           }
          ],
          "mesh3d": [
           {
            "colorbar": {
             "outlinewidth": 0,
             "ticks": ""
            },
            "type": "mesh3d"
           }
          ],
          "parcoords": [
           {
            "line": {
             "colorbar": {
              "outlinewidth": 0,
              "ticks": ""
             }
            },
            "type": "parcoords"
           }
          ],
          "pie": [
           {
            "automargin": true,
            "type": "pie"
           }
          ],
          "scatter": [
           {
            "marker": {
             "colorbar": {
              "outlinewidth": 0,
              "ticks": ""
             }
            },
            "type": "scatter"
           }
          ],
          "scatter3d": [
           {
            "line": {
             "colorbar": {
              "outlinewidth": 0,
              "ticks": ""
             }
            },
            "marker": {
             "colorbar": {
              "outlinewidth": 0,
              "ticks": ""
             }
            },
            "type": "scatter3d"
           }
          ],
          "scattercarpet": [
           {
            "marker": {
             "colorbar": {
              "outlinewidth": 0,
              "ticks": ""
             }
            },
            "type": "scattercarpet"
           }
          ],
          "scattergeo": [
           {
            "marker": {
             "colorbar": {
              "outlinewidth": 0,
              "ticks": ""
             }
            },
            "type": "scattergeo"
           }
          ],
          "scattergl": [
           {
            "marker": {
             "colorbar": {
              "outlinewidth": 0,
              "ticks": ""
             }
            },
            "type": "scattergl"
           }
          ],
          "scattermapbox": [
           {
            "marker": {
             "colorbar": {
              "outlinewidth": 0,
              "ticks": ""
             }
            },
            "type": "scattermapbox"
           }
          ],
          "scatterpolar": [
           {
            "marker": {
             "colorbar": {
              "outlinewidth": 0,
              "ticks": ""
             }
            },
            "type": "scatterpolar"
           }
          ],
          "scatterpolargl": [
           {
            "marker": {
             "colorbar": {
              "outlinewidth": 0,
              "ticks": ""
             }
            },
            "type": "scatterpolargl"
           }
          ],
          "scatterternary": [
           {
            "marker": {
             "colorbar": {
              "outlinewidth": 0,
              "ticks": ""
             }
            },
            "type": "scatterternary"
           }
          ],
          "surface": [
           {
            "colorbar": {
             "outlinewidth": 0,
             "ticks": ""
            },
            "colorscale": [
             [
              0,
              "#0d0887"
             ],
             [
              0.1111111111111111,
              "#46039f"
             ],
             [
              0.2222222222222222,
              "#7201a8"
             ],
             [
              0.3333333333333333,
              "#9c179e"
             ],
             [
              0.4444444444444444,
              "#bd3786"
             ],
             [
              0.5555555555555556,
              "#d8576b"
             ],
             [
              0.6666666666666666,
              "#ed7953"
             ],
             [
              0.7777777777777778,
              "#fb9f3a"
             ],
             [
              0.8888888888888888,
              "#fdca26"
             ],
             [
              1,
              "#f0f921"
             ]
            ],
            "type": "surface"
           }
          ],
          "table": [
           {
            "cells": {
             "fill": {
              "color": "#EBF0F8"
             },
             "line": {
              "color": "white"
             }
            },
            "header": {
             "fill": {
              "color": "#C8D4E3"
             },
             "line": {
              "color": "white"
             }
            },
            "type": "table"
           }
          ]
         },
         "layout": {
          "annotationdefaults": {
           "arrowcolor": "#2a3f5f",
           "arrowhead": 0,
           "arrowwidth": 1
          },
          "coloraxis": {
           "colorbar": {
            "outlinewidth": 0,
            "ticks": ""
           }
          },
          "colorscale": {
           "diverging": [
            [
             0,
             "#8e0152"
            ],
            [
             0.1,
             "#c51b7d"
            ],
            [
             0.2,
             "#de77ae"
            ],
            [
             0.3,
             "#f1b6da"
            ],
            [
             0.4,
             "#fde0ef"
            ],
            [
             0.5,
             "#f7f7f7"
            ],
            [
             0.6,
             "#e6f5d0"
            ],
            [
             0.7,
             "#b8e186"
            ],
            [
             0.8,
             "#7fbc41"
            ],
            [
             0.9,
             "#4d9221"
            ],
            [
             1,
             "#276419"
            ]
           ],
           "sequential": [
            [
             0,
             "#0d0887"
            ],
            [
             0.1111111111111111,
             "#46039f"
            ],
            [
             0.2222222222222222,
             "#7201a8"
            ],
            [
             0.3333333333333333,
             "#9c179e"
            ],
            [
             0.4444444444444444,
             "#bd3786"
            ],
            [
             0.5555555555555556,
             "#d8576b"
            ],
            [
             0.6666666666666666,
             "#ed7953"
            ],
            [
             0.7777777777777778,
             "#fb9f3a"
            ],
            [
             0.8888888888888888,
             "#fdca26"
            ],
            [
             1,
             "#f0f921"
            ]
           ],
           "sequentialminus": [
            [
             0,
             "#0d0887"
            ],
            [
             0.1111111111111111,
             "#46039f"
            ],
            [
             0.2222222222222222,
             "#7201a8"
            ],
            [
             0.3333333333333333,
             "#9c179e"
            ],
            [
             0.4444444444444444,
             "#bd3786"
            ],
            [
             0.5555555555555556,
             "#d8576b"
            ],
            [
             0.6666666666666666,
             "#ed7953"
            ],
            [
             0.7777777777777778,
             "#fb9f3a"
            ],
            [
             0.8888888888888888,
             "#fdca26"
            ],
            [
             1,
             "#f0f921"
            ]
           ]
          },
          "colorway": [
           "#636efa",
           "#EF553B",
           "#00cc96",
           "#ab63fa",
           "#FFA15A",
           "#19d3f3",
           "#FF6692",
           "#B6E880",
           "#FF97FF",
           "#FECB52"
          ],
          "font": {
           "color": "#2a3f5f"
          },
          "geo": {
           "bgcolor": "white",
           "lakecolor": "white",
           "landcolor": "#E5ECF6",
           "showlakes": true,
           "showland": true,
           "subunitcolor": "white"
          },
          "hoverlabel": {
           "align": "left"
          },
          "hovermode": "closest",
          "mapbox": {
           "style": "light"
          },
          "paper_bgcolor": "white",
          "plot_bgcolor": "#E5ECF6",
          "polar": {
           "angularaxis": {
            "gridcolor": "white",
            "linecolor": "white",
            "ticks": ""
           },
           "bgcolor": "#E5ECF6",
           "radialaxis": {
            "gridcolor": "white",
            "linecolor": "white",
            "ticks": ""
           }
          },
          "scene": {
           "xaxis": {
            "backgroundcolor": "#E5ECF6",
            "gridcolor": "white",
            "gridwidth": 2,
            "linecolor": "white",
            "showbackground": true,
            "ticks": "",
            "zerolinecolor": "white"
           },
           "yaxis": {
            "backgroundcolor": "#E5ECF6",
            "gridcolor": "white",
            "gridwidth": 2,
            "linecolor": "white",
            "showbackground": true,
            "ticks": "",
            "zerolinecolor": "white"
           },
           "zaxis": {
            "backgroundcolor": "#E5ECF6",
            "gridcolor": "white",
            "gridwidth": 2,
            "linecolor": "white",
            "showbackground": true,
            "ticks": "",
            "zerolinecolor": "white"
           }
          },
          "shapedefaults": {
           "line": {
            "color": "#2a3f5f"
           }
          },
          "ternary": {
           "aaxis": {
            "gridcolor": "white",
            "linecolor": "white",
            "ticks": ""
           },
           "baxis": {
            "gridcolor": "white",
            "linecolor": "white",
            "ticks": ""
           },
           "bgcolor": "#E5ECF6",
           "caxis": {
            "gridcolor": "white",
            "linecolor": "white",
            "ticks": ""
           }
          },
          "title": {
           "x": 0.05
          },
          "xaxis": {
           "automargin": true,
           "gridcolor": "white",
           "linecolor": "white",
           "ticks": "",
           "title": {
            "standoff": 15
           },
           "zerolinecolor": "white",
           "zerolinewidth": 2
          },
          "yaxis": {
           "automargin": true,
           "gridcolor": "white",
           "linecolor": "white",
           "ticks": "",
           "title": {
            "standoff": 15
           },
           "zerolinecolor": "white",
           "zerolinewidth": 2
          }
         }
        },
        "title": {
         "text": "PM 2,5 levels registered on average by countries",
         "x": 0.5,
         "xanchor": "center",
         "y": 0.95,
         "yanchor": "top"
        },
        "width": 1300,
        "xaxis": {
         "anchor": "y",
         "domain": [
          0,
          1
         ],
         "title": {
          "text": "admin"
         }
        },
        "yaxis": {
         "anchor": "x",
         "domain": [
          0,
          1
         ],
         "title": {
          "text": "value"
         }
        }
       }
      },
      "text/html": [
       "<div>\n",
       "        \n",
       "        \n",
       "            <div id=\"89c03e62-0f5d-4841-990e-569115ea0eb1\" class=\"plotly-graph-div\" style=\"height:525px; width:1300px;\"></div>\n",
       "            <script type=\"text/javascript\">\n",
       "                require([\"plotly\"], function(Plotly) {\n",
       "                    window.PLOTLYENV=window.PLOTLYENV || {};\n",
       "                    \n",
       "                if (document.getElementById(\"89c03e62-0f5d-4841-990e-569115ea0eb1\")) {\n",
       "                    Plotly.newPlot(\n",
       "                        '89c03e62-0f5d-4841-990e-569115ea0eb1',\n",
       "                        [{\"alignmentgroup\": \"True\", \"hovertemplate\": \"variable=avg15<br>admin=%{x}<br>value=%{y}<br>text=%{text}<extra></extra>\", \"legendgroup\": \"avg15\", \"marker\": {\"color\": \"#636efa\"}, \"name\": \"avg15\", \"offsetgroup\": \"avg15\", \"orientation\": \"v\", \"showlegend\": true, \"text\": [24.0, 46.0, 34.0, 10.0, 89.0, 98.0, 129.0, 16.0, 9.0, 79.0, 10.0, 6.0, 8.0, 40.0, 6.0, 6.0, 43.0], \"textposition\": \"auto\", \"type\": \"bar\", \"x\": [\"Austria\", \"Belgium\", \"Czech Republic\", \"Finland\", \"France\", \"Germany\", \"Italy\", \"Netherlands\", \"Norway\", \"Poland\", \"Portugal\", \"Romania\", \"Slovakia\", \"Spain\", \"Sweden\", \"Switzerland\", \"United Kingdom\"], \"xaxis\": \"x\", \"y\": [13.958461541666665, 12.267752934782614, 17.863260323529413, 5.230154300000001, 12.13298965168539, 12.104947561224488, 18.729023852713187, 12.032609562499998, 5.375677888888889, 22.9004568227848, 10.3339251, 16.750990333333334, 18.657923874999998, 10.094624075, 6.243797333333333, 10.692750333333334, 9.579994023255813], \"yaxis\": \"y\"}],\n",
       "                        {\"barmode\": \"relative\", \"legend\": {\"title\": {\"text\": \"variable\"}, \"tracegroupgap\": 0}, \"margin\": {\"t\": 60}, \"template\": {\"data\": {\"bar\": [{\"error_x\": {\"color\": \"#2a3f5f\"}, \"error_y\": {\"color\": \"#2a3f5f\"}, \"marker\": {\"line\": {\"color\": \"#E5ECF6\", \"width\": 0.5}}, \"type\": \"bar\"}], \"barpolar\": [{\"marker\": {\"line\": {\"color\": \"#E5ECF6\", \"width\": 0.5}}, \"type\": \"barpolar\"}], \"carpet\": [{\"aaxis\": {\"endlinecolor\": \"#2a3f5f\", \"gridcolor\": \"white\", \"linecolor\": \"white\", \"minorgridcolor\": \"white\", \"startlinecolor\": \"#2a3f5f\"}, \"baxis\": {\"endlinecolor\": \"#2a3f5f\", \"gridcolor\": \"white\", \"linecolor\": \"white\", \"minorgridcolor\": \"white\", \"startlinecolor\": \"#2a3f5f\"}, \"type\": \"carpet\"}], \"choropleth\": [{\"colorbar\": {\"outlinewidth\": 0, \"ticks\": \"\"}, \"type\": \"choropleth\"}], \"contour\": [{\"colorbar\": {\"outlinewidth\": 0, \"ticks\": \"\"}, \"colorscale\": [[0.0, \"#0d0887\"], [0.1111111111111111, \"#46039f\"], [0.2222222222222222, \"#7201a8\"], [0.3333333333333333, \"#9c179e\"], [0.4444444444444444, \"#bd3786\"], [0.5555555555555556, \"#d8576b\"], [0.6666666666666666, \"#ed7953\"], [0.7777777777777778, \"#fb9f3a\"], [0.8888888888888888, \"#fdca26\"], [1.0, \"#f0f921\"]], \"type\": \"contour\"}], \"contourcarpet\": [{\"colorbar\": {\"outlinewidth\": 0, \"ticks\": \"\"}, \"type\": \"contourcarpet\"}], \"heatmap\": [{\"colorbar\": {\"outlinewidth\": 0, \"ticks\": \"\"}, \"colorscale\": [[0.0, \"#0d0887\"], [0.1111111111111111, \"#46039f\"], [0.2222222222222222, \"#7201a8\"], [0.3333333333333333, \"#9c179e\"], [0.4444444444444444, \"#bd3786\"], [0.5555555555555556, \"#d8576b\"], [0.6666666666666666, \"#ed7953\"], [0.7777777777777778, \"#fb9f3a\"], [0.8888888888888888, \"#fdca26\"], [1.0, \"#f0f921\"]], \"type\": \"heatmap\"}], \"heatmapgl\": [{\"colorbar\": {\"outlinewidth\": 0, \"ticks\": \"\"}, \"colorscale\": [[0.0, \"#0d0887\"], [0.1111111111111111, \"#46039f\"], [0.2222222222222222, \"#7201a8\"], [0.3333333333333333, \"#9c179e\"], [0.4444444444444444, \"#bd3786\"], [0.5555555555555556, \"#d8576b\"], [0.6666666666666666, \"#ed7953\"], [0.7777777777777778, \"#fb9f3a\"], [0.8888888888888888, \"#fdca26\"], [1.0, \"#f0f921\"]], \"type\": \"heatmapgl\"}], \"histogram\": [{\"marker\": {\"colorbar\": {\"outlinewidth\": 0, \"ticks\": \"\"}}, \"type\": \"histogram\"}], \"histogram2d\": [{\"colorbar\": {\"outlinewidth\": 0, \"ticks\": \"\"}, \"colorscale\": [[0.0, \"#0d0887\"], [0.1111111111111111, \"#46039f\"], [0.2222222222222222, \"#7201a8\"], [0.3333333333333333, \"#9c179e\"], [0.4444444444444444, \"#bd3786\"], [0.5555555555555556, \"#d8576b\"], [0.6666666666666666, \"#ed7953\"], [0.7777777777777778, \"#fb9f3a\"], [0.8888888888888888, \"#fdca26\"], [1.0, \"#f0f921\"]], \"type\": \"histogram2d\"}], \"histogram2dcontour\": [{\"colorbar\": {\"outlinewidth\": 0, \"ticks\": \"\"}, \"colorscale\": [[0.0, \"#0d0887\"], [0.1111111111111111, \"#46039f\"], [0.2222222222222222, \"#7201a8\"], [0.3333333333333333, \"#9c179e\"], [0.4444444444444444, \"#bd3786\"], [0.5555555555555556, \"#d8576b\"], [0.6666666666666666, \"#ed7953\"], [0.7777777777777778, \"#fb9f3a\"], [0.8888888888888888, \"#fdca26\"], [1.0, \"#f0f921\"]], \"type\": \"histogram2dcontour\"}], \"mesh3d\": [{\"colorbar\": {\"outlinewidth\": 0, \"ticks\": \"\"}, \"type\": \"mesh3d\"}], \"parcoords\": [{\"line\": {\"colorbar\": {\"outlinewidth\": 0, \"ticks\": \"\"}}, \"type\": \"parcoords\"}], \"pie\": [{\"automargin\": true, \"type\": \"pie\"}], \"scatter\": [{\"marker\": {\"colorbar\": {\"outlinewidth\": 0, \"ticks\": \"\"}}, \"type\": \"scatter\"}], \"scatter3d\": [{\"line\": {\"colorbar\": {\"outlinewidth\": 0, \"ticks\": \"\"}}, \"marker\": {\"colorbar\": {\"outlinewidth\": 0, \"ticks\": \"\"}}, \"type\": \"scatter3d\"}], \"scattercarpet\": [{\"marker\": {\"colorbar\": {\"outlinewidth\": 0, \"ticks\": \"\"}}, \"type\": \"scattercarpet\"}], \"scattergeo\": [{\"marker\": {\"colorbar\": {\"outlinewidth\": 0, \"ticks\": \"\"}}, \"type\": \"scattergeo\"}], \"scattergl\": [{\"marker\": {\"colorbar\": {\"outlinewidth\": 0, \"ticks\": \"\"}}, \"type\": \"scattergl\"}], \"scattermapbox\": [{\"marker\": {\"colorbar\": {\"outlinewidth\": 0, \"ticks\": \"\"}}, \"type\": \"scattermapbox\"}], \"scatterpolar\": [{\"marker\": {\"colorbar\": {\"outlinewidth\": 0, \"ticks\": \"\"}}, \"type\": \"scatterpolar\"}], \"scatterpolargl\": [{\"marker\": {\"colorbar\": {\"outlinewidth\": 0, \"ticks\": \"\"}}, \"type\": \"scatterpolargl\"}], \"scatterternary\": [{\"marker\": {\"colorbar\": {\"outlinewidth\": 0, \"ticks\": \"\"}}, \"type\": \"scatterternary\"}], \"surface\": [{\"colorbar\": {\"outlinewidth\": 0, \"ticks\": \"\"}, \"colorscale\": [[0.0, \"#0d0887\"], [0.1111111111111111, \"#46039f\"], [0.2222222222222222, \"#7201a8\"], [0.3333333333333333, \"#9c179e\"], [0.4444444444444444, \"#bd3786\"], [0.5555555555555556, \"#d8576b\"], [0.6666666666666666, \"#ed7953\"], [0.7777777777777778, \"#fb9f3a\"], [0.8888888888888888, \"#fdca26\"], [1.0, \"#f0f921\"]], \"type\": \"surface\"}], \"table\": [{\"cells\": {\"fill\": {\"color\": \"#EBF0F8\"}, \"line\": {\"color\": \"white\"}}, \"header\": {\"fill\": {\"color\": \"#C8D4E3\"}, \"line\": {\"color\": \"white\"}}, \"type\": \"table\"}]}, \"layout\": {\"annotationdefaults\": {\"arrowcolor\": \"#2a3f5f\", \"arrowhead\": 0, \"arrowwidth\": 1}, \"coloraxis\": {\"colorbar\": {\"outlinewidth\": 0, \"ticks\": \"\"}}, \"colorscale\": {\"diverging\": [[0, \"#8e0152\"], [0.1, \"#c51b7d\"], [0.2, \"#de77ae\"], [0.3, \"#f1b6da\"], [0.4, \"#fde0ef\"], [0.5, \"#f7f7f7\"], [0.6, \"#e6f5d0\"], [0.7, \"#b8e186\"], [0.8, \"#7fbc41\"], [0.9, \"#4d9221\"], [1, \"#276419\"]], \"sequential\": [[0.0, \"#0d0887\"], [0.1111111111111111, \"#46039f\"], [0.2222222222222222, \"#7201a8\"], [0.3333333333333333, \"#9c179e\"], [0.4444444444444444, \"#bd3786\"], [0.5555555555555556, \"#d8576b\"], [0.6666666666666666, \"#ed7953\"], [0.7777777777777778, \"#fb9f3a\"], [0.8888888888888888, \"#fdca26\"], [1.0, \"#f0f921\"]], \"sequentialminus\": [[0.0, \"#0d0887\"], [0.1111111111111111, \"#46039f\"], [0.2222222222222222, \"#7201a8\"], [0.3333333333333333, \"#9c179e\"], [0.4444444444444444, \"#bd3786\"], [0.5555555555555556, \"#d8576b\"], [0.6666666666666666, \"#ed7953\"], [0.7777777777777778, \"#fb9f3a\"], [0.8888888888888888, \"#fdca26\"], [1.0, \"#f0f921\"]]}, \"colorway\": [\"#636efa\", \"#EF553B\", \"#00cc96\", \"#ab63fa\", \"#FFA15A\", \"#19d3f3\", \"#FF6692\", \"#B6E880\", \"#FF97FF\", \"#FECB52\"], \"font\": {\"color\": \"#2a3f5f\"}, \"geo\": {\"bgcolor\": \"white\", \"lakecolor\": \"white\", \"landcolor\": \"#E5ECF6\", \"showlakes\": true, \"showland\": true, \"subunitcolor\": \"white\"}, \"hoverlabel\": {\"align\": \"left\"}, \"hovermode\": \"closest\", \"mapbox\": {\"style\": \"light\"}, \"paper_bgcolor\": \"white\", \"plot_bgcolor\": \"#E5ECF6\", \"polar\": {\"angularaxis\": {\"gridcolor\": \"white\", \"linecolor\": \"white\", \"ticks\": \"\"}, \"bgcolor\": \"#E5ECF6\", \"radialaxis\": {\"gridcolor\": \"white\", \"linecolor\": \"white\", \"ticks\": \"\"}}, \"scene\": {\"xaxis\": {\"backgroundcolor\": \"#E5ECF6\", \"gridcolor\": \"white\", \"gridwidth\": 2, \"linecolor\": \"white\", \"showbackground\": true, \"ticks\": \"\", \"zerolinecolor\": \"white\"}, \"yaxis\": {\"backgroundcolor\": \"#E5ECF6\", \"gridcolor\": \"white\", \"gridwidth\": 2, \"linecolor\": \"white\", \"showbackground\": true, \"ticks\": \"\", \"zerolinecolor\": \"white\"}, \"zaxis\": {\"backgroundcolor\": \"#E5ECF6\", \"gridcolor\": \"white\", \"gridwidth\": 2, \"linecolor\": \"white\", \"showbackground\": true, \"ticks\": \"\", \"zerolinecolor\": \"white\"}}, \"shapedefaults\": {\"line\": {\"color\": \"#2a3f5f\"}}, \"ternary\": {\"aaxis\": {\"gridcolor\": \"white\", \"linecolor\": \"white\", \"ticks\": \"\"}, \"baxis\": {\"gridcolor\": \"white\", \"linecolor\": \"white\", \"ticks\": \"\"}, \"bgcolor\": \"#E5ECF6\", \"caxis\": {\"gridcolor\": \"white\", \"linecolor\": \"white\", \"ticks\": \"\"}}, \"title\": {\"x\": 0.05}, \"xaxis\": {\"automargin\": true, \"gridcolor\": \"white\", \"linecolor\": \"white\", \"ticks\": \"\", \"title\": {\"standoff\": 15}, \"zerolinecolor\": \"white\", \"zerolinewidth\": 2}, \"yaxis\": {\"automargin\": true, \"gridcolor\": \"white\", \"linecolor\": \"white\", \"ticks\": \"\", \"title\": {\"standoff\": 15}, \"zerolinecolor\": \"white\", \"zerolinewidth\": 2}}}, \"title\": {\"text\": \"PM 2,5 levels registered on average by countries\", \"x\": 0.5, \"xanchor\": \"center\", \"y\": 0.95, \"yanchor\": \"top\"}, \"width\": 1300, \"xaxis\": {\"anchor\": \"y\", \"domain\": [0.0, 1.0], \"title\": {\"text\": \"admin\"}}, \"yaxis\": {\"anchor\": \"x\", \"domain\": [0.0, 1.0], \"title\": {\"text\": \"value\"}}},\n",
       "                        {\"responsive\": true}\n",
       "                    ).then(function(){\n",
       "                            \n",
       "var gd = document.getElementById('89c03e62-0f5d-4841-990e-569115ea0eb1');\n",
       "var x = new MutationObserver(function (mutations, observer) {{\n",
       "        var display = window.getComputedStyle(gd).display;\n",
       "        if (!display || display === 'none') {{\n",
       "            console.log([gd, 'removed!']);\n",
       "            Plotly.purge(gd);\n",
       "            observer.disconnect();\n",
       "        }}\n",
       "}});\n",
       "\n",
       "// Listen for the removal of the full notebook cells\n",
       "var notebookContainer = gd.closest('#notebook-container');\n",
       "if (notebookContainer) {{\n",
       "    x.observe(notebookContainer, {childList: true});\n",
       "}}\n",
       "\n",
       "// Listen for the clearing of the current output cell\n",
       "var outputEl = gd.closest('.output');\n",
       "if (outputEl) {{\n",
       "    x.observe(outputEl, {childList: true});\n",
       "}}\n",
       "\n",
       "                        })\n",
       "                };\n",
       "                });\n",
       "            </script>\n",
       "        </div>"
      ]
     },
     "metadata": {},
     "output_type": "display_data"
    }
   ],
   "source": [
    "fig1 = px.bar(countries_over_5_df.groupby(\"admin\")[\"avg15\"].mean(),  text=countries_over_5_df.groupby(\"admin\").size(),width=1300)\n",
    "fig1.update_layout(\n",
    "    title={\n",
    "        'text': \"PM 2,5 levels registered on average by countries\",\n",
    "        'y':0.95,\n",
    "        'x':0.5,\n",
    "        'xanchor': 'center',\n",
    "        'yanchor': 'top'})\n",
    "fig1.show()\n"
   ]
  },
  {
   "cell_type": "markdown",
   "metadata": {},
   "source": [
    "![title](barplot_mean.png)"
   ]
  },
  {
   "cell_type": "markdown",
   "metadata": {},
   "source": [
    "**On an average the worst air quality is found in Poland, Italy and Slovakia**"
   ]
  },
  {
   "cell_type": "markdown",
   "metadata": {},
   "source": [
    "## Bar plot of all countries with max value registered of PM 2,5 levels"
   ]
  },
  {
   "cell_type": "markdown",
   "metadata": {},
   "source": [
    "Here I have included all countries"
   ]
  },
  {
   "cell_type": "code",
   "execution_count": 38,
   "metadata": {
    "scrolled": false
   },
   "outputs": [
    {
     "data": {
      "application/vnd.plotly.v1+json": {
       "config": {
        "plotlyServerURL": "https://plot.ly"
       },
       "data": [
        {
         "alignmentgroup": "True",
         "hovertemplate": "variable=avg15<br>admin=%{x}<br>value=%{y}<extra></extra>",
         "legendgroup": "avg15",
         "marker": {
          "color": "#636efa"
         },
         "name": "avg15",
         "offsetgroup": "avg15",
         "orientation": "v",
         "showlegend": true,
         "textposition": "auto",
         "type": "bar",
         "x": [
          "Russia",
          "Finland",
          "Ireland",
          "Sweden",
          "Norway",
          "Estonia",
          "Iceland",
          "Lithuania",
          "Denmark",
          "Luxembourg",
          "United Kingdom",
          "Portugal",
          "Switzerland",
          "Netherlands",
          "Belgium",
          "Latvia",
          "Greece",
          "Germany",
          "Hungary",
          "France",
          "Spain",
          "Austria",
          "Croatia",
          "Slovenia",
          "Slovakia",
          "Romania",
          "Kosovo",
          "Albania",
          "Italy",
          "Czech Republic",
          "Poland"
         ],
         "xaxis": "x",
         "y": [
          5.943251,
          7.017104,
          8.137651,
          8.266937,
          8.825313,
          8.941618,
          9.942876,
          10.65067,
          11.635107,
          12.02807,
          12.262142,
          13.551207,
          13.62339,
          14.21835,
          15.115963,
          15.917079,
          16.446809,
          17.119724,
          17.358067,
          17.685987,
          19.688172,
          19.929107,
          20.816775,
          22.565476,
          22.749334,
          23.156837,
          28.486592,
          30.33897,
          31.901896,
          33.040112,
          36.010959
         ],
         "yaxis": "y"
        }
       ],
       "layout": {
        "barmode": "relative",
        "legend": {
         "title": {
          "text": "variable"
         },
         "tracegroupgap": 0
        },
        "margin": {
         "t": 60
        },
        "template": {
         "data": {
          "bar": [
           {
            "error_x": {
             "color": "#2a3f5f"
            },
            "error_y": {
             "color": "#2a3f5f"
            },
            "marker": {
             "line": {
              "color": "#E5ECF6",
              "width": 0.5
             }
            },
            "type": "bar"
           }
          ],
          "barpolar": [
           {
            "marker": {
             "line": {
              "color": "#E5ECF6",
              "width": 0.5
             }
            },
            "type": "barpolar"
           }
          ],
          "carpet": [
           {
            "aaxis": {
             "endlinecolor": "#2a3f5f",
             "gridcolor": "white",
             "linecolor": "white",
             "minorgridcolor": "white",
             "startlinecolor": "#2a3f5f"
            },
            "baxis": {
             "endlinecolor": "#2a3f5f",
             "gridcolor": "white",
             "linecolor": "white",
             "minorgridcolor": "white",
             "startlinecolor": "#2a3f5f"
            },
            "type": "carpet"
           }
          ],
          "choropleth": [
           {
            "colorbar": {
             "outlinewidth": 0,
             "ticks": ""
            },
            "type": "choropleth"
           }
          ],
          "contour": [
           {
            "colorbar": {
             "outlinewidth": 0,
             "ticks": ""
            },
            "colorscale": [
             [
              0,
              "#0d0887"
             ],
             [
              0.1111111111111111,
              "#46039f"
             ],
             [
              0.2222222222222222,
              "#7201a8"
             ],
             [
              0.3333333333333333,
              "#9c179e"
             ],
             [
              0.4444444444444444,
              "#bd3786"
             ],
             [
              0.5555555555555556,
              "#d8576b"
             ],
             [
              0.6666666666666666,
              "#ed7953"
             ],
             [
              0.7777777777777778,
              "#fb9f3a"
             ],
             [
              0.8888888888888888,
              "#fdca26"
             ],
             [
              1,
              "#f0f921"
             ]
            ],
            "type": "contour"
           }
          ],
          "contourcarpet": [
           {
            "colorbar": {
             "outlinewidth": 0,
             "ticks": ""
            },
            "type": "contourcarpet"
           }
          ],
          "heatmap": [
           {
            "colorbar": {
             "outlinewidth": 0,
             "ticks": ""
            },
            "colorscale": [
             [
              0,
              "#0d0887"
             ],
             [
              0.1111111111111111,
              "#46039f"
             ],
             [
              0.2222222222222222,
              "#7201a8"
             ],
             [
              0.3333333333333333,
              "#9c179e"
             ],
             [
              0.4444444444444444,
              "#bd3786"
             ],
             [
              0.5555555555555556,
              "#d8576b"
             ],
             [
              0.6666666666666666,
              "#ed7953"
             ],
             [
              0.7777777777777778,
              "#fb9f3a"
             ],
             [
              0.8888888888888888,
              "#fdca26"
             ],
             [
              1,
              "#f0f921"
             ]
            ],
            "type": "heatmap"
           }
          ],
          "heatmapgl": [
           {
            "colorbar": {
             "outlinewidth": 0,
             "ticks": ""
            },
            "colorscale": [
             [
              0,
              "#0d0887"
             ],
             [
              0.1111111111111111,
              "#46039f"
             ],
             [
              0.2222222222222222,
              "#7201a8"
             ],
             [
              0.3333333333333333,
              "#9c179e"
             ],
             [
              0.4444444444444444,
              "#bd3786"
             ],
             [
              0.5555555555555556,
              "#d8576b"
             ],
             [
              0.6666666666666666,
              "#ed7953"
             ],
             [
              0.7777777777777778,
              "#fb9f3a"
             ],
             [
              0.8888888888888888,
              "#fdca26"
             ],
             [
              1,
              "#f0f921"
             ]
            ],
            "type": "heatmapgl"
           }
          ],
          "histogram": [
           {
            "marker": {
             "colorbar": {
              "outlinewidth": 0,
              "ticks": ""
             }
            },
            "type": "histogram"
           }
          ],
          "histogram2d": [
           {
            "colorbar": {
             "outlinewidth": 0,
             "ticks": ""
            },
            "colorscale": [
             [
              0,
              "#0d0887"
             ],
             [
              0.1111111111111111,
              "#46039f"
             ],
             [
              0.2222222222222222,
              "#7201a8"
             ],
             [
              0.3333333333333333,
              "#9c179e"
             ],
             [
              0.4444444444444444,
              "#bd3786"
             ],
             [
              0.5555555555555556,
              "#d8576b"
             ],
             [
              0.6666666666666666,
              "#ed7953"
             ],
             [
              0.7777777777777778,
              "#fb9f3a"
             ],
             [
              0.8888888888888888,
              "#fdca26"
             ],
             [
              1,
              "#f0f921"
             ]
            ],
            "type": "histogram2d"
           }
          ],
          "histogram2dcontour": [
           {
            "colorbar": {
             "outlinewidth": 0,
             "ticks": ""
            },
            "colorscale": [
             [
              0,
              "#0d0887"
             ],
             [
              0.1111111111111111,
              "#46039f"
             ],
             [
              0.2222222222222222,
              "#7201a8"
             ],
             [
              0.3333333333333333,
              "#9c179e"
             ],
             [
              0.4444444444444444,
              "#bd3786"
             ],
             [
              0.5555555555555556,
              "#d8576b"
             ],
             [
              0.6666666666666666,
              "#ed7953"
             ],
             [
              0.7777777777777778,
              "#fb9f3a"
             ],
             [
              0.8888888888888888,
              "#fdca26"
             ],
             [
              1,
              "#f0f921"
             ]
            ],
            "type": "histogram2dcontour"
           }
          ],
          "mesh3d": [
           {
            "colorbar": {
             "outlinewidth": 0,
             "ticks": ""
            },
            "type": "mesh3d"
           }
          ],
          "parcoords": [
           {
            "line": {
             "colorbar": {
              "outlinewidth": 0,
              "ticks": ""
             }
            },
            "type": "parcoords"
           }
          ],
          "pie": [
           {
            "automargin": true,
            "type": "pie"
           }
          ],
          "scatter": [
           {
            "marker": {
             "colorbar": {
              "outlinewidth": 0,
              "ticks": ""
             }
            },
            "type": "scatter"
           }
          ],
          "scatter3d": [
           {
            "line": {
             "colorbar": {
              "outlinewidth": 0,
              "ticks": ""
             }
            },
            "marker": {
             "colorbar": {
              "outlinewidth": 0,
              "ticks": ""
             }
            },
            "type": "scatter3d"
           }
          ],
          "scattercarpet": [
           {
            "marker": {
             "colorbar": {
              "outlinewidth": 0,
              "ticks": ""
             }
            },
            "type": "scattercarpet"
           }
          ],
          "scattergeo": [
           {
            "marker": {
             "colorbar": {
              "outlinewidth": 0,
              "ticks": ""
             }
            },
            "type": "scattergeo"
           }
          ],
          "scattergl": [
           {
            "marker": {
             "colorbar": {
              "outlinewidth": 0,
              "ticks": ""
             }
            },
            "type": "scattergl"
           }
          ],
          "scattermapbox": [
           {
            "marker": {
             "colorbar": {
              "outlinewidth": 0,
              "ticks": ""
             }
            },
            "type": "scattermapbox"
           }
          ],
          "scatterpolar": [
           {
            "marker": {
             "colorbar": {
              "outlinewidth": 0,
              "ticks": ""
             }
            },
            "type": "scatterpolar"
           }
          ],
          "scatterpolargl": [
           {
            "marker": {
             "colorbar": {
              "outlinewidth": 0,
              "ticks": ""
             }
            },
            "type": "scatterpolargl"
           }
          ],
          "scatterternary": [
           {
            "marker": {
             "colorbar": {
              "outlinewidth": 0,
              "ticks": ""
             }
            },
            "type": "scatterternary"
           }
          ],
          "surface": [
           {
            "colorbar": {
             "outlinewidth": 0,
             "ticks": ""
            },
            "colorscale": [
             [
              0,
              "#0d0887"
             ],
             [
              0.1111111111111111,
              "#46039f"
             ],
             [
              0.2222222222222222,
              "#7201a8"
             ],
             [
              0.3333333333333333,
              "#9c179e"
             ],
             [
              0.4444444444444444,
              "#bd3786"
             ],
             [
              0.5555555555555556,
              "#d8576b"
             ],
             [
              0.6666666666666666,
              "#ed7953"
             ],
             [
              0.7777777777777778,
              "#fb9f3a"
             ],
             [
              0.8888888888888888,
              "#fdca26"
             ],
             [
              1,
              "#f0f921"
             ]
            ],
            "type": "surface"
           }
          ],
          "table": [
           {
            "cells": {
             "fill": {
              "color": "#EBF0F8"
             },
             "line": {
              "color": "white"
             }
            },
            "header": {
             "fill": {
              "color": "#C8D4E3"
             },
             "line": {
              "color": "white"
             }
            },
            "type": "table"
           }
          ]
         },
         "layout": {
          "annotationdefaults": {
           "arrowcolor": "#2a3f5f",
           "arrowhead": 0,
           "arrowwidth": 1
          },
          "coloraxis": {
           "colorbar": {
            "outlinewidth": 0,
            "ticks": ""
           }
          },
          "colorscale": {
           "diverging": [
            [
             0,
             "#8e0152"
            ],
            [
             0.1,
             "#c51b7d"
            ],
            [
             0.2,
             "#de77ae"
            ],
            [
             0.3,
             "#f1b6da"
            ],
            [
             0.4,
             "#fde0ef"
            ],
            [
             0.5,
             "#f7f7f7"
            ],
            [
             0.6,
             "#e6f5d0"
            ],
            [
             0.7,
             "#b8e186"
            ],
            [
             0.8,
             "#7fbc41"
            ],
            [
             0.9,
             "#4d9221"
            ],
            [
             1,
             "#276419"
            ]
           ],
           "sequential": [
            [
             0,
             "#0d0887"
            ],
            [
             0.1111111111111111,
             "#46039f"
            ],
            [
             0.2222222222222222,
             "#7201a8"
            ],
            [
             0.3333333333333333,
             "#9c179e"
            ],
            [
             0.4444444444444444,
             "#bd3786"
            ],
            [
             0.5555555555555556,
             "#d8576b"
            ],
            [
             0.6666666666666666,
             "#ed7953"
            ],
            [
             0.7777777777777778,
             "#fb9f3a"
            ],
            [
             0.8888888888888888,
             "#fdca26"
            ],
            [
             1,
             "#f0f921"
            ]
           ],
           "sequentialminus": [
            [
             0,
             "#0d0887"
            ],
            [
             0.1111111111111111,
             "#46039f"
            ],
            [
             0.2222222222222222,
             "#7201a8"
            ],
            [
             0.3333333333333333,
             "#9c179e"
            ],
            [
             0.4444444444444444,
             "#bd3786"
            ],
            [
             0.5555555555555556,
             "#d8576b"
            ],
            [
             0.6666666666666666,
             "#ed7953"
            ],
            [
             0.7777777777777778,
             "#fb9f3a"
            ],
            [
             0.8888888888888888,
             "#fdca26"
            ],
            [
             1,
             "#f0f921"
            ]
           ]
          },
          "colorway": [
           "#636efa",
           "#EF553B",
           "#00cc96",
           "#ab63fa",
           "#FFA15A",
           "#19d3f3",
           "#FF6692",
           "#B6E880",
           "#FF97FF",
           "#FECB52"
          ],
          "font": {
           "color": "#2a3f5f"
          },
          "geo": {
           "bgcolor": "white",
           "lakecolor": "white",
           "landcolor": "#E5ECF6",
           "showlakes": true,
           "showland": true,
           "subunitcolor": "white"
          },
          "hoverlabel": {
           "align": "left"
          },
          "hovermode": "closest",
          "mapbox": {
           "style": "light"
          },
          "paper_bgcolor": "white",
          "plot_bgcolor": "#E5ECF6",
          "polar": {
           "angularaxis": {
            "gridcolor": "white",
            "linecolor": "white",
            "ticks": ""
           },
           "bgcolor": "#E5ECF6",
           "radialaxis": {
            "gridcolor": "white",
            "linecolor": "white",
            "ticks": ""
           }
          },
          "scene": {
           "xaxis": {
            "backgroundcolor": "#E5ECF6",
            "gridcolor": "white",
            "gridwidth": 2,
            "linecolor": "white",
            "showbackground": true,
            "ticks": "",
            "zerolinecolor": "white"
           },
           "yaxis": {
            "backgroundcolor": "#E5ECF6",
            "gridcolor": "white",
            "gridwidth": 2,
            "linecolor": "white",
            "showbackground": true,
            "ticks": "",
            "zerolinecolor": "white"
           },
           "zaxis": {
            "backgroundcolor": "#E5ECF6",
            "gridcolor": "white",
            "gridwidth": 2,
            "linecolor": "white",
            "showbackground": true,
            "ticks": "",
            "zerolinecolor": "white"
           }
          },
          "shapedefaults": {
           "line": {
            "color": "#2a3f5f"
           }
          },
          "ternary": {
           "aaxis": {
            "gridcolor": "white",
            "linecolor": "white",
            "ticks": ""
           },
           "baxis": {
            "gridcolor": "white",
            "linecolor": "white",
            "ticks": ""
           },
           "bgcolor": "#E5ECF6",
           "caxis": {
            "gridcolor": "white",
            "linecolor": "white",
            "ticks": ""
           }
          },
          "title": {
           "x": 0.05
          },
          "xaxis": {
           "automargin": true,
           "gridcolor": "white",
           "linecolor": "white",
           "ticks": "",
           "title": {
            "standoff": 15
           },
           "zerolinecolor": "white",
           "zerolinewidth": 2
          },
          "yaxis": {
           "automargin": true,
           "gridcolor": "white",
           "linecolor": "white",
           "ticks": "",
           "title": {
            "standoff": 15
           },
           "zerolinecolor": "white",
           "zerolinewidth": 2
          }
         }
        },
        "title": {
         "text": "Maximum PM 2,5 levels registered by countries",
         "x": 0.5,
         "xanchor": "center",
         "y": 0.95,
         "yanchor": "top"
        },
        "width": 1300,
        "xaxis": {
         "anchor": "y",
         "domain": [
          0,
          1
         ],
         "title": {
          "text": "admin"
         }
        },
        "yaxis": {
         "anchor": "x",
         "domain": [
          0,
          1
         ],
         "title": {
          "text": "value"
         }
        }
       }
      },
      "text/html": [
       "<div>\n",
       "        \n",
       "        \n",
       "            <div id=\"eaf993d2-afb8-4915-9620-10e3e8f37363\" class=\"plotly-graph-div\" style=\"height:525px; width:1300px;\"></div>\n",
       "            <script type=\"text/javascript\">\n",
       "                require([\"plotly\"], function(Plotly) {\n",
       "                    window.PLOTLYENV=window.PLOTLYENV || {};\n",
       "                    \n",
       "                if (document.getElementById(\"eaf993d2-afb8-4915-9620-10e3e8f37363\")) {\n",
       "                    Plotly.newPlot(\n",
       "                        'eaf993d2-afb8-4915-9620-10e3e8f37363',\n",
       "                        [{\"alignmentgroup\": \"True\", \"hovertemplate\": \"variable=avg15<br>admin=%{x}<br>value=%{y}<extra></extra>\", \"legendgroup\": \"avg15\", \"marker\": {\"color\": \"#636efa\"}, \"name\": \"avg15\", \"offsetgroup\": \"avg15\", \"orientation\": \"v\", \"showlegend\": true, \"textposition\": \"auto\", \"type\": \"bar\", \"x\": [\"Russia\", \"Finland\", \"Ireland\", \"Sweden\", \"Norway\", \"Estonia\", \"Iceland\", \"Lithuania\", \"Denmark\", \"Luxembourg\", \"United Kingdom\", \"Portugal\", \"Switzerland\", \"Netherlands\", \"Belgium\", \"Latvia\", \"Greece\", \"Germany\", \"Hungary\", \"France\", \"Spain\", \"Austria\", \"Croatia\", \"Slovenia\", \"Slovakia\", \"Romania\", \"Kosovo\", \"Albania\", \"Italy\", \"Czech Republic\", \"Poland\"], \"xaxis\": \"x\", \"y\": [5.943251, 7.017104, 8.137651, 8.266937, 8.825313, 8.941618, 9.942876, 10.65067, 11.635107, 12.02807, 12.262142, 13.551207, 13.62339, 14.21835, 15.115963, 15.917079, 16.446809, 17.119724, 17.358067, 17.685987, 19.688172, 19.929107, 20.816775, 22.565476, 22.749334, 23.156837, 28.486592, 30.33897, 31.901896, 33.040112, 36.010959], \"yaxis\": \"y\"}],\n",
       "                        {\"barmode\": \"relative\", \"legend\": {\"title\": {\"text\": \"variable\"}, \"tracegroupgap\": 0}, \"margin\": {\"t\": 60}, \"template\": {\"data\": {\"bar\": [{\"error_x\": {\"color\": \"#2a3f5f\"}, \"error_y\": {\"color\": \"#2a3f5f\"}, \"marker\": {\"line\": {\"color\": \"#E5ECF6\", \"width\": 0.5}}, \"type\": \"bar\"}], \"barpolar\": [{\"marker\": {\"line\": {\"color\": \"#E5ECF6\", \"width\": 0.5}}, \"type\": \"barpolar\"}], \"carpet\": [{\"aaxis\": {\"endlinecolor\": \"#2a3f5f\", \"gridcolor\": \"white\", \"linecolor\": \"white\", \"minorgridcolor\": \"white\", \"startlinecolor\": \"#2a3f5f\"}, \"baxis\": {\"endlinecolor\": \"#2a3f5f\", \"gridcolor\": \"white\", \"linecolor\": \"white\", \"minorgridcolor\": \"white\", \"startlinecolor\": \"#2a3f5f\"}, \"type\": \"carpet\"}], \"choropleth\": [{\"colorbar\": {\"outlinewidth\": 0, \"ticks\": \"\"}, \"type\": \"choropleth\"}], \"contour\": [{\"colorbar\": {\"outlinewidth\": 0, \"ticks\": \"\"}, \"colorscale\": [[0.0, \"#0d0887\"], [0.1111111111111111, \"#46039f\"], [0.2222222222222222, \"#7201a8\"], [0.3333333333333333, \"#9c179e\"], [0.4444444444444444, \"#bd3786\"], [0.5555555555555556, \"#d8576b\"], [0.6666666666666666, \"#ed7953\"], [0.7777777777777778, \"#fb9f3a\"], [0.8888888888888888, \"#fdca26\"], [1.0, \"#f0f921\"]], \"type\": \"contour\"}], \"contourcarpet\": [{\"colorbar\": {\"outlinewidth\": 0, \"ticks\": \"\"}, \"type\": \"contourcarpet\"}], \"heatmap\": [{\"colorbar\": {\"outlinewidth\": 0, \"ticks\": \"\"}, \"colorscale\": [[0.0, \"#0d0887\"], [0.1111111111111111, \"#46039f\"], [0.2222222222222222, \"#7201a8\"], [0.3333333333333333, \"#9c179e\"], [0.4444444444444444, \"#bd3786\"], [0.5555555555555556, \"#d8576b\"], [0.6666666666666666, \"#ed7953\"], [0.7777777777777778, \"#fb9f3a\"], [0.8888888888888888, \"#fdca26\"], [1.0, \"#f0f921\"]], \"type\": \"heatmap\"}], \"heatmapgl\": [{\"colorbar\": {\"outlinewidth\": 0, \"ticks\": \"\"}, \"colorscale\": [[0.0, \"#0d0887\"], [0.1111111111111111, \"#46039f\"], [0.2222222222222222, \"#7201a8\"], [0.3333333333333333, \"#9c179e\"], [0.4444444444444444, \"#bd3786\"], [0.5555555555555556, \"#d8576b\"], [0.6666666666666666, \"#ed7953\"], [0.7777777777777778, \"#fb9f3a\"], [0.8888888888888888, \"#fdca26\"], [1.0, \"#f0f921\"]], \"type\": \"heatmapgl\"}], \"histogram\": [{\"marker\": {\"colorbar\": {\"outlinewidth\": 0, \"ticks\": \"\"}}, \"type\": \"histogram\"}], \"histogram2d\": [{\"colorbar\": {\"outlinewidth\": 0, \"ticks\": \"\"}, \"colorscale\": [[0.0, \"#0d0887\"], [0.1111111111111111, \"#46039f\"], [0.2222222222222222, \"#7201a8\"], [0.3333333333333333, \"#9c179e\"], [0.4444444444444444, \"#bd3786\"], [0.5555555555555556, \"#d8576b\"], [0.6666666666666666, \"#ed7953\"], [0.7777777777777778, \"#fb9f3a\"], [0.8888888888888888, \"#fdca26\"], [1.0, \"#f0f921\"]], \"type\": \"histogram2d\"}], \"histogram2dcontour\": [{\"colorbar\": {\"outlinewidth\": 0, \"ticks\": \"\"}, \"colorscale\": [[0.0, \"#0d0887\"], [0.1111111111111111, \"#46039f\"], [0.2222222222222222, \"#7201a8\"], [0.3333333333333333, \"#9c179e\"], [0.4444444444444444, \"#bd3786\"], [0.5555555555555556, \"#d8576b\"], [0.6666666666666666, \"#ed7953\"], [0.7777777777777778, \"#fb9f3a\"], [0.8888888888888888, \"#fdca26\"], [1.0, \"#f0f921\"]], \"type\": \"histogram2dcontour\"}], \"mesh3d\": [{\"colorbar\": {\"outlinewidth\": 0, \"ticks\": \"\"}, \"type\": \"mesh3d\"}], \"parcoords\": [{\"line\": {\"colorbar\": {\"outlinewidth\": 0, \"ticks\": \"\"}}, \"type\": \"parcoords\"}], \"pie\": [{\"automargin\": true, \"type\": \"pie\"}], \"scatter\": [{\"marker\": {\"colorbar\": {\"outlinewidth\": 0, \"ticks\": \"\"}}, \"type\": \"scatter\"}], \"scatter3d\": [{\"line\": {\"colorbar\": {\"outlinewidth\": 0, \"ticks\": \"\"}}, \"marker\": {\"colorbar\": {\"outlinewidth\": 0, \"ticks\": \"\"}}, \"type\": \"scatter3d\"}], \"scattercarpet\": [{\"marker\": {\"colorbar\": {\"outlinewidth\": 0, \"ticks\": \"\"}}, \"type\": \"scattercarpet\"}], \"scattergeo\": [{\"marker\": {\"colorbar\": {\"outlinewidth\": 0, \"ticks\": \"\"}}, \"type\": \"scattergeo\"}], \"scattergl\": [{\"marker\": {\"colorbar\": {\"outlinewidth\": 0, \"ticks\": \"\"}}, \"type\": \"scattergl\"}], \"scattermapbox\": [{\"marker\": {\"colorbar\": {\"outlinewidth\": 0, \"ticks\": \"\"}}, \"type\": \"scattermapbox\"}], \"scatterpolar\": [{\"marker\": {\"colorbar\": {\"outlinewidth\": 0, \"ticks\": \"\"}}, \"type\": \"scatterpolar\"}], \"scatterpolargl\": [{\"marker\": {\"colorbar\": {\"outlinewidth\": 0, \"ticks\": \"\"}}, \"type\": \"scatterpolargl\"}], \"scatterternary\": [{\"marker\": {\"colorbar\": {\"outlinewidth\": 0, \"ticks\": \"\"}}, \"type\": \"scatterternary\"}], \"surface\": [{\"colorbar\": {\"outlinewidth\": 0, \"ticks\": \"\"}, \"colorscale\": [[0.0, \"#0d0887\"], [0.1111111111111111, \"#46039f\"], [0.2222222222222222, \"#7201a8\"], [0.3333333333333333, \"#9c179e\"], [0.4444444444444444, \"#bd3786\"], [0.5555555555555556, \"#d8576b\"], [0.6666666666666666, \"#ed7953\"], [0.7777777777777778, \"#fb9f3a\"], [0.8888888888888888, \"#fdca26\"], [1.0, \"#f0f921\"]], \"type\": \"surface\"}], \"table\": [{\"cells\": {\"fill\": {\"color\": \"#EBF0F8\"}, \"line\": {\"color\": \"white\"}}, \"header\": {\"fill\": {\"color\": \"#C8D4E3\"}, \"line\": {\"color\": \"white\"}}, \"type\": \"table\"}]}, \"layout\": {\"annotationdefaults\": {\"arrowcolor\": \"#2a3f5f\", \"arrowhead\": 0, \"arrowwidth\": 1}, \"coloraxis\": {\"colorbar\": {\"outlinewidth\": 0, \"ticks\": \"\"}}, \"colorscale\": {\"diverging\": [[0, \"#8e0152\"], [0.1, \"#c51b7d\"], [0.2, \"#de77ae\"], [0.3, \"#f1b6da\"], [0.4, \"#fde0ef\"], [0.5, \"#f7f7f7\"], [0.6, \"#e6f5d0\"], [0.7, \"#b8e186\"], [0.8, \"#7fbc41\"], [0.9, \"#4d9221\"], [1, \"#276419\"]], \"sequential\": [[0.0, \"#0d0887\"], [0.1111111111111111, \"#46039f\"], [0.2222222222222222, \"#7201a8\"], [0.3333333333333333, \"#9c179e\"], [0.4444444444444444, \"#bd3786\"], [0.5555555555555556, \"#d8576b\"], [0.6666666666666666, \"#ed7953\"], [0.7777777777777778, \"#fb9f3a\"], [0.8888888888888888, \"#fdca26\"], [1.0, \"#f0f921\"]], \"sequentialminus\": [[0.0, \"#0d0887\"], [0.1111111111111111, \"#46039f\"], [0.2222222222222222, \"#7201a8\"], [0.3333333333333333, \"#9c179e\"], [0.4444444444444444, \"#bd3786\"], [0.5555555555555556, \"#d8576b\"], [0.6666666666666666, \"#ed7953\"], [0.7777777777777778, \"#fb9f3a\"], [0.8888888888888888, \"#fdca26\"], [1.0, \"#f0f921\"]]}, \"colorway\": [\"#636efa\", \"#EF553B\", \"#00cc96\", \"#ab63fa\", \"#FFA15A\", \"#19d3f3\", \"#FF6692\", \"#B6E880\", \"#FF97FF\", \"#FECB52\"], \"font\": {\"color\": \"#2a3f5f\"}, \"geo\": {\"bgcolor\": \"white\", \"lakecolor\": \"white\", \"landcolor\": \"#E5ECF6\", \"showlakes\": true, \"showland\": true, \"subunitcolor\": \"white\"}, \"hoverlabel\": {\"align\": \"left\"}, \"hovermode\": \"closest\", \"mapbox\": {\"style\": \"light\"}, \"paper_bgcolor\": \"white\", \"plot_bgcolor\": \"#E5ECF6\", \"polar\": {\"angularaxis\": {\"gridcolor\": \"white\", \"linecolor\": \"white\", \"ticks\": \"\"}, \"bgcolor\": \"#E5ECF6\", \"radialaxis\": {\"gridcolor\": \"white\", \"linecolor\": \"white\", \"ticks\": \"\"}}, \"scene\": {\"xaxis\": {\"backgroundcolor\": \"#E5ECF6\", \"gridcolor\": \"white\", \"gridwidth\": 2, \"linecolor\": \"white\", \"showbackground\": true, \"ticks\": \"\", \"zerolinecolor\": \"white\"}, \"yaxis\": {\"backgroundcolor\": \"#E5ECF6\", \"gridcolor\": \"white\", \"gridwidth\": 2, \"linecolor\": \"white\", \"showbackground\": true, \"ticks\": \"\", \"zerolinecolor\": \"white\"}, \"zaxis\": {\"backgroundcolor\": \"#E5ECF6\", \"gridcolor\": \"white\", \"gridwidth\": 2, \"linecolor\": \"white\", \"showbackground\": true, \"ticks\": \"\", \"zerolinecolor\": \"white\"}}, \"shapedefaults\": {\"line\": {\"color\": \"#2a3f5f\"}}, \"ternary\": {\"aaxis\": {\"gridcolor\": \"white\", \"linecolor\": \"white\", \"ticks\": \"\"}, \"baxis\": {\"gridcolor\": \"white\", \"linecolor\": \"white\", \"ticks\": \"\"}, \"bgcolor\": \"#E5ECF6\", \"caxis\": {\"gridcolor\": \"white\", \"linecolor\": \"white\", \"ticks\": \"\"}}, \"title\": {\"x\": 0.05}, \"xaxis\": {\"automargin\": true, \"gridcolor\": \"white\", \"linecolor\": \"white\", \"ticks\": \"\", \"title\": {\"standoff\": 15}, \"zerolinecolor\": \"white\", \"zerolinewidth\": 2}, \"yaxis\": {\"automargin\": true, \"gridcolor\": \"white\", \"linecolor\": \"white\", \"ticks\": \"\", \"title\": {\"standoff\": 15}, \"zerolinecolor\": \"white\", \"zerolinewidth\": 2}}}, \"title\": {\"text\": \"Maximum PM 2,5 levels registered by countries\", \"x\": 0.5, \"xanchor\": \"center\", \"y\": 0.95, \"yanchor\": \"top\"}, \"width\": 1300, \"xaxis\": {\"anchor\": \"y\", \"domain\": [0.0, 1.0], \"title\": {\"text\": \"admin\"}}, \"yaxis\": {\"anchor\": \"x\", \"domain\": [0.0, 1.0], \"title\": {\"text\": \"value\"}}},\n",
       "                        {\"responsive\": true}\n",
       "                    ).then(function(){\n",
       "                            \n",
       "var gd = document.getElementById('eaf993d2-afb8-4915-9620-10e3e8f37363');\n",
       "var x = new MutationObserver(function (mutations, observer) {{\n",
       "        var display = window.getComputedStyle(gd).display;\n",
       "        if (!display || display === 'none') {{\n",
       "            console.log([gd, 'removed!']);\n",
       "            Plotly.purge(gd);\n",
       "            observer.disconnect();\n",
       "        }}\n",
       "}});\n",
       "\n",
       "// Listen for the removal of the full notebook cells\n",
       "var notebookContainer = gd.closest('#notebook-container');\n",
       "if (notebookContainer) {{\n",
       "    x.observe(notebookContainer, {childList: true});\n",
       "}}\n",
       "\n",
       "// Listen for the clearing of the current output cell\n",
       "var outputEl = gd.closest('.output');\n",
       "if (outputEl) {{\n",
       "    x.observe(outputEl, {childList: true});\n",
       "}}\n",
       "\n",
       "                        })\n",
       "                };\n",
       "                });\n",
       "            </script>\n",
       "        </div>"
      ]
     },
     "metadata": {},
     "output_type": "display_data"
    }
   ],
   "source": [
    "fig2 = px.bar(data_frame = df_merged.groupby(\"admin\")[\"avg15\"].max().sort_values(),width = 1300)\n",
    "fig2.update_layout(\n",
    "    title={\n",
    "        'text': \"Maximum PM 2,5 levels registered by countries\",\n",
    "        'y':0.95,\n",
    "        'x':0.5,\n",
    "        'xanchor': 'center',\n",
    "        'yanchor': 'top'})\n",
    "fig2.show()"
   ]
  },
  {
   "cell_type": "markdown",
   "metadata": {},
   "source": [
    "![title](barplot_max.png)"
   ]
  },
  {
   "cell_type": "markdown",
   "metadata": {},
   "source": [
    "**Some of the stations that have the worse air quality are in Poland, Czech Republic and Italy**"
   ]
  },
  {
   "cell_type": "markdown",
   "metadata": {},
   "source": [
    "## Plotting countries with high level of pollution"
   ]
  },
  {
   "cell_type": "markdown",
   "metadata": {},
   "source": [
    "I am going to first plot a map of Poland and I am going to Increase the **\"zoom\" argument to 6**, so that we only see Poland when the map is generated, I also increased the **size_max** argument to get a better contrast"
   ]
  },
  {
   "cell_type": "code",
   "execution_count": 40,
   "metadata": {},
   "outputs": [
    {
     "data": {
      "application/vnd.plotly.v1+json": {
       "config": {
        "plotlyServerURL": "https://plot.ly"
       },
       "data": [
        {
         "customdata": [
          [
           157,
           "Poland"
          ],
          [
           291,
           "Poland"
          ],
          [
           179,
           "Poland"
          ],
          [
           157,
           "Poland"
          ]
         ],
         "hovertemplate": "<b>%{hovertext}</b><br><br>StationAre=rural<br>avg15=%{marker.size}<br>Latitude=%{lat}<br>Longitude=%{lon}<br>Altitude=%{customdata[0]}<br>admin=%{customdata[1]}<extra></extra>",
         "hovertext": [
          "KMS Puszcza Borecka",
          "Zloty Potok, Lesniczówka",
          "Osieczów",
          "Diabla Gora"
         ],
         "lat": [
          54.124819,
          50.710889,
          51.31763,
          54.15
         ],
         "legendgroup": "rural",
         "lon": [
          22.038056,
          19.458797,
          15.431719,
          22.066667
         ],
         "marker": {
          "color": "#636efa",
          "size": [
           12.482206,
           18.470833,
           14.53796,
           12.486371
          ],
          "sizemode": "area",
          "sizeref": 0.0900273975
         },
         "mode": "markers",
         "name": "rural",
         "showlegend": true,
         "subplot": "mapbox",
         "type": "scattermapbox"
        },
        {
         "customdata": [
          [
           273,
           "Poland"
          ],
          [
           40,
           "Poland"
          ],
          [
           64,
           "Poland"
          ],
          [
           144,
           "Poland"
          ],
          [
           207,
           "Poland"
          ],
          [
           226,
           "Poland"
          ],
          [
           235,
           "Poland"
          ],
          [
           206,
           "Poland"
          ],
          [
           189,
           "Poland"
          ],
          [
           101,
           "Poland"
          ],
          [
           159,
           "Poland"
          ],
          [
           102,
           "Poland"
          ],
          [
           85,
           "Poland"
          ],
          [
           119,
           "Poland"
          ],
          [
           145,
           "Poland"
          ],
          [
           128,
           "Poland"
          ],
          [
           179,
           "Poland"
          ],
          [
           25,
           "Poland"
          ],
          [
           120,
           "Poland"
          ],
          [
           120,
           "Poland"
          ],
          [
           122,
           "Poland"
          ],
          [
           424,
           "Poland"
          ],
          [
           114,
           "Poland"
          ],
          [
           215,
           "Poland"
          ],
          [
           150,
           "Poland"
          ],
          [
           181,
           "Poland"
          ],
          [
           236,
           "Poland"
          ],
          [
           67,
           "Poland"
          ],
          [
           10,
           "Poland"
          ],
          [
           156,
           "Poland"
          ],
          [
           275,
           "Poland"
          ],
          [
           15,
           "Poland"
          ],
          [
           97,
           "Poland"
          ],
          [
           277,
           "Poland"
          ],
          [
           260,
           "Poland"
          ],
          [
           119,
           "Poland"
          ],
          [
           22,
           "Poland"
          ],
          [
           156,
           "Poland"
          ],
          [
           173,
           "Poland"
          ],
          [
           203,
           "Poland"
          ],
          [
           145,
           "Poland"
          ],
          [
           6,
           "Poland"
          ],
          [
           262,
           "Poland"
          ],
          [
           372,
           "Poland"
          ],
          [
           45,
           "Poland"
          ],
          [
           223,
           "Poland"
          ],
          [
           228,
           "Poland"
          ],
          [
           132,
           "Poland"
          ],
          [
           191,
           "Poland"
          ],
          [
           180,
           "Poland"
          ],
          [
           177,
           "Poland"
          ],
          [
           223,
           "Poland"
          ],
          [
           212,
           "Poland"
          ],
          [
           204,
           "Poland"
          ],
          [
           319,
           "Poland"
          ],
          [
           62,
           "Poland"
          ],
          [
           134,
           "Poland"
          ],
          [
           155,
           "Poland"
          ],
          [
           29,
           "Poland"
          ],
          [
           202,
           "Poland"
          ],
          [
           305,
           "Poland"
          ],
          [
           340,
           "Poland"
          ],
          [
           163,
           "Poland"
          ],
          [
           264,
           "Poland"
          ],
          [
           345,
           "Poland"
          ],
          [
           160,
           "Poland"
          ],
          [
           201,
           "Poland"
          ],
          [
           96,
           "Poland"
          ],
          [
           167,
           "Poland"
          ],
          [
           120,
           "Poland"
          ]
         ],
         "hovertemplate": "<b>%{hovertext}</b><br><br>StationAre=urban<br>avg15=%{marker.size}<br>Latitude=%{lat}<br>Longitude=%{lon}<br>Altitude=%{customdata[0]}<br>admin=%{customdata[1]}<extra></extra>",
         "hovertext": [
          "Katowice, ul. Kossutha 6",
          "AM8 Gdansk Wrzeszcz",
          "Torun POLICJA",
          "BialaP-Orzechowa",
          "Lublin Ul. Sliwinskiego",
          "Zamosc ul. Hrubieszowska 69A",
          "Lódz-Widzew",
          "Lódz-Legionów 1",
          "Zgierz-Sródmiescie",
          "Plock-Reja",
          "Radom-Tochtermana",
          "Warszawa-Ursynów",
          "Warszawa-Targówek",
          "Zyrardów-Roosevelta",
          "Bialystok-Miejska",
          "Lomza Sikorskiego 48/94",
          "Suwalki, ul. Pulaskiego 73",
          "AM11 Slupsk Kniaziewicza",
          "WIOS Olsztyn ul. Puszkina",
          "WIOS Ostróda ul. Chrobrego",
          "Legnica - Rzeczypospolitej",
          "Walbrzych - Wysockiego",
          "Wroclaw - Korzeniowskiego",
          "Zgorzelec - Bohaterów Getta",
          "Zielona Góra ul. Krótka",
          "K-Kozle automat 1",
          "Gliwice, ul. Mewy 34",
          "WKPPoznan1",
          "Szczecin_Andrzejewskiego",
          "Nisko-Szklarniowa-WIOS",
          "Kielce, ul. Jagiellonska",
          "WIOS Elblag ul. Bazynskiego",
          "Plock-Gimnazjum",
          "Krosno-Kletówki",
          "Zory, Os. Gen. Wladyslawa Sikorskiego 52",
          "Wroclaw - Na Grobli",
          "Gorzów Wlkp. ul. Pilsudskiego",
          "Radom-Hallera",
          "Opole manualna 4",
          "Rzeszów-Nowe Miasto",
          "Bialystok-Warszawska",
          "Zaspa",
          "Czestochowa, ul. Zana 6",
          "Bielsko-Biala, ul. Sternicza",
          "Koszalin_Spasowskiego",
          "Kraków, ul. Bujaka",
          "Tarnów, ul. Bitwy pod Studziankami",
          "WKPKalisz",
          "Lublin ul. Obywatelska",
          "Piotrków Tryb.-Krakowskie Przedmiescie",
          "Kluczbork manualna 2",
          "Jaslo-Sikorskiego-WIOS",
          "Busko-Zdrój, ul. Rokosza",
          "Godów, ul. Gliniki",
          "Tarnowskie Góry, ul. Litewska",
          "Myslibórz_ZaBramka",
          "Szczecinek_1Maja",
          "Siedlce-Konarskiego",
          "Grudziadz Starówka",
          "Bochnia, ul. Konfederatów Barskich",
          "Nowy Sacz, ul. Nadbrzezna",
          "Trzebinia, os. Zwiazku Walki Mlodych",
          "AM12 Koscierzyna Targowa",
          "Starachowice, ul. Zlota",
          "Jelenia Góra - Oginskiego",
          "Zary, ul. Szymanowskiego 8",
          "Przemysl-Grunwaldzka-WIOS",
          "Ostroleka-Hallera",
          "Mielec-MOSIR-WIOS",
          "WpPleszew"
         ],
         "lat": [
          50.264611,
          54.380279,
          53.028647,
          52.029194,
          51.273078,
          50.716628,
          51.75805,
          51.776417,
          51.856692,
          52.550938,
          51.399084,
          52.160772,
          52.290864,
          52.053811,
          53.126689,
          53.181394,
          54.117878,
          54.463611,
          53.789233,
          53.692469,
          51.204503,
          50.768729,
          51.129378,
          51.150391,
          51.939783,
          50.349608,
          50.279333,
          52.398175,
          53.380975,
          50.529892,
          50.872549,
          54.167847,
          52.556279,
          49.690169,
          50.028681,
          51.103456,
          52.747044,
          51.415324,
          50.676856,
          50.024242,
          53.129306,
          54.398639,
          50.801918,
          49.806389,
          54.20705,
          50.010575,
          50.020169,
          51.749053,
          51.259431,
          51.404406,
          50.972181,
          49.744886,
          50.453653,
          49.921875,
          50.444736,
          52.926189,
          53.712097,
          52.172145,
          53.491831,
          49.969017,
          49.619281,
          50.159406,
          54.120694,
          51.050611,
          50.913433,
          51.642656,
          49.784339,
          53.083736,
          50.300761,
          51.885218
         ],
         "legendgroup": "urban",
         "lon": [
          18.975028,
          18.620274,
          18.666103,
          23.149389,
          22.551675,
          23.290247,
          19.529786,
          19.452936,
          19.421231,
          19.709791,
          21.147474,
          21.033819,
          21.042458,
          20.429892,
          23.155869,
          22.054381,
          22.934608,
          17.046722,
          20.486075,
          19.969778,
          16.180513,
          16.269677,
          17.02925,
          15.008175,
          15.518861,
          18.236575,
          18.655764,
          16.959519,
          14.663347,
          22.112467,
          20.604998,
          19.410942,
          19.687672,
          21.7497,
          18.691222,
          17.059225,
          15.246294,
          21.171285,
          17.950278,
          22.010575,
          23.181744,
          18.614333,
          19.106961,
          19.023194,
          16.193103,
          19.949189,
          21.004167,
          18.048389,
          22.569133,
          19.696956,
          18.207575,
          21.454617,
          20.715442,
          18.471278,
          18.829639,
          14.862558,
          16.692264,
          22.282001,
          18.752503,
          20.439511,
          20.714403,
          19.477464,
          17.975861,
          21.084175,
          15.765608,
          15.127808,
          22.756239,
          21.579322,
          21.434331,
          17.788673
         ],
         "marker": {
          "color": "#EF553B",
          "size": [
           27.273273,
           12.897218,
           18.868486,
           26.346154,
           21.293151,
           23.956164,
           22.134072,
           29.728571,
           20.457289,
           21.465559,
           28.090908,
           21.181222,
           23.627787,
           30.140162,
           19.287655,
           26.642072,
           13.33061,
           14.065972,
           16.745363,
           17.259802,
           22.905817,
           18.906728,
           23.967134,
           18.416522,
           20.787204,
           27.025765,
           30.896265,
           24.35196,
           15.355014,
           22.990962,
           25.604647,
           14.942473,
           21.413407,
           24.474444,
           27.773988,
           22.862136,
           16.646648,
           24.972535,
           21.215068,
           22.787147,
           21.247697,
           14.212885,
           26.001714,
           25.894944,
           13.471781,
           33.717808,
           25.156742,
           27.188195,
           28.158287,
           31.571388,
           20.310056,
           24.067817,
           21.007445,
           34.88745,
           29.098494,
           20.107374,
           14.334493,
           24.910774,
           26.828296,
           29.210169,
           36.010959,
           25.841226,
           22.855385,
           22.348468,
           18.372678,
           19.588286,
           25.920167,
           21.023672,
           27.10193,
           33.561364
          ],
          "sizemode": "area",
          "sizeref": 0.0900273975
         },
         "mode": "markers",
         "name": "urban",
         "showlegend": true,
         "subplot": "mapbox",
         "type": "scattermapbox"
        },
        {
         "customdata": [
          [
           57,
           "Poland"
          ],
          [
           190,
           "Poland"
          ],
          [
           91,
           "Poland"
          ],
          [
           99,
           "Poland"
          ],
          [
           100,
           "Poland"
          ]
         ],
         "hovertemplate": "<b>%{hovertext}</b><br><br>StationAre=suburban<br>avg15=%{marker.size}<br>Latitude=%{lat}<br>Longitude=%{lon}<br>Altitude=%{customdata[0]}<br>admin=%{customdata[1]}<extra></extra>",
         "hovertext": [
          "Wloclawek Sielska DMD",
          "Chelm ul. Jagiellonska",
          "Legionowo-Zegrzynska",
          "Piastów-Pulaskiego",
          "Bydgoszcz, ul. Berlinga"
         ],
         "lat": [
          52.664721,
          51.13095,
          52.407578,
          52.191728,
          53.151467
         ],
         "legendgroup": "suburban",
         "lon": [
          19.036386,
          23.514603,
          20.955928,
          20.837489,
          18.132111
         ],
         "marker": {
          "color": "#00cc96",
          "size": [
           18.383501,
           27.2,
           32.175951,
           30.466363,
           15.837606
          ],
          "sizemode": "area",
          "sizeref": 0.0900273975
         },
         "mode": "markers",
         "name": "suburban",
         "showlegend": true,
         "subplot": "mapbox",
         "type": "scattermapbox"
        }
       ],
       "layout": {
        "height": 900,
        "legend": {
         "itemsizing": "constant",
         "title": {
          "text": "StationAre"
         },
         "tracegroupgap": 0
        },
        "mapbox": {
         "center": {
          "lat": 51.78897488607595,
          "lon": 19.495621164556958
         },
         "domain": {
          "x": [
           0,
           1
          ],
          "y": [
           0,
           1
          ]
         },
         "style": "carto-positron",
         "zoom": 6
        },
        "margin": {
         "b": 0,
         "l": 0,
         "r": 0,
         "t": 0
        },
        "template": {
         "data": {
          "bar": [
           {
            "error_x": {
             "color": "#2a3f5f"
            },
            "error_y": {
             "color": "#2a3f5f"
            },
            "marker": {
             "line": {
              "color": "#E5ECF6",
              "width": 0.5
             }
            },
            "type": "bar"
           }
          ],
          "barpolar": [
           {
            "marker": {
             "line": {
              "color": "#E5ECF6",
              "width": 0.5
             }
            },
            "type": "barpolar"
           }
          ],
          "carpet": [
           {
            "aaxis": {
             "endlinecolor": "#2a3f5f",
             "gridcolor": "white",
             "linecolor": "white",
             "minorgridcolor": "white",
             "startlinecolor": "#2a3f5f"
            },
            "baxis": {
             "endlinecolor": "#2a3f5f",
             "gridcolor": "white",
             "linecolor": "white",
             "minorgridcolor": "white",
             "startlinecolor": "#2a3f5f"
            },
            "type": "carpet"
           }
          ],
          "choropleth": [
           {
            "colorbar": {
             "outlinewidth": 0,
             "ticks": ""
            },
            "type": "choropleth"
           }
          ],
          "contour": [
           {
            "colorbar": {
             "outlinewidth": 0,
             "ticks": ""
            },
            "colorscale": [
             [
              0,
              "#0d0887"
             ],
             [
              0.1111111111111111,
              "#46039f"
             ],
             [
              0.2222222222222222,
              "#7201a8"
             ],
             [
              0.3333333333333333,
              "#9c179e"
             ],
             [
              0.4444444444444444,
              "#bd3786"
             ],
             [
              0.5555555555555556,
              "#d8576b"
             ],
             [
              0.6666666666666666,
              "#ed7953"
             ],
             [
              0.7777777777777778,
              "#fb9f3a"
             ],
             [
              0.8888888888888888,
              "#fdca26"
             ],
             [
              1,
              "#f0f921"
             ]
            ],
            "type": "contour"
           }
          ],
          "contourcarpet": [
           {
            "colorbar": {
             "outlinewidth": 0,
             "ticks": ""
            },
            "type": "contourcarpet"
           }
          ],
          "heatmap": [
           {
            "colorbar": {
             "outlinewidth": 0,
             "ticks": ""
            },
            "colorscale": [
             [
              0,
              "#0d0887"
             ],
             [
              0.1111111111111111,
              "#46039f"
             ],
             [
              0.2222222222222222,
              "#7201a8"
             ],
             [
              0.3333333333333333,
              "#9c179e"
             ],
             [
              0.4444444444444444,
              "#bd3786"
             ],
             [
              0.5555555555555556,
              "#d8576b"
             ],
             [
              0.6666666666666666,
              "#ed7953"
             ],
             [
              0.7777777777777778,
              "#fb9f3a"
             ],
             [
              0.8888888888888888,
              "#fdca26"
             ],
             [
              1,
              "#f0f921"
             ]
            ],
            "type": "heatmap"
           }
          ],
          "heatmapgl": [
           {
            "colorbar": {
             "outlinewidth": 0,
             "ticks": ""
            },
            "colorscale": [
             [
              0,
              "#0d0887"
             ],
             [
              0.1111111111111111,
              "#46039f"
             ],
             [
              0.2222222222222222,
              "#7201a8"
             ],
             [
              0.3333333333333333,
              "#9c179e"
             ],
             [
              0.4444444444444444,
              "#bd3786"
             ],
             [
              0.5555555555555556,
              "#d8576b"
             ],
             [
              0.6666666666666666,
              "#ed7953"
             ],
             [
              0.7777777777777778,
              "#fb9f3a"
             ],
             [
              0.8888888888888888,
              "#fdca26"
             ],
             [
              1,
              "#f0f921"
             ]
            ],
            "type": "heatmapgl"
           }
          ],
          "histogram": [
           {
            "marker": {
             "colorbar": {
              "outlinewidth": 0,
              "ticks": ""
             }
            },
            "type": "histogram"
           }
          ],
          "histogram2d": [
           {
            "colorbar": {
             "outlinewidth": 0,
             "ticks": ""
            },
            "colorscale": [
             [
              0,
              "#0d0887"
             ],
             [
              0.1111111111111111,
              "#46039f"
             ],
             [
              0.2222222222222222,
              "#7201a8"
             ],
             [
              0.3333333333333333,
              "#9c179e"
             ],
             [
              0.4444444444444444,
              "#bd3786"
             ],
             [
              0.5555555555555556,
              "#d8576b"
             ],
             [
              0.6666666666666666,
              "#ed7953"
             ],
             [
              0.7777777777777778,
              "#fb9f3a"
             ],
             [
              0.8888888888888888,
              "#fdca26"
             ],
             [
              1,
              "#f0f921"
             ]
            ],
            "type": "histogram2d"
           }
          ],
          "histogram2dcontour": [
           {
            "colorbar": {
             "outlinewidth": 0,
             "ticks": ""
            },
            "colorscale": [
             [
              0,
              "#0d0887"
             ],
             [
              0.1111111111111111,
              "#46039f"
             ],
             [
              0.2222222222222222,
              "#7201a8"
             ],
             [
              0.3333333333333333,
              "#9c179e"
             ],
             [
              0.4444444444444444,
              "#bd3786"
             ],
             [
              0.5555555555555556,
              "#d8576b"
             ],
             [
              0.6666666666666666,
              "#ed7953"
             ],
             [
              0.7777777777777778,
              "#fb9f3a"
             ],
             [
              0.8888888888888888,
              "#fdca26"
             ],
             [
              1,
              "#f0f921"
             ]
            ],
            "type": "histogram2dcontour"
           }
          ],
          "mesh3d": [
           {
            "colorbar": {
             "outlinewidth": 0,
             "ticks": ""
            },
            "type": "mesh3d"
           }
          ],
          "parcoords": [
           {
            "line": {
             "colorbar": {
              "outlinewidth": 0,
              "ticks": ""
             }
            },
            "type": "parcoords"
           }
          ],
          "pie": [
           {
            "automargin": true,
            "type": "pie"
           }
          ],
          "scatter": [
           {
            "marker": {
             "colorbar": {
              "outlinewidth": 0,
              "ticks": ""
             }
            },
            "type": "scatter"
           }
          ],
          "scatter3d": [
           {
            "line": {
             "colorbar": {
              "outlinewidth": 0,
              "ticks": ""
             }
            },
            "marker": {
             "colorbar": {
              "outlinewidth": 0,
              "ticks": ""
             }
            },
            "type": "scatter3d"
           }
          ],
          "scattercarpet": [
           {
            "marker": {
             "colorbar": {
              "outlinewidth": 0,
              "ticks": ""
             }
            },
            "type": "scattercarpet"
           }
          ],
          "scattergeo": [
           {
            "marker": {
             "colorbar": {
              "outlinewidth": 0,
              "ticks": ""
             }
            },
            "type": "scattergeo"
           }
          ],
          "scattergl": [
           {
            "marker": {
             "colorbar": {
              "outlinewidth": 0,
              "ticks": ""
             }
            },
            "type": "scattergl"
           }
          ],
          "scattermapbox": [
           {
            "marker": {
             "colorbar": {
              "outlinewidth": 0,
              "ticks": ""
             }
            },
            "type": "scattermapbox"
           }
          ],
          "scatterpolar": [
           {
            "marker": {
             "colorbar": {
              "outlinewidth": 0,
              "ticks": ""
             }
            },
            "type": "scatterpolar"
           }
          ],
          "scatterpolargl": [
           {
            "marker": {
             "colorbar": {
              "outlinewidth": 0,
              "ticks": ""
             }
            },
            "type": "scatterpolargl"
           }
          ],
          "scatterternary": [
           {
            "marker": {
             "colorbar": {
              "outlinewidth": 0,
              "ticks": ""
             }
            },
            "type": "scatterternary"
           }
          ],
          "surface": [
           {
            "colorbar": {
             "outlinewidth": 0,
             "ticks": ""
            },
            "colorscale": [
             [
              0,
              "#0d0887"
             ],
             [
              0.1111111111111111,
              "#46039f"
             ],
             [
              0.2222222222222222,
              "#7201a8"
             ],
             [
              0.3333333333333333,
              "#9c179e"
             ],
             [
              0.4444444444444444,
              "#bd3786"
             ],
             [
              0.5555555555555556,
              "#d8576b"
             ],
             [
              0.6666666666666666,
              "#ed7953"
             ],
             [
              0.7777777777777778,
              "#fb9f3a"
             ],
             [
              0.8888888888888888,
              "#fdca26"
             ],
             [
              1,
              "#f0f921"
             ]
            ],
            "type": "surface"
           }
          ],
          "table": [
           {
            "cells": {
             "fill": {
              "color": "#EBF0F8"
             },
             "line": {
              "color": "white"
             }
            },
            "header": {
             "fill": {
              "color": "#C8D4E3"
             },
             "line": {
              "color": "white"
             }
            },
            "type": "table"
           }
          ]
         },
         "layout": {
          "annotationdefaults": {
           "arrowcolor": "#2a3f5f",
           "arrowhead": 0,
           "arrowwidth": 1
          },
          "coloraxis": {
           "colorbar": {
            "outlinewidth": 0,
            "ticks": ""
           }
          },
          "colorscale": {
           "diverging": [
            [
             0,
             "#8e0152"
            ],
            [
             0.1,
             "#c51b7d"
            ],
            [
             0.2,
             "#de77ae"
            ],
            [
             0.3,
             "#f1b6da"
            ],
            [
             0.4,
             "#fde0ef"
            ],
            [
             0.5,
             "#f7f7f7"
            ],
            [
             0.6,
             "#e6f5d0"
            ],
            [
             0.7,
             "#b8e186"
            ],
            [
             0.8,
             "#7fbc41"
            ],
            [
             0.9,
             "#4d9221"
            ],
            [
             1,
             "#276419"
            ]
           ],
           "sequential": [
            [
             0,
             "#0d0887"
            ],
            [
             0.1111111111111111,
             "#46039f"
            ],
            [
             0.2222222222222222,
             "#7201a8"
            ],
            [
             0.3333333333333333,
             "#9c179e"
            ],
            [
             0.4444444444444444,
             "#bd3786"
            ],
            [
             0.5555555555555556,
             "#d8576b"
            ],
            [
             0.6666666666666666,
             "#ed7953"
            ],
            [
             0.7777777777777778,
             "#fb9f3a"
            ],
            [
             0.8888888888888888,
             "#fdca26"
            ],
            [
             1,
             "#f0f921"
            ]
           ],
           "sequentialminus": [
            [
             0,
             "#0d0887"
            ],
            [
             0.1111111111111111,
             "#46039f"
            ],
            [
             0.2222222222222222,
             "#7201a8"
            ],
            [
             0.3333333333333333,
             "#9c179e"
            ],
            [
             0.4444444444444444,
             "#bd3786"
            ],
            [
             0.5555555555555556,
             "#d8576b"
            ],
            [
             0.6666666666666666,
             "#ed7953"
            ],
            [
             0.7777777777777778,
             "#fb9f3a"
            ],
            [
             0.8888888888888888,
             "#fdca26"
            ],
            [
             1,
             "#f0f921"
            ]
           ]
          },
          "colorway": [
           "#636efa",
           "#EF553B",
           "#00cc96",
           "#ab63fa",
           "#FFA15A",
           "#19d3f3",
           "#FF6692",
           "#B6E880",
           "#FF97FF",
           "#FECB52"
          ],
          "font": {
           "color": "#2a3f5f"
          },
          "geo": {
           "bgcolor": "white",
           "lakecolor": "white",
           "landcolor": "#E5ECF6",
           "showlakes": true,
           "showland": true,
           "subunitcolor": "white"
          },
          "hoverlabel": {
           "align": "left"
          },
          "hovermode": "closest",
          "mapbox": {
           "style": "light"
          },
          "paper_bgcolor": "white",
          "plot_bgcolor": "#E5ECF6",
          "polar": {
           "angularaxis": {
            "gridcolor": "white",
            "linecolor": "white",
            "ticks": ""
           },
           "bgcolor": "#E5ECF6",
           "radialaxis": {
            "gridcolor": "white",
            "linecolor": "white",
            "ticks": ""
           }
          },
          "scene": {
           "xaxis": {
            "backgroundcolor": "#E5ECF6",
            "gridcolor": "white",
            "gridwidth": 2,
            "linecolor": "white",
            "showbackground": true,
            "ticks": "",
            "zerolinecolor": "white"
           },
           "yaxis": {
            "backgroundcolor": "#E5ECF6",
            "gridcolor": "white",
            "gridwidth": 2,
            "linecolor": "white",
            "showbackground": true,
            "ticks": "",
            "zerolinecolor": "white"
           },
           "zaxis": {
            "backgroundcolor": "#E5ECF6",
            "gridcolor": "white",
            "gridwidth": 2,
            "linecolor": "white",
            "showbackground": true,
            "ticks": "",
            "zerolinecolor": "white"
           }
          },
          "shapedefaults": {
           "line": {
            "color": "#2a3f5f"
           }
          },
          "ternary": {
           "aaxis": {
            "gridcolor": "white",
            "linecolor": "white",
            "ticks": ""
           },
           "baxis": {
            "gridcolor": "white",
            "linecolor": "white",
            "ticks": ""
           },
           "bgcolor": "#E5ECF6",
           "caxis": {
            "gridcolor": "white",
            "linecolor": "white",
            "ticks": ""
           }
          },
          "title": {
           "x": 0.05
          },
          "xaxis": {
           "automargin": true,
           "gridcolor": "white",
           "linecolor": "white",
           "ticks": "",
           "title": {
            "standoff": 15
           },
           "zerolinecolor": "white",
           "zerolinewidth": 2
          },
          "yaxis": {
           "automargin": true,
           "gridcolor": "white",
           "linecolor": "white",
           "ticks": "",
           "title": {
            "standoff": 15
           },
           "zerolinecolor": "white",
           "zerolinewidth": 2
          }
         }
        },
        "title": {
         "text": "Air quality level in Poland 2018"
        },
        "width": 1300
       }
      },
      "text/html": [
       "<div>\n",
       "        \n",
       "        \n",
       "            <div id=\"532a9858-43e1-45a4-a661-889ec4a0e83b\" class=\"plotly-graph-div\" style=\"height:900px; width:1300px;\"></div>\n",
       "            <script type=\"text/javascript\">\n",
       "                require([\"plotly\"], function(Plotly) {\n",
       "                    window.PLOTLYENV=window.PLOTLYENV || {};\n",
       "                    \n",
       "                if (document.getElementById(\"532a9858-43e1-45a4-a661-889ec4a0e83b\")) {\n",
       "                    Plotly.newPlot(\n",
       "                        '532a9858-43e1-45a4-a661-889ec4a0e83b',\n",
       "                        [{\"customdata\": [[157.0, \"Poland\"], [291.0, \"Poland\"], [179.0, \"Poland\"], [157.0, \"Poland\"]], \"hovertemplate\": \"<b>%{hovertext}</b><br><br>StationAre=rural<br>avg15=%{marker.size}<br>Latitude=%{lat}<br>Longitude=%{lon}<br>Altitude=%{customdata[0]}<br>admin=%{customdata[1]}<extra></extra>\", \"hovertext\": [\"KMS Puszcza Borecka\", \"Zloty Potok, Lesnicz\\u00f3wka\", \"Osiecz\\u00f3w\", \"Diabla Gora\"], \"lat\": [54.124819, 50.710889, 51.31763, 54.15], \"legendgroup\": \"rural\", \"lon\": [22.038056, 19.458797, 15.431719, 22.066667], \"marker\": {\"color\": \"#636efa\", \"size\": [12.482206, 18.470833, 14.53796, 12.486371], \"sizemode\": \"area\", \"sizeref\": 0.0900273975}, \"mode\": \"markers\", \"name\": \"rural\", \"showlegend\": true, \"subplot\": \"mapbox\", \"type\": \"scattermapbox\"}, {\"customdata\": [[273.0, \"Poland\"], [40.0, \"Poland\"], [64.0, \"Poland\"], [144.0, \"Poland\"], [207.0, \"Poland\"], [226.0, \"Poland\"], [235.0, \"Poland\"], [206.0, \"Poland\"], [189.0, \"Poland\"], [101.0, \"Poland\"], [159.0, \"Poland\"], [102.0, \"Poland\"], [85.0, \"Poland\"], [119.0, \"Poland\"], [145.0, \"Poland\"], [128.0, \"Poland\"], [179.0, \"Poland\"], [25.0, \"Poland\"], [120.0, \"Poland\"], [120.0, \"Poland\"], [122.0, \"Poland\"], [424.0, \"Poland\"], [114.0, \"Poland\"], [215.0, \"Poland\"], [150.0, \"Poland\"], [181.0, \"Poland\"], [236.0, \"Poland\"], [67.0, \"Poland\"], [10.0, \"Poland\"], [156.0, \"Poland\"], [275.0, \"Poland\"], [15.0, \"Poland\"], [97.0, \"Poland\"], [277.0, \"Poland\"], [260.0, \"Poland\"], [119.0, \"Poland\"], [22.0, \"Poland\"], [156.0, \"Poland\"], [173.0, \"Poland\"], [203.0, \"Poland\"], [145.0, \"Poland\"], [6.0, \"Poland\"], [262.0, \"Poland\"], [372.0, \"Poland\"], [45.0, \"Poland\"], [223.0, \"Poland\"], [228.0, \"Poland\"], [132.0, \"Poland\"], [191.0, \"Poland\"], [180.0, \"Poland\"], [177.0, \"Poland\"], [223.0, \"Poland\"], [212.0, \"Poland\"], [204.0, \"Poland\"], [319.0, \"Poland\"], [62.0, \"Poland\"], [134.0, \"Poland\"], [155.0, \"Poland\"], [29.0, \"Poland\"], [202.0, \"Poland\"], [305.0, \"Poland\"], [340.0, \"Poland\"], [163.0, \"Poland\"], [264.0, \"Poland\"], [345.0, \"Poland\"], [160.0, \"Poland\"], [201.0, \"Poland\"], [96.0, \"Poland\"], [167.0, \"Poland\"], [120.0, \"Poland\"]], \"hovertemplate\": \"<b>%{hovertext}</b><br><br>StationAre=urban<br>avg15=%{marker.size}<br>Latitude=%{lat}<br>Longitude=%{lon}<br>Altitude=%{customdata[0]}<br>admin=%{customdata[1]}<extra></extra>\", \"hovertext\": [\"Katowice, ul. Kossutha 6\", \"AM8 Gdansk Wrzeszcz\", \"Torun POLICJA\", \"BialaP-Orzechowa\", \"Lublin Ul. Sliwinskiego\", \"Zamosc ul. Hrubieszowska 69A\", \"L\\u00f3dz-Widzew\", \"L\\u00f3dz-Legion\\u00f3w 1\", \"Zgierz-Sr\\u00f3dmiescie\", \"Plock-Reja\", \"Radom-Tochtermana\", \"Warszawa-Ursyn\\u00f3w\", \"Warszawa-Targ\\u00f3wek\", \"Zyrard\\u00f3w-Roosevelta\", \"Bialystok-Miejska\", \"Lomza Sikorskiego 48/94\", \"Suwalki, ul. Pulaskiego 73\", \"AM11 Slupsk Kniaziewicza\", \"WIOS Olsztyn ul. Puszkina\", \"WIOS Ostr\\u00f3da ul. Chrobrego\", \"Legnica - Rzeczypospolitej\", \"Walbrzych - Wysockiego\", \"Wroclaw - Korzeniowskiego\", \"Zgorzelec - Bohater\\u00f3w Getta\", \"Zielona G\\u00f3ra ul. Kr\\u00f3tka\", \"K-Kozle automat 1\", \"Gliwice, ul. Mewy 34\", \"WKPPoznan1\", \"Szczecin_Andrzejewskiego\", \"Nisko-Szklarniowa-WIOS\", \"Kielce, ul. Jagiellonska\", \"WIOS Elblag ul. Bazynskiego\", \"Plock-Gimnazjum\", \"Krosno-Klet\\u00f3wki\", \"Zory, Os. Gen. Wladyslawa Sikorskiego 52\", \"Wroclaw - Na Grobli\", \"Gorz\\u00f3w Wlkp. ul. Pilsudskiego\", \"Radom-Hallera\", \"Opole manualna 4\", \"Rzesz\\u00f3w-Nowe Miasto\", \"Bialystok-Warszawska\", \"Zaspa\", \"Czestochowa, ul. Zana 6\", \"Bielsko-Biala, ul. Sternicza\", \"Koszalin_Spasowskiego\", \"Krak\\u00f3w, ul. Bujaka\", \"Tarn\\u00f3w, ul. Bitwy pod Studziankami\", \"WKPKalisz\", \"Lublin ul. Obywatelska\", \"Piotrk\\u00f3w Tryb.-Krakowskie Przedmiescie\", \"Kluczbork manualna 2\", \"Jaslo-Sikorskiego-WIOS\", \"Busko-Zdr\\u00f3j, ul. Rokosza\", \"God\\u00f3w, ul. Gliniki\", \"Tarnowskie G\\u00f3ry, ul. Litewska\", \"Myslib\\u00f3rz_ZaBramka\", \"Szczecinek_1Maja\", \"Siedlce-Konarskiego\", \"Grudziadz Star\\u00f3wka\", \"Bochnia, ul. Konfederat\\u00f3w Barskich\", \"Nowy Sacz, ul. Nadbrzezna\", \"Trzebinia, os. Zwiazku Walki Mlodych\", \"AM12 Koscierzyna Targowa\", \"Starachowice, ul. Zlota\", \"Jelenia G\\u00f3ra - Oginskiego\", \"Zary, ul. Szymanowskiego 8\", \"Przemysl-Grunwaldzka-WIOS\", \"Ostroleka-Hallera\", \"Mielec-MOSIR-WIOS\", \"WpPleszew\"], \"lat\": [50.264611, 54.380279, 53.028647, 52.029194, 51.273078, 50.716628, 51.75805, 51.776417, 51.856692, 52.550938, 51.399084, 52.160772, 52.290864, 52.053811, 53.126689, 53.181394, 54.117878, 54.463611, 53.789233, 53.692469, 51.204503, 50.768729, 51.129378, 51.150391, 51.939783, 50.349608, 50.279333, 52.398175, 53.380975, 50.529892, 50.872549, 54.167847, 52.556279, 49.690169, 50.028681, 51.103456, 52.747044, 51.415324, 50.676856, 50.024242, 53.129306, 54.398639, 50.801918, 49.806389, 54.20705, 50.010575, 50.020169, 51.749053, 51.259431, 51.404406, 50.972181, 49.744886, 50.453653, 49.921875, 50.444736, 52.926189, 53.712097, 52.172145, 53.491831, 49.969017, 49.619281, 50.159406, 54.120694, 51.050611, 50.913433, 51.642656, 49.784339, 53.083736, 50.300761, 51.885218], \"legendgroup\": \"urban\", \"lon\": [18.975028, 18.620274, 18.666103, 23.149389, 22.551675, 23.290247, 19.529786, 19.452936, 19.421231, 19.709791, 21.147474, 21.033819, 21.042458, 20.429892, 23.155869, 22.054381, 22.934608, 17.046722, 20.486075, 19.969778, 16.180513, 16.269677, 17.02925, 15.008175, 15.518861, 18.236575, 18.655764, 16.959519, 14.663347, 22.112467, 20.604998, 19.410942, 19.687672, 21.7497, 18.691222, 17.059225, 15.246294, 21.171285, 17.950278, 22.010575, 23.181744, 18.614333, 19.106961, 19.023194, 16.193103, 19.949189, 21.004167, 18.048389, 22.569133, 19.696956, 18.207575, 21.454617, 20.715442, 18.471278, 18.829639, 14.862558, 16.692264, 22.282001, 18.752503, 20.439511, 20.714403, 19.477464, 17.975861, 21.084175, 15.765608, 15.127808, 22.756239, 21.579322, 21.434331, 17.788673], \"marker\": {\"color\": \"#EF553B\", \"size\": [27.273273, 12.897218, 18.868486, 26.346154, 21.293151, 23.956164, 22.134072, 29.728571, 20.457289, 21.465559, 28.090908, 21.181222, 23.627787, 30.140162, 19.287655, 26.642072, 13.33061, 14.065972, 16.745363, 17.259802, 22.905817, 18.906728, 23.967134, 18.416522, 20.787204, 27.025765, 30.896265, 24.35196, 15.355014, 22.990962, 25.604647, 14.942473, 21.413407, 24.474444, 27.773988, 22.862136, 16.646648, 24.972535, 21.215068, 22.787147, 21.247697, 14.212885, 26.001714, 25.894944, 13.471781, 33.717808, 25.156742, 27.188195, 28.158287, 31.571388, 20.310056, 24.067817, 21.007445, 34.88745, 29.098494, 20.107374, 14.334493, 24.910774, 26.828296, 29.210169, 36.010959, 25.841226, 22.855385, 22.348468, 18.372678, 19.588286, 25.920167, 21.023672, 27.10193, 33.561364], \"sizemode\": \"area\", \"sizeref\": 0.0900273975}, \"mode\": \"markers\", \"name\": \"urban\", \"showlegend\": true, \"subplot\": \"mapbox\", \"type\": \"scattermapbox\"}, {\"customdata\": [[57.0, \"Poland\"], [190.0, \"Poland\"], [91.0, \"Poland\"], [99.0, \"Poland\"], [100.0, \"Poland\"]], \"hovertemplate\": \"<b>%{hovertext}</b><br><br>StationAre=suburban<br>avg15=%{marker.size}<br>Latitude=%{lat}<br>Longitude=%{lon}<br>Altitude=%{customdata[0]}<br>admin=%{customdata[1]}<extra></extra>\", \"hovertext\": [\"Wloclawek Sielska DMD\", \"Chelm ul. Jagiellonska\", \"Legionowo-Zegrzynska\", \"Piast\\u00f3w-Pulaskiego\", \"Bydgoszcz, ul. Berlinga\"], \"lat\": [52.664721, 51.13095, 52.407578, 52.191728, 53.151467], \"legendgroup\": \"suburban\", \"lon\": [19.036386, 23.514603, 20.955928, 20.837489, 18.132111], \"marker\": {\"color\": \"#00cc96\", \"size\": [18.383501, 27.2, 32.175951, 30.466363, 15.837606], \"sizemode\": \"area\", \"sizeref\": 0.0900273975}, \"mode\": \"markers\", \"name\": \"suburban\", \"showlegend\": true, \"subplot\": \"mapbox\", \"type\": \"scattermapbox\"}],\n",
       "                        {\"height\": 900, \"legend\": {\"itemsizing\": \"constant\", \"title\": {\"text\": \"StationAre\"}, \"tracegroupgap\": 0}, \"mapbox\": {\"center\": {\"lat\": 51.78897488607595, \"lon\": 19.495621164556958}, \"domain\": {\"x\": [0.0, 1.0], \"y\": [0.0, 1.0]}, \"style\": \"carto-positron\", \"zoom\": 6}, \"margin\": {\"b\": 0, \"l\": 0, \"r\": 0, \"t\": 0}, \"template\": {\"data\": {\"bar\": [{\"error_x\": {\"color\": \"#2a3f5f\"}, \"error_y\": {\"color\": \"#2a3f5f\"}, \"marker\": {\"line\": {\"color\": \"#E5ECF6\", \"width\": 0.5}}, \"type\": \"bar\"}], \"barpolar\": [{\"marker\": {\"line\": {\"color\": \"#E5ECF6\", \"width\": 0.5}}, \"type\": \"barpolar\"}], \"carpet\": [{\"aaxis\": {\"endlinecolor\": \"#2a3f5f\", \"gridcolor\": \"white\", \"linecolor\": \"white\", \"minorgridcolor\": \"white\", \"startlinecolor\": \"#2a3f5f\"}, \"baxis\": {\"endlinecolor\": \"#2a3f5f\", \"gridcolor\": \"white\", \"linecolor\": \"white\", \"minorgridcolor\": \"white\", \"startlinecolor\": \"#2a3f5f\"}, \"type\": \"carpet\"}], \"choropleth\": [{\"colorbar\": {\"outlinewidth\": 0, \"ticks\": \"\"}, \"type\": \"choropleth\"}], \"contour\": [{\"colorbar\": {\"outlinewidth\": 0, \"ticks\": \"\"}, \"colorscale\": [[0.0, \"#0d0887\"], [0.1111111111111111, \"#46039f\"], [0.2222222222222222, \"#7201a8\"], [0.3333333333333333, \"#9c179e\"], [0.4444444444444444, \"#bd3786\"], [0.5555555555555556, \"#d8576b\"], [0.6666666666666666, \"#ed7953\"], [0.7777777777777778, \"#fb9f3a\"], [0.8888888888888888, \"#fdca26\"], [1.0, \"#f0f921\"]], \"type\": \"contour\"}], \"contourcarpet\": [{\"colorbar\": {\"outlinewidth\": 0, \"ticks\": \"\"}, \"type\": \"contourcarpet\"}], \"heatmap\": [{\"colorbar\": {\"outlinewidth\": 0, \"ticks\": \"\"}, \"colorscale\": [[0.0, \"#0d0887\"], [0.1111111111111111, \"#46039f\"], [0.2222222222222222, \"#7201a8\"], [0.3333333333333333, \"#9c179e\"], [0.4444444444444444, \"#bd3786\"], [0.5555555555555556, \"#d8576b\"], [0.6666666666666666, \"#ed7953\"], [0.7777777777777778, \"#fb9f3a\"], [0.8888888888888888, \"#fdca26\"], [1.0, \"#f0f921\"]], \"type\": \"heatmap\"}], \"heatmapgl\": [{\"colorbar\": {\"outlinewidth\": 0, \"ticks\": \"\"}, \"colorscale\": [[0.0, \"#0d0887\"], [0.1111111111111111, \"#46039f\"], [0.2222222222222222, \"#7201a8\"], [0.3333333333333333, \"#9c179e\"], [0.4444444444444444, \"#bd3786\"], [0.5555555555555556, \"#d8576b\"], [0.6666666666666666, \"#ed7953\"], [0.7777777777777778, \"#fb9f3a\"], [0.8888888888888888, \"#fdca26\"], [1.0, \"#f0f921\"]], \"type\": \"heatmapgl\"}], \"histogram\": [{\"marker\": {\"colorbar\": {\"outlinewidth\": 0, \"ticks\": \"\"}}, \"type\": \"histogram\"}], \"histogram2d\": [{\"colorbar\": {\"outlinewidth\": 0, \"ticks\": \"\"}, \"colorscale\": [[0.0, \"#0d0887\"], [0.1111111111111111, \"#46039f\"], [0.2222222222222222, \"#7201a8\"], [0.3333333333333333, \"#9c179e\"], [0.4444444444444444, \"#bd3786\"], [0.5555555555555556, \"#d8576b\"], [0.6666666666666666, \"#ed7953\"], [0.7777777777777778, \"#fb9f3a\"], [0.8888888888888888, \"#fdca26\"], [1.0, \"#f0f921\"]], \"type\": \"histogram2d\"}], \"histogram2dcontour\": [{\"colorbar\": {\"outlinewidth\": 0, \"ticks\": \"\"}, \"colorscale\": [[0.0, \"#0d0887\"], [0.1111111111111111, \"#46039f\"], [0.2222222222222222, \"#7201a8\"], [0.3333333333333333, \"#9c179e\"], [0.4444444444444444, \"#bd3786\"], [0.5555555555555556, \"#d8576b\"], [0.6666666666666666, \"#ed7953\"], [0.7777777777777778, \"#fb9f3a\"], [0.8888888888888888, \"#fdca26\"], [1.0, \"#f0f921\"]], \"type\": \"histogram2dcontour\"}], \"mesh3d\": [{\"colorbar\": {\"outlinewidth\": 0, \"ticks\": \"\"}, \"type\": \"mesh3d\"}], \"parcoords\": [{\"line\": {\"colorbar\": {\"outlinewidth\": 0, \"ticks\": \"\"}}, \"type\": \"parcoords\"}], \"pie\": [{\"automargin\": true, \"type\": \"pie\"}], \"scatter\": [{\"marker\": {\"colorbar\": {\"outlinewidth\": 0, \"ticks\": \"\"}}, \"type\": \"scatter\"}], \"scatter3d\": [{\"line\": {\"colorbar\": {\"outlinewidth\": 0, \"ticks\": \"\"}}, \"marker\": {\"colorbar\": {\"outlinewidth\": 0, \"ticks\": \"\"}}, \"type\": \"scatter3d\"}], \"scattercarpet\": [{\"marker\": {\"colorbar\": {\"outlinewidth\": 0, \"ticks\": \"\"}}, \"type\": \"scattercarpet\"}], \"scattergeo\": [{\"marker\": {\"colorbar\": {\"outlinewidth\": 0, \"ticks\": \"\"}}, \"type\": \"scattergeo\"}], \"scattergl\": [{\"marker\": {\"colorbar\": {\"outlinewidth\": 0, \"ticks\": \"\"}}, \"type\": \"scattergl\"}], \"scattermapbox\": [{\"marker\": {\"colorbar\": {\"outlinewidth\": 0, \"ticks\": \"\"}}, \"type\": \"scattermapbox\"}], \"scatterpolar\": [{\"marker\": {\"colorbar\": {\"outlinewidth\": 0, \"ticks\": \"\"}}, \"type\": \"scatterpolar\"}], \"scatterpolargl\": [{\"marker\": {\"colorbar\": {\"outlinewidth\": 0, \"ticks\": \"\"}}, \"type\": \"scatterpolargl\"}], \"scatterternary\": [{\"marker\": {\"colorbar\": {\"outlinewidth\": 0, \"ticks\": \"\"}}, \"type\": \"scatterternary\"}], \"surface\": [{\"colorbar\": {\"outlinewidth\": 0, \"ticks\": \"\"}, \"colorscale\": [[0.0, \"#0d0887\"], [0.1111111111111111, \"#46039f\"], [0.2222222222222222, \"#7201a8\"], [0.3333333333333333, \"#9c179e\"], [0.4444444444444444, \"#bd3786\"], [0.5555555555555556, \"#d8576b\"], [0.6666666666666666, \"#ed7953\"], [0.7777777777777778, \"#fb9f3a\"], [0.8888888888888888, \"#fdca26\"], [1.0, \"#f0f921\"]], \"type\": \"surface\"}], \"table\": [{\"cells\": {\"fill\": {\"color\": \"#EBF0F8\"}, \"line\": {\"color\": \"white\"}}, \"header\": {\"fill\": {\"color\": \"#C8D4E3\"}, \"line\": {\"color\": \"white\"}}, \"type\": \"table\"}]}, \"layout\": {\"annotationdefaults\": {\"arrowcolor\": \"#2a3f5f\", \"arrowhead\": 0, \"arrowwidth\": 1}, \"coloraxis\": {\"colorbar\": {\"outlinewidth\": 0, \"ticks\": \"\"}}, \"colorscale\": {\"diverging\": [[0, \"#8e0152\"], [0.1, \"#c51b7d\"], [0.2, \"#de77ae\"], [0.3, \"#f1b6da\"], [0.4, \"#fde0ef\"], [0.5, \"#f7f7f7\"], [0.6, \"#e6f5d0\"], [0.7, \"#b8e186\"], [0.8, \"#7fbc41\"], [0.9, \"#4d9221\"], [1, \"#276419\"]], \"sequential\": [[0.0, \"#0d0887\"], [0.1111111111111111, \"#46039f\"], [0.2222222222222222, \"#7201a8\"], [0.3333333333333333, \"#9c179e\"], [0.4444444444444444, \"#bd3786\"], [0.5555555555555556, \"#d8576b\"], [0.6666666666666666, \"#ed7953\"], [0.7777777777777778, \"#fb9f3a\"], [0.8888888888888888, \"#fdca26\"], [1.0, \"#f0f921\"]], \"sequentialminus\": [[0.0, \"#0d0887\"], [0.1111111111111111, \"#46039f\"], [0.2222222222222222, \"#7201a8\"], [0.3333333333333333, \"#9c179e\"], [0.4444444444444444, \"#bd3786\"], [0.5555555555555556, \"#d8576b\"], [0.6666666666666666, \"#ed7953\"], [0.7777777777777778, \"#fb9f3a\"], [0.8888888888888888, \"#fdca26\"], [1.0, \"#f0f921\"]]}, \"colorway\": [\"#636efa\", \"#EF553B\", \"#00cc96\", \"#ab63fa\", \"#FFA15A\", \"#19d3f3\", \"#FF6692\", \"#B6E880\", \"#FF97FF\", \"#FECB52\"], \"font\": {\"color\": \"#2a3f5f\"}, \"geo\": {\"bgcolor\": \"white\", \"lakecolor\": \"white\", \"landcolor\": \"#E5ECF6\", \"showlakes\": true, \"showland\": true, \"subunitcolor\": \"white\"}, \"hoverlabel\": {\"align\": \"left\"}, \"hovermode\": \"closest\", \"mapbox\": {\"style\": \"light\"}, \"paper_bgcolor\": \"white\", \"plot_bgcolor\": \"#E5ECF6\", \"polar\": {\"angularaxis\": {\"gridcolor\": \"white\", \"linecolor\": \"white\", \"ticks\": \"\"}, \"bgcolor\": \"#E5ECF6\", \"radialaxis\": {\"gridcolor\": \"white\", \"linecolor\": \"white\", \"ticks\": \"\"}}, \"scene\": {\"xaxis\": {\"backgroundcolor\": \"#E5ECF6\", \"gridcolor\": \"white\", \"gridwidth\": 2, \"linecolor\": \"white\", \"showbackground\": true, \"ticks\": \"\", \"zerolinecolor\": \"white\"}, \"yaxis\": {\"backgroundcolor\": \"#E5ECF6\", \"gridcolor\": \"white\", \"gridwidth\": 2, \"linecolor\": \"white\", \"showbackground\": true, \"ticks\": \"\", \"zerolinecolor\": \"white\"}, \"zaxis\": {\"backgroundcolor\": \"#E5ECF6\", \"gridcolor\": \"white\", \"gridwidth\": 2, \"linecolor\": \"white\", \"showbackground\": true, \"ticks\": \"\", \"zerolinecolor\": \"white\"}}, \"shapedefaults\": {\"line\": {\"color\": \"#2a3f5f\"}}, \"ternary\": {\"aaxis\": {\"gridcolor\": \"white\", \"linecolor\": \"white\", \"ticks\": \"\"}, \"baxis\": {\"gridcolor\": \"white\", \"linecolor\": \"white\", \"ticks\": \"\"}, \"bgcolor\": \"#E5ECF6\", \"caxis\": {\"gridcolor\": \"white\", \"linecolor\": \"white\", \"ticks\": \"\"}}, \"title\": {\"x\": 0.05}, \"xaxis\": {\"automargin\": true, \"gridcolor\": \"white\", \"linecolor\": \"white\", \"ticks\": \"\", \"title\": {\"standoff\": 15}, \"zerolinecolor\": \"white\", \"zerolinewidth\": 2}, \"yaxis\": {\"automargin\": true, \"gridcolor\": \"white\", \"linecolor\": \"white\", \"ticks\": \"\", \"title\": {\"standoff\": 15}, \"zerolinecolor\": \"white\", \"zerolinewidth\": 2}}}, \"title\": {\"text\": \"Air quality level in Poland 2018\"}, \"width\": 1300},\n",
       "                        {\"responsive\": true}\n",
       "                    ).then(function(){\n",
       "                            \n",
       "var gd = document.getElementById('532a9858-43e1-45a4-a661-889ec4a0e83b');\n",
       "var x = new MutationObserver(function (mutations, observer) {{\n",
       "        var display = window.getComputedStyle(gd).display;\n",
       "        if (!display || display === 'none') {{\n",
       "            console.log([gd, 'removed!']);\n",
       "            Plotly.purge(gd);\n",
       "            observer.disconnect();\n",
       "        }}\n",
       "}});\n",
       "\n",
       "// Listen for the removal of the full notebook cells\n",
       "var notebookContainer = gd.closest('#notebook-container');\n",
       "if (notebookContainer) {{\n",
       "    x.observe(notebookContainer, {childList: true});\n",
       "}}\n",
       "\n",
       "// Listen for the clearing of the current output cell\n",
       "var outputEl = gd.closest('.output');\n",
       "if (outputEl) {{\n",
       "    x.observe(outputEl, {childList: true});\n",
       "}}\n",
       "\n",
       "                        })\n",
       "                };\n",
       "                });\n",
       "            </script>\n",
       "        </div>"
      ]
     },
     "metadata": {},
     "output_type": "display_data"
    }
   ],
   "source": [
    "fig = px.scatter_mapbox(df_merged[df_merged[\"admin\"]==\"Poland\"], lat=\"Latitude\", lon=\"Longitude\", \n",
    "                        hover_name=\"StationNam\",hover_data=[\"Altitude\",\"admin\"],\n",
    "                        color=\"StationAre\", zoom=6, height=900,size=\"avg15\",size_max=20, title =\"Air quality level in Poland 2018\" ,width=1300)\n",
    "fig.update_layout(mapbox_style='carto-positron')\n",
    "fig.update_layout(margin={\"r\":0,\"t\":0,\"l\":0,\"b\":0})\n",
    "fig.show()"
   ]
  },
  {
   "cell_type": "markdown",
   "metadata": {},
   "source": [
    "![title](poland.png)"
   ]
  },
  {
   "cell_type": "markdown",
   "metadata": {},
   "source": [
    "**Southern part of Poland appears to have a poor quality of Air, as it has more urban centers**"
   ]
  },
  {
   "cell_type": "markdown",
   "metadata": {},
   "source": [
    "I am going to plot Italy, I am going to decrease the value of **zoom to 5** just so that Italy is in focus when the map is generated, I again made **size_max = 15** "
   ]
  },
  {
   "cell_type": "code",
   "execution_count": 41,
   "metadata": {},
   "outputs": [
    {
     "data": {
      "application/vnd.plotly.v1+json": {
       "config": {
        "plotlyServerURL": "https://plot.ly"
       },
       "data": [
        {
         "customdata": [
          [
           61
          ],
          [
           948
          ],
          [
           388
          ],
          [
           -2
          ],
          [
           11
          ],
          [
           115
          ],
          [
           48
          ],
          [
           14
          ],
          [
           10
          ],
          [
           110
          ],
          [
           1192
          ],
          [
           16
          ],
          [
           209
          ],
          [
           620
          ],
          [
           202
          ],
          [
           22
          ],
          [
           165
          ],
          [
           0
          ],
          [
           4
          ],
          [
           48
          ],
          [
           1
          ],
          [
           258
          ],
          [
           420
          ],
          [
           811
          ],
          [
           1038
          ],
          [
           268
          ],
          [
           150
          ],
          [
           150
          ]
         ],
         "hovertemplate": "<b>%{hovertext}</b><br><br>StationAre=rural<br>avg15=%{marker.size}<br>Latitude=%{lat}<br>Longitude=%{lon}<br>Altitude=%{customdata[0]}<extra></extra>",
         "hovertext": [
          "CASTEL DI GUIDO",
          "LEONESSA",
          "FONTECHIARI",
          "GHERARDI",
          "SAN PIETRO CAPOFIUME",
          "CASIRATE D'ADDA",
          "PT-MONTALE",
          "MANSUE'",
          "LECCE - S. M. Cerrate",
          "Civitanova IPPODROMO S. MARONE",
          "MOGGIO",
          "SCHIVENOGLIA",
          "BRUFA",
          "Dernice - Costa",
          "BADIA",
          "SAN ROCCO",
          "SAN CLEMENTE",
          "OSTELLATO",
          "GAVELLO",
          "BESENZONE",
          "BALLIRANA",
          "Vinchio - San Michele",
          "ACQUAPENDENTE",
          "CASTELLUCCIO",
          "M Martani",
          "Revello - Staffarda",
          "Posta del Principe",
          "Azienda Russo"
         ],
         "lat": [
          41.889444,
          42.5725,
          41.67,
          44.839722,
          44.662222,
          45.4975,
          43.91611,
          45.836944,
          40.45889,
          43.33556,
          45.913056,
          44.99694,
          43.06694,
          44.76335,
          44.6575,
          44.873056,
          43.932778,
          44.741667,
          44.92784,
          44.989444,
          44.526485,
          44.80801,
          42.74472,
          44.15,
          42.80472,
          44.71976,
          41.63083,
          41.54666
         ],
         "legendgroup": "rural",
         "lon": [
          12.266389,
          12.961944,
          13.674444,
          11.961111,
          11.639444,
          9.556389,
          11.00694,
          12.510278,
          18.11611,
          13.67472,
          9.496944,
          11.07083,
          12.46806,
          9.05243,
          10.288889,
          10.663889,
          12.6275,
          11.942222,
          11.17795,
          10.019167,
          11.981381,
          8.31031,
          11.865,
          10.926111,
          12.56611,
          7.42622,
          15.38667,
          15.44083
         ],
         "marker": {
          "color": "#636efa",
          "size": [
           14.676796,
           9.897507,
           14.543353,
           20.559557,
           18.643258,
           26.64348,
           23.441667,
           25.488571,
           17.683505,
           12.557535,
           12.047041,
           26.951496,
           13.312321,
           11.011142,
           14.707042,
           23.017192,
           15.268362,
           19.083333,
           20.044818,
           26.727528,
           18.326284,
           20.749296,
           10.436975,
           6.641834,
           8.455446,
           25.84375,
           13.391694,
           13.131818
          ],
          "sizemode": "area",
          "sizeref": 0.14178620444444445
         },
         "mode": "markers",
         "name": "rural",
         "showlegend": true,
         "subplot": "mapbox",
         "type": "scattermapbox"
        },
        {
         "customdata": [
          [
           550
          ]
         ],
         "hovertemplate": "<b>%{hovertext}</b><br><br>StationAre=rural-regional<br>avg15=%{marker.size}<br>Latitude=%{lat}<br>Longitude=%{lon}<br>Altitude=%{customdata[0]}<extra></extra>",
         "hovertext": [
          "Genga -Parco Gola della Rossa"
         ],
         "lat": [
          43.46806
         ],
         "legendgroup": "rural-regional",
         "lon": [
          12.95222
         ],
         "marker": {
          "color": "#EF553B",
          "size": [
           11.594837
          ],
          "sizemode": "area",
          "sizeref": 0.14178620444444445
         },
         "mode": "markers",
         "name": "rural-regional",
         "showlegend": true,
         "subplot": "mapbox",
         "type": "scattermapbox"
        },
        {
         "customdata": [
          [
           532
          ]
         ],
         "hovertemplate": "<b>%{hovertext}</b><br><br>StationAre=rural-near_city<br>avg15=%{marker.size}<br>Latitude=%{lat}<br>Longitude=%{lon}<br>Altitude=%{customdata[0]}<extra></extra>",
         "hovertext": [
          "CENMA1"
         ],
         "lat": [
          40.256389
         ],
         "legendgroup": "rural-near_city",
         "lon": [
          8.773056
         ],
         "marker": {
          "color": "#00cc96",
          "size": [
           7.149379
          ],
          "sizemode": "area",
          "sizeref": 0.14178620444444445
         },
         "mode": "markers",
         "name": "rural-near_city",
         "showlegend": true,
         "subplot": "mapbox",
         "type": "scattermapbox"
        },
        {
         "customdata": [
          [
           280
          ],
          [
           640
          ],
          [
           200
          ],
          [
           249
          ],
          [
           60
          ],
          [
           85
          ],
          [
           61
          ],
          [
           43
          ],
          [
           77
          ],
          [
           50
          ],
          [
           260
          ],
          [
           50
          ],
          [
           53
          ],
          [
           1
          ],
          [
           100
          ],
          [
           581
          ],
          [
           35
          ],
          [
           203
          ],
          [
           6
          ],
          [
           29
          ],
          [
           114
          ],
          [
           5
          ],
          [
           36
          ],
          [
           290
          ],
          [
           3
          ],
          [
           10
          ],
          [
           4
          ],
          [
           3
          ],
          [
           405
          ],
          [
           72
          ],
          [
           156
          ],
          [
           13
          ],
          [
           203
          ],
          [
           550
          ],
          [
           344
          ],
          [
           6
          ],
          [
           15
          ],
          [
           10
          ],
          [
           401
          ],
          [
           212
          ],
          [
           54
          ],
          [
           122
          ],
          [
           70
          ],
          [
           45
          ],
          [
           162
          ],
          [
           34
          ],
          [
           267
          ],
          [
           91
          ],
          [
           31
          ],
          [
           150
          ],
          [
           319
          ],
          [
           22
          ],
          [
           55
          ],
          [
           498
          ],
          [
           31
          ],
          [
           9
          ],
          [
           230
          ],
          [
           76
          ],
          [
           290
          ],
          [
           61
          ],
          [
           15
          ],
          [
           15
          ],
          [
           16
          ],
          [
           255
          ],
          [
           105
          ],
          [
           118
          ],
          [
           370
          ],
          [
           284
          ],
          [
           329
          ],
          [
           758
          ],
          [
           243
          ],
          [
           583
          ]
         ],
         "hovertemplate": "<b>%{hovertext}</b><br><br>StationAre=urban<br>avg15=%{marker.size}<br>Latitude=%{lat}<br>Longitude=%{lon}<br>Altitude=%{customdata[0]}<extra></extra>",
         "hovertext": [
          "Lugano-Universitŕ",
          "LA1 Laces",
          "ROVERETO LGP",
          "BERGAMO - VIA MEUCCI",
          "CITTADELLA",
          "QUARTO - GENOVA",
          "FI-BASSI",
          "GIARDINI MARGHERITA",
          "PAVIA - VIA FOLPERTI",
          "S. LAZZARO",
          "AR-ACROPOLI",
          "VILLA ADA",
          "CINECITTA",
          "VE - Parco Bissuola",
          "CAIROLI",
          "AOSTA (PIAZZA PLOUVES)",
          "PARCO BUCCI",
          "TRENTO PSC",
          "MARECCHIA",
          "PARCO RESISTENZA",
          "BASSANO DEL GRAPPA",
          "PI-PASSI",
          "VI - Quartiere Italia",
          "CORTONESE",
          "LU-VIAREGGIO",
          "LU-CAPANNORI",
          "CAORLE",
          "SAN DONA' DI PIAVE",
          "Biella - Sturzo",
          "CONEGLIANO",
          "BORGO RIVO",
          "PD - Mandria",
          "Verbania - Gabardi",
          "Cuneo - Alpini",
          "Borgosesia - Tonella",
          "MAGGIOLINA - LA SPEZIA",
          "TV - Via Lancieri di Novara",
          "GR-URSS",
          "BL - Cittŕ",
          "SARONNO - SANTUARIO",
          "PO-ROMA",
          "MILANO PASCAL CITTŕ STUDI",
          "BRESCIA VILLAGGIO SERENO",
          "CREMONA VIA FATEBENEFRATELLI",
          "MONZA - VIA  MACHIAVELLI",
          "PARCO FERRARI",
          "LECCO VIA SORA",
          "Alessandria - Volta",
          "CIPRO",
          "MONTICELLI",
          "Piazza Vittoria",
          "MANTOVA SANT'AGNESE",
          "VARALDO - SAVONA",
          "PIAZZA 40 MARTIRI",
          "ARENULA",
          "VILLA FULVIA",
          "Cittŕ dei ragazzi",
          "LODI S.ALBERTO",
          "SONDRIO - VIA PARIBELLI",
          "PARCO MONTECUCCO",
          "CENMO1",
          "stadio casardi",
          "CENPT1",
          "FROSINONE MAZZINI",
          "SI-POGGIBONSI",
          "PARCO EDILCARANI",
          "Parco della biodiversitŕ mediterranea",
          "C Castello",
          "Amelia",
          "Acri",
          "Torino Lingotto",
          "Aosta Liconi"
         ],
         "lat": [
          46.011111,
          46.61949,
          45.89244,
          45.690278,
          44.79361,
          44.396389,
          43.78667,
          44.48333,
          45.193889,
          44.690833,
          43.46111,
          41.932778,
          41.857778,
          45.499167,
          46.066111,
          45.73583,
          44.28333,
          46.06293,
          44.0625,
          44.219167,
          45.760833,
          43.738889,
          45.560556,
          43.10306,
          43.883889,
          43.840833,
          44.42,
          45.630278,
          45.55882,
          45.890556,
          42.58194,
          45.371944,
          45.93034,
          44.38175,
          45.71317,
          44.117778,
          45.6725,
          42.77861,
          46.141389,
          45.626944,
          43.87278,
          45.47833,
          45.515278,
          45.142222,
          45.58111,
          44.65061,
          45.849444,
          44.9203,
          41.906389,
          42.84861,
          42.73972,
          45.160556,
          44.315278,
          43.35278,
          41.893889,
          44.825,
          39.3134,
          45.302787,
          46.16861,
          45.038333,
          39.260556,
          41.31667,
          40.831389,
          41.638889,
          43.47278,
          44.53944,
          38.918288,
          43.456944,
          42.551944,
          39.48963,
          45.02494,
          45.734306
         ],
         "legendgroup": "urban",
         "lon": [
          8.957174,
          10.85907,
          11.03941,
          9.643889,
          10.33167,
          8.992222,
          11.2875,
          11.355,
          9.164722,
          10.664722,
          11.88889,
          12.506944,
          12.568611,
          12.262222,
          13.240556,
          7.32417,
          11.87056,
          11.1262,
          12.553333,
          12.048889,
          11.736667,
          10.401667,
          11.539722,
          12.36611,
          10.245,
          10.573889,
          12.225556,
          12.591667,
          8.05639,
          12.308056,
          12.62361,
          11.841944,
          8.56548,
          7.5382,
          8.28353,
          9.842778,
          12.238611,
          11.11917,
          12.216944,
          9.024167,
          11.09194,
          9.23583,
          10.219444,
          10.045833,
          9.27444,
          10.90633,
          9.395833,
          8.6232,
          12.4475,
          13.61944,
          12.73722,
          10.795556,
          8.485556,
          12.57639,
          12.475278,
          11.649722,
          16.24517,
          9.495286,
          9.88028,
          9.669167,
          9.136389,
          16.28611,
          8.405278,
          13.323333,
          11.14194,
          10.79139,
          16.57925,
          12.245833,
          12.419722,
          16.3868,
          7.64905,
          7.329645
         ],
         "marker": {
          "color": "#ab63fa",
          "size": [
           13.176438,
           16.021639,
           15.861111,
           25.672981,
           21.470914,
           12.044985,
           15.642424,
           18.206687,
           23.245029,
           20.714681,
           16.205797,
           16.130435,
           21.762712,
           28.423729,
           18.531698,
           11.853933,
           14.008746,
           16.063361,
           22.791429,
           17.093294,
           20.442857,
           16.962536,
           29.216138,
           20.089783,
           17.667606,
           25.087571,
           19.40634,
           23.456044,
           15.779944,
           23.345506,
           23.597765,
           31.25,
           12.836676,
           16.387283,
           16.571031,
           14.185908,
           26.501424,
           10.985755,
           14.539945,
           24.721369,
           20.270423,
           31.901896,
           29.066077,
           30.006571,
           27.024926,
           22.160221,
           15.812325,
           24.369863,
           17.470423,
           12.446512,
           13.835196,
           27.225808,
           12.594153,
           16.910448,
           16.896359,
           19.387187,
           13.485074,
           26.504819,
           21.683129,
           24.078313,
           11.979769,
           15.486065,
           9.336517,
           25.58651,
           13.27762,
           18.09621,
           9.096707,
           20.144928,
           13.823529,
           15.727735,
           27.160256,
           13.823171
          ],
          "sizemode": "area",
          "sizeref": 0.14178620444444445
         },
         "mode": "markers",
         "name": "urban",
         "showlegend": true,
         "subplot": "mapbox",
         "type": "scattermapbox"
        },
        {
         "customdata": [
          [
           15
          ],
          [
           380
          ],
          [
           150
          ],
          [
           48
          ],
          [
           257
          ],
          [
           18
          ],
          [
           91
          ],
          [
           226
          ],
          [
           113
          ],
          [
           263
          ],
          [
           10
          ],
          [
           230
          ],
          [
           240
          ],
          [
           273
          ],
          [
           131
          ],
          [
           32
          ],
          [
           275
          ],
          [
           55
          ],
          [
           140
          ],
          [
           242
          ],
          [
           271
          ],
          [
           666
          ],
          [
           71
          ],
          [
           143
          ],
          [
           246
          ],
          [
           95
          ],
          [
           100
          ]
         ],
         "hovertemplate": "<b>%{hovertext}</b><br><br>StationAre=suburban<br>avg15=%{marker.size}<br>Latitude=%{lat}<br>Longitude=%{lon}<br>Altitude=%{customdata[0]}<extra></extra>",
         "hovertext": [
          "CHIARAVALLE2",
          "BORGO VAL",
          "CASTELLARANO",
          "TENUTA DEL CAVALIERE",
          "Borgaro T. - Caduti",
          "LATINA SCALO",
          "VR - Cason",
          "DARFO_2",
          "PONTI SUL MINCIO",
          "AREA FELTRINA",
          "Campi Salentina",
          "LS1 Laives",
          "Ivrea - Liberazione",
          "CALUSCO",
          "Vercelli - CONI",
          "SAVIGNANO",
          "CENS16",
          "MALAGROTTA",
          "Municipio",
          "Magione",
          "Chieri - Bersezio",
          "Trivero - Ronco",
          "Rocca di Neto",
          "Ciconia2",
          "Leině (ACEA) - Grande Torino",
          "Narni Scalo",
          "Ceglie Messapica"
         ],
         "lat": [
          43.59889,
          46.05184,
          44.516111,
          41.931389,
          45.15464,
          41.531389,
          45.4625,
          45.873889,
          45.41083,
          46.030833,
          40.40444,
          46.43444,
          45.4512,
          45.683333,
          45.31891,
          44.095833,
          40.724444,
          41.875556,
          38.95955,
          43.133056,
          45.00276,
          45.66423,
          39.18752,
          42.737222,
          45.17635,
          42.53417,
          40.64917
         ],
         "legendgroup": "suburban",
         "lon": [
          13.34194,
          11.45389,
          10.733889,
          12.659167,
          7.65804,
          12.946111,
          10.912222,
          10.1775,
          10.69194,
          11.905833,
          18.02972,
          11.33944,
          7.87804,
          9.466667,
          8.40236,
          12.4025,
          8.576111,
          12.345,
          16.29517,
          12.205833,
          7.83748,
          8.15981,
          17.01034,
          12.136667,
          7.71158,
          12.52194,
          17.5125
         ],
         "marker": {
          "color": "#FFA15A",
          "size": [
           15.260284,
           19.961988,
           19.587896,
           18.155556,
           26.382789,
           15.528736,
           26.40407,
           26.752312,
           27.587592,
           21.339031,
           18.237104,
           15.372806,
           23.772861,
           24.301943,
           26.541899,
           19.534286,
           6.486389,
           17.070988,
           12.697797,
           15.741667,
           24.154519,
           13.470255,
           16.221457,
           12.063218,
           30.376471,
           19.925714,
           16.465388
          ],
          "sizemode": "area",
          "sizeref": 0.14178620444444445
         },
         "mode": "markers",
         "name": "suburban",
         "showlegend": true,
         "subplot": "mapbox",
         "type": "scattermapbox"
        }
       ],
       "layout": {
        "height": 900,
        "legend": {
         "itemsizing": "constant",
         "title": {
          "text": "StationAre"
         },
         "tracegroupgap": 0
        },
        "mapbox": {
         "center": {
          "lat": 43.96391948837209,
          "lon": 11.315537325581396
         },
         "domain": {
          "x": [
           0,
           1
          ],
          "y": [
           0,
           1
          ]
         },
         "style": "carto-positron",
         "zoom": 5
        },
        "margin": {
         "b": 0,
         "l": 0,
         "r": 0,
         "t": 0
        },
        "template": {
         "data": {
          "bar": [
           {
            "error_x": {
             "color": "#2a3f5f"
            },
            "error_y": {
             "color": "#2a3f5f"
            },
            "marker": {
             "line": {
              "color": "#E5ECF6",
              "width": 0.5
             }
            },
            "type": "bar"
           }
          ],
          "barpolar": [
           {
            "marker": {
             "line": {
              "color": "#E5ECF6",
              "width": 0.5
             }
            },
            "type": "barpolar"
           }
          ],
          "carpet": [
           {
            "aaxis": {
             "endlinecolor": "#2a3f5f",
             "gridcolor": "white",
             "linecolor": "white",
             "minorgridcolor": "white",
             "startlinecolor": "#2a3f5f"
            },
            "baxis": {
             "endlinecolor": "#2a3f5f",
             "gridcolor": "white",
             "linecolor": "white",
             "minorgridcolor": "white",
             "startlinecolor": "#2a3f5f"
            },
            "type": "carpet"
           }
          ],
          "choropleth": [
           {
            "colorbar": {
             "outlinewidth": 0,
             "ticks": ""
            },
            "type": "choropleth"
           }
          ],
          "contour": [
           {
            "colorbar": {
             "outlinewidth": 0,
             "ticks": ""
            },
            "colorscale": [
             [
              0,
              "#0d0887"
             ],
             [
              0.1111111111111111,
              "#46039f"
             ],
             [
              0.2222222222222222,
              "#7201a8"
             ],
             [
              0.3333333333333333,
              "#9c179e"
             ],
             [
              0.4444444444444444,
              "#bd3786"
             ],
             [
              0.5555555555555556,
              "#d8576b"
             ],
             [
              0.6666666666666666,
              "#ed7953"
             ],
             [
              0.7777777777777778,
              "#fb9f3a"
             ],
             [
              0.8888888888888888,
              "#fdca26"
             ],
             [
              1,
              "#f0f921"
             ]
            ],
            "type": "contour"
           }
          ],
          "contourcarpet": [
           {
            "colorbar": {
             "outlinewidth": 0,
             "ticks": ""
            },
            "type": "contourcarpet"
           }
          ],
          "heatmap": [
           {
            "colorbar": {
             "outlinewidth": 0,
             "ticks": ""
            },
            "colorscale": [
             [
              0,
              "#0d0887"
             ],
             [
              0.1111111111111111,
              "#46039f"
             ],
             [
              0.2222222222222222,
              "#7201a8"
             ],
             [
              0.3333333333333333,
              "#9c179e"
             ],
             [
              0.4444444444444444,
              "#bd3786"
             ],
             [
              0.5555555555555556,
              "#d8576b"
             ],
             [
              0.6666666666666666,
              "#ed7953"
             ],
             [
              0.7777777777777778,
              "#fb9f3a"
             ],
             [
              0.8888888888888888,
              "#fdca26"
             ],
             [
              1,
              "#f0f921"
             ]
            ],
            "type": "heatmap"
           }
          ],
          "heatmapgl": [
           {
            "colorbar": {
             "outlinewidth": 0,
             "ticks": ""
            },
            "colorscale": [
             [
              0,
              "#0d0887"
             ],
             [
              0.1111111111111111,
              "#46039f"
             ],
             [
              0.2222222222222222,
              "#7201a8"
             ],
             [
              0.3333333333333333,
              "#9c179e"
             ],
             [
              0.4444444444444444,
              "#bd3786"
             ],
             [
              0.5555555555555556,
              "#d8576b"
             ],
             [
              0.6666666666666666,
              "#ed7953"
             ],
             [
              0.7777777777777778,
              "#fb9f3a"
             ],
             [
              0.8888888888888888,
              "#fdca26"
             ],
             [
              1,
              "#f0f921"
             ]
            ],
            "type": "heatmapgl"
           }
          ],
          "histogram": [
           {
            "marker": {
             "colorbar": {
              "outlinewidth": 0,
              "ticks": ""
             }
            },
            "type": "histogram"
           }
          ],
          "histogram2d": [
           {
            "colorbar": {
             "outlinewidth": 0,
             "ticks": ""
            },
            "colorscale": [
             [
              0,
              "#0d0887"
             ],
             [
              0.1111111111111111,
              "#46039f"
             ],
             [
              0.2222222222222222,
              "#7201a8"
             ],
             [
              0.3333333333333333,
              "#9c179e"
             ],
             [
              0.4444444444444444,
              "#bd3786"
             ],
             [
              0.5555555555555556,
              "#d8576b"
             ],
             [
              0.6666666666666666,
              "#ed7953"
             ],
             [
              0.7777777777777778,
              "#fb9f3a"
             ],
             [
              0.8888888888888888,
              "#fdca26"
             ],
             [
              1,
              "#f0f921"
             ]
            ],
            "type": "histogram2d"
           }
          ],
          "histogram2dcontour": [
           {
            "colorbar": {
             "outlinewidth": 0,
             "ticks": ""
            },
            "colorscale": [
             [
              0,
              "#0d0887"
             ],
             [
              0.1111111111111111,
              "#46039f"
             ],
             [
              0.2222222222222222,
              "#7201a8"
             ],
             [
              0.3333333333333333,
              "#9c179e"
             ],
             [
              0.4444444444444444,
              "#bd3786"
             ],
             [
              0.5555555555555556,
              "#d8576b"
             ],
             [
              0.6666666666666666,
              "#ed7953"
             ],
             [
              0.7777777777777778,
              "#fb9f3a"
             ],
             [
              0.8888888888888888,
              "#fdca26"
             ],
             [
              1,
              "#f0f921"
             ]
            ],
            "type": "histogram2dcontour"
           }
          ],
          "mesh3d": [
           {
            "colorbar": {
             "outlinewidth": 0,
             "ticks": ""
            },
            "type": "mesh3d"
           }
          ],
          "parcoords": [
           {
            "line": {
             "colorbar": {
              "outlinewidth": 0,
              "ticks": ""
             }
            },
            "type": "parcoords"
           }
          ],
          "pie": [
           {
            "automargin": true,
            "type": "pie"
           }
          ],
          "scatter": [
           {
            "marker": {
             "colorbar": {
              "outlinewidth": 0,
              "ticks": ""
             }
            },
            "type": "scatter"
           }
          ],
          "scatter3d": [
           {
            "line": {
             "colorbar": {
              "outlinewidth": 0,
              "ticks": ""
             }
            },
            "marker": {
             "colorbar": {
              "outlinewidth": 0,
              "ticks": ""
             }
            },
            "type": "scatter3d"
           }
          ],
          "scattercarpet": [
           {
            "marker": {
             "colorbar": {
              "outlinewidth": 0,
              "ticks": ""
             }
            },
            "type": "scattercarpet"
           }
          ],
          "scattergeo": [
           {
            "marker": {
             "colorbar": {
              "outlinewidth": 0,
              "ticks": ""
             }
            },
            "type": "scattergeo"
           }
          ],
          "scattergl": [
           {
            "marker": {
             "colorbar": {
              "outlinewidth": 0,
              "ticks": ""
             }
            },
            "type": "scattergl"
           }
          ],
          "scattermapbox": [
           {
            "marker": {
             "colorbar": {
              "outlinewidth": 0,
              "ticks": ""
             }
            },
            "type": "scattermapbox"
           }
          ],
          "scatterpolar": [
           {
            "marker": {
             "colorbar": {
              "outlinewidth": 0,
              "ticks": ""
             }
            },
            "type": "scatterpolar"
           }
          ],
          "scatterpolargl": [
           {
            "marker": {
             "colorbar": {
              "outlinewidth": 0,
              "ticks": ""
             }
            },
            "type": "scatterpolargl"
           }
          ],
          "scatterternary": [
           {
            "marker": {
             "colorbar": {
              "outlinewidth": 0,
              "ticks": ""
             }
            },
            "type": "scatterternary"
           }
          ],
          "surface": [
           {
            "colorbar": {
             "outlinewidth": 0,
             "ticks": ""
            },
            "colorscale": [
             [
              0,
              "#0d0887"
             ],
             [
              0.1111111111111111,
              "#46039f"
             ],
             [
              0.2222222222222222,
              "#7201a8"
             ],
             [
              0.3333333333333333,
              "#9c179e"
             ],
             [
              0.4444444444444444,
              "#bd3786"
             ],
             [
              0.5555555555555556,
              "#d8576b"
             ],
             [
              0.6666666666666666,
              "#ed7953"
             ],
             [
              0.7777777777777778,
              "#fb9f3a"
             ],
             [
              0.8888888888888888,
              "#fdca26"
             ],
             [
              1,
              "#f0f921"
             ]
            ],
            "type": "surface"
           }
          ],
          "table": [
           {
            "cells": {
             "fill": {
              "color": "#EBF0F8"
             },
             "line": {
              "color": "white"
             }
            },
            "header": {
             "fill": {
              "color": "#C8D4E3"
             },
             "line": {
              "color": "white"
             }
            },
            "type": "table"
           }
          ]
         },
         "layout": {
          "annotationdefaults": {
           "arrowcolor": "#2a3f5f",
           "arrowhead": 0,
           "arrowwidth": 1
          },
          "coloraxis": {
           "colorbar": {
            "outlinewidth": 0,
            "ticks": ""
           }
          },
          "colorscale": {
           "diverging": [
            [
             0,
             "#8e0152"
            ],
            [
             0.1,
             "#c51b7d"
            ],
            [
             0.2,
             "#de77ae"
            ],
            [
             0.3,
             "#f1b6da"
            ],
            [
             0.4,
             "#fde0ef"
            ],
            [
             0.5,
             "#f7f7f7"
            ],
            [
             0.6,
             "#e6f5d0"
            ],
            [
             0.7,
             "#b8e186"
            ],
            [
             0.8,
             "#7fbc41"
            ],
            [
             0.9,
             "#4d9221"
            ],
            [
             1,
             "#276419"
            ]
           ],
           "sequential": [
            [
             0,
             "#0d0887"
            ],
            [
             0.1111111111111111,
             "#46039f"
            ],
            [
             0.2222222222222222,
             "#7201a8"
            ],
            [
             0.3333333333333333,
             "#9c179e"
            ],
            [
             0.4444444444444444,
             "#bd3786"
            ],
            [
             0.5555555555555556,
             "#d8576b"
            ],
            [
             0.6666666666666666,
             "#ed7953"
            ],
            [
             0.7777777777777778,
             "#fb9f3a"
            ],
            [
             0.8888888888888888,
             "#fdca26"
            ],
            [
             1,
             "#f0f921"
            ]
           ],
           "sequentialminus": [
            [
             0,
             "#0d0887"
            ],
            [
             0.1111111111111111,
             "#46039f"
            ],
            [
             0.2222222222222222,
             "#7201a8"
            ],
            [
             0.3333333333333333,
             "#9c179e"
            ],
            [
             0.4444444444444444,
             "#bd3786"
            ],
            [
             0.5555555555555556,
             "#d8576b"
            ],
            [
             0.6666666666666666,
             "#ed7953"
            ],
            [
             0.7777777777777778,
             "#fb9f3a"
            ],
            [
             0.8888888888888888,
             "#fdca26"
            ],
            [
             1,
             "#f0f921"
            ]
           ]
          },
          "colorway": [
           "#636efa",
           "#EF553B",
           "#00cc96",
           "#ab63fa",
           "#FFA15A",
           "#19d3f3",
           "#FF6692",
           "#B6E880",
           "#FF97FF",
           "#FECB52"
          ],
          "font": {
           "color": "#2a3f5f"
          },
          "geo": {
           "bgcolor": "white",
           "lakecolor": "white",
           "landcolor": "#E5ECF6",
           "showlakes": true,
           "showland": true,
           "subunitcolor": "white"
          },
          "hoverlabel": {
           "align": "left"
          },
          "hovermode": "closest",
          "mapbox": {
           "style": "light"
          },
          "paper_bgcolor": "white",
          "plot_bgcolor": "#E5ECF6",
          "polar": {
           "angularaxis": {
            "gridcolor": "white",
            "linecolor": "white",
            "ticks": ""
           },
           "bgcolor": "#E5ECF6",
           "radialaxis": {
            "gridcolor": "white",
            "linecolor": "white",
            "ticks": ""
           }
          },
          "scene": {
           "xaxis": {
            "backgroundcolor": "#E5ECF6",
            "gridcolor": "white",
            "gridwidth": 2,
            "linecolor": "white",
            "showbackground": true,
            "ticks": "",
            "zerolinecolor": "white"
           },
           "yaxis": {
            "backgroundcolor": "#E5ECF6",
            "gridcolor": "white",
            "gridwidth": 2,
            "linecolor": "white",
            "showbackground": true,
            "ticks": "",
            "zerolinecolor": "white"
           },
           "zaxis": {
            "backgroundcolor": "#E5ECF6",
            "gridcolor": "white",
            "gridwidth": 2,
            "linecolor": "white",
            "showbackground": true,
            "ticks": "",
            "zerolinecolor": "white"
           }
          },
          "shapedefaults": {
           "line": {
            "color": "#2a3f5f"
           }
          },
          "ternary": {
           "aaxis": {
            "gridcolor": "white",
            "linecolor": "white",
            "ticks": ""
           },
           "baxis": {
            "gridcolor": "white",
            "linecolor": "white",
            "ticks": ""
           },
           "bgcolor": "#E5ECF6",
           "caxis": {
            "gridcolor": "white",
            "linecolor": "white",
            "ticks": ""
           }
          },
          "title": {
           "x": 0.05
          },
          "xaxis": {
           "automargin": true,
           "gridcolor": "white",
           "linecolor": "white",
           "ticks": "",
           "title": {
            "standoff": 15
           },
           "zerolinecolor": "white",
           "zerolinewidth": 2
          },
          "yaxis": {
           "automargin": true,
           "gridcolor": "white",
           "linecolor": "white",
           "ticks": "",
           "title": {
            "standoff": 15
           },
           "zerolinecolor": "white",
           "zerolinewidth": 2
          }
         }
        },
        "title": {
         "text": "Air quality level in Italy 2018"
        },
        "width": 1400
       }
      },
      "text/html": [
       "<div>\n",
       "        \n",
       "        \n",
       "            <div id=\"3459fa8d-a2dc-4dd8-ae41-39d078de6998\" class=\"plotly-graph-div\" style=\"height:900px; width:1400px;\"></div>\n",
       "            <script type=\"text/javascript\">\n",
       "                require([\"plotly\"], function(Plotly) {\n",
       "                    window.PLOTLYENV=window.PLOTLYENV || {};\n",
       "                    \n",
       "                if (document.getElementById(\"3459fa8d-a2dc-4dd8-ae41-39d078de6998\")) {\n",
       "                    Plotly.newPlot(\n",
       "                        '3459fa8d-a2dc-4dd8-ae41-39d078de6998',\n",
       "                        [{\"customdata\": [[61.0], [948.0], [388.0], [-2.0], [11.0], [115.0], [48.0], [14.0], [10.0], [110.0], [1192.0], [16.0], [209.0], [620.0], [202.0], [22.0], [165.0], [0.0], [4.0], [48.0], [1.0], [258.0], [420.0], [811.0], [1038.0], [268.0], [150.0], [150.0]], \"hovertemplate\": \"<b>%{hovertext}</b><br><br>StationAre=rural<br>avg15=%{marker.size}<br>Latitude=%{lat}<br>Longitude=%{lon}<br>Altitude=%{customdata[0]}<extra></extra>\", \"hovertext\": [\"CASTEL DI GUIDO\", \"LEONESSA\", \"FONTECHIARI\", \"GHERARDI\", \"SAN PIETRO CAPOFIUME\", \"CASIRATE D'ADDA\", \"PT-MONTALE\", \"MANSUE'\", \"LECCE - S. M. Cerrate\", \"Civitanova IPPODROMO S. MARONE\", \"MOGGIO\", \"SCHIVENOGLIA\", \"BRUFA\", \"Dernice - Costa\", \"BADIA\", \"SAN ROCCO\", \"SAN CLEMENTE\", \"OSTELLATO\", \"GAVELLO\", \"BESENZONE\", \"BALLIRANA\", \"Vinchio - San Michele\", \"ACQUAPENDENTE\", \"CASTELLUCCIO\", \"M Martani\", \"Revello - Staffarda\", \"Posta del Principe\", \"Azienda Russo\"], \"lat\": [41.889444, 42.5725, 41.67, 44.839722, 44.662222, 45.4975, 43.91611, 45.836944, 40.45889, 43.33556, 45.913056, 44.99694, 43.06694, 44.76335, 44.6575, 44.873056, 43.932778, 44.741667, 44.92784, 44.989444, 44.526485, 44.80801, 42.74472, 44.15, 42.80472, 44.71976, 41.63083, 41.54666], \"legendgroup\": \"rural\", \"lon\": [12.266389, 12.961944, 13.674444, 11.961111, 11.639444, 9.556389, 11.00694, 12.510278, 18.11611, 13.67472, 9.496944, 11.07083, 12.46806, 9.05243, 10.288889, 10.663889, 12.6275, 11.942222, 11.17795, 10.019167, 11.981381, 8.31031, 11.865, 10.926111, 12.56611, 7.42622, 15.38667, 15.44083], \"marker\": {\"color\": \"#636efa\", \"size\": [14.676796, 9.897507, 14.543353, 20.559557, 18.643258, 26.64348, 23.441667, 25.488571, 17.683505, 12.557535, 12.047041, 26.951496, 13.312321, 11.011142, 14.707042, 23.017192, 15.268362, 19.083333, 20.044818, 26.727528, 18.326284, 20.749296, 10.436975, 6.641834, 8.455446, 25.84375, 13.391694, 13.131818], \"sizemode\": \"area\", \"sizeref\": 0.14178620444444445}, \"mode\": \"markers\", \"name\": \"rural\", \"showlegend\": true, \"subplot\": \"mapbox\", \"type\": \"scattermapbox\"}, {\"customdata\": [[550.0]], \"hovertemplate\": \"<b>%{hovertext}</b><br><br>StationAre=rural-regional<br>avg15=%{marker.size}<br>Latitude=%{lat}<br>Longitude=%{lon}<br>Altitude=%{customdata[0]}<extra></extra>\", \"hovertext\": [\"Genga -Parco Gola della Rossa\"], \"lat\": [43.46806], \"legendgroup\": \"rural-regional\", \"lon\": [12.95222], \"marker\": {\"color\": \"#EF553B\", \"size\": [11.594837], \"sizemode\": \"area\", \"sizeref\": 0.14178620444444445}, \"mode\": \"markers\", \"name\": \"rural-regional\", \"showlegend\": true, \"subplot\": \"mapbox\", \"type\": \"scattermapbox\"}, {\"customdata\": [[532.0]], \"hovertemplate\": \"<b>%{hovertext}</b><br><br>StationAre=rural-near_city<br>avg15=%{marker.size}<br>Latitude=%{lat}<br>Longitude=%{lon}<br>Altitude=%{customdata[0]}<extra></extra>\", \"hovertext\": [\"CENMA1\"], \"lat\": [40.256389], \"legendgroup\": \"rural-near_city\", \"lon\": [8.773056], \"marker\": {\"color\": \"#00cc96\", \"size\": [7.149379], \"sizemode\": \"area\", \"sizeref\": 0.14178620444444445}, \"mode\": \"markers\", \"name\": \"rural-near_city\", \"showlegend\": true, \"subplot\": \"mapbox\", \"type\": \"scattermapbox\"}, {\"customdata\": [[280.0], [640.0], [200.0], [249.0], [60.0], [85.0], [61.0], [43.0], [77.0], [50.0], [260.0], [50.0], [53.0], [1.0], [100.0], [581.0], [35.0], [203.0], [6.0], [29.0], [114.0], [5.0], [36.0], [290.0], [3.0], [10.0], [4.0], [3.0], [405.0], [72.0], [156.0], [13.0], [203.0], [550.0], [344.0], [6.0], [15.0], [10.0], [401.0], [212.0], [54.0], [122.0], [70.0], [45.0], [162.0], [34.0], [267.0], [91.0], [31.0], [150.0], [319.0], [22.0], [55.0], [498.0], [31.0], [9.0], [230.0], [76.0], [290.0], [61.0], [15.0], [15.0], [16.0], [255.0], [105.0], [118.0], [370.0], [284.0], [329.0], [758.0], [243.0], [583.0]], \"hovertemplate\": \"<b>%{hovertext}</b><br><br>StationAre=urban<br>avg15=%{marker.size}<br>Latitude=%{lat}<br>Longitude=%{lon}<br>Altitude=%{customdata[0]}<extra></extra>\", \"hovertext\": [\"Lugano-Universit\\u0155\", \"LA1 Laces\", \"ROVERETO LGP\", \"BERGAMO - VIA MEUCCI\", \"CITTADELLA\", \"QUARTO - GENOVA\", \"FI-BASSI\", \"GIARDINI MARGHERITA\", \"PAVIA - VIA FOLPERTI\", \"S. LAZZARO\", \"AR-ACROPOLI\", \"VILLA ADA\", \"CINECITTA\", \"VE - Parco Bissuola\", \"CAIROLI\", \"AOSTA (PIAZZA PLOUVES)\", \"PARCO BUCCI\", \"TRENTO PSC\", \"MARECCHIA\", \"PARCO RESISTENZA\", \"BASSANO DEL GRAPPA\", \"PI-PASSI\", \"VI - Quartiere Italia\", \"CORTONESE\", \"LU-VIAREGGIO\", \"LU-CAPANNORI\", \"CAORLE\", \"SAN DONA' DI PIAVE\", \"Biella - Sturzo\", \"CONEGLIANO\", \"BORGO RIVO\", \"PD - Mandria\", \"Verbania - Gabardi\", \"Cuneo - Alpini\", \"Borgosesia - Tonella\", \"MAGGIOLINA - LA SPEZIA\", \"TV - Via Lancieri di Novara\", \"GR-URSS\", \"BL - Citt\\u0155\", \"SARONNO - SANTUARIO\", \"PO-ROMA\", \"MILANO PASCAL CITT\\u0155 STUDI\", \"BRESCIA VILLAGGIO SERENO\", \"CREMONA VIA FATEBENEFRATELLI\", \"MONZA - VIA  MACHIAVELLI\", \"PARCO FERRARI\", \"LECCO VIA SORA\", \"Alessandria - Volta\", \"CIPRO\", \"MONTICELLI\", \"Piazza Vittoria\", \"MANTOVA SANT'AGNESE\", \"VARALDO - SAVONA\", \"PIAZZA 40 MARTIRI\", \"ARENULA\", \"VILLA FULVIA\", \"Citt\\u0155 dei ragazzi\", \"LODI S.ALBERTO\", \"SONDRIO - VIA PARIBELLI\", \"PARCO MONTECUCCO\", \"CENMO1\", \"stadio casardi\", \"CENPT1\", \"FROSINONE MAZZINI\", \"SI-POGGIBONSI\", \"PARCO EDILCARANI\", \"Parco della biodiversit\\u0155 mediterranea\", \"C Castello\", \"Amelia\", \"Acri\", \"Torino Lingotto\", \"Aosta Liconi\"], \"lat\": [46.011111, 46.61949, 45.89244, 45.690278, 44.79361, 44.396389, 43.78667, 44.48333, 45.193889, 44.690833, 43.46111, 41.932778, 41.857778, 45.499167, 46.066111, 45.73583, 44.28333, 46.06293, 44.0625, 44.219167, 45.760833, 43.738889, 45.560556, 43.10306, 43.883889, 43.840833, 44.42, 45.630278, 45.55882, 45.890556, 42.58194, 45.371944, 45.93034, 44.38175, 45.71317, 44.117778, 45.6725, 42.77861, 46.141389, 45.626944, 43.87278, 45.47833, 45.515278, 45.142222, 45.58111, 44.65061, 45.849444, 44.9203, 41.906389, 42.84861, 42.73972, 45.160556, 44.315278, 43.35278, 41.893889, 44.825, 39.3134, 45.302787, 46.16861, 45.038333, 39.260556, 41.31667, 40.831389, 41.638889, 43.47278, 44.53944, 38.918288, 43.456944, 42.551944, 39.48963, 45.02494, 45.734306], \"legendgroup\": \"urban\", \"lon\": [8.957174, 10.85907, 11.03941, 9.643889, 10.33167, 8.992222, 11.2875, 11.355, 9.164722, 10.664722, 11.88889, 12.506944, 12.568611, 12.262222, 13.240556, 7.32417, 11.87056, 11.1262, 12.553333, 12.048889, 11.736667, 10.401667, 11.539722, 12.36611, 10.245, 10.573889, 12.225556, 12.591667, 8.05639, 12.308056, 12.62361, 11.841944, 8.56548, 7.5382, 8.28353, 9.842778, 12.238611, 11.11917, 12.216944, 9.024167, 11.09194, 9.23583, 10.219444, 10.045833, 9.27444, 10.90633, 9.395833, 8.6232, 12.4475, 13.61944, 12.73722, 10.795556, 8.485556, 12.57639, 12.475278, 11.649722, 16.24517, 9.495286, 9.88028, 9.669167, 9.136389, 16.28611, 8.405278, 13.323333, 11.14194, 10.79139, 16.57925, 12.245833, 12.419722, 16.3868, 7.64905, 7.329645], \"marker\": {\"color\": \"#ab63fa\", \"size\": [13.176438, 16.021639, 15.861111, 25.672981, 21.470914, 12.044985, 15.642424, 18.206687, 23.245029, 20.714681, 16.205797, 16.130435, 21.762712, 28.423729, 18.531698, 11.853933, 14.008746, 16.063361, 22.791429, 17.093294, 20.442857, 16.962536, 29.216138, 20.089783, 17.667606, 25.087571, 19.40634, 23.456044, 15.779944, 23.345506, 23.597765, 31.25, 12.836676, 16.387283, 16.571031, 14.185908, 26.501424, 10.985755, 14.539945, 24.721369, 20.270423, 31.901896, 29.066077, 30.006571, 27.024926, 22.160221, 15.812325, 24.369863, 17.470423, 12.446512, 13.835196, 27.225808, 12.594153, 16.910448, 16.896359, 19.387187, 13.485074, 26.504819, 21.683129, 24.078313, 11.979769, 15.486065, 9.336517, 25.58651, 13.27762, 18.09621, 9.096707, 20.144928, 13.823529, 15.727735, 27.160256, 13.823171], \"sizemode\": \"area\", \"sizeref\": 0.14178620444444445}, \"mode\": \"markers\", \"name\": \"urban\", \"showlegend\": true, \"subplot\": \"mapbox\", \"type\": \"scattermapbox\"}, {\"customdata\": [[15.0], [380.0], [150.0], [48.0], [257.0], [18.0], [91.0], [226.0], [113.0], [263.0], [10.0], [230.0], [240.0], [273.0], [131.0], [32.0], [275.0], [55.0], [140.0], [242.0], [271.0], [666.0], [71.0], [143.0], [246.0], [95.0], [100.0]], \"hovertemplate\": \"<b>%{hovertext}</b><br><br>StationAre=suburban<br>avg15=%{marker.size}<br>Latitude=%{lat}<br>Longitude=%{lon}<br>Altitude=%{customdata[0]}<extra></extra>\", \"hovertext\": [\"CHIARAVALLE2\", \"BORGO VAL\", \"CASTELLARANO\", \"TENUTA DEL CAVALIERE\", \"Borgaro T. - Caduti\", \"LATINA SCALO\", \"VR - Cason\", \"DARFO_2\", \"PONTI SUL MINCIO\", \"AREA FELTRINA\", \"Campi Salentina\", \"LS1 Laives\", \"Ivrea - Liberazione\", \"CALUSCO\", \"Vercelli - CONI\", \"SAVIGNANO\", \"CENS16\", \"MALAGROTTA\", \"Municipio\", \"Magione\", \"Chieri - Bersezio\", \"Trivero - Ronco\", \"Rocca di Neto\", \"Ciconia2\", \"Lein\\u011b (ACEA) - Grande Torino\", \"Narni Scalo\", \"Ceglie Messapica\"], \"lat\": [43.59889, 46.05184, 44.516111, 41.931389, 45.15464, 41.531389, 45.4625, 45.873889, 45.41083, 46.030833, 40.40444, 46.43444, 45.4512, 45.683333, 45.31891, 44.095833, 40.724444, 41.875556, 38.95955, 43.133056, 45.00276, 45.66423, 39.18752, 42.737222, 45.17635, 42.53417, 40.64917], \"legendgroup\": \"suburban\", \"lon\": [13.34194, 11.45389, 10.733889, 12.659167, 7.65804, 12.946111, 10.912222, 10.1775, 10.69194, 11.905833, 18.02972, 11.33944, 7.87804, 9.466667, 8.40236, 12.4025, 8.576111, 12.345, 16.29517, 12.205833, 7.83748, 8.15981, 17.01034, 12.136667, 7.71158, 12.52194, 17.5125], \"marker\": {\"color\": \"#FFA15A\", \"size\": [15.260284, 19.961988, 19.587896, 18.155556, 26.382789, 15.528736, 26.40407, 26.752312, 27.587592, 21.339031, 18.237104, 15.372806, 23.772861, 24.301943, 26.541899, 19.534286, 6.486389, 17.070988, 12.697797, 15.741667, 24.154519, 13.470255, 16.221457, 12.063218, 30.376471, 19.925714, 16.465388], \"sizemode\": \"area\", \"sizeref\": 0.14178620444444445}, \"mode\": \"markers\", \"name\": \"suburban\", \"showlegend\": true, \"subplot\": \"mapbox\", \"type\": \"scattermapbox\"}],\n",
       "                        {\"height\": 900, \"legend\": {\"itemsizing\": \"constant\", \"title\": {\"text\": \"StationAre\"}, \"tracegroupgap\": 0}, \"mapbox\": {\"center\": {\"lat\": 43.96391948837209, \"lon\": 11.315537325581396}, \"domain\": {\"x\": [0.0, 1.0], \"y\": [0.0, 1.0]}, \"style\": \"carto-positron\", \"zoom\": 5}, \"margin\": {\"b\": 0, \"l\": 0, \"r\": 0, \"t\": 0}, \"template\": {\"data\": {\"bar\": [{\"error_x\": {\"color\": \"#2a3f5f\"}, \"error_y\": {\"color\": \"#2a3f5f\"}, \"marker\": {\"line\": {\"color\": \"#E5ECF6\", \"width\": 0.5}}, \"type\": \"bar\"}], \"barpolar\": [{\"marker\": {\"line\": {\"color\": \"#E5ECF6\", \"width\": 0.5}}, \"type\": \"barpolar\"}], \"carpet\": [{\"aaxis\": {\"endlinecolor\": \"#2a3f5f\", \"gridcolor\": \"white\", \"linecolor\": \"white\", \"minorgridcolor\": \"white\", \"startlinecolor\": \"#2a3f5f\"}, \"baxis\": {\"endlinecolor\": \"#2a3f5f\", \"gridcolor\": \"white\", \"linecolor\": \"white\", \"minorgridcolor\": \"white\", \"startlinecolor\": \"#2a3f5f\"}, \"type\": \"carpet\"}], \"choropleth\": [{\"colorbar\": {\"outlinewidth\": 0, \"ticks\": \"\"}, \"type\": \"choropleth\"}], \"contour\": [{\"colorbar\": {\"outlinewidth\": 0, \"ticks\": \"\"}, \"colorscale\": [[0.0, \"#0d0887\"], [0.1111111111111111, \"#46039f\"], [0.2222222222222222, \"#7201a8\"], [0.3333333333333333, \"#9c179e\"], [0.4444444444444444, \"#bd3786\"], [0.5555555555555556, \"#d8576b\"], [0.6666666666666666, \"#ed7953\"], [0.7777777777777778, \"#fb9f3a\"], [0.8888888888888888, \"#fdca26\"], [1.0, \"#f0f921\"]], \"type\": \"contour\"}], \"contourcarpet\": [{\"colorbar\": {\"outlinewidth\": 0, \"ticks\": \"\"}, \"type\": \"contourcarpet\"}], \"heatmap\": [{\"colorbar\": {\"outlinewidth\": 0, \"ticks\": \"\"}, \"colorscale\": [[0.0, \"#0d0887\"], [0.1111111111111111, \"#46039f\"], [0.2222222222222222, \"#7201a8\"], [0.3333333333333333, \"#9c179e\"], [0.4444444444444444, \"#bd3786\"], [0.5555555555555556, \"#d8576b\"], [0.6666666666666666, \"#ed7953\"], [0.7777777777777778, \"#fb9f3a\"], [0.8888888888888888, \"#fdca26\"], [1.0, \"#f0f921\"]], \"type\": \"heatmap\"}], \"heatmapgl\": [{\"colorbar\": {\"outlinewidth\": 0, \"ticks\": \"\"}, \"colorscale\": [[0.0, \"#0d0887\"], [0.1111111111111111, \"#46039f\"], [0.2222222222222222, \"#7201a8\"], [0.3333333333333333, \"#9c179e\"], [0.4444444444444444, \"#bd3786\"], [0.5555555555555556, \"#d8576b\"], [0.6666666666666666, \"#ed7953\"], [0.7777777777777778, \"#fb9f3a\"], [0.8888888888888888, \"#fdca26\"], [1.0, \"#f0f921\"]], \"type\": \"heatmapgl\"}], \"histogram\": [{\"marker\": {\"colorbar\": {\"outlinewidth\": 0, \"ticks\": \"\"}}, \"type\": \"histogram\"}], \"histogram2d\": [{\"colorbar\": {\"outlinewidth\": 0, \"ticks\": \"\"}, \"colorscale\": [[0.0, \"#0d0887\"], [0.1111111111111111, \"#46039f\"], [0.2222222222222222, \"#7201a8\"], [0.3333333333333333, \"#9c179e\"], [0.4444444444444444, \"#bd3786\"], [0.5555555555555556, \"#d8576b\"], [0.6666666666666666, \"#ed7953\"], [0.7777777777777778, \"#fb9f3a\"], [0.8888888888888888, \"#fdca26\"], [1.0, \"#f0f921\"]], \"type\": \"histogram2d\"}], \"histogram2dcontour\": [{\"colorbar\": {\"outlinewidth\": 0, \"ticks\": \"\"}, \"colorscale\": [[0.0, \"#0d0887\"], [0.1111111111111111, \"#46039f\"], [0.2222222222222222, \"#7201a8\"], [0.3333333333333333, \"#9c179e\"], [0.4444444444444444, \"#bd3786\"], [0.5555555555555556, \"#d8576b\"], [0.6666666666666666, \"#ed7953\"], [0.7777777777777778, \"#fb9f3a\"], [0.8888888888888888, \"#fdca26\"], [1.0, \"#f0f921\"]], \"type\": \"histogram2dcontour\"}], \"mesh3d\": [{\"colorbar\": {\"outlinewidth\": 0, \"ticks\": \"\"}, \"type\": \"mesh3d\"}], \"parcoords\": [{\"line\": {\"colorbar\": {\"outlinewidth\": 0, \"ticks\": \"\"}}, \"type\": \"parcoords\"}], \"pie\": [{\"automargin\": true, \"type\": \"pie\"}], \"scatter\": [{\"marker\": {\"colorbar\": {\"outlinewidth\": 0, \"ticks\": \"\"}}, \"type\": \"scatter\"}], \"scatter3d\": [{\"line\": {\"colorbar\": {\"outlinewidth\": 0, \"ticks\": \"\"}}, \"marker\": {\"colorbar\": {\"outlinewidth\": 0, \"ticks\": \"\"}}, \"type\": \"scatter3d\"}], \"scattercarpet\": [{\"marker\": {\"colorbar\": {\"outlinewidth\": 0, \"ticks\": \"\"}}, \"type\": \"scattercarpet\"}], \"scattergeo\": [{\"marker\": {\"colorbar\": {\"outlinewidth\": 0, \"ticks\": \"\"}}, \"type\": \"scattergeo\"}], \"scattergl\": [{\"marker\": {\"colorbar\": {\"outlinewidth\": 0, \"ticks\": \"\"}}, \"type\": \"scattergl\"}], \"scattermapbox\": [{\"marker\": {\"colorbar\": {\"outlinewidth\": 0, \"ticks\": \"\"}}, \"type\": \"scattermapbox\"}], \"scatterpolar\": [{\"marker\": {\"colorbar\": {\"outlinewidth\": 0, \"ticks\": \"\"}}, \"type\": \"scatterpolar\"}], \"scatterpolargl\": [{\"marker\": {\"colorbar\": {\"outlinewidth\": 0, \"ticks\": \"\"}}, \"type\": \"scatterpolargl\"}], \"scatterternary\": [{\"marker\": {\"colorbar\": {\"outlinewidth\": 0, \"ticks\": \"\"}}, \"type\": \"scatterternary\"}], \"surface\": [{\"colorbar\": {\"outlinewidth\": 0, \"ticks\": \"\"}, \"colorscale\": [[0.0, \"#0d0887\"], [0.1111111111111111, \"#46039f\"], [0.2222222222222222, \"#7201a8\"], [0.3333333333333333, \"#9c179e\"], [0.4444444444444444, \"#bd3786\"], [0.5555555555555556, \"#d8576b\"], [0.6666666666666666, \"#ed7953\"], [0.7777777777777778, \"#fb9f3a\"], [0.8888888888888888, \"#fdca26\"], [1.0, \"#f0f921\"]], \"type\": \"surface\"}], \"table\": [{\"cells\": {\"fill\": {\"color\": \"#EBF0F8\"}, \"line\": {\"color\": \"white\"}}, \"header\": {\"fill\": {\"color\": \"#C8D4E3\"}, \"line\": {\"color\": \"white\"}}, \"type\": \"table\"}]}, \"layout\": {\"annotationdefaults\": {\"arrowcolor\": \"#2a3f5f\", \"arrowhead\": 0, \"arrowwidth\": 1}, \"coloraxis\": {\"colorbar\": {\"outlinewidth\": 0, \"ticks\": \"\"}}, \"colorscale\": {\"diverging\": [[0, \"#8e0152\"], [0.1, \"#c51b7d\"], [0.2, \"#de77ae\"], [0.3, \"#f1b6da\"], [0.4, \"#fde0ef\"], [0.5, \"#f7f7f7\"], [0.6, \"#e6f5d0\"], [0.7, \"#b8e186\"], [0.8, \"#7fbc41\"], [0.9, \"#4d9221\"], [1, \"#276419\"]], \"sequential\": [[0.0, \"#0d0887\"], [0.1111111111111111, \"#46039f\"], [0.2222222222222222, \"#7201a8\"], [0.3333333333333333, \"#9c179e\"], [0.4444444444444444, \"#bd3786\"], [0.5555555555555556, \"#d8576b\"], [0.6666666666666666, \"#ed7953\"], [0.7777777777777778, \"#fb9f3a\"], [0.8888888888888888, \"#fdca26\"], [1.0, \"#f0f921\"]], \"sequentialminus\": [[0.0, \"#0d0887\"], [0.1111111111111111, \"#46039f\"], [0.2222222222222222, \"#7201a8\"], [0.3333333333333333, \"#9c179e\"], [0.4444444444444444, \"#bd3786\"], [0.5555555555555556, \"#d8576b\"], [0.6666666666666666, \"#ed7953\"], [0.7777777777777778, \"#fb9f3a\"], [0.8888888888888888, \"#fdca26\"], [1.0, \"#f0f921\"]]}, \"colorway\": [\"#636efa\", \"#EF553B\", \"#00cc96\", \"#ab63fa\", \"#FFA15A\", \"#19d3f3\", \"#FF6692\", \"#B6E880\", \"#FF97FF\", \"#FECB52\"], \"font\": {\"color\": \"#2a3f5f\"}, \"geo\": {\"bgcolor\": \"white\", \"lakecolor\": \"white\", \"landcolor\": \"#E5ECF6\", \"showlakes\": true, \"showland\": true, \"subunitcolor\": \"white\"}, \"hoverlabel\": {\"align\": \"left\"}, \"hovermode\": \"closest\", \"mapbox\": {\"style\": \"light\"}, \"paper_bgcolor\": \"white\", \"plot_bgcolor\": \"#E5ECF6\", \"polar\": {\"angularaxis\": {\"gridcolor\": \"white\", \"linecolor\": \"white\", \"ticks\": \"\"}, \"bgcolor\": \"#E5ECF6\", \"radialaxis\": {\"gridcolor\": \"white\", \"linecolor\": \"white\", \"ticks\": \"\"}}, \"scene\": {\"xaxis\": {\"backgroundcolor\": \"#E5ECF6\", \"gridcolor\": \"white\", \"gridwidth\": 2, \"linecolor\": \"white\", \"showbackground\": true, \"ticks\": \"\", \"zerolinecolor\": \"white\"}, \"yaxis\": {\"backgroundcolor\": \"#E5ECF6\", \"gridcolor\": \"white\", \"gridwidth\": 2, \"linecolor\": \"white\", \"showbackground\": true, \"ticks\": \"\", \"zerolinecolor\": \"white\"}, \"zaxis\": {\"backgroundcolor\": \"#E5ECF6\", \"gridcolor\": \"white\", \"gridwidth\": 2, \"linecolor\": \"white\", \"showbackground\": true, \"ticks\": \"\", \"zerolinecolor\": \"white\"}}, \"shapedefaults\": {\"line\": {\"color\": \"#2a3f5f\"}}, \"ternary\": {\"aaxis\": {\"gridcolor\": \"white\", \"linecolor\": \"white\", \"ticks\": \"\"}, \"baxis\": {\"gridcolor\": \"white\", \"linecolor\": \"white\", \"ticks\": \"\"}, \"bgcolor\": \"#E5ECF6\", \"caxis\": {\"gridcolor\": \"white\", \"linecolor\": \"white\", \"ticks\": \"\"}}, \"title\": {\"x\": 0.05}, \"xaxis\": {\"automargin\": true, \"gridcolor\": \"white\", \"linecolor\": \"white\", \"ticks\": \"\", \"title\": {\"standoff\": 15}, \"zerolinecolor\": \"white\", \"zerolinewidth\": 2}, \"yaxis\": {\"automargin\": true, \"gridcolor\": \"white\", \"linecolor\": \"white\", \"ticks\": \"\", \"title\": {\"standoff\": 15}, \"zerolinecolor\": \"white\", \"zerolinewidth\": 2}}}, \"title\": {\"text\": \"Air quality level in Italy 2018\"}, \"width\": 1400},\n",
       "                        {\"responsive\": true}\n",
       "                    ).then(function(){\n",
       "                            \n",
       "var gd = document.getElementById('3459fa8d-a2dc-4dd8-ae41-39d078de6998');\n",
       "var x = new MutationObserver(function (mutations, observer) {{\n",
       "        var display = window.getComputedStyle(gd).display;\n",
       "        if (!display || display === 'none') {{\n",
       "            console.log([gd, 'removed!']);\n",
       "            Plotly.purge(gd);\n",
       "            observer.disconnect();\n",
       "        }}\n",
       "}});\n",
       "\n",
       "// Listen for the removal of the full notebook cells\n",
       "var notebookContainer = gd.closest('#notebook-container');\n",
       "if (notebookContainer) {{\n",
       "    x.observe(notebookContainer, {childList: true});\n",
       "}}\n",
       "\n",
       "// Listen for the clearing of the current output cell\n",
       "var outputEl = gd.closest('.output');\n",
       "if (outputEl) {{\n",
       "    x.observe(outputEl, {childList: true});\n",
       "}}\n",
       "\n",
       "                        })\n",
       "                };\n",
       "                });\n",
       "            </script>\n",
       "        </div>"
      ]
     },
     "metadata": {},
     "output_type": "display_data"
    }
   ],
   "source": [
    "fig = px.scatter_mapbox(df_merged[df_merged[\"admin\"]==\"Italy\"], lat=\"Latitude\", lon=\"Longitude\", hover_name=\"StationNam\", hover_data=[\"Altitude\"],\n",
    "                        color=\"StationAre\", zoom=5, height=900,size=\"avg15\",size_max=15,title  =\"Air quality level in Italy 2018\",width=1400)\n",
    "fig.update_layout(mapbox_style='carto-positron')\n",
    "fig.update_layout(margin={\"r\":0,\"t\":0,\"l\":0,\"b\":0})\n",
    "fig.show()"
   ]
  },
  {
   "cell_type": "markdown",
   "metadata": {},
   "source": [
    "![title](italy.png)"
   ]
  },
  {
   "cell_type": "markdown",
   "metadata": {},
   "source": [
    "#### In case of Italy, the northern region has higher level of pollution"
   ]
  },
  {
   "cell_type": "markdown",
   "metadata": {},
   "source": [
    "## <span style=\"color:green\">*I hope this Notebook helps you in undertaking your own assignment, and I will be writing more posts regarding this topic :)*\n",
    "</span>"
   ]
  }
 ],
 "metadata": {
  "kernelspec": {
   "display_name": "Python 3",
   "language": "python",
   "name": "python3"
  },
  "language_info": {
   "codemirror_mode": {
    "name": "ipython",
    "version": 3
   },
   "file_extension": ".py",
   "mimetype": "text/x-python",
   "name": "python",
   "nbconvert_exporter": "python",
   "pygments_lexer": "ipython3",
   "version": "3.7.7"
  }
 },
 "nbformat": 4,
 "nbformat_minor": 4
}
